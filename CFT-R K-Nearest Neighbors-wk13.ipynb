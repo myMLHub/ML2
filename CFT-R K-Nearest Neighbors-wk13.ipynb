{
 "cells": [
  {
   "cell_type": "markdown",
   "metadata": {},
   "source": [
    "<div class=\"alert alert-warning\"></i><strong><h1>CFT Data Science With R: Tutorials</h1></strong><br>By: Seiya David\n",
    "<div class=\"clearfix\" style=\"padding: 10px; padding-left: 0px\">\n",
    "<img src=\"CFT.png\" width=\"300px\" style=\"display: inline-block; margin: 5px;\">\n",
    "<img src=\"images.jpg\" width=\"150px\" class=\"pull-right\" style=\"display: inline-block; margin: 0px;\">\n",
    "</div>"
   ]
  },
  {
   "cell_type": "markdown",
   "metadata": {},
   "source": [
    "<div class=\"alert alert-success\"></i><strong><center><h1>K-Nearest Neighbors (KNN)</h1></center></strong>\n",
    " </div>"
   ]
  },
  {
   "cell_type": "markdown",
   "metadata": {},
   "source": [
    "KNN is a process to classify unlabeled (or unseen)  data points by assigning them the class of the most similar labeled data points.\n",
    "\n",
    "K-Nearest Neighbors or KNN algorithms is a supervised algorithms, it's simple to understand from an implementation point of view and is used for both **classification** as well as **Regression** problems.\n",
    "\n",
    "Since KNN is a supervised learning algorithm, it begins with a training data set of observations which are **already** classified into different classes. The algorithm then picks each data point in the **unseen or out of sample** test data set and based upon a chosen **similarity measure**, identifies its $k$ nearest neighbors (where k is specified in advance). The data point is then assigned the class of the majority of the $k\\,nearest\\,neighbors$.\n",
    "\n",
    "KNN is a non-parametric lazy learning method\n",
    "> Non-parametric because it does not make any assumptions about data distribution\n",
    "\n",
    ">It's simple, effective and has a fast training process\n",
    "\n",
    ">K-NN is a lazy learner because it doesn’t learn a discriminative function from the training data but “memorizes” the training dataset instead.For example, the logistic regression algorithm learns its model weights (parameters) during training time. In contrast, there is no training time in K-NN\n",
    "\n",
    "> KNN is slow in classification phase."
   ]
  },
  {
   "cell_type": "markdown",
   "metadata": {},
   "source": [
    "<div class=\"alert alert-success\"></i><strong><h3>Distance Metrics or Similarity Measure</h3></strong>\n",
    " </div>"
   ]
  },
  {
   "cell_type": "markdown",
   "metadata": {},
   "source": [
    "There are several distance metric used in knn for classifying how close a point we wish to predict/classify to it's neighbors. The predicted class is determined by what is called a ***majority vote*** based on our initial value of $k.$\n",
    "\n",
    "Let's now see four of such Distance Metrics.\n",
    "Supose we want to find the distance between two observations $i\\,and\\,j$<br>\n",
    "\n",
    "#### Euclidean distance\n",
    "$$Euclidean-distance(x_i, x_j) = \\sqrt{\\sum\\limits_{m=1}^{n}({x_{im} - x_{jm}})^2}$$<br>, where $n$ is the number of features.\n",
    "\n",
    "other widely used Distance Metrics include the Manhattan distance<br><br>\n",
    "#### Manhattan distance\n",
    "$$Manhattan\\,distance(x_i, x_j) = \\sum\\limits_{m=1}^{n}|{x_{im} - x_{jm}}|$$<br><br>\n",
    "#### Minkowski Metric\n",
    "$$Minkowski\\,metric(x_i, x_j) = (\\sum\\limits_{m=1}^{n}(|{x_{im} - x_{jm}}|)^q)^{1 \\over q}$$<br>\n",
    "\n",
    "#### Canberra metric\n",
    "$$Canberra\\, metric(x_i, x_j) = \\sum\\limits_{m=1}^{n} {|{x_{im} - x_{jm}}| \\over |{x_{im}| - |x_{jm}}|}$$"
   ]
  },
  {
   "cell_type": "markdown",
   "metadata": {},
   "source": [
    "The Euclidean distance and the Manhattan distance are special case of Minkowski Metric.<br>\n",
    "The Euclidean distance is derived from the setting q = 2 and the Manhattan distance for the parameter value q = 1."
   ]
  },
  {
   "cell_type": "markdown",
   "metadata": {},
   "source": [
    "<div class=\"alert alert-success\"></i><strong><h3>The Building process</h3></strong>\n",
    "</div>"
   ]
  },
  {
   "cell_type": "markdown",
   "metadata": {},
   "source": [
    "The traditional way of predicting the a class with K-Nearest Neighbors happens in five steps:\n",
    "> **Step 1.**<br>\n",
    "Normalize all the features and convert binary and ordered categorical variables to numeric.The rationale for this step is that the distance formula is highly dependent on how features are measured.\n",
    "\n",
    ">The Euclidean distance formula is not defined for nominal data. Therefore, to calculate the distance between nominal features(i.e, is a categorical variable with two or more categories without having any kind of natural order.) we need to convert them into  a numeric format. A typical solution utilizes dummy coding, where a value of  1 indicates one category, and 0, the other\n",
    "\n",
    ">If a nominal feature is ordinal (one could make such an argument for temperature), an alternative to dummy coding is to number the categories and apply normalization. For instance, cold, warm, and hot could be numbered as 1, 2, and 3, which normalizes to 0, 0.5, and 1. A caveat to this approach is that it should only be used if the steps between the categories are equivalent. For instance, although income categories for poor, middle class, and wealthy are ordered, the difference between the poor and middle class may be different than the difference between the middle class and wealthy. Since the steps between groups are not equal, dummy coding is a safer approach.<br>\n",
    "\n",
    "\n",
    "\n",
    "> **Step 2.**<br>\n",
    "Calculate/compute the distance matrix.\n",
    "\n",
    "> **Step 3.**<br>\n",
    "Select a value of k (set intial value of k = square root of the number of training instances).\n",
    "\n",
    "> **Step 4.**<br>\n",
    "Find k data points that are nearest neighbors.\n",
    "\n",
    "> **Step 5.**<br>\n",
    "predict based on the majority class of neighbors."
   ]
  },
  {
   "cell_type": "markdown",
   "metadata": {},
   "source": [
    "<div class=\"alert alert-info\"><i class=\"icon-lightbulb\"></i><strong>How K-Nearest Neighbors actually works [Class demonstration with a use case]</strong>\n",
    "</div>\n",
    "\n",
    "<div class=\"alert alert-danger\"></i><i class=\"icon-attention-alt\"></i>\n",
    "\n",
    "    \n",
    "| Ingredient | Sweetness | Crunchiness |Food type |\n",
    "|:-----------|------------:|:------------:|:------------:|\n",
    "| Nuts       |        3 |     5     |         Protein     |\n",
    "| Apple     |      7 |    3    |        Fruit      | \n",
    "| Grape       |        8 |     5     |       Fruit       |\n",
    "| Green bean         |         3 |      7      |     Vegetable         |\n",
    "| Carrot       |       3 |    6    |      Vegetable        |\n",
    "\n",
    "</div>"
   ]
  },
  {
   "cell_type": "markdown",
   "metadata": {},
   "source": [
    "<div class=\"alert alert-success\"></i><strong><h3>1.0 Read in the Data</h3></strong><br>"
   ]
  },
  {
   "cell_type": "markdown",
   "metadata": {},
   "source": [
    "**About the dataset**<br>\n",
    "The dataset has data derived from real and fake banknotes. Four different features are derived by processing the image of each banknote. The fifth column of the dataset contains the class label of 0 or 1 indicating whether the note is fake or real. Our goal is to build a classifier that can learn the model of a real banknote and then predict the class for a new banknote. The dataset contains 1,372 records."
   ]
  },
  {
   "cell_type": "code",
   "execution_count": 27,
   "metadata": {},
   "outputs": [],
   "source": [
    "# Import the bank notes data\n",
    "bcw<- read.table(\"breast-cancer-wisconsin.csv\", sep=\",\", header=T)"
   ]
  },
  {
   "cell_type": "code",
   "execution_count": 28,
   "metadata": {},
   "outputs": [
    {
     "data": {
      "text/html": [
       "<table>\n",
       "<thead><tr><th scope=col>id</th><th scope=col>diagnosis</th><th scope=col>radius_mean</th><th scope=col>texture_mean</th><th scope=col>perimeter_mean</th><th scope=col>area_mean</th><th scope=col>smoothness_mean</th><th scope=col>compactness_mean</th><th scope=col>concavity_mean</th><th scope=col>points_mean</th><th scope=col>...</th><th scope=col>radius_worst</th><th scope=col>texture_worst</th><th scope=col>perimeter_worst</th><th scope=col>area_worst</th><th scope=col>smoothness_worst</th><th scope=col>compactness_worst</th><th scope=col>concavity_worst</th><th scope=col>points_worst</th><th scope=col>symmetry_worst</th><th scope=col>dimension_worst</th></tr></thead>\n",
       "<tbody>\n",
       "\t<tr><td>87139402</td><td>B       </td><td>12.32   </td><td>12.39   </td><td>78.85   </td><td>464.1   </td><td>0.10280 </td><td>0.06981 </td><td>0.03987 </td><td>0.03700 </td><td>...     </td><td>13.50   </td><td>15.64   </td><td> 86.97  </td><td>549.1   </td><td>0.1385  </td><td>0.1266  </td><td>0.12420 </td><td>0.09391 </td><td>0.2827  </td><td>0.06771 </td></tr>\n",
       "\t<tr><td> 8910251</td><td>B       </td><td>10.60   </td><td>18.95   </td><td>69.28   </td><td>346.4   </td><td>0.09688 </td><td>0.11470 </td><td>0.06387 </td><td>0.02642 </td><td>...     </td><td>11.88   </td><td>22.94   </td><td> 78.28  </td><td>424.8   </td><td>0.1213  </td><td>0.2515  </td><td>0.19160 </td><td>0.07926 </td><td>0.2940  </td><td>0.07587 </td></tr>\n",
       "\t<tr><td>  905520</td><td>B       </td><td>11.04   </td><td>16.83   </td><td>70.92   </td><td>373.2   </td><td>0.10770 </td><td>0.07804 </td><td>0.03046 </td><td>0.02480 </td><td>...     </td><td>12.41   </td><td>26.44   </td><td> 79.93  </td><td>471.4   </td><td>0.1369  </td><td>0.1482  </td><td>0.10670 </td><td>0.07431 </td><td>0.2998  </td><td>0.07881 </td></tr>\n",
       "\t<tr><td>  868871</td><td>B       </td><td>11.28   </td><td>13.39   </td><td>73.00   </td><td>384.8   </td><td>0.11640 </td><td>0.11360 </td><td>0.04635 </td><td>0.04796 </td><td>...     </td><td>11.92   </td><td>15.77   </td><td> 76.53  </td><td>434.0   </td><td>0.1367  </td><td>0.1822  </td><td>0.08669 </td><td>0.08611 </td><td>0.2102  </td><td>0.06784 </td></tr>\n",
       "\t<tr><td> 9012568</td><td>B       </td><td>15.19   </td><td>13.21   </td><td>97.65   </td><td>711.8   </td><td>0.07963 </td><td>0.06934 </td><td>0.03393 </td><td>0.02657 </td><td>...     </td><td>16.20   </td><td>15.73   </td><td>104.50  </td><td>819.1   </td><td>0.1126  </td><td>0.1737  </td><td>0.13620 </td><td>0.08178 </td><td>0.2487  </td><td>0.06766 </td></tr>\n",
       "\t<tr><td>  906539</td><td>B       </td><td>11.57   </td><td>19.04   </td><td>74.20   </td><td>409.7   </td><td>0.08546 </td><td>0.07722 </td><td>0.05485 </td><td>0.01428 </td><td>...     </td><td>13.07   </td><td>26.98   </td><td> 86.43  </td><td>520.5   </td><td>0.1249  </td><td>0.1937  </td><td>0.25600 </td><td>0.06664 </td><td>0.3035  </td><td>0.08284 </td></tr>\n",
       "</tbody>\n",
       "</table>\n"
      ],
      "text/latex": [
       "\\begin{tabular}{r|llllllllllllllllllllllllllllllll}\n",
       " id & diagnosis & radius\\_mean & texture\\_mean & perimeter\\_mean & area\\_mean & smoothness\\_mean & compactness\\_mean & concavity\\_mean & points\\_mean & ... & radius\\_worst & texture\\_worst & perimeter\\_worst & area\\_worst & smoothness\\_worst & compactness\\_worst & concavity\\_worst & points\\_worst & symmetry\\_worst & dimension\\_worst\\\\\n",
       "\\hline\n",
       "\t 87139402 & B        & 12.32    & 12.39    & 78.85    & 464.1    & 0.10280  & 0.06981  & 0.03987  & 0.03700  & ...      & 13.50    & 15.64    &  86.97   & 549.1    & 0.1385   & 0.1266   & 0.12420  & 0.09391  & 0.2827   & 0.06771 \\\\\n",
       "\t  8910251 & B        & 10.60    & 18.95    & 69.28    & 346.4    & 0.09688  & 0.11470  & 0.06387  & 0.02642  & ...      & 11.88    & 22.94    &  78.28   & 424.8    & 0.1213   & 0.2515   & 0.19160  & 0.07926  & 0.2940   & 0.07587 \\\\\n",
       "\t   905520 & B        & 11.04    & 16.83    & 70.92    & 373.2    & 0.10770  & 0.07804  & 0.03046  & 0.02480  & ...      & 12.41    & 26.44    &  79.93   & 471.4    & 0.1369   & 0.1482   & 0.10670  & 0.07431  & 0.2998   & 0.07881 \\\\\n",
       "\t   868871 & B        & 11.28    & 13.39    & 73.00    & 384.8    & 0.11640  & 0.11360  & 0.04635  & 0.04796  & ...      & 11.92    & 15.77    &  76.53   & 434.0    & 0.1367   & 0.1822   & 0.08669  & 0.08611  & 0.2102   & 0.06784 \\\\\n",
       "\t  9012568 & B        & 15.19    & 13.21    & 97.65    & 711.8    & 0.07963  & 0.06934  & 0.03393  & 0.02657  & ...      & 16.20    & 15.73    & 104.50   & 819.1    & 0.1126   & 0.1737   & 0.13620  & 0.08178  & 0.2487   & 0.06766 \\\\\n",
       "\t   906539 & B        & 11.57    & 19.04    & 74.20    & 409.7    & 0.08546  & 0.07722  & 0.05485  & 0.01428  & ...      & 13.07    & 26.98    &  86.43   & 520.5    & 0.1249   & 0.1937   & 0.25600  & 0.06664  & 0.3035   & 0.08284 \\\\\n",
       "\\end{tabular}\n"
      ],
      "text/markdown": [
       "\n",
       "id | diagnosis | radius_mean | texture_mean | perimeter_mean | area_mean | smoothness_mean | compactness_mean | concavity_mean | points_mean | ... | radius_worst | texture_worst | perimeter_worst | area_worst | smoothness_worst | compactness_worst | concavity_worst | points_worst | symmetry_worst | dimension_worst | \n",
       "|---|---|---|---|---|---|\n",
       "| 87139402 | B        | 12.32    | 12.39    | 78.85    | 464.1    | 0.10280  | 0.06981  | 0.03987  | 0.03700  | ...      | 13.50    | 15.64    |  86.97   | 549.1    | 0.1385   | 0.1266   | 0.12420  | 0.09391  | 0.2827   | 0.06771  | \n",
       "|  8910251 | B        | 10.60    | 18.95    | 69.28    | 346.4    | 0.09688  | 0.11470  | 0.06387  | 0.02642  | ...      | 11.88    | 22.94    |  78.28   | 424.8    | 0.1213   | 0.2515   | 0.19160  | 0.07926  | 0.2940   | 0.07587  | \n",
       "|   905520 | B        | 11.04    | 16.83    | 70.92    | 373.2    | 0.10770  | 0.07804  | 0.03046  | 0.02480  | ...      | 12.41    | 26.44    |  79.93   | 471.4    | 0.1369   | 0.1482   | 0.10670  | 0.07431  | 0.2998   | 0.07881  | \n",
       "|   868871 | B        | 11.28    | 13.39    | 73.00    | 384.8    | 0.11640  | 0.11360  | 0.04635  | 0.04796  | ...      | 11.92    | 15.77    |  76.53   | 434.0    | 0.1367   | 0.1822   | 0.08669  | 0.08611  | 0.2102   | 0.06784  | \n",
       "|  9012568 | B        | 15.19    | 13.21    | 97.65    | 711.8    | 0.07963  | 0.06934  | 0.03393  | 0.02657  | ...      | 16.20    | 15.73    | 104.50   | 819.1    | 0.1126   | 0.1737   | 0.13620  | 0.08178  | 0.2487   | 0.06766  | \n",
       "|   906539 | B        | 11.57    | 19.04    | 74.20    | 409.7    | 0.08546  | 0.07722  | 0.05485  | 0.01428  | ...      | 13.07    | 26.98    |  86.43   | 520.5    | 0.1249   | 0.1937   | 0.25600  | 0.06664  | 0.3035   | 0.08284  | \n",
       "\n",
       "\n"
      ],
      "text/plain": [
       "  id       diagnosis radius_mean texture_mean perimeter_mean area_mean\n",
       "1 87139402 B         12.32       12.39        78.85          464.1    \n",
       "2  8910251 B         10.60       18.95        69.28          346.4    \n",
       "3   905520 B         11.04       16.83        70.92          373.2    \n",
       "4   868871 B         11.28       13.39        73.00          384.8    \n",
       "5  9012568 B         15.19       13.21        97.65          711.8    \n",
       "6   906539 B         11.57       19.04        74.20          409.7    \n",
       "  smoothness_mean compactness_mean concavity_mean points_mean ... radius_worst\n",
       "1 0.10280         0.06981          0.03987        0.03700     ... 13.50       \n",
       "2 0.09688         0.11470          0.06387        0.02642     ... 11.88       \n",
       "3 0.10770         0.07804          0.03046        0.02480     ... 12.41       \n",
       "4 0.11640         0.11360          0.04635        0.04796     ... 11.92       \n",
       "5 0.07963         0.06934          0.03393        0.02657     ... 16.20       \n",
       "6 0.08546         0.07722          0.05485        0.01428     ... 13.07       \n",
       "  texture_worst perimeter_worst area_worst smoothness_worst compactness_worst\n",
       "1 15.64          86.97          549.1      0.1385           0.1266           \n",
       "2 22.94          78.28          424.8      0.1213           0.2515           \n",
       "3 26.44          79.93          471.4      0.1369           0.1482           \n",
       "4 15.77          76.53          434.0      0.1367           0.1822           \n",
       "5 15.73         104.50          819.1      0.1126           0.1737           \n",
       "6 26.98          86.43          520.5      0.1249           0.1937           \n",
       "  concavity_worst points_worst symmetry_worst dimension_worst\n",
       "1 0.12420         0.09391      0.2827         0.06771        \n",
       "2 0.19160         0.07926      0.2940         0.07587        \n",
       "3 0.10670         0.07431      0.2998         0.07881        \n",
       "4 0.08669         0.08611      0.2102         0.06784        \n",
       "5 0.13620         0.08178      0.2487         0.06766        \n",
       "6 0.25600         0.06664      0.3035         0.08284        "
      ]
     },
     "metadata": {},
     "output_type": "display_data"
    }
   ],
   "source": [
    "# View the first few observation of the imported data\n",
    "head(bcw)"
   ]
  },
  {
   "cell_type": "code",
   "execution_count": 29,
   "metadata": {},
   "outputs": [
    {
     "data": {
      "text/html": [
       "<table>\n",
       "<thead><tr><th scope=col>diagnosis</th><th scope=col>radius_mean</th><th scope=col>texture_mean</th><th scope=col>perimeter_mean</th><th scope=col>area_mean</th><th scope=col>smoothness_mean</th><th scope=col>compactness_mean</th><th scope=col>concavity_mean</th><th scope=col>points_mean</th><th scope=col>symmetry_mean</th><th scope=col>...</th><th scope=col>radius_worst</th><th scope=col>texture_worst</th><th scope=col>perimeter_worst</th><th scope=col>area_worst</th><th scope=col>smoothness_worst</th><th scope=col>compactness_worst</th><th scope=col>concavity_worst</th><th scope=col>points_worst</th><th scope=col>symmetry_worst</th><th scope=col>dimension_worst</th></tr></thead>\n",
       "<tbody>\n",
       "\t<tr><td>B      </td><td>12.32  </td><td>12.39  </td><td>78.85  </td><td>464.1  </td><td>0.10280</td><td>0.06981</td><td>0.03987</td><td>0.03700</td><td>0.1959 </td><td>...    </td><td>13.50  </td><td>15.64  </td><td> 86.97 </td><td>549.1  </td><td>0.1385 </td><td>0.1266 </td><td>0.12420</td><td>0.09391</td><td>0.2827 </td><td>0.06771</td></tr>\n",
       "\t<tr><td>B      </td><td>10.60  </td><td>18.95  </td><td>69.28  </td><td>346.4  </td><td>0.09688</td><td>0.11470</td><td>0.06387</td><td>0.02642</td><td>0.1922 </td><td>...    </td><td>11.88  </td><td>22.94  </td><td> 78.28 </td><td>424.8  </td><td>0.1213 </td><td>0.2515 </td><td>0.19160</td><td>0.07926</td><td>0.2940 </td><td>0.07587</td></tr>\n",
       "\t<tr><td>B      </td><td>11.04  </td><td>16.83  </td><td>70.92  </td><td>373.2  </td><td>0.10770</td><td>0.07804</td><td>0.03046</td><td>0.02480</td><td>0.1714 </td><td>...    </td><td>12.41  </td><td>26.44  </td><td> 79.93 </td><td>471.4  </td><td>0.1369 </td><td>0.1482 </td><td>0.10670</td><td>0.07431</td><td>0.2998 </td><td>0.07881</td></tr>\n",
       "\t<tr><td>B      </td><td>11.28  </td><td>13.39  </td><td>73.00  </td><td>384.8  </td><td>0.11640</td><td>0.11360</td><td>0.04635</td><td>0.04796</td><td>0.1771 </td><td>...    </td><td>11.92  </td><td>15.77  </td><td> 76.53 </td><td>434.0  </td><td>0.1367 </td><td>0.1822 </td><td>0.08669</td><td>0.08611</td><td>0.2102 </td><td>0.06784</td></tr>\n",
       "\t<tr><td>B      </td><td>15.19  </td><td>13.21  </td><td>97.65  </td><td>711.8  </td><td>0.07963</td><td>0.06934</td><td>0.03393</td><td>0.02657</td><td>0.1721 </td><td>...    </td><td>16.20  </td><td>15.73  </td><td>104.50 </td><td>819.1  </td><td>0.1126 </td><td>0.1737 </td><td>0.13620</td><td>0.08178</td><td>0.2487 </td><td>0.06766</td></tr>\n",
       "\t<tr><td>B      </td><td>11.57  </td><td>19.04  </td><td>74.20  </td><td>409.7  </td><td>0.08546</td><td>0.07722</td><td>0.05485</td><td>0.01428</td><td>0.2031 </td><td>...    </td><td>13.07  </td><td>26.98  </td><td> 86.43 </td><td>520.5  </td><td>0.1249 </td><td>0.1937 </td><td>0.25600</td><td>0.06664</td><td>0.3035 </td><td>0.08284</td></tr>\n",
       "</tbody>\n",
       "</table>\n"
      ],
      "text/latex": [
       "\\begin{tabular}{r|lllllllllllllllllllllllllllllll}\n",
       " diagnosis & radius\\_mean & texture\\_mean & perimeter\\_mean & area\\_mean & smoothness\\_mean & compactness\\_mean & concavity\\_mean & points\\_mean & symmetry\\_mean & ... & radius\\_worst & texture\\_worst & perimeter\\_worst & area\\_worst & smoothness\\_worst & compactness\\_worst & concavity\\_worst & points\\_worst & symmetry\\_worst & dimension\\_worst\\\\\n",
       "\\hline\n",
       "\t B       & 12.32   & 12.39   & 78.85   & 464.1   & 0.10280 & 0.06981 & 0.03987 & 0.03700 & 0.1959  & ...     & 13.50   & 15.64   &  86.97  & 549.1   & 0.1385  & 0.1266  & 0.12420 & 0.09391 & 0.2827  & 0.06771\\\\\n",
       "\t B       & 10.60   & 18.95   & 69.28   & 346.4   & 0.09688 & 0.11470 & 0.06387 & 0.02642 & 0.1922  & ...     & 11.88   & 22.94   &  78.28  & 424.8   & 0.1213  & 0.2515  & 0.19160 & 0.07926 & 0.2940  & 0.07587\\\\\n",
       "\t B       & 11.04   & 16.83   & 70.92   & 373.2   & 0.10770 & 0.07804 & 0.03046 & 0.02480 & 0.1714  & ...     & 12.41   & 26.44   &  79.93  & 471.4   & 0.1369  & 0.1482  & 0.10670 & 0.07431 & 0.2998  & 0.07881\\\\\n",
       "\t B       & 11.28   & 13.39   & 73.00   & 384.8   & 0.11640 & 0.11360 & 0.04635 & 0.04796 & 0.1771  & ...     & 11.92   & 15.77   &  76.53  & 434.0   & 0.1367  & 0.1822  & 0.08669 & 0.08611 & 0.2102  & 0.06784\\\\\n",
       "\t B       & 15.19   & 13.21   & 97.65   & 711.8   & 0.07963 & 0.06934 & 0.03393 & 0.02657 & 0.1721  & ...     & 16.20   & 15.73   & 104.50  & 819.1   & 0.1126  & 0.1737  & 0.13620 & 0.08178 & 0.2487  & 0.06766\\\\\n",
       "\t B       & 11.57   & 19.04   & 74.20   & 409.7   & 0.08546 & 0.07722 & 0.05485 & 0.01428 & 0.2031  & ...     & 13.07   & 26.98   &  86.43  & 520.5   & 0.1249  & 0.1937  & 0.25600 & 0.06664 & 0.3035  & 0.08284\\\\\n",
       "\\end{tabular}\n"
      ],
      "text/markdown": [
       "\n",
       "diagnosis | radius_mean | texture_mean | perimeter_mean | area_mean | smoothness_mean | compactness_mean | concavity_mean | points_mean | symmetry_mean | ... | radius_worst | texture_worst | perimeter_worst | area_worst | smoothness_worst | compactness_worst | concavity_worst | points_worst | symmetry_worst | dimension_worst | \n",
       "|---|---|---|---|---|---|\n",
       "| B       | 12.32   | 12.39   | 78.85   | 464.1   | 0.10280 | 0.06981 | 0.03987 | 0.03700 | 0.1959  | ...     | 13.50   | 15.64   |  86.97  | 549.1   | 0.1385  | 0.1266  | 0.12420 | 0.09391 | 0.2827  | 0.06771 | \n",
       "| B       | 10.60   | 18.95   | 69.28   | 346.4   | 0.09688 | 0.11470 | 0.06387 | 0.02642 | 0.1922  | ...     | 11.88   | 22.94   |  78.28  | 424.8   | 0.1213  | 0.2515  | 0.19160 | 0.07926 | 0.2940  | 0.07587 | \n",
       "| B       | 11.04   | 16.83   | 70.92   | 373.2   | 0.10770 | 0.07804 | 0.03046 | 0.02480 | 0.1714  | ...     | 12.41   | 26.44   |  79.93  | 471.4   | 0.1369  | 0.1482  | 0.10670 | 0.07431 | 0.2998  | 0.07881 | \n",
       "| B       | 11.28   | 13.39   | 73.00   | 384.8   | 0.11640 | 0.11360 | 0.04635 | 0.04796 | 0.1771  | ...     | 11.92   | 15.77   |  76.53  | 434.0   | 0.1367  | 0.1822  | 0.08669 | 0.08611 | 0.2102  | 0.06784 | \n",
       "| B       | 15.19   | 13.21   | 97.65   | 711.8   | 0.07963 | 0.06934 | 0.03393 | 0.02657 | 0.1721  | ...     | 16.20   | 15.73   | 104.50  | 819.1   | 0.1126  | 0.1737  | 0.13620 | 0.08178 | 0.2487  | 0.06766 | \n",
       "| B       | 11.57   | 19.04   | 74.20   | 409.7   | 0.08546 | 0.07722 | 0.05485 | 0.01428 | 0.2031  | ...     | 13.07   | 26.98   |  86.43  | 520.5   | 0.1249  | 0.1937  | 0.25600 | 0.06664 | 0.3035  | 0.08284 | \n",
       "\n",
       "\n"
      ],
      "text/plain": [
       "  diagnosis radius_mean texture_mean perimeter_mean area_mean smoothness_mean\n",
       "1 B         12.32       12.39        78.85          464.1     0.10280        \n",
       "2 B         10.60       18.95        69.28          346.4     0.09688        \n",
       "3 B         11.04       16.83        70.92          373.2     0.10770        \n",
       "4 B         11.28       13.39        73.00          384.8     0.11640        \n",
       "5 B         15.19       13.21        97.65          711.8     0.07963        \n",
       "6 B         11.57       19.04        74.20          409.7     0.08546        \n",
       "  compactness_mean concavity_mean points_mean symmetry_mean ... radius_worst\n",
       "1 0.06981          0.03987        0.03700     0.1959        ... 13.50       \n",
       "2 0.11470          0.06387        0.02642     0.1922        ... 11.88       \n",
       "3 0.07804          0.03046        0.02480     0.1714        ... 12.41       \n",
       "4 0.11360          0.04635        0.04796     0.1771        ... 11.92       \n",
       "5 0.06934          0.03393        0.02657     0.1721        ... 16.20       \n",
       "6 0.07722          0.05485        0.01428     0.2031        ... 13.07       \n",
       "  texture_worst perimeter_worst area_worst smoothness_worst compactness_worst\n",
       "1 15.64          86.97          549.1      0.1385           0.1266           \n",
       "2 22.94          78.28          424.8      0.1213           0.2515           \n",
       "3 26.44          79.93          471.4      0.1369           0.1482           \n",
       "4 15.77          76.53          434.0      0.1367           0.1822           \n",
       "5 15.73         104.50          819.1      0.1126           0.1737           \n",
       "6 26.98          86.43          520.5      0.1249           0.1937           \n",
       "  concavity_worst points_worst symmetry_worst dimension_worst\n",
       "1 0.12420         0.09391      0.2827         0.06771        \n",
       "2 0.19160         0.07926      0.2940         0.07587        \n",
       "3 0.10670         0.07431      0.2998         0.07881        \n",
       "4 0.08669         0.08611      0.2102         0.06784        \n",
       "5 0.13620         0.08178      0.2487         0.06766        \n",
       "6 0.25600         0.06664      0.3035         0.08284        "
      ]
     },
     "metadata": {},
     "output_type": "display_data"
    }
   ],
   "source": [
    "library(dplyr)\n",
    "bcw_v2 <- select(bcw, -id)\n",
    "head(bcw_v2)"
   ]
  },
  {
   "cell_type": "code",
   "execution_count": 30,
   "metadata": {},
   "outputs": [
    {
     "data": {
      "text/html": [
       "<table>\n",
       "<thead><tr><th scope=col>diagnosis</th><th scope=col>radius_mean</th><th scope=col>texture_mean</th><th scope=col>perimeter_mean</th><th scope=col>area_mean</th><th scope=col>smoothness_mean</th><th scope=col>compactness_mean</th><th scope=col>concavity_mean</th><th scope=col>points_mean</th><th scope=col>symmetry_mean</th><th scope=col>...</th><th scope=col>radius_worst</th><th scope=col>texture_worst</th><th scope=col>perimeter_worst</th><th scope=col>area_worst</th><th scope=col>smoothness_worst</th><th scope=col>compactness_worst</th><th scope=col>concavity_worst</th><th scope=col>points_worst</th><th scope=col>symmetry_worst</th><th scope=col>dimension_worst</th></tr></thead>\n",
       "<tbody>\n",
       "\t<tr><td>B      </td><td>12.32  </td><td>12.39  </td><td>78.85  </td><td>464.1  </td><td>0.10280</td><td>0.06981</td><td>0.03987</td><td>0.03700</td><td>0.1959 </td><td>...    </td><td>13.50  </td><td>15.64  </td><td> 86.97 </td><td>549.1  </td><td>0.1385 </td><td>0.1266 </td><td>0.12420</td><td>0.09391</td><td>0.2827 </td><td>0.06771</td></tr>\n",
       "\t<tr><td>B      </td><td>10.60  </td><td>18.95  </td><td>69.28  </td><td>346.4  </td><td>0.09688</td><td>0.11470</td><td>0.06387</td><td>0.02642</td><td>0.1922 </td><td>...    </td><td>11.88  </td><td>22.94  </td><td> 78.28 </td><td>424.8  </td><td>0.1213 </td><td>0.2515 </td><td>0.19160</td><td>0.07926</td><td>0.2940 </td><td>0.07587</td></tr>\n",
       "\t<tr><td>B      </td><td>11.04  </td><td>16.83  </td><td>70.92  </td><td>373.2  </td><td>0.10770</td><td>0.07804</td><td>0.03046</td><td>0.02480</td><td>0.1714 </td><td>...    </td><td>12.41  </td><td>26.44  </td><td> 79.93 </td><td>471.4  </td><td>0.1369 </td><td>0.1482 </td><td>0.10670</td><td>0.07431</td><td>0.2998 </td><td>0.07881</td></tr>\n",
       "\t<tr><td>B      </td><td>11.28  </td><td>13.39  </td><td>73.00  </td><td>384.8  </td><td>0.11640</td><td>0.11360</td><td>0.04635</td><td>0.04796</td><td>0.1771 </td><td>...    </td><td>11.92  </td><td>15.77  </td><td> 76.53 </td><td>434.0  </td><td>0.1367 </td><td>0.1822 </td><td>0.08669</td><td>0.08611</td><td>0.2102 </td><td>0.06784</td></tr>\n",
       "\t<tr><td>B      </td><td>15.19  </td><td>13.21  </td><td>97.65  </td><td>711.8  </td><td>0.07963</td><td>0.06934</td><td>0.03393</td><td>0.02657</td><td>0.1721 </td><td>...    </td><td>16.20  </td><td>15.73  </td><td>104.50 </td><td>819.1  </td><td>0.1126 </td><td>0.1737 </td><td>0.13620</td><td>0.08178</td><td>0.2487 </td><td>0.06766</td></tr>\n",
       "\t<tr><td>B      </td><td>11.57  </td><td>19.04  </td><td>74.20  </td><td>409.7  </td><td>0.08546</td><td>0.07722</td><td>0.05485</td><td>0.01428</td><td>0.2031 </td><td>...    </td><td>13.07  </td><td>26.98  </td><td> 86.43 </td><td>520.5  </td><td>0.1249 </td><td>0.1937 </td><td>0.25600</td><td>0.06664</td><td>0.3035 </td><td>0.08284</td></tr>\n",
       "</tbody>\n",
       "</table>\n"
      ],
      "text/latex": [
       "\\begin{tabular}{r|lllllllllllllllllllllllllllllll}\n",
       " diagnosis & radius\\_mean & texture\\_mean & perimeter\\_mean & area\\_mean & smoothness\\_mean & compactness\\_mean & concavity\\_mean & points\\_mean & symmetry\\_mean & ... & radius\\_worst & texture\\_worst & perimeter\\_worst & area\\_worst & smoothness\\_worst & compactness\\_worst & concavity\\_worst & points\\_worst & symmetry\\_worst & dimension\\_worst\\\\\n",
       "\\hline\n",
       "\t B       & 12.32   & 12.39   & 78.85   & 464.1   & 0.10280 & 0.06981 & 0.03987 & 0.03700 & 0.1959  & ...     & 13.50   & 15.64   &  86.97  & 549.1   & 0.1385  & 0.1266  & 0.12420 & 0.09391 & 0.2827  & 0.06771\\\\\n",
       "\t B       & 10.60   & 18.95   & 69.28   & 346.4   & 0.09688 & 0.11470 & 0.06387 & 0.02642 & 0.1922  & ...     & 11.88   & 22.94   &  78.28  & 424.8   & 0.1213  & 0.2515  & 0.19160 & 0.07926 & 0.2940  & 0.07587\\\\\n",
       "\t B       & 11.04   & 16.83   & 70.92   & 373.2   & 0.10770 & 0.07804 & 0.03046 & 0.02480 & 0.1714  & ...     & 12.41   & 26.44   &  79.93  & 471.4   & 0.1369  & 0.1482  & 0.10670 & 0.07431 & 0.2998  & 0.07881\\\\\n",
       "\t B       & 11.28   & 13.39   & 73.00   & 384.8   & 0.11640 & 0.11360 & 0.04635 & 0.04796 & 0.1771  & ...     & 11.92   & 15.77   &  76.53  & 434.0   & 0.1367  & 0.1822  & 0.08669 & 0.08611 & 0.2102  & 0.06784\\\\\n",
       "\t B       & 15.19   & 13.21   & 97.65   & 711.8   & 0.07963 & 0.06934 & 0.03393 & 0.02657 & 0.1721  & ...     & 16.20   & 15.73   & 104.50  & 819.1   & 0.1126  & 0.1737  & 0.13620 & 0.08178 & 0.2487  & 0.06766\\\\\n",
       "\t B       & 11.57   & 19.04   & 74.20   & 409.7   & 0.08546 & 0.07722 & 0.05485 & 0.01428 & 0.2031  & ...     & 13.07   & 26.98   &  86.43  & 520.5   & 0.1249  & 0.1937  & 0.25600 & 0.06664 & 0.3035  & 0.08284\\\\\n",
       "\\end{tabular}\n"
      ],
      "text/markdown": [
       "\n",
       "diagnosis | radius_mean | texture_mean | perimeter_mean | area_mean | smoothness_mean | compactness_mean | concavity_mean | points_mean | symmetry_mean | ... | radius_worst | texture_worst | perimeter_worst | area_worst | smoothness_worst | compactness_worst | concavity_worst | points_worst | symmetry_worst | dimension_worst | \n",
       "|---|---|---|---|---|---|\n",
       "| B       | 12.32   | 12.39   | 78.85   | 464.1   | 0.10280 | 0.06981 | 0.03987 | 0.03700 | 0.1959  | ...     | 13.50   | 15.64   |  86.97  | 549.1   | 0.1385  | 0.1266  | 0.12420 | 0.09391 | 0.2827  | 0.06771 | \n",
       "| B       | 10.60   | 18.95   | 69.28   | 346.4   | 0.09688 | 0.11470 | 0.06387 | 0.02642 | 0.1922  | ...     | 11.88   | 22.94   |  78.28  | 424.8   | 0.1213  | 0.2515  | 0.19160 | 0.07926 | 0.2940  | 0.07587 | \n",
       "| B       | 11.04   | 16.83   | 70.92   | 373.2   | 0.10770 | 0.07804 | 0.03046 | 0.02480 | 0.1714  | ...     | 12.41   | 26.44   |  79.93  | 471.4   | 0.1369  | 0.1482  | 0.10670 | 0.07431 | 0.2998  | 0.07881 | \n",
       "| B       | 11.28   | 13.39   | 73.00   | 384.8   | 0.11640 | 0.11360 | 0.04635 | 0.04796 | 0.1771  | ...     | 11.92   | 15.77   |  76.53  | 434.0   | 0.1367  | 0.1822  | 0.08669 | 0.08611 | 0.2102  | 0.06784 | \n",
       "| B       | 15.19   | 13.21   | 97.65   | 711.8   | 0.07963 | 0.06934 | 0.03393 | 0.02657 | 0.1721  | ...     | 16.20   | 15.73   | 104.50  | 819.1   | 0.1126  | 0.1737  | 0.13620 | 0.08178 | 0.2487  | 0.06766 | \n",
       "| B       | 11.57   | 19.04   | 74.20   | 409.7   | 0.08546 | 0.07722 | 0.05485 | 0.01428 | 0.2031  | ...     | 13.07   | 26.98   |  86.43  | 520.5   | 0.1249  | 0.1937  | 0.25600 | 0.06664 | 0.3035  | 0.08284 | \n",
       "\n",
       "\n"
      ],
      "text/plain": [
       "  diagnosis radius_mean texture_mean perimeter_mean area_mean smoothness_mean\n",
       "1 B         12.32       12.39        78.85          464.1     0.10280        \n",
       "2 B         10.60       18.95        69.28          346.4     0.09688        \n",
       "3 B         11.04       16.83        70.92          373.2     0.10770        \n",
       "4 B         11.28       13.39        73.00          384.8     0.11640        \n",
       "5 B         15.19       13.21        97.65          711.8     0.07963        \n",
       "6 B         11.57       19.04        74.20          409.7     0.08546        \n",
       "  compactness_mean concavity_mean points_mean symmetry_mean ... radius_worst\n",
       "1 0.06981          0.03987        0.03700     0.1959        ... 13.50       \n",
       "2 0.11470          0.06387        0.02642     0.1922        ... 11.88       \n",
       "3 0.07804          0.03046        0.02480     0.1714        ... 12.41       \n",
       "4 0.11360          0.04635        0.04796     0.1771        ... 11.92       \n",
       "5 0.06934          0.03393        0.02657     0.1721        ... 16.20       \n",
       "6 0.07722          0.05485        0.01428     0.2031        ... 13.07       \n",
       "  texture_worst perimeter_worst area_worst smoothness_worst compactness_worst\n",
       "1 15.64          86.97          549.1      0.1385           0.1266           \n",
       "2 22.94          78.28          424.8      0.1213           0.2515           \n",
       "3 26.44          79.93          471.4      0.1369           0.1482           \n",
       "4 15.77          76.53          434.0      0.1367           0.1822           \n",
       "5 15.73         104.50          819.1      0.1126           0.1737           \n",
       "6 26.98          86.43          520.5      0.1249           0.1937           \n",
       "  concavity_worst points_worst symmetry_worst dimension_worst\n",
       "1 0.12420         0.09391      0.2827         0.06771        \n",
       "2 0.19160         0.07926      0.2940         0.07587        \n",
       "3 0.10670         0.07431      0.2998         0.07881        \n",
       "4 0.08669         0.08611      0.2102         0.06784        \n",
       "5 0.13620         0.08178      0.2487         0.06766        \n",
       "6 0.25600         0.06664      0.3035         0.08284        "
      ]
     },
     "metadata": {},
     "output_type": "display_data"
    }
   ],
   "source": [
    "# View the first few observation of the labeled data to \n",
    "# verify names are added\n",
    "head(bcw_v2)"
   ]
  },
  {
   "cell_type": "markdown",
   "metadata": {},
   "source": [
    "At the moment, the diagnosis field does not hold very meaningful names other than B and M. lets change these to the actual words they represent with the code below."
   ]
  },
  {
   "cell_type": "code",
   "execution_count": 31,
   "metadata": {},
   "outputs": [],
   "source": [
    "bcw_v2$diagnosis<- ifelse(grepl('B', bcw_v2$diagnosis),'Benign',\n",
    "                     ifelse(grepl('M',bcw_v2$diagnosis),'Malignant',\n",
    "                     'Nothing'))"
   ]
  },
  {
   "cell_type": "code",
   "execution_count": 32,
   "metadata": {},
   "outputs": [
    {
     "data": {
      "text/html": [
       "<table>\n",
       "<thead><tr><th scope=col>diagnosis</th><th scope=col>radius_mean</th><th scope=col>texture_mean</th><th scope=col>perimeter_mean</th><th scope=col>area_mean</th><th scope=col>smoothness_mean</th><th scope=col>compactness_mean</th><th scope=col>concavity_mean</th><th scope=col>points_mean</th><th scope=col>symmetry_mean</th><th scope=col>...</th><th scope=col>radius_worst</th><th scope=col>texture_worst</th><th scope=col>perimeter_worst</th><th scope=col>area_worst</th><th scope=col>smoothness_worst</th><th scope=col>compactness_worst</th><th scope=col>concavity_worst</th><th scope=col>points_worst</th><th scope=col>symmetry_worst</th><th scope=col>dimension_worst</th></tr></thead>\n",
       "<tbody>\n",
       "\t<tr><td>Benign </td><td>12.32  </td><td>12.39  </td><td>78.85  </td><td>464.1  </td><td>0.10280</td><td>0.06981</td><td>0.03987</td><td>0.03700</td><td>0.1959 </td><td>...    </td><td>13.50  </td><td>15.64  </td><td> 86.97 </td><td>549.1  </td><td>0.1385 </td><td>0.1266 </td><td>0.12420</td><td>0.09391</td><td>0.2827 </td><td>0.06771</td></tr>\n",
       "\t<tr><td>Benign </td><td>10.60  </td><td>18.95  </td><td>69.28  </td><td>346.4  </td><td>0.09688</td><td>0.11470</td><td>0.06387</td><td>0.02642</td><td>0.1922 </td><td>...    </td><td>11.88  </td><td>22.94  </td><td> 78.28 </td><td>424.8  </td><td>0.1213 </td><td>0.2515 </td><td>0.19160</td><td>0.07926</td><td>0.2940 </td><td>0.07587</td></tr>\n",
       "\t<tr><td>Benign </td><td>11.04  </td><td>16.83  </td><td>70.92  </td><td>373.2  </td><td>0.10770</td><td>0.07804</td><td>0.03046</td><td>0.02480</td><td>0.1714 </td><td>...    </td><td>12.41  </td><td>26.44  </td><td> 79.93 </td><td>471.4  </td><td>0.1369 </td><td>0.1482 </td><td>0.10670</td><td>0.07431</td><td>0.2998 </td><td>0.07881</td></tr>\n",
       "\t<tr><td>Benign </td><td>11.28  </td><td>13.39  </td><td>73.00  </td><td>384.8  </td><td>0.11640</td><td>0.11360</td><td>0.04635</td><td>0.04796</td><td>0.1771 </td><td>...    </td><td>11.92  </td><td>15.77  </td><td> 76.53 </td><td>434.0  </td><td>0.1367 </td><td>0.1822 </td><td>0.08669</td><td>0.08611</td><td>0.2102 </td><td>0.06784</td></tr>\n",
       "\t<tr><td>Benign </td><td>15.19  </td><td>13.21  </td><td>97.65  </td><td>711.8  </td><td>0.07963</td><td>0.06934</td><td>0.03393</td><td>0.02657</td><td>0.1721 </td><td>...    </td><td>16.20  </td><td>15.73  </td><td>104.50 </td><td>819.1  </td><td>0.1126 </td><td>0.1737 </td><td>0.13620</td><td>0.08178</td><td>0.2487 </td><td>0.06766</td></tr>\n",
       "\t<tr><td>Benign </td><td>11.57  </td><td>19.04  </td><td>74.20  </td><td>409.7  </td><td>0.08546</td><td>0.07722</td><td>0.05485</td><td>0.01428</td><td>0.2031 </td><td>...    </td><td>13.07  </td><td>26.98  </td><td> 86.43 </td><td>520.5  </td><td>0.1249 </td><td>0.1937 </td><td>0.25600</td><td>0.06664</td><td>0.3035 </td><td>0.08284</td></tr>\n",
       "</tbody>\n",
       "</table>\n"
      ],
      "text/latex": [
       "\\begin{tabular}{r|lllllllllllllllllllllllllllllll}\n",
       " diagnosis & radius\\_mean & texture\\_mean & perimeter\\_mean & area\\_mean & smoothness\\_mean & compactness\\_mean & concavity\\_mean & points\\_mean & symmetry\\_mean & ... & radius\\_worst & texture\\_worst & perimeter\\_worst & area\\_worst & smoothness\\_worst & compactness\\_worst & concavity\\_worst & points\\_worst & symmetry\\_worst & dimension\\_worst\\\\\n",
       "\\hline\n",
       "\t Benign  & 12.32   & 12.39   & 78.85   & 464.1   & 0.10280 & 0.06981 & 0.03987 & 0.03700 & 0.1959  & ...     & 13.50   & 15.64   &  86.97  & 549.1   & 0.1385  & 0.1266  & 0.12420 & 0.09391 & 0.2827  & 0.06771\\\\\n",
       "\t Benign  & 10.60   & 18.95   & 69.28   & 346.4   & 0.09688 & 0.11470 & 0.06387 & 0.02642 & 0.1922  & ...     & 11.88   & 22.94   &  78.28  & 424.8   & 0.1213  & 0.2515  & 0.19160 & 0.07926 & 0.2940  & 0.07587\\\\\n",
       "\t Benign  & 11.04   & 16.83   & 70.92   & 373.2   & 0.10770 & 0.07804 & 0.03046 & 0.02480 & 0.1714  & ...     & 12.41   & 26.44   &  79.93  & 471.4   & 0.1369  & 0.1482  & 0.10670 & 0.07431 & 0.2998  & 0.07881\\\\\n",
       "\t Benign  & 11.28   & 13.39   & 73.00   & 384.8   & 0.11640 & 0.11360 & 0.04635 & 0.04796 & 0.1771  & ...     & 11.92   & 15.77   &  76.53  & 434.0   & 0.1367  & 0.1822  & 0.08669 & 0.08611 & 0.2102  & 0.06784\\\\\n",
       "\t Benign  & 15.19   & 13.21   & 97.65   & 711.8   & 0.07963 & 0.06934 & 0.03393 & 0.02657 & 0.1721  & ...     & 16.20   & 15.73   & 104.50  & 819.1   & 0.1126  & 0.1737  & 0.13620 & 0.08178 & 0.2487  & 0.06766\\\\\n",
       "\t Benign  & 11.57   & 19.04   & 74.20   & 409.7   & 0.08546 & 0.07722 & 0.05485 & 0.01428 & 0.2031  & ...     & 13.07   & 26.98   &  86.43  & 520.5   & 0.1249  & 0.1937  & 0.25600 & 0.06664 & 0.3035  & 0.08284\\\\\n",
       "\\end{tabular}\n"
      ],
      "text/markdown": [
       "\n",
       "diagnosis | radius_mean | texture_mean | perimeter_mean | area_mean | smoothness_mean | compactness_mean | concavity_mean | points_mean | symmetry_mean | ... | radius_worst | texture_worst | perimeter_worst | area_worst | smoothness_worst | compactness_worst | concavity_worst | points_worst | symmetry_worst | dimension_worst | \n",
       "|---|---|---|---|---|---|\n",
       "| Benign  | 12.32   | 12.39   | 78.85   | 464.1   | 0.10280 | 0.06981 | 0.03987 | 0.03700 | 0.1959  | ...     | 13.50   | 15.64   |  86.97  | 549.1   | 0.1385  | 0.1266  | 0.12420 | 0.09391 | 0.2827  | 0.06771 | \n",
       "| Benign  | 10.60   | 18.95   | 69.28   | 346.4   | 0.09688 | 0.11470 | 0.06387 | 0.02642 | 0.1922  | ...     | 11.88   | 22.94   |  78.28  | 424.8   | 0.1213  | 0.2515  | 0.19160 | 0.07926 | 0.2940  | 0.07587 | \n",
       "| Benign  | 11.04   | 16.83   | 70.92   | 373.2   | 0.10770 | 0.07804 | 0.03046 | 0.02480 | 0.1714  | ...     | 12.41   | 26.44   |  79.93  | 471.4   | 0.1369  | 0.1482  | 0.10670 | 0.07431 | 0.2998  | 0.07881 | \n",
       "| Benign  | 11.28   | 13.39   | 73.00   | 384.8   | 0.11640 | 0.11360 | 0.04635 | 0.04796 | 0.1771  | ...     | 11.92   | 15.77   |  76.53  | 434.0   | 0.1367  | 0.1822  | 0.08669 | 0.08611 | 0.2102  | 0.06784 | \n",
       "| Benign  | 15.19   | 13.21   | 97.65   | 711.8   | 0.07963 | 0.06934 | 0.03393 | 0.02657 | 0.1721  | ...     | 16.20   | 15.73   | 104.50  | 819.1   | 0.1126  | 0.1737  | 0.13620 | 0.08178 | 0.2487  | 0.06766 | \n",
       "| Benign  | 11.57   | 19.04   | 74.20   | 409.7   | 0.08546 | 0.07722 | 0.05485 | 0.01428 | 0.2031  | ...     | 13.07   | 26.98   |  86.43  | 520.5   | 0.1249  | 0.1937  | 0.25600 | 0.06664 | 0.3035  | 0.08284 | \n",
       "\n",
       "\n"
      ],
      "text/plain": [
       "  diagnosis radius_mean texture_mean perimeter_mean area_mean smoothness_mean\n",
       "1 Benign    12.32       12.39        78.85          464.1     0.10280        \n",
       "2 Benign    10.60       18.95        69.28          346.4     0.09688        \n",
       "3 Benign    11.04       16.83        70.92          373.2     0.10770        \n",
       "4 Benign    11.28       13.39        73.00          384.8     0.11640        \n",
       "5 Benign    15.19       13.21        97.65          711.8     0.07963        \n",
       "6 Benign    11.57       19.04        74.20          409.7     0.08546        \n",
       "  compactness_mean concavity_mean points_mean symmetry_mean ... radius_worst\n",
       "1 0.06981          0.03987        0.03700     0.1959        ... 13.50       \n",
       "2 0.11470          0.06387        0.02642     0.1922        ... 11.88       \n",
       "3 0.07804          0.03046        0.02480     0.1714        ... 12.41       \n",
       "4 0.11360          0.04635        0.04796     0.1771        ... 11.92       \n",
       "5 0.06934          0.03393        0.02657     0.1721        ... 16.20       \n",
       "6 0.07722          0.05485        0.01428     0.2031        ... 13.07       \n",
       "  texture_worst perimeter_worst area_worst smoothness_worst compactness_worst\n",
       "1 15.64          86.97          549.1      0.1385           0.1266           \n",
       "2 22.94          78.28          424.8      0.1213           0.2515           \n",
       "3 26.44          79.93          471.4      0.1369           0.1482           \n",
       "4 15.77          76.53          434.0      0.1367           0.1822           \n",
       "5 15.73         104.50          819.1      0.1126           0.1737           \n",
       "6 26.98          86.43          520.5      0.1249           0.1937           \n",
       "  concavity_worst points_worst symmetry_worst dimension_worst\n",
       "1 0.12420         0.09391      0.2827         0.06771        \n",
       "2 0.19160         0.07926      0.2940         0.07587        \n",
       "3 0.10670         0.07431      0.2998         0.07881        \n",
       "4 0.08669         0.08611      0.2102         0.06784        \n",
       "5 0.13620         0.08178      0.2487         0.06766        \n",
       "6 0.25600         0.06664      0.3035         0.08284        "
      ]
     },
     "metadata": {},
     "output_type": "display_data"
    }
   ],
   "source": [
    "# Let's view the bcw_v2 object to ensure the above code worked.\n",
    "head(bcw_v2)"
   ]
  },
  {
   "cell_type": "markdown",
   "metadata": {},
   "source": [
    "<div class=\"alert alert-success\"></i><strong><h3>1.1 Exploratory Data Analysis</h3></strong><br>"
   ]
  },
  {
   "cell_type": "code",
   "execution_count": 33,
   "metadata": {},
   "outputs": [
    {
     "data": {
      "text/plain": [
       "  diagnosis          radius_mean      texture_mean   perimeter_mean  \n",
       " Length:569         Min.   : 6.981   Min.   : 9.71   Min.   : 43.79  \n",
       " Class :character   1st Qu.:11.700   1st Qu.:16.17   1st Qu.: 75.17  \n",
       " Mode  :character   Median :13.370   Median :18.84   Median : 86.24  \n",
       "                    Mean   :14.127   Mean   :19.29   Mean   : 91.97  \n",
       "                    3rd Qu.:15.780   3rd Qu.:21.80   3rd Qu.:104.10  \n",
       "                    Max.   :28.110   Max.   :39.28   Max.   :188.50  \n",
       "   area_mean      smoothness_mean   compactness_mean  concavity_mean   \n",
       " Min.   : 143.5   Min.   :0.05263   Min.   :0.01938   Min.   :0.00000  \n",
       " 1st Qu.: 420.3   1st Qu.:0.08637   1st Qu.:0.06492   1st Qu.:0.02956  \n",
       " Median : 551.1   Median :0.09587   Median :0.09263   Median :0.06154  \n",
       " Mean   : 654.9   Mean   :0.09636   Mean   :0.10434   Mean   :0.08880  \n",
       " 3rd Qu.: 782.7   3rd Qu.:0.10530   3rd Qu.:0.13040   3rd Qu.:0.13070  \n",
       " Max.   :2501.0   Max.   :0.16340   Max.   :0.34540   Max.   :0.42680  \n",
       "  points_mean      symmetry_mean    dimension_mean      radius_se     \n",
       " Min.   :0.00000   Min.   :0.1060   Min.   :0.04996   Min.   :0.1115  \n",
       " 1st Qu.:0.02031   1st Qu.:0.1619   1st Qu.:0.05770   1st Qu.:0.2324  \n",
       " Median :0.03350   Median :0.1792   Median :0.06154   Median :0.3242  \n",
       " Mean   :0.04892   Mean   :0.1812   Mean   :0.06280   Mean   :0.4052  \n",
       " 3rd Qu.:0.07400   3rd Qu.:0.1957   3rd Qu.:0.06612   3rd Qu.:0.4789  \n",
       " Max.   :0.20120   Max.   :0.3040   Max.   :0.09744   Max.   :2.8730  \n",
       "   texture_se      perimeter_se       area_se        smoothness_se     \n",
       " Min.   :0.3602   Min.   : 0.757   Min.   :  6.802   Min.   :0.001713  \n",
       " 1st Qu.:0.8339   1st Qu.: 1.606   1st Qu.: 17.850   1st Qu.:0.005169  \n",
       " Median :1.1080   Median : 2.287   Median : 24.530   Median :0.006380  \n",
       " Mean   :1.2169   Mean   : 2.866   Mean   : 40.337   Mean   :0.007041  \n",
       " 3rd Qu.:1.4740   3rd Qu.: 3.357   3rd Qu.: 45.190   3rd Qu.:0.008146  \n",
       " Max.   :4.8850   Max.   :21.980   Max.   :542.200   Max.   :0.031130  \n",
       " compactness_se      concavity_se       points_se         symmetry_se      \n",
       " Min.   :0.002252   Min.   :0.00000   Min.   :0.000000   Min.   :0.007882  \n",
       " 1st Qu.:0.013080   1st Qu.:0.01509   1st Qu.:0.007638   1st Qu.:0.015160  \n",
       " Median :0.020450   Median :0.02589   Median :0.010930   Median :0.018730  \n",
       " Mean   :0.025478   Mean   :0.03189   Mean   :0.011796   Mean   :0.020542  \n",
       " 3rd Qu.:0.032450   3rd Qu.:0.04205   3rd Qu.:0.014710   3rd Qu.:0.023480  \n",
       " Max.   :0.135400   Max.   :0.39600   Max.   :0.052790   Max.   :0.078950  \n",
       "  dimension_se        radius_worst   texture_worst   perimeter_worst \n",
       " Min.   :0.0008948   Min.   : 7.93   Min.   :12.02   Min.   : 50.41  \n",
       " 1st Qu.:0.0022480   1st Qu.:13.01   1st Qu.:21.08   1st Qu.: 84.11  \n",
       " Median :0.0031870   Median :14.97   Median :25.41   Median : 97.66  \n",
       " Mean   :0.0037949   Mean   :16.27   Mean   :25.68   Mean   :107.26  \n",
       " 3rd Qu.:0.0045580   3rd Qu.:18.79   3rd Qu.:29.72   3rd Qu.:125.40  \n",
       " Max.   :0.0298400   Max.   :36.04   Max.   :49.54   Max.   :251.20  \n",
       "   area_worst     smoothness_worst  compactness_worst concavity_worst \n",
       " Min.   : 185.2   Min.   :0.07117   Min.   :0.02729   Min.   :0.0000  \n",
       " 1st Qu.: 515.3   1st Qu.:0.11660   1st Qu.:0.14720   1st Qu.:0.1145  \n",
       " Median : 686.5   Median :0.13130   Median :0.21190   Median :0.2267  \n",
       " Mean   : 880.6   Mean   :0.13237   Mean   :0.25427   Mean   :0.2722  \n",
       " 3rd Qu.:1084.0   3rd Qu.:0.14600   3rd Qu.:0.33910   3rd Qu.:0.3829  \n",
       " Max.   :4254.0   Max.   :0.22260   Max.   :1.05800   Max.   :1.2520  \n",
       "  points_worst     symmetry_worst   dimension_worst  \n",
       " Min.   :0.00000   Min.   :0.1565   Min.   :0.05504  \n",
       " 1st Qu.:0.06493   1st Qu.:0.2504   1st Qu.:0.07146  \n",
       " Median :0.09993   Median :0.2822   Median :0.08004  \n",
       " Mean   :0.11461   Mean   :0.2901   Mean   :0.08395  \n",
       " 3rd Qu.:0.16140   3rd Qu.:0.3179   3rd Qu.:0.09208  \n",
       " Max.   :0.29100   Max.   :0.6638   Max.   :0.20750  "
      ]
     },
     "metadata": {},
     "output_type": "display_data"
    }
   ],
   "source": [
    "# Run the summary function\n",
    "# we see that there is a need for normalization as some of the data ranges are very big\n",
    "# Also we see that the class label(class) is not categorical, we would need to conver this\n",
    "# as it's a classification problem\n",
    "summary(bcw_v2)"
   ]
  },
  {
   "cell_type": "code",
   "execution_count": 34,
   "metadata": {},
   "outputs": [
    {
     "data": {
      "text/html": [
       "0"
      ],
      "text/latex": [
       "0"
      ],
      "text/markdown": [
       "0"
      ],
      "text/plain": [
       "[1] 0"
      ]
     },
     "metadata": {},
     "output_type": "display_data"
    }
   ],
   "source": [
    "sum(is.na(bcw_v2))"
   ]
  },
  {
   "cell_type": "code",
   "execution_count": 35,
   "metadata": {},
   "outputs": [],
   "source": [
    "missing = function(x){\n",
    "      sum(is.na(x))\n",
    "    }"
   ]
  },
  {
   "cell_type": "code",
   "execution_count": 36,
   "metadata": {},
   "outputs": [
    {
     "data": {
      "text/html": [
       "<dl class=dl-horizontal>\n",
       "\t<dt>diagnosis</dt>\n",
       "\t\t<dd>0</dd>\n",
       "\t<dt>radius_mean</dt>\n",
       "\t\t<dd>0</dd>\n",
       "\t<dt>texture_mean</dt>\n",
       "\t\t<dd>0</dd>\n",
       "\t<dt>perimeter_mean</dt>\n",
       "\t\t<dd>0</dd>\n",
       "\t<dt>area_mean</dt>\n",
       "\t\t<dd>0</dd>\n",
       "\t<dt>smoothness_mean</dt>\n",
       "\t\t<dd>0</dd>\n",
       "\t<dt>compactness_mean</dt>\n",
       "\t\t<dd>0</dd>\n",
       "\t<dt>concavity_mean</dt>\n",
       "\t\t<dd>0</dd>\n",
       "\t<dt>points_mean</dt>\n",
       "\t\t<dd>0</dd>\n",
       "\t<dt>symmetry_mean</dt>\n",
       "\t\t<dd>0</dd>\n",
       "\t<dt>dimension_mean</dt>\n",
       "\t\t<dd>0</dd>\n",
       "\t<dt>radius_se</dt>\n",
       "\t\t<dd>0</dd>\n",
       "\t<dt>texture_se</dt>\n",
       "\t\t<dd>0</dd>\n",
       "\t<dt>perimeter_se</dt>\n",
       "\t\t<dd>0</dd>\n",
       "\t<dt>area_se</dt>\n",
       "\t\t<dd>0</dd>\n",
       "\t<dt>smoothness_se</dt>\n",
       "\t\t<dd>0</dd>\n",
       "\t<dt>compactness_se</dt>\n",
       "\t\t<dd>0</dd>\n",
       "\t<dt>concavity_se</dt>\n",
       "\t\t<dd>0</dd>\n",
       "\t<dt>points_se</dt>\n",
       "\t\t<dd>0</dd>\n",
       "\t<dt>symmetry_se</dt>\n",
       "\t\t<dd>0</dd>\n",
       "\t<dt>dimension_se</dt>\n",
       "\t\t<dd>0</dd>\n",
       "\t<dt>radius_worst</dt>\n",
       "\t\t<dd>0</dd>\n",
       "\t<dt>texture_worst</dt>\n",
       "\t\t<dd>0</dd>\n",
       "\t<dt>perimeter_worst</dt>\n",
       "\t\t<dd>0</dd>\n",
       "\t<dt>area_worst</dt>\n",
       "\t\t<dd>0</dd>\n",
       "\t<dt>smoothness_worst</dt>\n",
       "\t\t<dd>0</dd>\n",
       "\t<dt>compactness_worst</dt>\n",
       "\t\t<dd>0</dd>\n",
       "\t<dt>concavity_worst</dt>\n",
       "\t\t<dd>0</dd>\n",
       "\t<dt>points_worst</dt>\n",
       "\t\t<dd>0</dd>\n",
       "\t<dt>symmetry_worst</dt>\n",
       "\t\t<dd>0</dd>\n",
       "\t<dt>dimension_worst</dt>\n",
       "\t\t<dd>0</dd>\n",
       "</dl>\n"
      ],
      "text/latex": [
       "\\begin{description*}\n",
       "\\item[diagnosis] 0\n",
       "\\item[radius\\textbackslash{}\\_mean] 0\n",
       "\\item[texture\\textbackslash{}\\_mean] 0\n",
       "\\item[perimeter\\textbackslash{}\\_mean] 0\n",
       "\\item[area\\textbackslash{}\\_mean] 0\n",
       "\\item[smoothness\\textbackslash{}\\_mean] 0\n",
       "\\item[compactness\\textbackslash{}\\_mean] 0\n",
       "\\item[concavity\\textbackslash{}\\_mean] 0\n",
       "\\item[points\\textbackslash{}\\_mean] 0\n",
       "\\item[symmetry\\textbackslash{}\\_mean] 0\n",
       "\\item[dimension\\textbackslash{}\\_mean] 0\n",
       "\\item[radius\\textbackslash{}\\_se] 0\n",
       "\\item[texture\\textbackslash{}\\_se] 0\n",
       "\\item[perimeter\\textbackslash{}\\_se] 0\n",
       "\\item[area\\textbackslash{}\\_se] 0\n",
       "\\item[smoothness\\textbackslash{}\\_se] 0\n",
       "\\item[compactness\\textbackslash{}\\_se] 0\n",
       "\\item[concavity\\textbackslash{}\\_se] 0\n",
       "\\item[points\\textbackslash{}\\_se] 0\n",
       "\\item[symmetry\\textbackslash{}\\_se] 0\n",
       "\\item[dimension\\textbackslash{}\\_se] 0\n",
       "\\item[radius\\textbackslash{}\\_worst] 0\n",
       "\\item[texture\\textbackslash{}\\_worst] 0\n",
       "\\item[perimeter\\textbackslash{}\\_worst] 0\n",
       "\\item[area\\textbackslash{}\\_worst] 0\n",
       "\\item[smoothness\\textbackslash{}\\_worst] 0\n",
       "\\item[compactness\\textbackslash{}\\_worst] 0\n",
       "\\item[concavity\\textbackslash{}\\_worst] 0\n",
       "\\item[points\\textbackslash{}\\_worst] 0\n",
       "\\item[symmetry\\textbackslash{}\\_worst] 0\n",
       "\\item[dimension\\textbackslash{}\\_worst] 0\n",
       "\\end{description*}\n"
      ],
      "text/markdown": [
       "diagnosis\n",
       ":   0radius_mean\n",
       ":   0texture_mean\n",
       ":   0perimeter_mean\n",
       ":   0area_mean\n",
       ":   0smoothness_mean\n",
       ":   0compactness_mean\n",
       ":   0concavity_mean\n",
       ":   0points_mean\n",
       ":   0symmetry_mean\n",
       ":   0dimension_mean\n",
       ":   0radius_se\n",
       ":   0texture_se\n",
       ":   0perimeter_se\n",
       ":   0area_se\n",
       ":   0smoothness_se\n",
       ":   0compactness_se\n",
       ":   0concavity_se\n",
       ":   0points_se\n",
       ":   0symmetry_se\n",
       ":   0dimension_se\n",
       ":   0radius_worst\n",
       ":   0texture_worst\n",
       ":   0perimeter_worst\n",
       ":   0area_worst\n",
       ":   0smoothness_worst\n",
       ":   0compactness_worst\n",
       ":   0concavity_worst\n",
       ":   0points_worst\n",
       ":   0symmetry_worst\n",
       ":   0dimension_worst\n",
       ":   0\n",
       "\n"
      ],
      "text/plain": [
       "        diagnosis       radius_mean      texture_mean    perimeter_mean \n",
       "                0                 0                 0                 0 \n",
       "        area_mean   smoothness_mean  compactness_mean    concavity_mean \n",
       "                0                 0                 0                 0 \n",
       "      points_mean     symmetry_mean    dimension_mean         radius_se \n",
       "                0                 0                 0                 0 \n",
       "       texture_se      perimeter_se           area_se     smoothness_se \n",
       "                0                 0                 0                 0 \n",
       "   compactness_se      concavity_se         points_se       symmetry_se \n",
       "                0                 0                 0                 0 \n",
       "     dimension_se      radius_worst     texture_worst   perimeter_worst \n",
       "                0                 0                 0                 0 \n",
       "       area_worst  smoothness_worst compactness_worst   concavity_worst \n",
       "                0                 0                 0                 0 \n",
       "     points_worst    symmetry_worst   dimension_worst \n",
       "                0                 0                 0 "
      ]
     },
     "metadata": {},
     "output_type": "display_data"
    }
   ],
   "source": [
    "apply(bcw_v2, 2, missing)"
   ]
  },
  {
   "cell_type": "code",
   "execution_count": 37,
   "metadata": {},
   "outputs": [
    {
     "name": "stdout",
     "output_type": "stream",
     "text": [
      "'data.frame':\t569 obs. of  31 variables:\n",
      " $ diagnosis        : chr  \"Benign\" \"Benign\" \"Benign\" \"Benign\" ...\n",
      " $ radius_mean      : num  12.3 10.6 11 11.3 15.2 ...\n",
      " $ texture_mean     : num  12.4 18.9 16.8 13.4 13.2 ...\n",
      " $ perimeter_mean   : num  78.8 69.3 70.9 73 97.7 ...\n",
      " $ area_mean        : num  464 346 373 385 712 ...\n",
      " $ smoothness_mean  : num  0.1028 0.0969 0.1077 0.1164 0.0796 ...\n",
      " $ compactness_mean : num  0.0698 0.1147 0.078 0.1136 0.0693 ...\n",
      " $ concavity_mean   : num  0.0399 0.0639 0.0305 0.0464 0.0339 ...\n",
      " $ points_mean      : num  0.037 0.0264 0.0248 0.048 0.0266 ...\n",
      " $ symmetry_mean    : num  0.196 0.192 0.171 0.177 0.172 ...\n",
      " $ dimension_mean   : num  0.0595 0.0649 0.0634 0.0607 0.0554 ...\n",
      " $ radius_se        : num  0.236 0.451 0.197 0.338 0.178 ...\n",
      " $ texture_se       : num  0.666 1.197 1.387 1.343 0.412 ...\n",
      " $ perimeter_se     : num  1.67 3.43 1.34 1.85 1.34 ...\n",
      " $ area_se          : num  17.4 27.1 13.5 26.3 17.7 ...\n",
      " $ smoothness_se    : num  0.00805 0.00747 0.00516 0.01127 0.00501 ...\n",
      " $ compactness_se   : num  0.0118 0.03581 0.00936 0.03498 0.01485 ...\n",
      " $ concavity_se     : num  0.0168 0.0335 0.0106 0.0219 0.0155 ...\n",
      " $ points_se        : num  0.01241 0.01365 0.00748 0.01965 0.00915 ...\n",
      " $ symmetry_se      : num  0.0192 0.035 0.0172 0.0158 0.0165 ...\n",
      " $ dimension_se     : num  0.00225 0.00332 0.0022 0.00344 0.00177 ...\n",
      " $ radius_worst     : num  13.5 11.9 12.4 11.9 16.2 ...\n",
      " $ texture_worst    : num  15.6 22.9 26.4 15.8 15.7 ...\n",
      " $ perimeter_worst  : num  87 78.3 79.9 76.5 104.5 ...\n",
      " $ area_worst       : num  549 425 471 434 819 ...\n",
      " $ smoothness_worst : num  0.139 0.121 0.137 0.137 0.113 ...\n",
      " $ compactness_worst: num  0.127 0.252 0.148 0.182 0.174 ...\n",
      " $ concavity_worst  : num  0.1242 0.1916 0.1067 0.0867 0.1362 ...\n",
      " $ points_worst     : num  0.0939 0.0793 0.0743 0.0861 0.0818 ...\n",
      " $ symmetry_worst   : num  0.283 0.294 0.3 0.21 0.249 ...\n",
      " $ dimension_worst  : num  0.0677 0.0759 0.0788 0.0678 0.0677 ...\n"
     ]
    }
   ],
   "source": [
    "# View the structure of the data\n",
    "str(bcw_v2)"
   ]
  },
  {
   "cell_type": "markdown",
   "metadata": {},
   "source": [
    "<div class=\"alert alert-danger\"></i><i class=\"icon-attention-alt\"></i><strong>Normalize all the numerical features and convert binary variables</strong><br>\n",
    "Normalization is the process of transforming a feature such that all of its values fall in a range between 0 and 1.\n",
    " </div>"
   ]
  },
  {
   "cell_type": "code",
   "execution_count": 15,
   "metadata": {},
   "outputs": [],
   "source": [
    "# Let us write a simple numalize function\n",
    "normalize <- function(x){\n",
    "     numerator <- x - min(x) \n",
    "     denorminator <-  max(x) - min(x)\n",
    "     return (numerator/denorminator) \n",
    "}"
   ]
  },
  {
   "cell_type": "code",
   "execution_count": 16,
   "metadata": {},
   "outputs": [],
   "source": [
    "# Apply the normalized function using the the lapply function to the dataset, excluding the\n",
    "# the class variable which is in the 5th column of the dataset\n",
    "normalized_bcw_v2 <- lapply(bcw_v2[, -1], normalize)"
   ]
  },
  {
   "cell_type": "code",
   "execution_count": 38,
   "metadata": {},
   "outputs": [],
   "source": [
    "normalized_bcw_v2 <- scale(bcw_v2[, -1])"
   ]
  },
  {
   "cell_type": "code",
   "execution_count": 39,
   "metadata": {},
   "outputs": [],
   "source": [
    "# Join the normalized features to the class variable\n",
    "normalized_bcw_v2 <- data.frame(diagnosis = bcw_v2[, 1], normalized_bcw_v2)"
   ]
  },
  {
   "cell_type": "code",
   "execution_count": 40,
   "metadata": {},
   "outputs": [
    {
     "name": "stdout",
     "output_type": "stream",
     "text": [
      "'data.frame':\t569 obs. of  31 variables:\n",
      " $ diagnosis        : Factor w/ 2 levels \"Benign\",\"Malignant\": 1 1 1 1 1 1 1 2 1 1 ...\n",
      " $ radius_mean      : num  -0.513 -1.001 -0.876 -0.808 0.302 ...\n",
      " $ texture_mean     : num  -1.604 -0.079 -0.572 -1.372 -1.414 ...\n",
      " $ perimeter_mean   : num  -0.54 -0.934 -0.866 -0.781 0.234 ...\n",
      " $ area_mean        : num  -0.542 -0.877 -0.8 -0.767 0.162 ...\n",
      " $ smoothness_mean  : num  0.458 0.037 0.806 1.425 -1.19 ...\n",
      " $ compactness_mean : num  -0.654 0.196 -0.498 0.175 -0.663 ...\n",
      " $ concavity_mean   : num  -0.614 -0.313 -0.732 -0.532 -0.688 ...\n",
      " $ points_mean      : num  -0.3072 -0.5798 -0.6216 -0.0247 -0.576 ...\n",
      " $ symmetry_mean    : num  0.538 0.403 -0.356 -0.148 -0.331 ...\n",
      " $ dimension_mean   : num  -0.46 0.2992 0.0853 -0.2943 -1.0421 ...\n",
      " $ radius_se        : num  -0.61 0.163 -0.752 -0.241 -0.818 ...\n",
      " $ texture_se       : num  -0.999 -0.036 0.308 0.229 -1.458 ...\n",
      " $ perimeter_se     : num  -0.592 0.279 -0.754 -0.502 -0.756 ...\n",
      " $ area_se          : num  -0.504 -0.291 -0.589 -0.308 -0.497 ...\n",
      " $ smoothness_se    : num  0.334 0.143 -0.627 1.408 -0.676 ...\n",
      " $ compactness_se   : num  -0.764 0.577 -0.9 0.531 -0.593 ...\n",
      " $ concavity_se     : num  -0.499 0.0545 -0.7067 -0.3321 -0.5428 ...\n",
      " $ points_se        : num  0.0995 0.3005 -0.699 1.2729 -0.428 ...\n",
      " $ symmetry_se      : num  -0.158 1.754 -0.407 -0.574 -0.493 ...\n",
      " $ dimension_se     : num  -0.585 -0.18 -0.604 -0.133 -0.766 ...\n",
      " $ radius_worst     : num  -0.5729 -0.9081 -0.7985 -0.8998 -0.0143 ...\n",
      " $ texture_worst    : num  -1.633 -0.445 0.124 -1.612 -1.618 ...\n",
      " $ perimeter_worst  : num  -0.6039 -0.8625 -0.8134 -0.9146 -0.0822 ...\n",
      " $ area_worst       : num  -0.582 -0.801 -0.719 -0.784 -0.108 ...\n",
      " $ smoothness_worst : num  0.269 -0.485 0.198 0.19 -0.866 ...\n",
      " $ compactness_worst: num  -0.8114 -0.0176 -0.6741 -0.458 -0.5121 ...\n",
      " $ concavity_worst  : num  -0.709 -0.386 -0.793 -0.889 -0.652 ...\n",
      " $ points_worst     : num  -0.315 -0.538 -0.613 -0.434 -0.499 ...\n",
      " $ symmetry_worst   : num  -0.1192 0.0634 0.1572 -1.2911 -0.6688 ...\n",
      " $ dimension_worst  : num  -0.899 -0.447 -0.284 -0.892 -0.902 ...\n"
     ]
    }
   ],
   "source": [
    "str(normalized_bcw_v2)"
   ]
  },
  {
   "cell_type": "code",
   "execution_count": 41,
   "metadata": {},
   "outputs": [
    {
     "name": "stdout",
     "output_type": "stream",
     "text": [
      "'data.frame':\t569 obs. of  31 variables:\n",
      " $ diagnosis        : Factor w/ 2 levels \"Benign\",\"Malignant\": 1 1 1 1 1 1 1 2 1 1 ...\n",
      " $ radius_mean      : num  -0.513 -1.001 -0.876 -0.808 0.302 ...\n",
      " $ texture_mean     : num  -1.604 -0.079 -0.572 -1.372 -1.414 ...\n",
      " $ perimeter_mean   : num  -0.54 -0.934 -0.866 -0.781 0.234 ...\n",
      " $ area_mean        : num  -0.542 -0.877 -0.8 -0.767 0.162 ...\n",
      " $ smoothness_mean  : num  0.458 0.037 0.806 1.425 -1.19 ...\n",
      " $ compactness_mean : num  -0.654 0.196 -0.498 0.175 -0.663 ...\n",
      " $ concavity_mean   : num  -0.614 -0.313 -0.732 -0.532 -0.688 ...\n",
      " $ points_mean      : num  -0.3072 -0.5798 -0.6216 -0.0247 -0.576 ...\n",
      " $ symmetry_mean    : num  0.538 0.403 -0.356 -0.148 -0.331 ...\n",
      " $ dimension_mean   : num  -0.46 0.2992 0.0853 -0.2943 -1.0421 ...\n",
      " $ radius_se        : num  -0.61 0.163 -0.752 -0.241 -0.818 ...\n",
      " $ texture_se       : num  -0.999 -0.036 0.308 0.229 -1.458 ...\n",
      " $ perimeter_se     : num  -0.592 0.279 -0.754 -0.502 -0.756 ...\n",
      " $ area_se          : num  -0.504 -0.291 -0.589 -0.308 -0.497 ...\n",
      " $ smoothness_se    : num  0.334 0.143 -0.627 1.408 -0.676 ...\n",
      " $ compactness_se   : num  -0.764 0.577 -0.9 0.531 -0.593 ...\n",
      " $ concavity_se     : num  -0.499 0.0545 -0.7067 -0.3321 -0.5428 ...\n",
      " $ points_se        : num  0.0995 0.3005 -0.699 1.2729 -0.428 ...\n",
      " $ symmetry_se      : num  -0.158 1.754 -0.407 -0.574 -0.493 ...\n",
      " $ dimension_se     : num  -0.585 -0.18 -0.604 -0.133 -0.766 ...\n",
      " $ radius_worst     : num  -0.5729 -0.9081 -0.7985 -0.8998 -0.0143 ...\n",
      " $ texture_worst    : num  -1.633 -0.445 0.124 -1.612 -1.618 ...\n",
      " $ perimeter_worst  : num  -0.6039 -0.8625 -0.8134 -0.9146 -0.0822 ...\n",
      " $ area_worst       : num  -0.582 -0.801 -0.719 -0.784 -0.108 ...\n",
      " $ smoothness_worst : num  0.269 -0.485 0.198 0.19 -0.866 ...\n",
      " $ compactness_worst: num  -0.8114 -0.0176 -0.6741 -0.458 -0.5121 ...\n",
      " $ concavity_worst  : num  -0.709 -0.386 -0.793 -0.889 -0.652 ...\n",
      " $ points_worst     : num  -0.315 -0.538 -0.613 -0.434 -0.499 ...\n",
      " $ symmetry_worst   : num  -0.1192 0.0634 0.1572 -1.2911 -0.6688 ...\n",
      " $ dimension_worst  : num  -0.899 -0.447 -0.284 -0.892 -0.902 ...\n"
     ]
    }
   ],
   "source": [
    "str(normalized_bcw_v2)"
   ]
  },
  {
   "cell_type": "code",
   "execution_count": 42,
   "metadata": {},
   "outputs": [
    {
     "data": {
      "text/plain": [
       "     diagnosis    radius_mean       texture_mean     perimeter_mean   \n",
       " Benign   :357   Min.   :-2.0279   Min.   :-2.2273   Min.   :-1.9828  \n",
       " Malignant:212   1st Qu.:-0.6888   1st Qu.:-0.7253   1st Qu.:-0.6913  \n",
       "                 Median :-0.2149   Median :-0.1045   Median :-0.2358  \n",
       "                 Mean   : 0.0000   Mean   : 0.0000   Mean   : 0.0000  \n",
       "                 3rd Qu.: 0.4690   3rd Qu.: 0.5837   3rd Qu.: 0.4992  \n",
       "                 Max.   : 3.9678   Max.   : 4.6478   Max.   : 3.9726  \n",
       "   area_mean       smoothness_mean    compactness_mean  concavity_mean   \n",
       " Min.   :-1.4532   Min.   :-3.10935   Min.   :-1.6087   Min.   :-1.1139  \n",
       " 1st Qu.:-0.6666   1st Qu.:-0.71034   1st Qu.:-0.7464   1st Qu.:-0.7431  \n",
       " Median :-0.2949   Median :-0.03486   Median :-0.2217   Median :-0.3419  \n",
       " Mean   : 0.0000   Mean   : 0.00000   Mean   : 0.0000   Mean   : 0.0000  \n",
       " 3rd Qu.: 0.3632   3rd Qu.: 0.63564   3rd Qu.: 0.4934   3rd Qu.: 0.5256  \n",
       " Max.   : 5.2459   Max.   : 4.76672   Max.   : 4.5644   Max.   : 4.2399  \n",
       "  points_mean      symmetry_mean      dimension_mean      radius_se      \n",
       " Min.   :-1.2607   Min.   :-2.74171   Min.   :-1.8183   Min.   :-1.0590  \n",
       " 1st Qu.:-0.7373   1st Qu.:-0.70262   1st Qu.:-0.7220   1st Qu.:-0.6230  \n",
       " Median :-0.3974   Median :-0.07156   Median :-0.1781   Median :-0.2920  \n",
       " Mean   : 0.0000   Mean   : 0.00000   Mean   : 0.0000   Mean   : 0.0000  \n",
       " 3rd Qu.: 0.6464   3rd Qu.: 0.53031   3rd Qu.: 0.4706   3rd Qu.: 0.2659  \n",
       " Max.   : 3.9245   Max.   : 4.48081   Max.   : 4.9066   Max.   : 8.8991  \n",
       "   texture_se       perimeter_se        area_se        smoothness_se    \n",
       " Min.   :-1.5529   Min.   :-1.0431   Min.   :-0.7372   Min.   :-1.7745  \n",
       " 1st Qu.:-0.6942   1st Qu.:-0.6232   1st Qu.:-0.4943   1st Qu.:-0.6235  \n",
       " Median :-0.1973   Median :-0.2864   Median :-0.3475   Median :-0.2201  \n",
       " Mean   : 0.0000   Mean   : 0.0000   Mean   : 0.0000   Mean   : 0.0000  \n",
       " 3rd Qu.: 0.4661   3rd Qu.: 0.2428   3rd Qu.: 0.1067   3rd Qu.: 0.3680  \n",
       " Max.   : 6.6494   Max.   : 9.4537   Max.   :11.0321   Max.   : 8.0229  \n",
       " compactness_se     concavity_se       points_se        symmetry_se     \n",
       " Min.   :-1.2970   Min.   :-1.0566   Min.   :-1.9118   Min.   :-1.5315  \n",
       " 1st Qu.:-0.6923   1st Qu.:-0.5567   1st Qu.:-0.6739   1st Qu.:-0.6511  \n",
       " Median :-0.2808   Median :-0.1989   Median :-0.1404   Median :-0.2192  \n",
       " Mean   : 0.0000   Mean   : 0.0000   Mean   : 0.0000   Mean   : 0.0000  \n",
       " 3rd Qu.: 0.3893   3rd Qu.: 0.3365   3rd Qu.: 0.4722   3rd Qu.: 0.3554  \n",
       " Max.   : 6.1381   Max.   :12.0621   Max.   : 6.6438   Max.   : 7.0657  \n",
       "  dimension_se      radius_worst     texture_worst      perimeter_worst  \n",
       " Min.   :-1.0960   Min.   :-1.7254   Min.   :-2.22204   Min.   :-1.6919  \n",
       " 1st Qu.:-0.5846   1st Qu.:-0.6743   1st Qu.:-0.74797   1st Qu.:-0.6890  \n",
       " Median :-0.2297   Median :-0.2688   Median :-0.04348   Median :-0.2857  \n",
       " Mean   : 0.0000   Mean   : 0.0000   Mean   : 0.00000   Mean   : 0.0000  \n",
       " 3rd Qu.: 0.2884   3rd Qu.: 0.5216   3rd Qu.: 0.65776   3rd Qu.: 0.5398  \n",
       " Max.   : 9.8429   Max.   : 4.0906   Max.   : 3.88249   Max.   : 4.2836  \n",
       "   area_worst      smoothness_worst  compactness_worst concavity_worst  \n",
       " Min.   :-1.2213   Min.   :-2.6803   Min.   :-1.4426   Min.   :-1.3047  \n",
       " 1st Qu.:-0.6416   1st Qu.:-0.6906   1st Qu.:-0.6805   1st Qu.:-0.7558  \n",
       " Median :-0.3409   Median :-0.0468   Median :-0.2693   Median :-0.2180  \n",
       " Mean   : 0.0000   Mean   : 0.0000   Mean   : 0.0000   Mean   : 0.0000  \n",
       " 3rd Qu.: 0.3573   3rd Qu.: 0.5970   3rd Qu.: 0.5392   3rd Qu.: 0.5307  \n",
       " Max.   : 5.9250   Max.   : 3.9519   Max.   : 5.1084   Max.   : 4.6965  \n",
       "  points_worst     symmetry_worst    dimension_worst  \n",
       " Min.   :-1.7435   Min.   :-2.1591   Min.   :-1.6004  \n",
       " 1st Qu.:-0.7557   1st Qu.:-0.6413   1st Qu.:-0.6913  \n",
       " Median :-0.2233   Median :-0.1273   Median :-0.2163  \n",
       " Mean   : 0.0000   Mean   : 0.0000   Mean   : 0.0000  \n",
       " 3rd Qu.: 0.7119   3rd Qu.: 0.4497   3rd Qu.: 0.4504  \n",
       " Max.   : 2.6835   Max.   : 6.0407   Max.   : 6.8408  "
      ]
     },
     "metadata": {},
     "output_type": "display_data"
    }
   ],
   "source": [
    "# view the structure. We see that all the features are in shape of the knn build process\n",
    "summary(normalized_bcw_v2)"
   ]
  },
  {
   "cell_type": "markdown",
   "metadata": {},
   "source": [
    "<div class=\"alert alert-success\"></i><strong><h3>1.2 Training and Testing Data Split</h3></strong><br>"
   ]
  },
  {
   "cell_type": "code",
   "execution_count": 43,
   "metadata": {},
   "outputs": [],
   "source": [
    "library(caret, verbose = FALSE, quietly = T)\n",
    "set.seed(100)\n",
    "\n",
    "train_rows <- createDataPartition(normalized_bcw_v2$diagnosis, p=0.7, list=F)\n",
    "normalized_bcw_v2_train <- normalized_bcw_v2[train_rows, ]\n",
    "normalized_bcw_v2_test <- normalized_bcw_v2[-train_rows, ]"
   ]
  },
  {
   "cell_type": "markdown",
   "metadata": {},
   "source": [
    "<div class=\"alert alert-success\"></i><strong><h3>1.3 Train the Model</h3></strong><br>"
   ]
  },
  {
   "cell_type": "code",
   "execution_count": 64,
   "metadata": {},
   "outputs": [],
   "source": [
    "library(class)  # for the knn function\n",
    "\n",
    "bcw_v2_knn <- knn(normalized_bcw_v2_train[, -1], \n",
    "                          normalized_bcw_v2_test[, -1], normalized_bcw_v2_train[, 1], k=4)"
   ]
  },
  {
   "cell_type": "code",
   "execution_count": 65,
   "metadata": {},
   "outputs": [
    {
     "data": {
      "text/plain": [
       "           \n",
       "bcw_v2_knn  Benign Malignant\n",
       "  Benign       106         5\n",
       "  Malignant      1        58"
      ]
     },
     "metadata": {},
     "output_type": "display_data"
    }
   ],
   "source": [
    "# check the accuracy\n",
    "table(bcw_v2_knn,normalized_bcw_v2_test$diagnosis)"
   ]
  },
  {
   "cell_type": "markdown",
   "metadata": {},
   "source": [
    "<div class=\"alert alert-success\"></i><strong><h3>1.4 Model validation</h3></strong><br>"
   ]
  },
  {
   "cell_type": "code",
   "execution_count": 55,
   "metadata": {},
   "outputs": [
    {
     "data": {
      "text/plain": [
       "Confusion Matrix and Statistics\n",
       "\n",
       "           \n",
       "bcw_v2_knn  Benign Malignant\n",
       "  Benign       106         5\n",
       "  Malignant      1        58\n",
       "                                          \n",
       "               Accuracy : 0.9647          \n",
       "                 95% CI : (0.9248, 0.9869)\n",
       "    No Information Rate : 0.6294          \n",
       "    P-Value [Acc > NIR] : <2e-16          \n",
       "                                          \n",
       "                  Kappa : 0.9233          \n",
       " Mcnemar's Test P-Value : 0.2207          \n",
       "                                          \n",
       "            Sensitivity : 0.9206          \n",
       "            Specificity : 0.9907          \n",
       "         Pos Pred Value : 0.9831          \n",
       "         Neg Pred Value : 0.9550          \n",
       "             Prevalence : 0.3706          \n",
       "         Detection Rate : 0.3412          \n",
       "   Detection Prevalence : 0.3471          \n",
       "      Balanced Accuracy : 0.9556          \n",
       "                                          \n",
       "       'Positive' Class : Malignant       \n",
       "                                          "
      ]
     },
     "metadata": {},
     "output_type": "display_data"
    }
   ],
   "source": [
    "library(e1071, verbose = FALSE, quietly = T)\n",
    "# check the accuracy (a package called caret need to be installed to use the \n",
    "# confusinMatrix function below)\n",
    "confusionMatrix(table(bcw_v2_knn, normalized_bcw_v2_test$diagnosis), positive=\"Malignant\")"
   ]
  },
  {
   "cell_type": "markdown",
   "metadata": {},
   "source": [
    "<div class=\"alert alert-info\"><i class=\"icon-lightbulb\"></i>\n",
    "Earlier we choose a $k$ value of 37, Is this the value that would give the best accuracy?<br><br>\n",
    "Let's apply an automation technique to obtain the best $k$ value\n",
    "</div>"
   ]
  },
  {
   "cell_type": "markdown",
   "metadata": {},
   "source": [
    "<div class=\"alert alert-success\"></i><strong><h3>1.5 Hyper parameters tuning</h3></strong><br>"
   ]
  },
  {
   "cell_type": "code",
   "execution_count": 49,
   "metadata": {},
   "outputs": [],
   "source": [
    "# let us set a series of k values to choose the k value with the highest accuracy\n",
    "tunegrid <- expand.grid(.k = seq(2,24, by=1)) \n",
    "\n",
    "# Set the train control as cross validation\n",
    "control <- trainControl(method=\"cv\")\n",
    "\n",
    "# Use this code for reproducibility\n",
    "set.seed(102)"
   ]
  },
  {
   "cell_type": "code",
   "execution_count": 30,
   "metadata": {},
   "outputs": [
    {
     "data": {
      "text/html": [
       "<ol class=list-inline>\n",
       "\t<li>2</li>\n",
       "\t<li>4</li>\n",
       "\t<li>6</li>\n",
       "\t<li>8</li>\n",
       "\t<li>10</li>\n",
       "\t<li>12</li>\n",
       "\t<li>14</li>\n",
       "\t<li>16</li>\n",
       "\t<li>18</li>\n",
       "\t<li>20</li>\n",
       "\t<li>22</li>\n",
       "\t<li>24</li>\n",
       "\t<li>26</li>\n",
       "\t<li>28</li>\n",
       "\t<li>30</li>\n",
       "\t<li>32</li>\n",
       "\t<li>34</li>\n",
       "\t<li>36</li>\n",
       "\t<li>38</li>\n",
       "</ol>\n"
      ],
      "text/latex": [
       "\\begin{enumerate*}\n",
       "\\item 2\n",
       "\\item 4\n",
       "\\item 6\n",
       "\\item 8\n",
       "\\item 10\n",
       "\\item 12\n",
       "\\item 14\n",
       "\\item 16\n",
       "\\item 18\n",
       "\\item 20\n",
       "\\item 22\n",
       "\\item 24\n",
       "\\item 26\n",
       "\\item 28\n",
       "\\item 30\n",
       "\\item 32\n",
       "\\item 34\n",
       "\\item 36\n",
       "\\item 38\n",
       "\\end{enumerate*}\n"
      ],
      "text/markdown": [
       "1. 2\n",
       "2. 4\n",
       "3. 6\n",
       "4. 8\n",
       "5. 10\n",
       "6. 12\n",
       "7. 14\n",
       "8. 16\n",
       "9. 18\n",
       "10. 20\n",
       "11. 22\n",
       "12. 24\n",
       "13. 26\n",
       "14. 28\n",
       "15. 30\n",
       "16. 32\n",
       "17. 34\n",
       "18. 36\n",
       "19. 38\n",
       "\n",
       "\n"
      ],
      "text/plain": [
       " [1]  2  4  6  8 10 12 14 16 18 20 22 24 26 28 30 32 34 36 38"
      ]
     },
     "metadata": {},
     "output_type": "display_data"
    }
   ],
   "source": [
    "seq(2,38, by=2)"
   ]
  },
  {
   "cell_type": "code",
   "execution_count": 50,
   "metadata": {},
   "outputs": [],
   "source": [
    "# Build the train model\n",
    "knn.train <- train(diagnosis ~., data = normalized_bcw_v2_train, method=\"knn\", \n",
    "                   trControl=control, tuneGrid=tunegrid) "
   ]
  },
  {
   "cell_type": "code",
   "execution_count": 51,
   "metadata": {},
   "outputs": [
    {
     "data": {
      "text/plain": [
       "k-Nearest Neighbors \n",
       "\n",
       "399 samples\n",
       " 30 predictor\n",
       "  2 classes: 'Benign', 'Malignant' \n",
       "\n",
       "No pre-processing\n",
       "Resampling: Cross-Validated (10 fold) \n",
       "Summary of sample sizes: 359, 359, 359, 359, 359, 359, ... \n",
       "Resampling results across tuning parameters:\n",
       "\n",
       "  k   Accuracy   Kappa    \n",
       "   2  0.9473718  0.8881908\n",
       "   3  0.9624359  0.9185080\n",
       "   4  0.9649359  0.9240513\n",
       "   5  0.9524359  0.8967422\n",
       "   6  0.9574359  0.9071127\n",
       "   7  0.9524359  0.8961538\n",
       "   8  0.9574359  0.9072608\n",
       "   9  0.9549359  0.9016932\n",
       "  10  0.9499359  0.8911789\n",
       "  11  0.9550000  0.9021045\n",
       "  12  0.9549359  0.9012630\n",
       "  13  0.9549359  0.9017073\n",
       "  14  0.9550000  0.9016602\n",
       "  15  0.9524359  0.8959998\n",
       "  16  0.9524359  0.8961538\n",
       "  17  0.9549359  0.9012630\n",
       "  18  0.9549359  0.9012630\n",
       "  19  0.9549359  0.9012630\n",
       "  20  0.9575000  0.9069234\n",
       "  21  0.9575000  0.9069234\n",
       "  22  0.9549359  0.9012630\n",
       "  23  0.9549359  0.9012630\n",
       "  24  0.9549359  0.9012630\n",
       "\n",
       "Accuracy was used to select the optimal model using the largest value.\n",
       "The final value used for the model was k = 4."
      ]
     },
     "metadata": {},
     "output_type": "display_data"
    }
   ],
   "source": [
    "# summary\n",
    "knn.train"
   ]
  },
  {
   "cell_type": "code",
   "execution_count": 52,
   "metadata": {},
   "outputs": [
    {
     "data": {},
     "metadata": {},
     "output_type": "display_data"
    },
    {
     "data": {
      "image/png": "[encoded data removed]",
      "text/plain": [
       "plot without title"
      ]
     },
     "metadata": {},
     "output_type": "display_data"
    }
   ],
   "source": [
    "# plot the model to see the optimal value of k with high accuracy\n",
    "options(repr.plot.width=6, repr.plot.height=4)\n",
    "plot(knn.train, main = \"Optimal value of k plot\", col = 'red', pch=19)"
   ]
  },
  {
   "cell_type": "markdown",
   "metadata": {},
   "source": [
    "#### haven gotten our $k$, let us re-build the process again"
   ]
  },
  {
   "cell_type": "markdown",
   "metadata": {},
   "source": [
    "<div class=\"alert alert-success\"></i><strong><h3>1.6 Re-Train the Model [Part 2]</h3></strong><br>"
   ]
  },
  {
   "cell_type": "markdown",
   "metadata": {},
   "source": [
    "<div class=\"alert alert-danger\"></i><i class=\"icon-attention-alt\"></i>\n",
    "As a rule, always choose an odd number for k, so there will always be a winner in the voting process of the algorithm. Though k = 10 was detected by our model, we go with 9, since its close to 10, its odd and does have high accuracy as well.\n",
    " </div>"
   ]
  },
  {
   "cell_type": "code",
   "execution_count": 35,
   "metadata": {},
   "outputs": [],
   "source": [
    "# let us rebuild the model with with the optimal k value\n",
    "fake_bank_note_knn <- knn(fake_bank_note_train[, -5], fake_bank_note_test[, -5], \n",
    "                          fake_bank_note_train[, 5], k=9)"
   ]
  },
  {
   "cell_type": "markdown",
   "metadata": {},
   "source": [
    "<div class=\"alert alert-success\"></i><strong><h3>1.7 Model Re-validation [Part 2]</h3></strong><br>"
   ]
  },
  {
   "cell_type": "code",
   "execution_count": 36,
   "metadata": {},
   "outputs": [
    {
     "data": {
      "text/plain": [
       "Confusion Matrix and Statistics\n",
       "\n",
       "                  \n",
       "fake_bank_note_knn   0   1\n",
       "                 0 228   0\n",
       "                 1   0 183\n",
       "                                     \n",
       "               Accuracy : 1          \n",
       "                 95% CI : (0.9911, 1)\n",
       "    No Information Rate : 0.5547     \n",
       "    P-Value [Acc > NIR] : < 2.2e-16  \n",
       "                                     \n",
       "                  Kappa : 1          \n",
       " Mcnemar's Test P-Value : NA         \n",
       "                                     \n",
       "            Sensitivity : 1.0000     \n",
       "            Specificity : 1.0000     \n",
       "         Pos Pred Value : 1.0000     \n",
       "         Neg Pred Value : 1.0000     \n",
       "             Prevalence : 0.5547     \n",
       "         Detection Rate : 0.5547     \n",
       "   Detection Prevalence : 0.5547     \n",
       "      Balanced Accuracy : 1.0000     \n",
       "                                     \n",
       "       'Positive' Class : 0          \n",
       "                                     "
      ]
     },
     "metadata": {},
     "output_type": "display_data"
    }
   ],
   "source": [
    "# Evaluate the model\n",
    "confusionMatrix(table(fake_bank_note_knn, fake_bank_note_test$class))"
   ]
  },
  {
   "cell_type": "code",
   "execution_count": null,
   "metadata": {},
   "outputs": [],
   "source": [
    "# Predict out of sample data\n",
    "test_data_pred <- predict(knn.train, newdata = fake_bank_note_test[, -5])\n",
    "test_data_pred"
   ]
  },
  {
   "cell_type": "code",
   "execution_count": null,
   "metadata": {},
   "outputs": [],
   "source": [
    "# put in a data frame.\n",
    "compare_data <- data.frame(fake_bank_note_test,test_data_pred)\n",
    "head(compare_data)"
   ]
  },
  {
   "cell_type": "markdown",
   "metadata": {},
   "source": [
    "<div class=\"alert alert-danger\"></i><strong><center><h1>Class Project</h1></center></strong>\n",
    "\n",
    "You have just got a Data Scientist role at the NHS and have been tasked to develop a process to screen assist clinician/Doctors\n",
    "diagnosed breast cancer symptoms in patients so as to start treatment prior to it causing noticeable symptoms.<br><br>\n",
    "\n",
    "You have been provided with a data file \"breast-cancer-wisconsin.csv\" for this project. Use ONLY K-Nearest Neighbors (KNN) for this task.</div>"
   ]
  },
  {
   "cell_type": "markdown",
   "metadata": {},
   "source": [
    "<div class=\"alert alert-success\"></i><strong>Solution Steps:</strong>\n",
    "    <ul>\n",
    "        <li>Read in the Data</li>\n",
    "        <li>Exploratory Data Analysis</li>\n",
    "        <li>Train the Model</li>\n",
    "        <li>Model validation</li>\n",
    "        <li>Hyper parameters tuning</li>\n",
    "    </ul>\n",
    "</div>"
   ]
  },
  {
   "cell_type": "markdown",
   "metadata": {},
   "source": [
    "# End"
   ]
  }
 ],
 "metadata": {
  "kernelspec": {
   "display_name": "R 3.5",
   "language": "R",
   "name": "ir35"
  },
  "language_info": {
   "codemirror_mode": "r",
   "file_extension": ".r",
   "mimetype": "text/x-r-source",
   "name": "R",
   "pygments_lexer": "r",
   "version": "3.5.1"
  }
 },
 "nbformat": 4,
 "nbformat_minor": 2
}
