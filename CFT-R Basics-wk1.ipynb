{
 "cells": [
  {
   "cell_type": "markdown",
   "metadata": {},
   "source": [
    "<div class=\"alert alert-warning\"></i><strong>CFT Data Science With R Tutorials</strong><br>By: Seiya David \n",
    " </div>"
   ]
  },
  {
   "cell_type": "markdown",
   "metadata": {},
   "source": [
    " <div class=\"alert alert-success\"></i><strong>1.0 What is R</strong>\n",
    " </div>\n",
    "R is a language for statistical computing and graphics as well as an environment within which statistical techniques are implemented.R is equiped with wide verity of advance statistical, Mathematical and graphical techniques and is the number choice for research in statistical methodology and it's an Open Source application (i.e free to download).\n",
    "R compiles and runs on a wide variety of Operating Systems such as Linux, Windows and MacOS.\n",
    "\n",
    " <div class=\"alert alert-success\"></i><strong>1.1 Installation of R</strong>\n",
    " </div>\n",
    "To get R installed on your machine click on the appropirate link below and follow the instructions\n",
    "* [For Windows Computer](https://cran.r-project.org/bin/windows/base/)\n",
    "* [For Mac OS X Computer](https://cran.r-project.org/bin/macosx/)\n",
    "\n",
    "When the Base R installation is complete, click on the following link below to install RStudio<br>\n",
    "* [Download RStudio](https://www.rstudio.com/products/rstudio/download/)\n",
    "*Note: RStudio is an IDE(Integrated Development Enviroment) that ehances programming in Rwith rich intellicence and more*"
   ]
  },
  {
   "cell_type": "markdown",
   "metadata": {},
   "source": [
    "<div class=\"alert alert-success\"></i><strong>1.2 Getting started with packages</strong>\n",
    " </div>\n",
    "An R package is a collection of functions(code), data, and documentations. Packages can be downloaded from a \n",
    "repository called CRAN Comprehensive R Archive Network\n",
    "* Note: *One's computer need to be connnected to the internet to download R packages*\n",
    "\n",
    "<div class=\"alert alert-success\"></i><strong>1.3 Installing a package or packages</strong>\n",
    " </div>\n",
    "For this demonstration, we will install a packages called ggplot2 (required for ploting static charts). Don't worry if you don't know what this package does at the moment, we will explore more of this package and more as we make progress. To install a package,\n",
    "Open your RStudio IDE and type the below code on the console, hit the Enter button/key and wait for the package to install:<br>\n",
    "* install.packages(\"ggplot2\", dependencies = TRUE)\n",
    "\n",
    "if you which to install multiple R packages at once, type the syntax into the console and hit the Enter key<br>\n",
    "* install.packages(c(\"ggplot2\",\"dplr\"))\n",
    "\n",
    "<div class=\"alert alert-success\"></i><strong>1.4 Loading a package</strong>\n",
    " </div>\n",
    "To load an R package, use any of the three syntaxes below. For this demonstration, I will load ggplot2 package<br>\n",
    "* library(ggplot2) <br>\n",
    "* library(\"ggplot2\") <br>\n",
    "* require(ggplot2) <br>\n",
    "* Click the checkbox next to the package on the file pane\n",
    "\n",
    "<div class=\"alert alert-success\"></i><strong>1.5 Getting help for a package or function</strong>\n",
    " </div>\n",
    "If you are a bit confused or need clarity on a package, use any of the following syntaxes<br>\n",
    "* help(ggplot2) <br>\n",
    "* ?ggplot2 <br>\n",
    "* or simply highlight the function or package and press the F1 key"
   ]
  },
  {
   "cell_type": "code",
   "execution_count": null,
   "metadata": {},
   "outputs": [],
   "source": [
    "# Run the code just below to see a list of installed packages. This\n",
    "# may take a while\n",
    "library()"
   ]
  },
  {
   "cell_type": "code",
   "execution_count": 2,
   "metadata": {},
   "outputs": [
    {
     "data": {
      "text/html": [
       "<ol class=list-inline>\n",
       "\t<li>'.GlobalEnv'</li>\n",
       "\t<li>'jupyter:irkernel'</li>\n",
       "\t<li>'package:stats'</li>\n",
       "\t<li>'package:graphics'</li>\n",
       "\t<li>'package:grDevices'</li>\n",
       "\t<li>'package:utils'</li>\n",
       "\t<li>'package:datasets'</li>\n",
       "\t<li>'package:methods'</li>\n",
       "\t<li>'Autoloads'</li>\n",
       "\t<li>'package:base'</li>\n",
       "</ol>\n"
      ],
      "text/latex": [
       "\\begin{enumerate*}\n",
       "\\item '.GlobalEnv'\n",
       "\\item 'jupyter:irkernel'\n",
       "\\item 'package:stats'\n",
       "\\item 'package:graphics'\n",
       "\\item 'package:grDevices'\n",
       "\\item 'package:utils'\n",
       "\\item 'package:datasets'\n",
       "\\item 'package:methods'\n",
       "\\item 'Autoloads'\n",
       "\\item 'package:base'\n",
       "\\end{enumerate*}\n"
      ],
      "text/markdown": [
       "1. '.GlobalEnv'\n",
       "2. 'jupyter:irkernel'\n",
       "3. 'package:stats'\n",
       "4. 'package:graphics'\n",
       "5. 'package:grDevices'\n",
       "6. 'package:utils'\n",
       "7. 'package:datasets'\n",
       "8. 'package:methods'\n",
       "9. 'Autoloads'\n",
       "10. 'package:base'\n",
       "\n",
       "\n"
      ],
      "text/plain": [
       " [1] \".GlobalEnv\"        \"jupyter:irkernel\"  \"package:stats\"    \n",
       " [4] \"package:graphics\"  \"package:grDevices\" \"package:utils\"    \n",
       " [7] \"package:datasets\"  \"package:methods\"   \"Autoloads\"        \n",
       "[10] \"package:base\"     "
      ]
     },
     "metadata": {},
     "output_type": "display_data"
    }
   ],
   "source": [
    "# Run the code just below to see a list of packages that \n",
    "# are currently loaded\n",
    "search()"
   ]
  },
  {
   "cell_type": "markdown",
   "metadata": {},
   "source": [
    "**Note:** *By default when R or RStudio is opened, some packages get loaded behind the scene*"
   ]
  },
  {
   "cell_type": "markdown",
   "metadata": {},
   "source": [
    "<div class=\"alert alert-success\"></i><strong>1.6 Assignment Operator</strong><br>The <- symbol is called the assignment operator and used to assign elements to an object\n",
    "\n",
    " </div>"
   ]
  },
  {
   "cell_type": "markdown",
   "metadata": {},
   "source": [
    "<div class=\"alert alert-success\"></i><strong>1.7 Comments</strong><br>\n",
    "The hash-tag or pound symbol/character (#) indicates a start of a comment. Anything to the right of the # (including the # itself) is not run.\n",
    "This is the only comment character in R. Unlike some other languages, R does not support multi-line comments or comment blocks.That is to say every line of comments must start with the # symbol.\n",
    " </div>"
   ]
  },
  {
   "cell_type": "markdown",
   "metadata": {},
   "source": [
    "<div class=\"alert alert-success\"></i><strong>2.1 Basic Arithmetic Operation</strong>\n",
    " </div>"
   ]
  },
  {
   "cell_type": "code",
   "execution_count": 3,
   "metadata": {},
   "outputs": [
    {
     "data": {
      "text/html": [
       "4"
      ],
      "text/latex": [
       "4"
      ],
      "text/markdown": [
       "4"
      ],
      "text/plain": [
       "[1] 4"
      ]
     },
     "metadata": {},
     "output_type": "display_data"
    }
   ],
   "source": [
    "# On your Console type the following\n",
    "# Note: Any text after the HASH-TAG (#) is a comment in R and \n",
    "# will not be executed.\n",
    "\n",
    "# This is a basic addition problem\n",
    "2 + 2 "
   ]
  },
  {
   "cell_type": "code",
   "execution_count": 4,
   "metadata": {},
   "outputs": [
    {
     "data": {
      "text/html": [
       "3"
      ],
      "text/latex": [
       "3"
      ],
      "text/markdown": [
       "3"
      ],
      "text/plain": [
       "[1] 3"
      ]
     },
     "metadata": {},
     "output_type": "display_data"
    }
   ],
   "source": [
    "# Divison\n",
    "9/3"
   ]
  },
  {
   "cell_type": "code",
   "execution_count": 5,
   "metadata": {},
   "outputs": [
    {
     "data": {
      "text/html": [
       "1"
      ],
      "text/latex": [
       "1"
      ],
      "text/markdown": [
       "1"
      ],
      "text/plain": [
       "[1] 1"
      ]
     },
     "metadata": {},
     "output_type": "display_data"
    }
   ],
   "source": [
    "# %% notation is called modelus operator. The output would be the \n",
    "# remainder when two divides nine\n",
    "9 %% 2"
   ]
  },
  {
   "cell_type": "code",
   "execution_count": 6,
   "metadata": {},
   "outputs": [
    {
     "data": {
      "text/html": [
       "1000"
      ],
      "text/latex": [
       "1000"
      ],
      "text/markdown": [
       "1000"
      ],
      "text/plain": [
       "[1] 1000"
      ]
     },
     "metadata": {},
     "output_type": "display_data"
    }
   ],
   "source": [
    "# ^ is the exponent operator, the expression is read \n",
    "# 10 raised to power 3 or 10 X 10 X 10 = 1000\n",
    "10^3"
   ]
  },
  {
   "cell_type": "code",
   "execution_count": 7,
   "metadata": {},
   "outputs": [
    {
     "data": {
      "text/html": [
       "9"
      ],
      "text/latex": [
       "9"
      ],
      "text/markdown": [
       "9"
      ],
      "text/plain": [
       "[1] 9"
      ]
     },
     "metadata": {},
     "output_type": "display_data"
    }
   ],
   "source": [
    "# Multiplication\n",
    "3*3"
   ]
  },
  {
   "cell_type": "markdown",
   "metadata": {},
   "source": [
    "<div class=\"alert alert-danger\"></i></i><strong>Try it out</strong><br>What will the result be for the expression below?<br>3 + 4 * 5 + 4<br>\n",
    "</div>"
   ]
  },
  {
   "cell_type": "code",
   "execution_count": 8,
   "metadata": {},
   "outputs": [
    {
     "data": {
      "text/html": [
       "2.30258509299405"
      ],
      "text/latex": [
       "2.30258509299405"
      ],
      "text/markdown": [
       "2.30258509299405"
      ],
      "text/plain": [
       "[1] 2.302585"
      ]
     },
     "metadata": {},
     "output_type": "display_data"
    }
   ],
   "source": [
    "# log of 10\n",
    "log(10) "
   ]
  },
  {
   "cell_type": "code",
   "execution_count": 9,
   "metadata": {},
   "outputs": [
    {
     "data": {
      "text/html": [
       "2.303"
      ],
      "text/latex": [
       "2.303"
      ],
      "text/markdown": [
       "2.303"
      ],
      "text/plain": [
       "[1] 2.303"
      ]
     },
     "metadata": {},
     "output_type": "display_data"
    }
   ],
   "source": [
    "# To round up the output above to 4 decimal places, \n",
    "# we used the function 'round' with an extra augument\n",
    "# for the decimal place\n",
    "\n",
    "# The 4 signifies the number of decimal places I want, \n",
    "# experiment with different number\n",
    "round(log(10),3) "
   ]
  },
  {
   "cell_type": "code",
   "execution_count": 10,
   "metadata": {},
   "outputs": [
    {
     "data": {
      "text/html": [
       "6.129"
      ],
      "text/latex": [
       "6.129"
      ],
      "text/markdown": [
       "6.129"
      ],
      "text/plain": [
       "[1] 6.129"
      ]
     },
     "metadata": {},
     "output_type": "display_data"
    }
   ],
   "source": [
    "# log base 2 of 70\n",
    "round(log2(70),3)"
   ]
  },
  {
   "cell_type": "markdown",
   "metadata": {},
   "source": [
    "<div class=\"alert alert-success\"></i><strong>3.0 R Objects/Data Structures</strong><br>\n",
    "R has five core classes of objects:<br>\n",
    "<ul>\n",
    "<li>Vector</li>\n",
    "<li>Matrix</li>\n",
    "<li>Data Frame</li>\n",
    "<li>list</li>\n",
    "</div>\n",
    "\n",
    "<div class=\"alert alert-success\"></i><strong>3.1 Vectors:</strong>\n",
    "A vector is an ordered one dimensional array which could hold character, logical, integer **OR** numeric data, this implies that a vector can only contain objects of the same class.However, there is an there is an exception, which is a list\n",
    "\n",
    "I will now show what each of the vector types look like\n",
    "</div>"
   ]
  },
  {
   "cell_type": "code",
   "execution_count": 11,
   "metadata": {},
   "outputs": [
    {
     "name": "stdout",
     "output_type": "stream",
     "text": [
      "[1] \"Mon\" \"Tue\" \"Wed\" \"Thr\" \"Fri\" \"Sat\" \"Sun\"\n",
      "[1] \"character\"\n",
      "[1] 7\n"
     ]
    }
   ],
   "source": [
    "# Character Vector\n",
    "# When building a vector manually,the c() function \n",
    "# (which stands for COMBINE) is used when there are more \n",
    "# than one elements.\n",
    "\n",
    "# The 'charVec' word is called an Object and would be a container to \n",
    "# store the combined data.\n",
    "# The '<-' is called an assignment operator, though the equal sign \n",
    "# could be used but it's considered a bad coding practice in R.\n",
    "charVec<- c(\"Mon\",\"Tue\",\"Wed\",\"Thr\",\"Fri\",\"Sat\",\"Sun\")\n",
    "print(charVec)\n",
    "\n",
    "# Print the class type\n",
    "print(class(charVec))\n",
    "\n",
    "# To get the length of a vector use the length() function\n",
    "print(length(charVec))"
   ]
  },
  {
   "cell_type": "code",
   "execution_count": 12,
   "metadata": {},
   "outputs": [
    {
     "name": "stdout",
     "output_type": "stream",
     "text": [
      "[1] FALSE\n",
      "[1] \"logical\"\n"
     ]
    }
   ],
   "source": [
    "# Logical Vector\n",
    "num <- 10 > 30 # This syntax can be read as IS 10 GREATER THAN 30\n",
    "print(num)\n",
    "\n",
    "# Print the class type\n",
    "print(class(num))"
   ]
  },
  {
   "cell_type": "code",
   "execution_count": 13,
   "metadata": {},
   "outputs": [
    {
     "data": {
      "text/html": [
       "TRUE"
      ],
      "text/latex": [
       "TRUE"
      ],
      "text/markdown": [
       "TRUE"
      ],
      "text/plain": [
       "[1] TRUE"
      ]
     },
     "metadata": {},
     "output_type": "display_data"
    }
   ],
   "source": [
    "# Logical Vector\n",
    "# This syntax can be read as IS Monday equivalent to/same as Monday\n",
    "\"Monday\" == \"Monday\""
   ]
  },
  {
   "cell_type": "markdown",
   "metadata": {},
   "source": [
    "<div class=\"alert alert-danger\"></i></i><strong>Try it out</strong><br>What would this code return ?<br>\"Monday\" == \"monday\"<br>\n",
    "What does this tell you about R\n",
    "</div>"
   ]
  },
  {
   "cell_type": "markdown",
   "metadata": {},
   "source": [
    "<div class=\"alert alert-info\"><i class=\"icon-lightbulb\"></i>**Discussion** <br>What is/are the difference(s) between the an Interger vector and a Character vector?\n",
    " </div>"
   ]
  },
  {
   "cell_type": "code",
   "execution_count": 14,
   "metadata": {},
   "outputs": [
    {
     "name": "stdout",
     "output_type": "stream",
     "text": [
      "[1] 2 3 4 5 6 9\n",
      "[1] 6\n"
     ]
    }
   ],
   "source": [
    "# Integer or Numeric Vector\n",
    "# Interger/Numeric vector elements are not defined within quotation marks\n",
    "intergerVec <- c(2,3,4,5,6,9)\n",
    "print(intergerVec)\n",
    "\n",
    "# Returns the number of elements in the object intergerVec\n",
    "print(length(intergerVec))"
   ]
  },
  {
   "cell_type": "markdown",
   "metadata": {},
   "source": [
    "<div class=\"alert alert-success\"></i><strong>3.2 Matrices</strong><br>\n",
    " A Matrix is a two dimensional array were each element has the same type of data entries, it is also considered a vector with integer attributes\n",
    " </div>"
   ]
  },
  {
   "cell_type": "code",
   "execution_count": 15,
   "metadata": {},
   "outputs": [
    {
     "name": "stdout",
     "output_type": "stream",
     "text": [
      "[1] 1 2 3 4 5 6 7 8 9\n"
     ]
    }
   ],
   "source": [
    "number_range <- c(1:9)\n",
    "print(number_range)"
   ]
  },
  {
   "cell_type": "code",
   "execution_count": 16,
   "metadata": {},
   "outputs": [
    {
     "name": "stdout",
     "output_type": "stream",
     "text": [
      "     [,1] [,2]\n",
      "[1,]    2    5\n",
      "[2,]    4    6\n"
     ]
    }
   ],
   "source": [
    "# The matrix key word is a function that will hold 9 elements starting \n",
    "# from 1.\n",
    "# The  nrow = 3, implies that the 9 elements be placed in 3 rows\n",
    "# While the byrow =T, implies the data be filled rows wise\n",
    "# What would the matrix look like if byrow=F, Try this.\n",
    "first_matrix <- matrix(c(2,4,5,6), nrow=2, byrow=F)\n",
    "print(first_matrix)"
   ]
  },
  {
   "cell_type": "code",
   "execution_count": 17,
   "metadata": {},
   "outputs": [
    {
     "name": "stdout",
     "output_type": "stream",
     "text": [
      "     [,1] [,2] [,3]\n",
      "[1,]    1    2    3\n",
      "[2,]    4    5    6\n",
      "[3,]    7    8    9\n"
     ]
    }
   ],
   "source": [
    "matrixData <- matrix(c(1:9), nrow=3, byrow=T)\n",
    "print(matrixData)"
   ]
  },
  {
   "cell_type": "code",
   "execution_count": 19,
   "metadata": {},
   "outputs": [
    {
     "name": "stdout",
     "output_type": "stream",
     "text": [
      "     [,1] [,2] [,3]\n",
      "[1,]   30   36   42\n",
      "[2,]   66   81   96\n",
      "[3,]  102  126  150\n"
     ]
    }
   ],
   "source": [
    "# Matrix multiplication\n",
    "print(matrixData %*% matrixData)"
   ]
  },
  {
   "cell_type": "markdown",
   "metadata": {},
   "source": [
    "<div class=\"alert alert-success\"></i><strong>3.3 Giving our matrix column and row names</strong>\n",
    " </div>"
   ]
  },
  {
   "cell_type": "code",
   "execution_count": 20,
   "metadata": {},
   "outputs": [
    {
     "name": "stdout",
     "output_type": "stream",
     "text": [
      "     Mon Tue Wed\n",
      "[1,]   1   2   3\n",
      "[2,]   4   5   6\n",
      "[3,]   7   8   9\n"
     ]
    }
   ],
   "source": [
    "# To assign column names to the created matrix above, the \n",
    "# 'colnames' function is used.\n",
    "\n",
    "# This code imples that the first column be names Mon, \n",
    "# second be named Tue, etc.\n",
    "colnames(matrixData)<- c(\"Mon\",\"Tue\",\"Wed\")\n",
    "\n",
    "# Display the contents of the object\n",
    "print(matrixData) "
   ]
  },
  {
   "cell_type": "code",
   "execution_count": 21,
   "metadata": {},
   "outputs": [
    {
     "name": "stdout",
     "output_type": "stream",
     "text": [
      "     Mon Tue Wed\n",
      "day2   1   2   3\n",
      "day3   4   5   6\n",
      "day5   7   8   9\n"
     ]
    }
   ],
   "source": [
    "# If we wish to assign names to the rows, use the rownames function \n",
    "# and pass in appropirate names. Ensure that the number\n",
    "# of names matches the number of rows.\n",
    "\n",
    "rownames(matrixData)<-c(\"day2\",\"day3\",\"day5\")\n",
    "\n",
    "# Display the contents of the object\n",
    "print(matrixData) "
   ]
  },
  {
   "cell_type": "markdown",
   "metadata": {},
   "source": [
    "<div class=\"alert alert-success\"></i><strong>3.4 List</strong><br>\n",
    " Lists are a special type of vector that can holds elements of different classes. To create a list explicitly, use the list() function which take several arguments.\n",
    " </div>"
   ]
  },
  {
   "cell_type": "code",
   "execution_count": 22,
   "metadata": {},
   "outputs": [
    {
     "name": "stdout",
     "output_type": "stream",
     "text": [
      "[[1]]\n",
      "[1] \"CFT\"     \"Data\"    \"Science\"\n",
      "\n",
      "[[2]]\n",
      "[1] FALSE\n",
      "\n",
      "[[3]]\n",
      "[1] TRUE\n",
      "\n",
      "[[4]]\n",
      "[1] FALSE\n",
      "\n",
      "[[5]]\n",
      "[1] 2 8 5\n",
      "\n"
     ]
    }
   ],
   "source": [
    "# To create a list use the key word list()\n",
    "listx <- list(c('CFT', 'Data', 'Science'), FALSE, TRUE, FALSE, c(2,8,5))\n",
    "\n",
    "# Display the list\n",
    "print(listx)"
   ]
  },
  {
   "cell_type": "code",
   "execution_count": 23,
   "metadata": {},
   "outputs": [
    {
     "name": "stdout",
     "output_type": "stream",
     "text": [
      "[[1]]\n",
      "[1] \"CFT\"     \"Data\"    \"Science\"\n",
      "\n"
     ]
    }
   ],
   "source": [
    "# To extract the first element of the list, use the code\n",
    "print(listx[1])"
   ]
  },
  {
   "cell_type": "markdown",
   "metadata": {},
   "source": [
    "<div class=\"alert alert-danger\"></i></i><strong>Try it out</strong><br>Extract the 5 in the list created above.\n",
    "</div>"
   ]
  },
  {
   "cell_type": "markdown",
   "metadata": {},
   "source": [
    "<div class=\"alert alert-success\"></i><strong>3.5 Data Frame</strong><br>\n",
    " A Data Frame is more general than a matrix in that the fields/columns can hold different types of data entries. Look at a Data Frame as a Microsoft Excel and would be mostly used in R.\n",
    " </div>"
   ]
  },
  {
   "cell_type": "code",
   "execution_count": 24,
   "metadata": {},
   "outputs": [
    {
     "name": "stdout",
     "output_type": "stream",
     "text": [
      "  Country GDP pop\n",
      "1      UK 560  20\n",
      "2  FRANCE 409  40\n",
      "3      US 706 200\n",
      "4 NIGERIA 360 190\n"
     ]
    }
   ],
   "source": [
    "# Creating a dataframe\n",
    "datafr <- data.frame(Country = c(\"UK\",\"FRANCE\",\"US\",\"NIGERIA\"),\n",
    "                         GDP = c(560,409,706,360),\n",
    "                         pop = c(20,40,200,190))\n",
    "print(datafr)"
   ]
  },
  {
   "cell_type": "markdown",
   "metadata": {},
   "source": [
    "<div class=\"alert alert-success\"></i><strong>4.0 Importing external data</strong><br>\n",
    "The R application is very robost when it comes to accessing and working with data in several file formats.\n",
    "In the sections that follow, we will demonstrate how to get data from documents in the following formats:\n",
    "<ul>\n",
    "<li>Text file (.txt)</li>\n",
    "<li>Excel file (.csv)</li>\n",
    "<li>Excel file (.xlsx or xls)</li>\n",
    "<li>SAS file(.sas7bdat)</li><br>\n",
    "\n",
    "Let's now go into practicality\n",
    " </div>"
   ]
  },
  {
   "cell_type": "markdown",
   "metadata": {},
   "source": [
    "<div class=\"alert alert-success\"></i><strong>4.1 Text file(.txt)</strong>\n",
    " </div>"
   ]
  },
  {
   "cell_type": "code",
   "execution_count": 25,
   "metadata": {},
   "outputs": [
    {
     "data": {
      "text/html": [
       "<table>\n",
       "<thead><tr><th scope=col>V1</th><th scope=col>V2</th><th scope=col>V3</th><th scope=col>V4</th><th scope=col>V5</th><th scope=col>V6</th><th scope=col>V7</th><th scope=col>V8</th><th scope=col>V9</th><th scope=col>V10</th><th scope=col>V11</th><th scope=col>V12</th><th scope=col>V13</th><th scope=col>V14</th><th scope=col>V15</th></tr></thead>\n",
       "<tbody>\n",
       "\t<tr><td>39                                                         </td><td><span style=white-space:pre-wrap> State-gov       </span>  </td><td> 77516                                                     </td><td> Bachelors                                                 </td><td>13                                                         </td><td><span style=white-space:pre-wrap> Never-married     </span></td><td><span style=white-space:pre-wrap> Adm-clerical     </span> </td><td> Not-in-family                                             </td><td> White                                                     </td><td><span style=white-space:pre-wrap> Male  </span>            </td><td>2174                                                       </td><td>0                                                          </td><td>40                                                         </td><td> United-States                                             </td><td> &lt;=50K                                                  </td></tr>\n",
       "\t<tr><td>50                                                        </td><td> Self-emp-not-inc                                         </td><td> 83311                                                    </td><td> Bachelors                                                </td><td>13                                                        </td><td> Married-civ-spouse                                       </td><td><span style=white-space:pre-wrap> Exec-managerial  </span></td><td><span style=white-space:pre-wrap> Husband      </span>    </td><td> White                                                    </td><td><span style=white-space:pre-wrap> Male  </span>           </td><td><span style=white-space:pre-wrap>   0</span>              </td><td>0                                                         </td><td>13                                                        </td><td> United-States                                            </td><td> &lt;=50K                                                 </td></tr>\n",
       "\t<tr><td>38                                                         </td><td><span style=white-space:pre-wrap> Private         </span>  </td><td>215646                                                     </td><td><span style=white-space:pre-wrap> HS-grad  </span>         </td><td> 9                                                         </td><td><span style=white-space:pre-wrap> Divorced          </span></td><td> Handlers-cleaners                                         </td><td> Not-in-family                                             </td><td> White                                                     </td><td><span style=white-space:pre-wrap> Male  </span>            </td><td><span style=white-space:pre-wrap>   0</span>               </td><td>0                                                          </td><td>40                                                         </td><td> United-States                                             </td><td> &lt;=50K                                                  </td></tr>\n",
       "\t<tr><td>53                                                       </td><td><span style=white-space:pre-wrap> Private         </span></td><td>234721                                                   </td><td><span style=white-space:pre-wrap> 11th     </span>       </td><td> 7                                                       </td><td> Married-civ-spouse                                      </td><td> Handlers-cleaners                                       </td><td><span style=white-space:pre-wrap> Husband      </span>   </td><td> Black                                                   </td><td><span style=white-space:pre-wrap> Male  </span>          </td><td><span style=white-space:pre-wrap>   0</span>             </td><td>0                                                        </td><td>40                                                       </td><td> United-States                                           </td><td> &lt;=50K                                                </td></tr>\n",
       "\t<tr><td>28                                                        </td><td><span style=white-space:pre-wrap> Private         </span> </td><td>338409                                                    </td><td> Bachelors                                                </td><td>13                                                        </td><td> Married-civ-spouse                                       </td><td><span style=white-space:pre-wrap> Prof-specialty   </span></td><td><span style=white-space:pre-wrap> Wife         </span>    </td><td> Black                                                    </td><td> Female                                                   </td><td><span style=white-space:pre-wrap>   0</span>              </td><td>0                                                         </td><td>40                                                        </td><td><span style=white-space:pre-wrap> Cuba         </span>    </td><td> &lt;=50K                                                 </td></tr>\n",
       "\t<tr><td>37                                                        </td><td><span style=white-space:pre-wrap> Private         </span> </td><td>284582                                                    </td><td><span style=white-space:pre-wrap> Masters  </span>        </td><td>14                                                        </td><td> Married-civ-spouse                                       </td><td><span style=white-space:pre-wrap> Exec-managerial  </span></td><td><span style=white-space:pre-wrap> Wife         </span>    </td><td> White                                                    </td><td> Female                                                   </td><td><span style=white-space:pre-wrap>   0</span>              </td><td>0                                                         </td><td>40                                                        </td><td> United-States                                            </td><td> &lt;=50K                                                 </td></tr>\n",
       "</tbody>\n",
       "</table>\n"
      ],
      "text/latex": [
       "\\begin{tabular}{r|lllllllllllllll}\n",
       " V1 & V2 & V3 & V4 & V5 & V6 & V7 & V8 & V9 & V10 & V11 & V12 & V13 & V14 & V15\\\\\n",
       "\\hline\n",
       "\t 39                  &  State-gov          &  77516              &  Bachelors          & 13                  &  Never-married      &  Adm-clerical       &  Not-in-family      &  White              &  Male               & 2174                & 0                   & 40                  &  United-States      &  <=50K             \\\\\n",
       "\t 50                  &  Self-emp-not-inc   &  83311              &  Bachelors          & 13                  &  Married-civ-spouse &  Exec-managerial    &  Husband            &  White              &  Male               &    0                & 0                   & 13                  &  United-States      &  <=50K             \\\\\n",
       "\t 38                  &  Private            & 215646              &  HS-grad            &  9                  &  Divorced           &  Handlers-cleaners  &  Not-in-family      &  White              &  Male               &    0                & 0                   & 40                  &  United-States      &  <=50K             \\\\\n",
       "\t 53                  &  Private            & 234721              &  11th               &  7                  &  Married-civ-spouse &  Handlers-cleaners  &  Husband            &  Black              &  Male               &    0                & 0                   & 40                  &  United-States      &  <=50K             \\\\\n",
       "\t 28                  &  Private            & 338409              &  Bachelors          & 13                  &  Married-civ-spouse &  Prof-specialty     &  Wife               &  Black              &  Female             &    0                & 0                   & 40                  &  Cuba               &  <=50K             \\\\\n",
       "\t 37                  &  Private            & 284582              &  Masters            & 14                  &  Married-civ-spouse &  Exec-managerial    &  Wife               &  White              &  Female             &    0                & 0                   & 40                  &  United-States      &  <=50K             \\\\\n",
       "\\end{tabular}\n"
      ],
      "text/markdown": [
       "\n",
       "V1 | V2 | V3 | V4 | V5 | V6 | V7 | V8 | V9 | V10 | V11 | V12 | V13 | V14 | V15 | \n",
       "|---|---|---|---|---|---|\n",
       "| 39                  |  State-gov          |  77516              |  Bachelors          | 13                  |  Never-married      |  Adm-clerical       |  Not-in-family      |  White              |  Male               | 2174                | 0                   | 40                  |  United-States      |  <=50K              | \n",
       "| 50                  |  Self-emp-not-inc   |  83311              |  Bachelors          | 13                  |  Married-civ-spouse |  Exec-managerial    |  Husband            |  White              |  Male               |    0                | 0                   | 13                  |  United-States      |  <=50K              | \n",
       "| 38                  |  Private            | 215646              |  HS-grad            |  9                  |  Divorced           |  Handlers-cleaners  |  Not-in-family      |  White              |  Male               |    0                | 0                   | 40                  |  United-States      |  <=50K              | \n",
       "| 53                  |  Private            | 234721              |  11th               |  7                  |  Married-civ-spouse |  Handlers-cleaners  |  Husband            |  Black              |  Male               |    0                | 0                   | 40                  |  United-States      |  <=50K              | \n",
       "| 28                  |  Private            | 338409              |  Bachelors          | 13                  |  Married-civ-spouse |  Prof-specialty     |  Wife               |  Black              |  Female             |    0                | 0                   | 40                  |  Cuba               |  <=50K              | \n",
       "| 37                  |  Private            | 284582              |  Masters            | 14                  |  Married-civ-spouse |  Exec-managerial    |  Wife               |  White              |  Female             |    0                | 0                   | 40                  |  United-States      |  <=50K              | \n",
       "\n",
       "\n"
      ],
      "text/plain": [
       "  V1 V2                V3     V4         V5 V6                 \n",
       "1 39  State-gov         77516  Bachelors 13  Never-married     \n",
       "2 50  Self-emp-not-inc  83311  Bachelors 13  Married-civ-spouse\n",
       "3 38  Private          215646  HS-grad    9  Divorced          \n",
       "4 53  Private          234721  11th       7  Married-civ-spouse\n",
       "5 28  Private          338409  Bachelors 13  Married-civ-spouse\n",
       "6 37  Private          284582  Masters   14  Married-civ-spouse\n",
       "  V7                 V8             V9     V10     V11  V12 V13 V14           \n",
       "1  Adm-clerical       Not-in-family  White  Male   2174 0   40   United-States\n",
       "2  Exec-managerial    Husband        White  Male      0 0   13   United-States\n",
       "3  Handlers-cleaners  Not-in-family  White  Male      0 0   40   United-States\n",
       "4  Handlers-cleaners  Husband        Black  Male      0 0   40   United-States\n",
       "5  Prof-specialty     Wife           Black  Female    0 0   40   Cuba         \n",
       "6  Exec-managerial    Wife           White  Female    0 0   40   United-States\n",
       "  V15   \n",
       "1  <=50K\n",
       "2  <=50K\n",
       "3  <=50K\n",
       "4  <=50K\n",
       "5  <=50K\n",
       "6  <=50K"
      ]
     },
     "metadata": {},
     "output_type": "display_data"
    }
   ],
   "source": [
    "# To read in data from a .txt file format, use the 'read.table' \n",
    "# function then pass the file-path to the text file\n",
    "\n",
    "txtData<- read.table(\"D:/CFT DataScienceHub/makeOver50K.txt\",sep = \",\", \n",
    "                     header = FALSE)\n",
    "head(txtData)\n",
    "\n",
    "# The argument sep=\",\" tells R that each data element in a row in the \n",
    "# text file is separated by a comma. Other common\n",
    "# data formats have values separated by tabs and pipes (\"|\") and \n",
    "# tabs (\"\\t\") respectively.\n",
    "\n",
    "# The argument header=FALSE tells R that the first row of the file \n",
    "# should NOT be interpreted as the names of the columns. "
   ]
  },
  {
   "cell_type": "code",
   "execution_count": 26,
   "metadata": {
    "scrolled": true
   },
   "outputs": [
    {
     "data": {
      "text/html": [
       "<table>\n",
       "<thead><tr><th scope=col>V1</th><th scope=col>V2</th><th scope=col>V3</th><th scope=col>V4</th><th scope=col>V5</th><th scope=col>V6</th><th scope=col>V7</th><th scope=col>V8</th><th scope=col>V9</th><th scope=col>V10</th><th scope=col>V11</th><th scope=col>V12</th><th scope=col>V13</th><th scope=col>V14</th><th scope=col>V15</th></tr></thead>\n",
       "<tbody>\n",
       "\t<tr><td>39                                                            </td><td><span style=white-space:pre-wrap> State-gov       </span>     </td><td> 77516                                                        </td><td> Bachelors                                                    </td><td>13                                                            </td><td><span style=white-space:pre-wrap> Never-married        </span></td><td><span style=white-space:pre-wrap> Adm-clerical     </span>    </td><td> Not-in-family                                                </td><td> White                                                        </td><td><span style=white-space:pre-wrap> Male  </span>               </td><td> 2174                                                         </td><td>0                                                             </td><td>40                                                            </td><td> United-States                                                </td><td> &lt;=50K                                                     </td></tr>\n",
       "\t<tr><td>50                                                            </td><td> Self-emp-not-inc                                             </td><td> 83311                                                        </td><td> Bachelors                                                    </td><td>13                                                            </td><td><span style=white-space:pre-wrap> Married-civ-spouse   </span></td><td><span style=white-space:pre-wrap> Exec-managerial  </span>    </td><td><span style=white-space:pre-wrap> Husband      </span>        </td><td> White                                                        </td><td><span style=white-space:pre-wrap> Male  </span>               </td><td><span style=white-space:pre-wrap>    0</span>                 </td><td>0                                                             </td><td>13                                                            </td><td> United-States                                                </td><td> &lt;=50K                                                     </td></tr>\n",
       "\t<tr><td>38                                                            </td><td><span style=white-space:pre-wrap> Private         </span>     </td><td>215646                                                        </td><td><span style=white-space:pre-wrap> HS-grad  </span>            </td><td> 9                                                            </td><td><span style=white-space:pre-wrap> Divorced             </span></td><td> Handlers-cleaners                                            </td><td> Not-in-family                                                </td><td> White                                                        </td><td><span style=white-space:pre-wrap> Male  </span>               </td><td><span style=white-space:pre-wrap>    0</span>                 </td><td>0                                                             </td><td>40                                                            </td><td> United-States                                                </td><td> &lt;=50K                                                     </td></tr>\n",
       "\t<tr><td>53                                                            </td><td><span style=white-space:pre-wrap> Private         </span>     </td><td>234721                                                        </td><td><span style=white-space:pre-wrap> 11th     </span>            </td><td> 7                                                            </td><td><span style=white-space:pre-wrap> Married-civ-spouse   </span></td><td> Handlers-cleaners                                            </td><td><span style=white-space:pre-wrap> Husband      </span>        </td><td> Black                                                        </td><td><span style=white-space:pre-wrap> Male  </span>               </td><td><span style=white-space:pre-wrap>    0</span>                 </td><td>0                                                             </td><td>40                                                            </td><td> United-States                                                </td><td> &lt;=50K                                                     </td></tr>\n",
       "\t<tr><td>28                                                            </td><td><span style=white-space:pre-wrap> Private         </span>     </td><td>338409                                                        </td><td> Bachelors                                                    </td><td>13                                                            </td><td><span style=white-space:pre-wrap> Married-civ-spouse   </span></td><td><span style=white-space:pre-wrap> Prof-specialty   </span>    </td><td><span style=white-space:pre-wrap> Wife         </span>        </td><td> Black                                                        </td><td> Female                                                       </td><td><span style=white-space:pre-wrap>    0</span>                 </td><td>0                                                             </td><td>40                                                            </td><td><span style=white-space:pre-wrap> Cuba         </span>        </td><td> &lt;=50K                                                     </td></tr>\n",
       "\t<tr><td>37                                                            </td><td><span style=white-space:pre-wrap> Private         </span>     </td><td>284582                                                        </td><td><span style=white-space:pre-wrap> Masters  </span>            </td><td>14                                                            </td><td><span style=white-space:pre-wrap> Married-civ-spouse   </span></td><td><span style=white-space:pre-wrap> Exec-managerial  </span>    </td><td><span style=white-space:pre-wrap> Wife         </span>        </td><td> White                                                        </td><td> Female                                                       </td><td><span style=white-space:pre-wrap>    0</span>                 </td><td>0                                                             </td><td>40                                                            </td><td> United-States                                                </td><td> &lt;=50K                                                     </td></tr>\n",
       "\t<tr><td>49                                                        </td><td><span style=white-space:pre-wrap> Private         </span> </td><td>160187                                                    </td><td><span style=white-space:pre-wrap> 9th      </span>        </td><td> 5                                                        </td><td> Married-spouse-absent                                    </td><td><span style=white-space:pre-wrap> Other-service    </span></td><td> Not-in-family                                            </td><td> Black                                                    </td><td> Female                                                   </td><td><span style=white-space:pre-wrap>    0</span>             </td><td>0                                                         </td><td>16                                                        </td><td><span style=white-space:pre-wrap> Jamaica      </span>    </td><td> &lt;=50K                                                 </td></tr>\n",
       "\t<tr><td>52                                                            </td><td> Self-emp-not-inc                                             </td><td>209642                                                        </td><td><span style=white-space:pre-wrap> HS-grad  </span>            </td><td> 9                                                            </td><td><span style=white-space:pre-wrap> Married-civ-spouse   </span></td><td><span style=white-space:pre-wrap> Exec-managerial  </span>    </td><td><span style=white-space:pre-wrap> Husband      </span>        </td><td> White                                                        </td><td><span style=white-space:pre-wrap> Male  </span>               </td><td><span style=white-space:pre-wrap>    0</span>                 </td><td>0                                                             </td><td>45                                                            </td><td> United-States                                                </td><td> &gt;50K                                                      </td></tr>\n",
       "\t<tr><td>31                                                            </td><td><span style=white-space:pre-wrap> Private         </span>     </td><td> 45781                                                        </td><td><span style=white-space:pre-wrap> Masters  </span>            </td><td>14                                                            </td><td><span style=white-space:pre-wrap> Never-married        </span></td><td><span style=white-space:pre-wrap> Prof-specialty   </span>    </td><td> Not-in-family                                                </td><td> White                                                        </td><td> Female                                                       </td><td>14084                                                         </td><td>0                                                             </td><td>50                                                            </td><td> United-States                                                </td><td> &gt;50K                                                      </td></tr>\n",
       "\t<tr><td>42                                                            </td><td><span style=white-space:pre-wrap> Private         </span>     </td><td>159449                                                        </td><td> Bachelors                                                    </td><td>13                                                            </td><td><span style=white-space:pre-wrap> Married-civ-spouse   </span></td><td><span style=white-space:pre-wrap> Exec-managerial  </span>    </td><td><span style=white-space:pre-wrap> Husband      </span>        </td><td> White                                                        </td><td><span style=white-space:pre-wrap> Male  </span>               </td><td> 5178                                                         </td><td>0                                                             </td><td>40                                                            </td><td> United-States                                                </td><td> &gt;50K                                                      </td></tr>\n",
       "</tbody>\n",
       "</table>\n"
      ],
      "text/latex": [
       "\\begin{tabular}{r|lllllllllllllll}\n",
       " V1 & V2 & V3 & V4 & V5 & V6 & V7 & V8 & V9 & V10 & V11 & V12 & V13 & V14 & V15\\\\\n",
       "\\hline\n",
       "\t 39                     &  State-gov             &  77516                 &  Bachelors             & 13                     &  Never-married         &  Adm-clerical          &  Not-in-family         &  White                 &  Male                  &  2174                  & 0                      & 40                     &  United-States         &  <=50K                \\\\\n",
       "\t 50                     &  Self-emp-not-inc      &  83311                 &  Bachelors             & 13                     &  Married-civ-spouse    &  Exec-managerial       &  Husband               &  White                 &  Male                  &     0                  & 0                      & 13                     &  United-States         &  <=50K                \\\\\n",
       "\t 38                     &  Private               & 215646                 &  HS-grad               &  9                     &  Divorced              &  Handlers-cleaners     &  Not-in-family         &  White                 &  Male                  &     0                  & 0                      & 40                     &  United-States         &  <=50K                \\\\\n",
       "\t 53                     &  Private               & 234721                 &  11th                  &  7                     &  Married-civ-spouse    &  Handlers-cleaners     &  Husband               &  Black                 &  Male                  &     0                  & 0                      & 40                     &  United-States         &  <=50K                \\\\\n",
       "\t 28                     &  Private               & 338409                 &  Bachelors             & 13                     &  Married-civ-spouse    &  Prof-specialty        &  Wife                  &  Black                 &  Female                &     0                  & 0                      & 40                     &  Cuba                  &  <=50K                \\\\\n",
       "\t 37                     &  Private               & 284582                 &  Masters               & 14                     &  Married-civ-spouse    &  Exec-managerial       &  Wife                  &  White                 &  Female                &     0                  & 0                      & 40                     &  United-States         &  <=50K                \\\\\n",
       "\t 49                     &  Private               & 160187                 &  9th                   &  5                     &  Married-spouse-absent &  Other-service         &  Not-in-family         &  Black                 &  Female                &     0                  & 0                      & 16                     &  Jamaica               &  <=50K                \\\\\n",
       "\t 52                     &  Self-emp-not-inc      & 209642                 &  HS-grad               &  9                     &  Married-civ-spouse    &  Exec-managerial       &  Husband               &  White                 &  Male                  &     0                  & 0                      & 45                     &  United-States         &  >50K                 \\\\\n",
       "\t 31                     &  Private               &  45781                 &  Masters               & 14                     &  Never-married         &  Prof-specialty        &  Not-in-family         &  White                 &  Female                & 14084                  & 0                      & 50                     &  United-States         &  >50K                 \\\\\n",
       "\t 42                     &  Private               & 159449                 &  Bachelors             & 13                     &  Married-civ-spouse    &  Exec-managerial       &  Husband               &  White                 &  Male                  &  5178                  & 0                      & 40                     &  United-States         &  >50K                 \\\\\n",
       "\\end{tabular}\n"
      ],
      "text/markdown": [
       "\n",
       "V1 | V2 | V3 | V4 | V5 | V6 | V7 | V8 | V9 | V10 | V11 | V12 | V13 | V14 | V15 | \n",
       "|---|---|---|---|---|---|---|---|---|---|\n",
       "| 39                     |  State-gov             |  77516                 |  Bachelors             | 13                     |  Never-married         |  Adm-clerical          |  Not-in-family         |  White                 |  Male                  |  2174                  | 0                      | 40                     |  United-States         |  <=50K                 | \n",
       "| 50                     |  Self-emp-not-inc      |  83311                 |  Bachelors             | 13                     |  Married-civ-spouse    |  Exec-managerial       |  Husband               |  White                 |  Male                  |     0                  | 0                      | 13                     |  United-States         |  <=50K                 | \n",
       "| 38                     |  Private               | 215646                 |  HS-grad               |  9                     |  Divorced              |  Handlers-cleaners     |  Not-in-family         |  White                 |  Male                  |     0                  | 0                      | 40                     |  United-States         |  <=50K                 | \n",
       "| 53                     |  Private               | 234721                 |  11th                  |  7                     |  Married-civ-spouse    |  Handlers-cleaners     |  Husband               |  Black                 |  Male                  |     0                  | 0                      | 40                     |  United-States         |  <=50K                 | \n",
       "| 28                     |  Private               | 338409                 |  Bachelors             | 13                     |  Married-civ-spouse    |  Prof-specialty        |  Wife                  |  Black                 |  Female                |     0                  | 0                      | 40                     |  Cuba                  |  <=50K                 | \n",
       "| 37                     |  Private               | 284582                 |  Masters               | 14                     |  Married-civ-spouse    |  Exec-managerial       |  Wife                  |  White                 |  Female                |     0                  | 0                      | 40                     |  United-States         |  <=50K                 | \n",
       "| 49                     |  Private               | 160187                 |  9th                   |  5                     |  Married-spouse-absent |  Other-service         |  Not-in-family         |  Black                 |  Female                |     0                  | 0                      | 16                     |  Jamaica               |  <=50K                 | \n",
       "| 52                     |  Self-emp-not-inc      | 209642                 |  HS-grad               |  9                     |  Married-civ-spouse    |  Exec-managerial       |  Husband               |  White                 |  Male                  |     0                  | 0                      | 45                     |  United-States         |  >50K                  | \n",
       "| 31                     |  Private               |  45781                 |  Masters               | 14                     |  Never-married         |  Prof-specialty        |  Not-in-family         |  White                 |  Female                | 14084                  | 0                      | 50                     |  United-States         |  >50K                  | \n",
       "| 42                     |  Private               | 159449                 |  Bachelors             | 13                     |  Married-civ-spouse    |  Exec-managerial       |  Husband               |  White                 |  Male                  |  5178                  | 0                      | 40                     |  United-States         |  >50K                  | \n",
       "\n",
       "\n"
      ],
      "text/plain": [
       "   V1 V2                V3     V4         V5 V6                    \n",
       "1  39  State-gov         77516  Bachelors 13  Never-married        \n",
       "2  50  Self-emp-not-inc  83311  Bachelors 13  Married-civ-spouse   \n",
       "3  38  Private          215646  HS-grad    9  Divorced             \n",
       "4  53  Private          234721  11th       7  Married-civ-spouse   \n",
       "5  28  Private          338409  Bachelors 13  Married-civ-spouse   \n",
       "6  37  Private          284582  Masters   14  Married-civ-spouse   \n",
       "7  49  Private          160187  9th        5  Married-spouse-absent\n",
       "8  52  Self-emp-not-inc 209642  HS-grad    9  Married-civ-spouse   \n",
       "9  31  Private           45781  Masters   14  Never-married        \n",
       "10 42  Private          159449  Bachelors 13  Married-civ-spouse   \n",
       "   V7                 V8             V9     V10     V11   V12 V13\n",
       "1   Adm-clerical       Not-in-family  White  Male    2174 0   40 \n",
       "2   Exec-managerial    Husband        White  Male       0 0   13 \n",
       "3   Handlers-cleaners  Not-in-family  White  Male       0 0   40 \n",
       "4   Handlers-cleaners  Husband        Black  Male       0 0   40 \n",
       "5   Prof-specialty     Wife           Black  Female     0 0   40 \n",
       "6   Exec-managerial    Wife           White  Female     0 0   40 \n",
       "7   Other-service      Not-in-family  Black  Female     0 0   16 \n",
       "8   Exec-managerial    Husband        White  Male       0 0   45 \n",
       "9   Prof-specialty     Not-in-family  White  Female 14084 0   50 \n",
       "10  Exec-managerial    Husband        White  Male    5178 0   40 \n",
       "   V14            V15   \n",
       "1   United-States  <=50K\n",
       "2   United-States  <=50K\n",
       "3   United-States  <=50K\n",
       "4   United-States  <=50K\n",
       "5   Cuba           <=50K\n",
       "6   United-States  <=50K\n",
       "7   Jamaica        <=50K\n",
       "8   United-States  >50K \n",
       "9   United-States  >50K \n",
       "10  United-States  >50K "
      ]
     },
     "metadata": {},
     "output_type": "display_data"
    }
   ],
   "source": [
    "# Now that the data has been imported and assigned to the 'txtData' \n",
    "# object.\n",
    "# To view all of the data, we would simpley call and run the object, \n",
    "# in this case 'txtData'.\n",
    "\n",
    "# To view few rows of the data, use the 'head()' function and pass \n",
    "# the data object, this will by default show the first six rows.\n",
    "head(txtData, 10)"
   ]
  },
  {
   "cell_type": "code",
   "execution_count": 27,
   "metadata": {},
   "outputs": [
    {
     "data": {
      "text/html": [
       "<table>\n",
       "<thead><tr><th scope=col>V1</th><th scope=col>V2</th><th scope=col>V3</th><th scope=col>V4</th><th scope=col>V5</th><th scope=col>V6</th><th scope=col>V7</th><th scope=col>V8</th><th scope=col>V9</th><th scope=col>V10</th><th scope=col>V11</th><th scope=col>V12</th><th scope=col>V13</th><th scope=col>V14</th><th scope=col>V15</th></tr></thead>\n",
       "<tbody>\n",
       "\t<tr><td>39                                                            </td><td><span style=white-space:pre-wrap> State-gov       </span>     </td><td> 77516                                                        </td><td> Bachelors                                                    </td><td>13                                                            </td><td><span style=white-space:pre-wrap> Never-married        </span></td><td><span style=white-space:pre-wrap> Adm-clerical     </span>    </td><td> Not-in-family                                                </td><td> White                                                        </td><td><span style=white-space:pre-wrap> Male  </span>               </td><td> 2174                                                         </td><td>0                                                             </td><td>40                                                            </td><td> United-States                                                </td><td> &lt;=50K                                                     </td></tr>\n",
       "\t<tr><td>50                                                            </td><td> Self-emp-not-inc                                             </td><td> 83311                                                        </td><td> Bachelors                                                    </td><td>13                                                            </td><td><span style=white-space:pre-wrap> Married-civ-spouse   </span></td><td><span style=white-space:pre-wrap> Exec-managerial  </span>    </td><td><span style=white-space:pre-wrap> Husband      </span>        </td><td> White                                                        </td><td><span style=white-space:pre-wrap> Male  </span>               </td><td><span style=white-space:pre-wrap>    0</span>                 </td><td>0                                                             </td><td>13                                                            </td><td> United-States                                                </td><td> &lt;=50K                                                     </td></tr>\n",
       "\t<tr><td>38                                                            </td><td><span style=white-space:pre-wrap> Private         </span>     </td><td>215646                                                        </td><td><span style=white-space:pre-wrap> HS-grad  </span>            </td><td> 9                                                            </td><td><span style=white-space:pre-wrap> Divorced             </span></td><td> Handlers-cleaners                                            </td><td> Not-in-family                                                </td><td> White                                                        </td><td><span style=white-space:pre-wrap> Male  </span>               </td><td><span style=white-space:pre-wrap>    0</span>                 </td><td>0                                                             </td><td>40                                                            </td><td> United-States                                                </td><td> &lt;=50K                                                     </td></tr>\n",
       "\t<tr><td>53                                                            </td><td><span style=white-space:pre-wrap> Private         </span>     </td><td>234721                                                        </td><td><span style=white-space:pre-wrap> 11th     </span>            </td><td> 7                                                            </td><td><span style=white-space:pre-wrap> Married-civ-spouse   </span></td><td> Handlers-cleaners                                            </td><td><span style=white-space:pre-wrap> Husband      </span>        </td><td> Black                                                        </td><td><span style=white-space:pre-wrap> Male  </span>               </td><td><span style=white-space:pre-wrap>    0</span>                 </td><td>0                                                             </td><td>40                                                            </td><td> United-States                                                </td><td> &lt;=50K                                                     </td></tr>\n",
       "\t<tr><td>28                                                            </td><td><span style=white-space:pre-wrap> Private         </span>     </td><td>338409                                                        </td><td> Bachelors                                                    </td><td>13                                                            </td><td><span style=white-space:pre-wrap> Married-civ-spouse   </span></td><td><span style=white-space:pre-wrap> Prof-specialty   </span>    </td><td><span style=white-space:pre-wrap> Wife         </span>        </td><td> Black                                                        </td><td> Female                                                       </td><td><span style=white-space:pre-wrap>    0</span>                 </td><td>0                                                             </td><td>40                                                            </td><td><span style=white-space:pre-wrap> Cuba         </span>        </td><td> &lt;=50K                                                     </td></tr>\n",
       "\t<tr><td>37                                                            </td><td><span style=white-space:pre-wrap> Private         </span>     </td><td>284582                                                        </td><td><span style=white-space:pre-wrap> Masters  </span>            </td><td>14                                                            </td><td><span style=white-space:pre-wrap> Married-civ-spouse   </span></td><td><span style=white-space:pre-wrap> Exec-managerial  </span>    </td><td><span style=white-space:pre-wrap> Wife         </span>        </td><td> White                                                        </td><td> Female                                                       </td><td><span style=white-space:pre-wrap>    0</span>                 </td><td>0                                                             </td><td>40                                                            </td><td> United-States                                                </td><td> &lt;=50K                                                     </td></tr>\n",
       "\t<tr><td>49                                                        </td><td><span style=white-space:pre-wrap> Private         </span> </td><td>160187                                                    </td><td><span style=white-space:pre-wrap> 9th      </span>        </td><td> 5                                                        </td><td> Married-spouse-absent                                    </td><td><span style=white-space:pre-wrap> Other-service    </span></td><td> Not-in-family                                            </td><td> Black                                                    </td><td> Female                                                   </td><td><span style=white-space:pre-wrap>    0</span>             </td><td>0                                                         </td><td>16                                                        </td><td><span style=white-space:pre-wrap> Jamaica      </span>    </td><td> &lt;=50K                                                 </td></tr>\n",
       "\t<tr><td>52                                                            </td><td> Self-emp-not-inc                                             </td><td>209642                                                        </td><td><span style=white-space:pre-wrap> HS-grad  </span>            </td><td> 9                                                            </td><td><span style=white-space:pre-wrap> Married-civ-spouse   </span></td><td><span style=white-space:pre-wrap> Exec-managerial  </span>    </td><td><span style=white-space:pre-wrap> Husband      </span>        </td><td> White                                                        </td><td><span style=white-space:pre-wrap> Male  </span>               </td><td><span style=white-space:pre-wrap>    0</span>                 </td><td>0                                                             </td><td>45                                                            </td><td> United-States                                                </td><td> &gt;50K                                                      </td></tr>\n",
       "\t<tr><td>31                                                            </td><td><span style=white-space:pre-wrap> Private         </span>     </td><td> 45781                                                        </td><td><span style=white-space:pre-wrap> Masters  </span>            </td><td>14                                                            </td><td><span style=white-space:pre-wrap> Never-married        </span></td><td><span style=white-space:pre-wrap> Prof-specialty   </span>    </td><td> Not-in-family                                                </td><td> White                                                        </td><td> Female                                                       </td><td>14084                                                         </td><td>0                                                             </td><td>50                                                            </td><td> United-States                                                </td><td> &gt;50K                                                      </td></tr>\n",
       "\t<tr><td>42                                                            </td><td><span style=white-space:pre-wrap> Private         </span>     </td><td>159449                                                        </td><td> Bachelors                                                    </td><td>13                                                            </td><td><span style=white-space:pre-wrap> Married-civ-spouse   </span></td><td><span style=white-space:pre-wrap> Exec-managerial  </span>    </td><td><span style=white-space:pre-wrap> Husband      </span>        </td><td> White                                                        </td><td><span style=white-space:pre-wrap> Male  </span>               </td><td> 5178                                                         </td><td>0                                                             </td><td>40                                                            </td><td> United-States                                                </td><td> &gt;50K                                                      </td></tr>\n",
       "</tbody>\n",
       "</table>\n"
      ],
      "text/latex": [
       "\\begin{tabular}{r|lllllllllllllll}\n",
       " V1 & V2 & V3 & V4 & V5 & V6 & V7 & V8 & V9 & V10 & V11 & V12 & V13 & V14 & V15\\\\\n",
       "\\hline\n",
       "\t 39                     &  State-gov             &  77516                 &  Bachelors             & 13                     &  Never-married         &  Adm-clerical          &  Not-in-family         &  White                 &  Male                  &  2174                  & 0                      & 40                     &  United-States         &  <=50K                \\\\\n",
       "\t 50                     &  Self-emp-not-inc      &  83311                 &  Bachelors             & 13                     &  Married-civ-spouse    &  Exec-managerial       &  Husband               &  White                 &  Male                  &     0                  & 0                      & 13                     &  United-States         &  <=50K                \\\\\n",
       "\t 38                     &  Private               & 215646                 &  HS-grad               &  9                     &  Divorced              &  Handlers-cleaners     &  Not-in-family         &  White                 &  Male                  &     0                  & 0                      & 40                     &  United-States         &  <=50K                \\\\\n",
       "\t 53                     &  Private               & 234721                 &  11th                  &  7                     &  Married-civ-spouse    &  Handlers-cleaners     &  Husband               &  Black                 &  Male                  &     0                  & 0                      & 40                     &  United-States         &  <=50K                \\\\\n",
       "\t 28                     &  Private               & 338409                 &  Bachelors             & 13                     &  Married-civ-spouse    &  Prof-specialty        &  Wife                  &  Black                 &  Female                &     0                  & 0                      & 40                     &  Cuba                  &  <=50K                \\\\\n",
       "\t 37                     &  Private               & 284582                 &  Masters               & 14                     &  Married-civ-spouse    &  Exec-managerial       &  Wife                  &  White                 &  Female                &     0                  & 0                      & 40                     &  United-States         &  <=50K                \\\\\n",
       "\t 49                     &  Private               & 160187                 &  9th                   &  5                     &  Married-spouse-absent &  Other-service         &  Not-in-family         &  Black                 &  Female                &     0                  & 0                      & 16                     &  Jamaica               &  <=50K                \\\\\n",
       "\t 52                     &  Self-emp-not-inc      & 209642                 &  HS-grad               &  9                     &  Married-civ-spouse    &  Exec-managerial       &  Husband               &  White                 &  Male                  &     0                  & 0                      & 45                     &  United-States         &  >50K                 \\\\\n",
       "\t 31                     &  Private               &  45781                 &  Masters               & 14                     &  Never-married         &  Prof-specialty        &  Not-in-family         &  White                 &  Female                & 14084                  & 0                      & 50                     &  United-States         &  >50K                 \\\\\n",
       "\t 42                     &  Private               & 159449                 &  Bachelors             & 13                     &  Married-civ-spouse    &  Exec-managerial       &  Husband               &  White                 &  Male                  &  5178                  & 0                      & 40                     &  United-States         &  >50K                 \\\\\n",
       "\\end{tabular}\n"
      ],
      "text/markdown": [
       "\n",
       "V1 | V2 | V3 | V4 | V5 | V6 | V7 | V8 | V9 | V10 | V11 | V12 | V13 | V14 | V15 | \n",
       "|---|---|---|---|---|---|---|---|---|---|\n",
       "| 39                     |  State-gov             |  77516                 |  Bachelors             | 13                     |  Never-married         |  Adm-clerical          |  Not-in-family         |  White                 |  Male                  |  2174                  | 0                      | 40                     |  United-States         |  <=50K                 | \n",
       "| 50                     |  Self-emp-not-inc      |  83311                 |  Bachelors             | 13                     |  Married-civ-spouse    |  Exec-managerial       |  Husband               |  White                 |  Male                  |     0                  | 0                      | 13                     |  United-States         |  <=50K                 | \n",
       "| 38                     |  Private               | 215646                 |  HS-grad               |  9                     |  Divorced              |  Handlers-cleaners     |  Not-in-family         |  White                 |  Male                  |     0                  | 0                      | 40                     |  United-States         |  <=50K                 | \n",
       "| 53                     |  Private               | 234721                 |  11th                  |  7                     |  Married-civ-spouse    |  Handlers-cleaners     |  Husband               |  Black                 |  Male                  |     0                  | 0                      | 40                     |  United-States         |  <=50K                 | \n",
       "| 28                     |  Private               | 338409                 |  Bachelors             | 13                     |  Married-civ-spouse    |  Prof-specialty        |  Wife                  |  Black                 |  Female                |     0                  | 0                      | 40                     |  Cuba                  |  <=50K                 | \n",
       "| 37                     |  Private               | 284582                 |  Masters               | 14                     |  Married-civ-spouse    |  Exec-managerial       |  Wife                  |  White                 |  Female                |     0                  | 0                      | 40                     |  United-States         |  <=50K                 | \n",
       "| 49                     |  Private               | 160187                 |  9th                   |  5                     |  Married-spouse-absent |  Other-service         |  Not-in-family         |  Black                 |  Female                |     0                  | 0                      | 16                     |  Jamaica               |  <=50K                 | \n",
       "| 52                     |  Self-emp-not-inc      | 209642                 |  HS-grad               |  9                     |  Married-civ-spouse    |  Exec-managerial       |  Husband               |  White                 |  Male                  |     0                  | 0                      | 45                     |  United-States         |  >50K                  | \n",
       "| 31                     |  Private               |  45781                 |  Masters               | 14                     |  Never-married         |  Prof-specialty        |  Not-in-family         |  White                 |  Female                | 14084                  | 0                      | 50                     |  United-States         |  >50K                  | \n",
       "| 42                     |  Private               | 159449                 |  Bachelors             | 13                     |  Married-civ-spouse    |  Exec-managerial       |  Husband               |  White                 |  Male                  |  5178                  | 0                      | 40                     |  United-States         |  >50K                  | \n",
       "\n",
       "\n"
      ],
      "text/plain": [
       "   V1 V2                V3     V4         V5 V6                    \n",
       "1  39  State-gov         77516  Bachelors 13  Never-married        \n",
       "2  50  Self-emp-not-inc  83311  Bachelors 13  Married-civ-spouse   \n",
       "3  38  Private          215646  HS-grad    9  Divorced             \n",
       "4  53  Private          234721  11th       7  Married-civ-spouse   \n",
       "5  28  Private          338409  Bachelors 13  Married-civ-spouse   \n",
       "6  37  Private          284582  Masters   14  Married-civ-spouse   \n",
       "7  49  Private          160187  9th        5  Married-spouse-absent\n",
       "8  52  Self-emp-not-inc 209642  HS-grad    9  Married-civ-spouse   \n",
       "9  31  Private           45781  Masters   14  Never-married        \n",
       "10 42  Private          159449  Bachelors 13  Married-civ-spouse   \n",
       "   V7                 V8             V9     V10     V11   V12 V13\n",
       "1   Adm-clerical       Not-in-family  White  Male    2174 0   40 \n",
       "2   Exec-managerial    Husband        White  Male       0 0   13 \n",
       "3   Handlers-cleaners  Not-in-family  White  Male       0 0   40 \n",
       "4   Handlers-cleaners  Husband        Black  Male       0 0   40 \n",
       "5   Prof-specialty     Wife           Black  Female     0 0   40 \n",
       "6   Exec-managerial    Wife           White  Female     0 0   40 \n",
       "7   Other-service      Not-in-family  Black  Female     0 0   16 \n",
       "8   Exec-managerial    Husband        White  Male       0 0   45 \n",
       "9   Prof-specialty     Not-in-family  White  Female 14084 0   50 \n",
       "10  Exec-managerial    Husband        White  Male    5178 0   40 \n",
       "   V14            V15   \n",
       "1   United-States  <=50K\n",
       "2   United-States  <=50K\n",
       "3   United-States  <=50K\n",
       "4   United-States  <=50K\n",
       "5   Cuba           <=50K\n",
       "6   United-States  <=50K\n",
       "7   Jamaica        <=50K\n",
       "8   United-States  >50K \n",
       "9   United-States  >50K \n",
       "10  United-States  >50K "
      ]
     },
     "metadata": {},
     "output_type": "display_data"
    }
   ],
   "source": [
    "# If you wish to see a defined number of rows other than six, use the syntax.\n",
    "head(txtData, 10)\n",
    "# As can be seen on this instance,we have 10 rows displayed"
   ]
  },
  {
   "cell_type": "code",
   "execution_count": 28,
   "metadata": {},
   "outputs": [],
   "source": [
    "# As can been from the output above, the table does not have any \n",
    "# table header or column names.\n",
    "\n",
    "# For this example, i know all the header names. \n",
    "# To insert these names use the code below\n",
    "colnames(txtData) <- c(\"Age\",\"workclass\",\"fnlwgt\",\"education\",\n",
    "                       \"education-num\",\"marital-status\",\n",
    "                       \"occupation\",\"relationship\",\n",
    "                       \"race\",\"sex\",\"capital-gain\",\n",
    "                       \"capital-loss\",\"hours-per-week\",\n",
    "                       \"native-country\",\"eaning\")                      "
   ]
  },
  {
   "cell_type": "code",
   "execution_count": 29,
   "metadata": {},
   "outputs": [
    {
     "data": {
      "text/html": [
       "<table>\n",
       "<thead><tr><th scope=col>Age</th><th scope=col>workclass</th><th scope=col>fnlwgt</th><th scope=col>education</th><th scope=col>education-num</th><th scope=col>marital-status</th><th scope=col>occupation</th><th scope=col>relationship</th><th scope=col>race</th><th scope=col>sex</th><th scope=col>capital-gain</th><th scope=col>capital-loss</th><th scope=col>hours-per-week</th><th scope=col>native-country</th><th scope=col>eaning</th></tr></thead>\n",
       "<tbody>\n",
       "\t<tr><td>39                                                         </td><td><span style=white-space:pre-wrap> State-gov       </span>  </td><td> 77516                                                     </td><td> Bachelors                                                 </td><td>13                                                         </td><td><span style=white-space:pre-wrap> Never-married     </span></td><td><span style=white-space:pre-wrap> Adm-clerical     </span> </td><td> Not-in-family                                             </td><td> White                                                     </td><td><span style=white-space:pre-wrap> Male  </span>            </td><td>2174                                                       </td><td>0                                                          </td><td>40                                                         </td><td> United-States                                             </td><td> &lt;=50K                                                  </td></tr>\n",
       "\t<tr><td>50                                                        </td><td> Self-emp-not-inc                                         </td><td> 83311                                                    </td><td> Bachelors                                                </td><td>13                                                        </td><td> Married-civ-spouse                                       </td><td><span style=white-space:pre-wrap> Exec-managerial  </span></td><td><span style=white-space:pre-wrap> Husband      </span>    </td><td> White                                                    </td><td><span style=white-space:pre-wrap> Male  </span>           </td><td><span style=white-space:pre-wrap>   0</span>              </td><td>0                                                         </td><td>13                                                        </td><td> United-States                                            </td><td> &lt;=50K                                                 </td></tr>\n",
       "\t<tr><td>38                                                         </td><td><span style=white-space:pre-wrap> Private         </span>  </td><td>215646                                                     </td><td><span style=white-space:pre-wrap> HS-grad  </span>         </td><td> 9                                                         </td><td><span style=white-space:pre-wrap> Divorced          </span></td><td> Handlers-cleaners                                         </td><td> Not-in-family                                             </td><td> White                                                     </td><td><span style=white-space:pre-wrap> Male  </span>            </td><td><span style=white-space:pre-wrap>   0</span>               </td><td>0                                                          </td><td>40                                                         </td><td> United-States                                             </td><td> &lt;=50K                                                  </td></tr>\n",
       "\t<tr><td>53                                                       </td><td><span style=white-space:pre-wrap> Private         </span></td><td>234721                                                   </td><td><span style=white-space:pre-wrap> 11th     </span>       </td><td> 7                                                       </td><td> Married-civ-spouse                                      </td><td> Handlers-cleaners                                       </td><td><span style=white-space:pre-wrap> Husband      </span>   </td><td> Black                                                   </td><td><span style=white-space:pre-wrap> Male  </span>          </td><td><span style=white-space:pre-wrap>   0</span>             </td><td>0                                                        </td><td>40                                                       </td><td> United-States                                           </td><td> &lt;=50K                                                </td></tr>\n",
       "\t<tr><td>28                                                        </td><td><span style=white-space:pre-wrap> Private         </span> </td><td>338409                                                    </td><td> Bachelors                                                </td><td>13                                                        </td><td> Married-civ-spouse                                       </td><td><span style=white-space:pre-wrap> Prof-specialty   </span></td><td><span style=white-space:pre-wrap> Wife         </span>    </td><td> Black                                                    </td><td> Female                                                   </td><td><span style=white-space:pre-wrap>   0</span>              </td><td>0                                                         </td><td>40                                                        </td><td><span style=white-space:pre-wrap> Cuba         </span>    </td><td> &lt;=50K                                                 </td></tr>\n",
       "\t<tr><td>37                                                        </td><td><span style=white-space:pre-wrap> Private         </span> </td><td>284582                                                    </td><td><span style=white-space:pre-wrap> Masters  </span>        </td><td>14                                                        </td><td> Married-civ-spouse                                       </td><td><span style=white-space:pre-wrap> Exec-managerial  </span></td><td><span style=white-space:pre-wrap> Wife         </span>    </td><td> White                                                    </td><td> Female                                                   </td><td><span style=white-space:pre-wrap>   0</span>              </td><td>0                                                         </td><td>40                                                        </td><td> United-States                                            </td><td> &lt;=50K                                                 </td></tr>\n",
       "</tbody>\n",
       "</table>\n"
      ],
      "text/latex": [
       "\\begin{tabular}{r|lllllllllllllll}\n",
       " Age & workclass & fnlwgt & education & education-num & marital-status & occupation & relationship & race & sex & capital-gain & capital-loss & hours-per-week & native-country & eaning\\\\\n",
       "\\hline\n",
       "\t 39                  &  State-gov          &  77516              &  Bachelors          & 13                  &  Never-married      &  Adm-clerical       &  Not-in-family      &  White              &  Male               & 2174                & 0                   & 40                  &  United-States      &  <=50K             \\\\\n",
       "\t 50                  &  Self-emp-not-inc   &  83311              &  Bachelors          & 13                  &  Married-civ-spouse &  Exec-managerial    &  Husband            &  White              &  Male               &    0                & 0                   & 13                  &  United-States      &  <=50K             \\\\\n",
       "\t 38                  &  Private            & 215646              &  HS-grad            &  9                  &  Divorced           &  Handlers-cleaners  &  Not-in-family      &  White              &  Male               &    0                & 0                   & 40                  &  United-States      &  <=50K             \\\\\n",
       "\t 53                  &  Private            & 234721              &  11th               &  7                  &  Married-civ-spouse &  Handlers-cleaners  &  Husband            &  Black              &  Male               &    0                & 0                   & 40                  &  United-States      &  <=50K             \\\\\n",
       "\t 28                  &  Private            & 338409              &  Bachelors          & 13                  &  Married-civ-spouse &  Prof-specialty     &  Wife               &  Black              &  Female             &    0                & 0                   & 40                  &  Cuba               &  <=50K             \\\\\n",
       "\t 37                  &  Private            & 284582              &  Masters            & 14                  &  Married-civ-spouse &  Exec-managerial    &  Wife               &  White              &  Female             &    0                & 0                   & 40                  &  United-States      &  <=50K             \\\\\n",
       "\\end{tabular}\n"
      ],
      "text/markdown": [
       "\n",
       "Age | workclass | fnlwgt | education | education-num | marital-status | occupation | relationship | race | sex | capital-gain | capital-loss | hours-per-week | native-country | eaning | \n",
       "|---|---|---|---|---|---|\n",
       "| 39                  |  State-gov          |  77516              |  Bachelors          | 13                  |  Never-married      |  Adm-clerical       |  Not-in-family      |  White              |  Male               | 2174                | 0                   | 40                  |  United-States      |  <=50K              | \n",
       "| 50                  |  Self-emp-not-inc   |  83311              |  Bachelors          | 13                  |  Married-civ-spouse |  Exec-managerial    |  Husband            |  White              |  Male               |    0                | 0                   | 13                  |  United-States      |  <=50K              | \n",
       "| 38                  |  Private            | 215646              |  HS-grad            |  9                  |  Divorced           |  Handlers-cleaners  |  Not-in-family      |  White              |  Male               |    0                | 0                   | 40                  |  United-States      |  <=50K              | \n",
       "| 53                  |  Private            | 234721              |  11th               |  7                  |  Married-civ-spouse |  Handlers-cleaners  |  Husband            |  Black              |  Male               |    0                | 0                   | 40                  |  United-States      |  <=50K              | \n",
       "| 28                  |  Private            | 338409              |  Bachelors          | 13                  |  Married-civ-spouse |  Prof-specialty     |  Wife               |  Black              |  Female             |    0                | 0                   | 40                  |  Cuba               |  <=50K              | \n",
       "| 37                  |  Private            | 284582              |  Masters            | 14                  |  Married-civ-spouse |  Exec-managerial    |  Wife               |  White              |  Female             |    0                | 0                   | 40                  |  United-States      |  <=50K              | \n",
       "\n",
       "\n"
      ],
      "text/plain": [
       "  Age workclass         fnlwgt education  education-num marital-status     \n",
       "1 39   State-gov         77516  Bachelors 13             Never-married     \n",
       "2 50   Self-emp-not-inc  83311  Bachelors 13             Married-civ-spouse\n",
       "3 38   Private          215646  HS-grad    9             Divorced          \n",
       "4 53   Private          234721  11th       7             Married-civ-spouse\n",
       "5 28   Private          338409  Bachelors 13             Married-civ-spouse\n",
       "6 37   Private          284582  Masters   14             Married-civ-spouse\n",
       "  occupation         relationship   race   sex     capital-gain capital-loss\n",
       "1  Adm-clerical       Not-in-family  White  Male   2174         0           \n",
       "2  Exec-managerial    Husband        White  Male      0         0           \n",
       "3  Handlers-cleaners  Not-in-family  White  Male      0         0           \n",
       "4  Handlers-cleaners  Husband        Black  Male      0         0           \n",
       "5  Prof-specialty     Wife           Black  Female    0         0           \n",
       "6  Exec-managerial    Wife           White  Female    0         0           \n",
       "  hours-per-week native-country eaning\n",
       "1 40              United-States  <=50K\n",
       "2 13              United-States  <=50K\n",
       "3 40              United-States  <=50K\n",
       "4 40              United-States  <=50K\n",
       "5 40              Cuba           <=50K\n",
       "6 40              United-States  <=50K"
      ]
     },
     "metadata": {},
     "output_type": "display_data"
    }
   ],
   "source": [
    "# Now let use view the first 6 rows to see if the colunmn names were applied\n",
    "head(txtData)"
   ]
  },
  {
   "cell_type": "code",
   "execution_count": 30,
   "metadata": {},
   "outputs": [
    {
     "ename": "ERROR",
     "evalue": "Error in file.choose(): file choice cancelled\n",
     "output_type": "error",
     "traceback": [
      "Error in file.choose(): file choice cancelled\nTraceback:\n",
      "1. read.table(file.choose(), sep = \",\", header = TRUE)",
      "2. file.choose()"
     ]
    }
   ],
   "source": [
    "# There might be times when we might not want to define the path to our \n",
    "# files explicitly\n",
    "# we use the code below which gives one the option to choose the \n",
    "# required for import\n",
    "txtData<- read.table(file.choose(),sep = \",\", header = TRUE)\n",
    "head(txtData)"
   ]
  },
  {
   "cell_type": "markdown",
   "metadata": {},
   "source": [
    "<div class=\"alert alert-success\"></i><strong> 4.2 Excel file(.csv)</strong>\n",
    " </div>"
   ]
  },
  {
   "cell_type": "code",
   "execution_count": null,
   "metadata": {},
   "outputs": [],
   "source": [
    "# To read in data from a .txt file format, use the 'read.csv' \n",
    "# function then pass the file-path to the text file\n",
    "# On this instance, we set header = TRUE as the data file does \n",
    "# have defined column titles\n",
    "excelCSVData<- read.csv(\"D:/CFT DataScienceHub/whatIsTrending.csv\",\n",
    "                        sep = \",\", header = TRUE)\n",
    "\n",
    "# To view the first six records, run the code below\n",
    "head(excelCSVData)"
   ]
  },
  {
   "cell_type": "code",
   "execution_count": null,
   "metadata": {},
   "outputs": [],
   "source": [
    "# Again, there might be times when we might not want to define the \n",
    "# path to our files explicitly,we use the code below which gives \n",
    "# one the option to choose the required for import\n",
    "excelCSVData<- read.csv(file.choose(),sep = \",\", header = TRUE)"
   ]
  },
  {
   "cell_type": "markdown",
   "metadata": {},
   "source": [
    "<div class=\"alert alert-success\"></i><strong>4.3 Excel file(.xlsx and .xls)</strong>\n",
    " </div>"
   ]
  },
  {
   "cell_type": "code",
   "execution_count": 32,
   "metadata": {},
   "outputs": [],
   "source": [
    "# To get .xlsx or xls file format into R, we need to load a package \n",
    "# called 'xlsx'\n",
    "# But wait a sec, how come we never loaded packages when we \n",
    "# imported .csv and .txt files\n",
    "# when R or Rstudio is loaded for use, it by default loads packages \n",
    "# for importing .csv and txt file format by default\n",
    "# At this point, am very sure you dont have this package installed. \n",
    "# So let's try intallation of packages again\n",
    "install.packages(\"xlsx\")"
   ]
  },
  {
   "cell_type": "code",
   "execution_count": 35,
   "metadata": {},
   "outputs": [],
   "source": [
    "# Load the package into R by calling the library() function and pass the package as argument\n",
    "library(xlsx)"
   ]
  },
  {
   "cell_type": "code",
   "execution_count": 34,
   "metadata": {},
   "outputs": [],
   "source": [
    "# To find out more about the package run the code below\n",
    "help(xlsx)"
   ]
  },
  {
   "cell_type": "code",
   "execution_count": 41,
   "metadata": {},
   "outputs": [
    {
     "name": "stdout",
     "output_type": "stream",
     "text": [
      "  YEAR     Y     W      R     L     K\n",
      "1 1948 1.214 0.243 0.1454 1.415 0.612\n",
      "2 1949 1.354 0.260 0.2181 1.384 0.559\n",
      "3 1950 1.569 0.278 0.3157 1.388 0.573\n",
      "4 1951 1.948 0.297 0.3940 1.550 0.564\n",
      "5 1952 2.265 0.310 0.3559 1.802 0.574\n"
     ]
    }
   ],
   "source": [
    "# Import the .xlsx file\n",
    "excelData<- read.xlsx(\"D:/CFT DataScienceHub/sasData.xlsx\",sheetIndex=1)\n",
    "# I guess by now you are familiar with how import works generally, \n",
    "# one thing to point out here is the 'sheeIndex=1'argument.\n",
    "# This is saying in the imported .xlsx file return the data in sheet1\n",
    "print(head(excelData, n = 5))"
   ]
  },
  {
   "cell_type": "code",
   "execution_count": 38,
   "metadata": {},
   "outputs": [],
   "source": [
    "# Again, there might be times when we might not want to define \n",
    "# the path to our files explicitly\n",
    "# we use the code below which gives one the option to choose the \n",
    "# required for import\n",
    "excelData<- read.xlsx(file.choose(),sheetIndex=1)"
   ]
  },
  {
   "cell_type": "markdown",
   "metadata": {},
   "source": [
    "<div class=\"alert alert-success\"></i><strong>4.4 SAS file(.sas7bdat)</strong>\n",
    " </div>"
   ]
  },
  {
   "cell_type": "code",
   "execution_count": null,
   "metadata": {},
   "outputs": [],
   "source": [
    "# The importation of .sas7bdat formatted file is similar to \n",
    "# importation of .xlsx file format in the sence that the 'sas7bdat\n",
    "# package must be installed (if not installed already) and \n",
    "# loaded into R by using the library function.\n",
    "# let us get familiar with installing a package again\n",
    "install.packages(\"sas7bdat)"
   ]
  },
  {
   "cell_type": "code",
   "execution_count": 39,
   "metadata": {},
   "outputs": [
    {
     "data": {
      "text/html": [
       "<table>\n",
       "<thead><tr><th scope=col>YEAR</th><th scope=col>Y</th><th scope=col>W</th><th scope=col>R</th><th scope=col>L</th><th scope=col>K</th></tr></thead>\n",
       "<tbody>\n",
       "\t<tr><td>1948  </td><td>1.214 </td><td>0.243 </td><td>0.1454</td><td>1.415 </td><td>0.612 </td></tr>\n",
       "\t<tr><td>1949  </td><td>1.354 </td><td>0.260 </td><td>0.2181</td><td>1.384 </td><td>0.559 </td></tr>\n",
       "\t<tr><td>1950  </td><td>1.569 </td><td>0.278 </td><td>0.3157</td><td>1.388 </td><td>0.573 </td></tr>\n",
       "\t<tr><td>1951  </td><td>1.948 </td><td>0.297 </td><td>0.3940</td><td>1.550 </td><td>0.564 </td></tr>\n",
       "\t<tr><td>1952  </td><td>2.265 </td><td>0.310 </td><td>0.3559</td><td>1.802 </td><td>0.574 </td></tr>\n",
       "\t<tr><td>1953  </td><td>2.731 </td><td>0.322 </td><td>0.3593</td><td>1.926 </td><td>0.711 </td></tr>\n",
       "</tbody>\n",
       "</table>\n"
      ],
      "text/latex": [
       "\\begin{tabular}{r|llllll}\n",
       " YEAR & Y & W & R & L & K\\\\\n",
       "\\hline\n",
       "\t 1948   & 1.214  & 0.243  & 0.1454 & 1.415  & 0.612 \\\\\n",
       "\t 1949   & 1.354  & 0.260  & 0.2181 & 1.384  & 0.559 \\\\\n",
       "\t 1950   & 1.569  & 0.278  & 0.3157 & 1.388  & 0.573 \\\\\n",
       "\t 1951   & 1.948  & 0.297  & 0.3940 & 1.550  & 0.564 \\\\\n",
       "\t 1952   & 2.265  & 0.310  & 0.3559 & 1.802  & 0.574 \\\\\n",
       "\t 1953   & 2.731  & 0.322  & 0.3593 & 1.926  & 0.711 \\\\\n",
       "\\end{tabular}\n"
      ],
      "text/markdown": [
       "\n",
       "YEAR | Y | W | R | L | K | \n",
       "|---|---|---|---|---|---|\n",
       "| 1948   | 1.214  | 0.243  | 0.1454 | 1.415  | 0.612  | \n",
       "| 1949   | 1.354  | 0.260  | 0.2181 | 1.384  | 0.559  | \n",
       "| 1950   | 1.569  | 0.278  | 0.3157 | 1.388  | 0.573  | \n",
       "| 1951   | 1.948  | 0.297  | 0.3940 | 1.550  | 0.564  | \n",
       "| 1952   | 2.265  | 0.310  | 0.3559 | 1.802  | 0.574  | \n",
       "| 1953   | 2.731  | 0.322  | 0.3593 | 1.926  | 0.711  | \n",
       "\n",
       "\n"
      ],
      "text/plain": [
       "  YEAR Y     W     R      L     K    \n",
       "1 1948 1.214 0.243 0.1454 1.415 0.612\n",
       "2 1949 1.354 0.260 0.2181 1.384 0.559\n",
       "3 1950 1.569 0.278 0.3157 1.388 0.573\n",
       "4 1951 1.948 0.297 0.3940 1.550 0.564\n",
       "5 1952 2.265 0.310 0.3559 1.802 0.574\n",
       "6 1953 2.731 0.322 0.3593 1.926 0.711"
      ]
     },
     "metadata": {},
     "output_type": "display_data"
    }
   ],
   "source": [
    "# Now load the package with the function library as follows and \n",
    "# import the file \n",
    "library(sas7bdat)\n",
    "sasData <- read.sas7bdat(\"D:/CFT DataScienceHub/airline.sas7bdat\")\n",
    "\n",
    "# to have a sneak peek, run the code below. This will show the \n",
    "# first six rows. To see all records, run just the object name.\n",
    "head(sasData)"
   ]
  },
  {
   "cell_type": "markdown",
   "metadata": {},
   "source": [
    "<div class=\"alert alert-success\"></i><strong>5.0 Exporting Data (or writing data to file)</strong>\n",
    " </div>"
   ]
  },
  {
   "cell_type": "markdown",
   "metadata": {},
   "source": [
    "<div class=\"alert alert-success\"></i><strong>5.1 Excel file(.csv)</strong>\n",
    " </div>"
   ]
  },
  {
   "cell_type": "code",
   "execution_count": null,
   "metadata": {},
   "outputs": [],
   "source": [
    "# To write data from R to Microsoft Excel .csv file format, \n",
    "# use the syntax below.\n",
    "# The 'write.csv()' takes two arguments, the data to write AND the \n",
    "# file path to the where the file will be saved\n",
    "# For this instance, the data we aim to write to file is 'sasData' \n",
    "# and save it in a location 'D:/CFT DataScienceHub/' \n",
    "# AND i want the file to be called 'airlineData.csv'\n",
    "# You could at this point try different names as you would prefer. \n",
    "write.csv(sasData, file=\"D:/CFT DataScienceHub/airlineData.csv\")\n",
    "\n",
    "# Check the file path to see if the file was written"
   ]
  },
  {
   "cell_type": "markdown",
   "metadata": {},
   "source": [
    "<div class=\"alert alert-success\"></i><strong>5.2 Excel file(.xlsx and .xls)</strong>\n",
    " </div>"
   ]
  },
  {
   "cell_type": "code",
   "execution_count": null,
   "metadata": {},
   "outputs": [],
   "source": [
    "# Apply the same principles for writing .xlsx and xls file formats, \n",
    "# except that we use the 'write.xlsx()' function\n",
    "write.xlsx(sasData, file=\"D:/CFT DataScienceHub/airlineData.xlsx\")"
   ]
  },
  {
   "cell_type": "markdown",
   "metadata": {},
   "source": [
    "<div class=\"alert alert-warning\"><strong>Next class</strong><br>We will look at how to filter datasets and writing functions\n",
    " </div>"
   ]
  }
 ],
 "metadata": {
  "kernelspec": {
   "display_name": "R 3.5",
   "language": "R",
   "name": "ir35"
  },
  "language_info": {
   "codemirror_mode": "r",
   "file_extension": ".r",
   "mimetype": "text/x-r-source",
   "name": "R",
   "pygments_lexer": "r",
   "version": "3.5.1"
  }
 },
 "nbformat": 4,
 "nbformat_minor": 2
}
