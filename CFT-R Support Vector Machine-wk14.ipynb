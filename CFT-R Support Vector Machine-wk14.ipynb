{
 "cells": [
  {
   "cell_type": "markdown",
   "metadata": {},
   "source": [
    "<div class=\"alert alert-warning\"></i><strong><h1>CFT Data Science With R: Tutorials</h1></strong><br>By: Seiya David\n",
    "<div class=\"clearfix\" style=\"padding: 10px; padding-left: 0px\">\n",
    "<img src=\"CFT.png\" width=\"300px\" style=\"display: inline-block; margin: 5px;\">\n",
    "<img src=\"images.jpg\" width=\"150px\" class=\"pull-right\" style=\"display: inline-block; margin: 0px;\">\n",
    "</div>"
   ]
  },
  {
   "cell_type": "markdown",
   "metadata": {
    "slideshow": {
     "slide_type": "slide"
    }
   },
   "source": [
    "<div class=\"alert alert-success\"></i><strong><center><h1>Support Vector Machine</h1></center></strong>\n",
    " </div>"
   ]
  },
  {
   "cell_type": "markdown",
   "metadata": {
    "slideshow": {
     "slide_type": "slide"
    }
   },
   "source": [
    "### What is Support Vector Machine\n",
    "Support Vector Machine is a supervised machine learning algorithm which can be used for both regression and classification problems.<br>\n",
    "The support vector machine constructs an optimal hyperplane for linearly separable data in a multidimensional space using a kernel function. This process of rearranging the objects for optimal separation is known as transformation and occurs through the use of a kernel function.<br>\n",
    "The support vectors are the data points that lie closest to the optimal hyperplane, these are the most difficult points to classify and directly influence the location of the decision boundary.<br>\n",
    "\n",
    "[Site to Caret package site](http://topepo.github.io/caret/available-models.html)<br>\n",
    "\n",
    "![image](svmImage.png)"
   ]
  },
  {
   "cell_type": "markdown",
   "metadata": {
    "slideshow": {
     "slide_type": "slide"
    }
   },
   "source": [
    "<div class=\"alert alert-success\"></i><strong><h3>Slack Parameter</h3></strong>\n",
    "</div>\n",
    "\n",
    "The variable C, which we will see later in the hands-on session is known as the slack parameter and it serves as the cost parameter that controls the trade-off between the size of the margin and the classification error. If no slack is allowed (often called a **hard margin**) and the data are **linearly separable**, then the support vectors are the points which lie along the supporting hyperplanes. In this case, all of the support vectors lie exactly on the margin. In practice, for complex classifications a **hard margin** may not yield useful results, and a **“soft” margin** is used.In this case, some proportion of data points are allowed to remain inside the margin. The slack parameter is used to control this proportion. A soft margin results in a larger classification error on the training data set. However, it reduces the likelihood of **over-fitting**."
   ]
  },
  {
   "cell_type": "markdown",
   "metadata": {
    "slideshow": {
     "slide_type": "slide"
    }
   },
   "source": [
    "<div class=\"alert alert-success\"></i><strong><h3>Number of Support Vectors</h3></strong>\n",
    "</div>\n",
    "The total number of support vectors depends on the amount of allowed slack and the distribution of the data. If a large amount of slack is permitted, there will be a larger number of support vectors than the case where very little slack is permitted. Fewer support vectors means faster classification of test points. This is because the computational complexity of the SVM is linear in the number of support vectors."
   ]
  },
  {
   "cell_type": "markdown",
   "metadata": {},
   "source": [
    "<div class=\"alert alert-info\"><i class=\"icon-lightbulb\"></i><strong><h3>Pros and Cons</h3></strong>\n",
    "</div><br>\n",
    "\n",
    "**Pros**\n",
    "- It uses the regularization term to avoid over-fitting\n",
    "- It does not suffer from local optimal and multi-collinearity\n",
    "\n",
    "**Cons**\n",
    "- It is takes long time to build models when the data is very large datasets"
   ]
  },
  {
   "cell_type": "markdown",
   "metadata": {},
   "source": [
    "<div class=\"alert alert-success\"></i><strong><h3>Hands-On Section</h3></strong><br>\n",
    "</div>\n",
    "In this hand-on session, we will apply the SVM (support Vector Machine) technique to classify a dependent variable with two classes or categories.\"PS\" for poorly segmented and \"WS\" for well segmented. For more information about the dataset,\n",
    "type any of the following codes on your console after loading the caret package.\n",
    "\n",
    "?segmentationData\n",
    "\n",
    "help(segmentationData)"
   ]
  },
  {
   "cell_type": "markdown",
   "metadata": {},
   "source": [
    "<div class=\"alert alert-success\"></i><strong><h3>1.0 Load required R package(s)</h3></strong><br>"
   ]
  },
  {
   "cell_type": "code",
   "execution_count": 1,
   "metadata": {
    "slideshow": {
     "slide_type": "skip"
    }
   },
   "outputs": [],
   "source": [
    "options(warn=-1)\n",
    "library(caret, verbose = F, quietly = T)"
   ]
  },
  {
   "cell_type": "markdown",
   "metadata": {},
   "source": [
    "<div class=\"alert alert-success\"></i><strong><h3>2.0 Read in the Data</h3></strong><br>"
   ]
  },
  {
   "cell_type": "code",
   "execution_count": 3,
   "metadata": {},
   "outputs": [],
   "source": [
    "?segmentationData"
   ]
  },
  {
   "cell_type": "code",
   "execution_count": 2,
   "metadata": {},
   "outputs": [
    {
     "data": {
      "text/html": [
       "<table>\n",
       "<thead><tr><th scope=col>Cell</th><th scope=col>Case</th><th scope=col>Class</th><th scope=col>AngleCh1</th><th scope=col>AreaCh1</th><th scope=col>AvgIntenCh1</th><th scope=col>AvgIntenCh2</th><th scope=col>AvgIntenCh3</th><th scope=col>AvgIntenCh4</th><th scope=col>ConvexHullAreaRatioCh1</th><th scope=col>...</th><th scope=col>TotalIntenCh1</th><th scope=col>TotalIntenCh2</th><th scope=col>TotalIntenCh3</th><th scope=col>TotalIntenCh4</th><th scope=col>VarIntenCh1</th><th scope=col>VarIntenCh3</th><th scope=col>VarIntenCh4</th><th scope=col>WidthCh1</th><th scope=col>XCentroid</th><th scope=col>YCentroid</th></tr></thead>\n",
       "<tbody>\n",
       "\t<tr><td>207827637 </td><td>Test      </td><td>PS        </td><td>143.247705</td><td>185       </td><td> 15.71186 </td><td>  4.954802</td><td>  9.548023</td><td>  2.214689</td><td>1.124509  </td><td>...       </td><td> 2781     </td><td>   701    </td><td> 1690     </td><td>   392    </td><td> 12.47468 </td><td> 7.609035 </td><td>  2.71410 </td><td>10.64297  </td><td> 42       </td><td> 14       </td></tr>\n",
       "\t<tr><td>207932307 </td><td>Train     </td><td>PS        </td><td>133.752037</td><td>819       </td><td> 31.92327 </td><td>206.878517</td><td> 69.916880</td><td>164.153453</td><td>1.263158  </td><td>...       </td><td>24964     </td><td>160998    </td><td>54675     </td><td>128368    </td><td> 18.80923 </td><td>56.715352 </td><td>118.38814 </td><td>32.16126  </td><td>215       </td><td>347       </td></tr>\n",
       "\t<tr><td>207932463 </td><td>Train     </td><td>WS        </td><td>106.646387</td><td>431       </td><td> 28.03883 </td><td>116.315534</td><td> 63.941748</td><td>106.696602</td><td>1.053310  </td><td>...       </td><td>11552     </td><td> 47511    </td><td>26344     </td><td> 43959    </td><td> 17.29564 </td><td>37.671053 </td><td> 49.47052 </td><td>21.18553  </td><td>371       </td><td>252       </td></tr>\n",
       "\t<tr><td>207932470 </td><td>Train     </td><td>PS        </td><td> 69.150325</td><td>298       </td><td> 19.45614 </td><td>102.294737</td><td> 28.217544</td><td> 31.028070</td><td>1.202625  </td><td>...       </td><td> 5545     </td><td> 28870    </td><td> 8042     </td><td>  8843    </td><td> 13.81897 </td><td>30.005643 </td><td> 24.74954 </td><td>13.39283  </td><td>487       </td><td>295       </td></tr>\n",
       "\t<tr><td>207932455 </td><td>Test      </td><td>PS        </td><td>  2.887837</td><td>285       </td><td> 24.27574 </td><td>112.415441</td><td> 20.474265</td><td> 40.577206</td><td>1.109333  </td><td>...       </td><td> 6603     </td><td> 30306    </td><td> 5569     </td><td> 11037    </td><td> 15.40797 </td><td>20.504288 </td><td> 45.45046 </td><td>13.19856  </td><td>283       </td><td>159       </td></tr>\n",
       "\t<tr><td>207827656 </td><td>Test      </td><td>WS        </td><td> 40.748298</td><td>172       </td><td>325.93333 </td><td>653.606061</td><td>128.690909</td><td>346.854545</td><td>1.005831  </td><td>...       </td><td>53779     </td><td>107681    </td><td>21234     </td><td> 57231    </td><td>115.00462 </td><td>70.918444 </td><td>184.69291 </td><td>15.53666  </td><td>191       </td><td>127       </td></tr>\n",
       "</tbody>\n",
       "</table>\n"
      ],
      "text/latex": [
       "\\begin{tabular}{r|lllllllllllllllllllllllllllllllllllllllllllllllllllllllllllll}\n",
       " Cell & Case & Class & AngleCh1 & AreaCh1 & AvgIntenCh1 & AvgIntenCh2 & AvgIntenCh3 & AvgIntenCh4 & ConvexHullAreaRatioCh1 & ... & TotalIntenCh1 & TotalIntenCh2 & TotalIntenCh3 & TotalIntenCh4 & VarIntenCh1 & VarIntenCh3 & VarIntenCh4 & WidthCh1 & XCentroid & YCentroid\\\\\n",
       "\\hline\n",
       "\t 207827637  & Test       & PS         & 143.247705 & 185        &  15.71186  &   4.954802 &   9.548023 &   2.214689 & 1.124509   & ...        &  2781      &    701     &  1690      &    392     &  12.47468  &  7.609035  &   2.71410  & 10.64297   &  42        &  14       \\\\\n",
       "\t 207932307  & Train      & PS         & 133.752037 & 819        &  31.92327  & 206.878517 &  69.916880 & 164.153453 & 1.263158   & ...        & 24964      & 160998     & 54675      & 128368     &  18.80923  & 56.715352  & 118.38814  & 32.16126   & 215        & 347       \\\\\n",
       "\t 207932463  & Train      & WS         & 106.646387 & 431        &  28.03883  & 116.315534 &  63.941748 & 106.696602 & 1.053310   & ...        & 11552      &  47511     & 26344      &  43959     &  17.29564  & 37.671053  &  49.47052  & 21.18553   & 371        & 252       \\\\\n",
       "\t 207932470  & Train      & PS         &  69.150325 & 298        &  19.45614  & 102.294737 &  28.217544 &  31.028070 & 1.202625   & ...        &  5545      &  28870     &  8042      &   8843     &  13.81897  & 30.005643  &  24.74954  & 13.39283   & 487        & 295       \\\\\n",
       "\t 207932455  & Test       & PS         &   2.887837 & 285        &  24.27574  & 112.415441 &  20.474265 &  40.577206 & 1.109333   & ...        &  6603      &  30306     &  5569      &  11037     &  15.40797  & 20.504288  &  45.45046  & 13.19856   & 283        & 159       \\\\\n",
       "\t 207827656  & Test       & WS         &  40.748298 & 172        & 325.93333  & 653.606061 & 128.690909 & 346.854545 & 1.005831   & ...        & 53779      & 107681     & 21234      &  57231     & 115.00462  & 70.918444  & 184.69291  & 15.53666   & 191        & 127       \\\\\n",
       "\\end{tabular}\n"
      ],
      "text/markdown": [
       "\n",
       "Cell | Case | Class | AngleCh1 | AreaCh1 | AvgIntenCh1 | AvgIntenCh2 | AvgIntenCh3 | AvgIntenCh4 | ConvexHullAreaRatioCh1 | ... | TotalIntenCh1 | TotalIntenCh2 | TotalIntenCh3 | TotalIntenCh4 | VarIntenCh1 | VarIntenCh3 | VarIntenCh4 | WidthCh1 | XCentroid | YCentroid | \n",
       "|---|---|---|---|---|---|\n",
       "| 207827637  | Test       | PS         | 143.247705 | 185        |  15.71186  |   4.954802 |   9.548023 |   2.214689 | 1.124509   | ...        |  2781      |    701     |  1690      |    392     |  12.47468  |  7.609035  |   2.71410  | 10.64297   |  42        |  14        | \n",
       "| 207932307  | Train      | PS         | 133.752037 | 819        |  31.92327  | 206.878517 |  69.916880 | 164.153453 | 1.263158   | ...        | 24964      | 160998     | 54675      | 128368     |  18.80923  | 56.715352  | 118.38814  | 32.16126   | 215        | 347        | \n",
       "| 207932463  | Train      | WS         | 106.646387 | 431        |  28.03883  | 116.315534 |  63.941748 | 106.696602 | 1.053310   | ...        | 11552      |  47511     | 26344      |  43959     |  17.29564  | 37.671053  |  49.47052  | 21.18553   | 371        | 252        | \n",
       "| 207932470  | Train      | PS         |  69.150325 | 298        |  19.45614  | 102.294737 |  28.217544 |  31.028070 | 1.202625   | ...        |  5545      |  28870     |  8042      |   8843     |  13.81897  | 30.005643  |  24.74954  | 13.39283   | 487        | 295        | \n",
       "| 207932455  | Test       | PS         |   2.887837 | 285        |  24.27574  | 112.415441 |  20.474265 |  40.577206 | 1.109333   | ...        |  6603      |  30306     |  5569      |  11037     |  15.40797  | 20.504288  |  45.45046  | 13.19856   | 283        | 159        | \n",
       "| 207827656  | Test       | WS         |  40.748298 | 172        | 325.93333  | 653.606061 | 128.690909 | 346.854545 | 1.005831   | ...        | 53779      | 107681     | 21234      |  57231     | 115.00462  | 70.918444  | 184.69291  | 15.53666   | 191        | 127        | \n",
       "\n",
       "\n"
      ],
      "text/plain": [
       "  Cell      Case  Class AngleCh1   AreaCh1 AvgIntenCh1 AvgIntenCh2 AvgIntenCh3\n",
       "1 207827637 Test  PS    143.247705 185      15.71186     4.954802    9.548023 \n",
       "2 207932307 Train PS    133.752037 819      31.92327   206.878517   69.916880 \n",
       "3 207932463 Train WS    106.646387 431      28.03883   116.315534   63.941748 \n",
       "4 207932470 Train PS     69.150325 298      19.45614   102.294737   28.217544 \n",
       "5 207932455 Test  PS      2.887837 285      24.27574   112.415441   20.474265 \n",
       "6 207827656 Test  WS     40.748298 172     325.93333   653.606061  128.690909 \n",
       "  AvgIntenCh4 ConvexHullAreaRatioCh1 ... TotalIntenCh1 TotalIntenCh2\n",
       "1   2.214689  1.124509               ...  2781            701       \n",
       "2 164.153453  1.263158               ... 24964         160998       \n",
       "3 106.696602  1.053310               ... 11552          47511       \n",
       "4  31.028070  1.202625               ...  5545          28870       \n",
       "5  40.577206  1.109333               ...  6603          30306       \n",
       "6 346.854545  1.005831               ... 53779         107681       \n",
       "  TotalIntenCh3 TotalIntenCh4 VarIntenCh1 VarIntenCh3 VarIntenCh4 WidthCh1\n",
       "1  1690            392         12.47468    7.609035     2.71410   10.64297\n",
       "2 54675         128368         18.80923   56.715352   118.38814   32.16126\n",
       "3 26344          43959         17.29564   37.671053    49.47052   21.18553\n",
       "4  8042           8843         13.81897   30.005643    24.74954   13.39283\n",
       "5  5569          11037         15.40797   20.504288    45.45046   13.19856\n",
       "6 21234          57231        115.00462   70.918444   184.69291   15.53666\n",
       "  XCentroid YCentroid\n",
       "1  42        14      \n",
       "2 215       347      \n",
       "3 371       252      \n",
       "4 487       295      \n",
       "5 283       159      \n",
       "6 191       127      "
      ]
     },
     "metadata": {},
     "output_type": "display_data"
    }
   ],
   "source": [
    "data(segmentationData)\n",
    "\n",
    "# View few rows of the loaded dataset\n",
    "head(segmentationData)"
   ]
  },
  {
   "cell_type": "markdown",
   "metadata": {},
   "source": [
    "<div class=\"alert alert-danger\"></i></i><strong>Try it out!</strong><br>Using Base R technique and dplyr package exclude the first two features of the imported/loaded dataset.</strong><br>"
   ]
  },
  {
   "cell_type": "raw",
   "metadata": {},
   "source": [
    "library(dplyr)\n",
    "segmentationData <- select(segmentationData, -c(\"Cell\",\"Case\"))"
   ]
  },
  {
   "cell_type": "code",
   "execution_count": 3,
   "metadata": {},
   "outputs": [],
   "source": [
    "segmentationData <- segmentationData[, -c(1,2)]"
   ]
  },
  {
   "cell_type": "markdown",
   "metadata": {},
   "source": [
    "<div class=\"alert alert-success\"></i><strong><h3>3.0 Exploratory Data Analysis</h3></strong><br>"
   ]
  },
  {
   "cell_type": "code",
   "execution_count": 4,
   "metadata": {},
   "outputs": [
    {
     "data": {
      "text/html": [
       "<table>\n",
       "<thead><tr><th scope=col>Class</th><th scope=col>AngleCh1</th><th scope=col>AreaCh1</th><th scope=col>AvgIntenCh1</th><th scope=col>AvgIntenCh2</th><th scope=col>AvgIntenCh3</th><th scope=col>AvgIntenCh4</th><th scope=col>ConvexHullAreaRatioCh1</th><th scope=col>ConvexHullPerimRatioCh1</th><th scope=col>DiffIntenDensityCh1</th><th scope=col>...</th><th scope=col>TotalIntenCh1</th><th scope=col>TotalIntenCh2</th><th scope=col>TotalIntenCh3</th><th scope=col>TotalIntenCh4</th><th scope=col>VarIntenCh1</th><th scope=col>VarIntenCh3</th><th scope=col>VarIntenCh4</th><th scope=col>WidthCh1</th><th scope=col>XCentroid</th><th scope=col>YCentroid</th></tr></thead>\n",
       "<tbody>\n",
       "\t<tr><td>PS        </td><td>143.247705</td><td>185       </td><td> 15.71186 </td><td>  4.954802</td><td>  9.548023</td><td>  2.214689</td><td>1.124509  </td><td>0.9196827 </td><td>29.51923  </td><td>...       </td><td> 2781     </td><td>   701    </td><td> 1690     </td><td>   392    </td><td> 12.47468 </td><td> 7.609035 </td><td>  2.71410 </td><td>10.64297  </td><td> 42       </td><td> 14       </td></tr>\n",
       "\t<tr><td>PS        </td><td>133.752037</td><td>819       </td><td> 31.92327 </td><td>206.878517</td><td> 69.916880</td><td>164.153453</td><td>1.263158  </td><td>0.7970801 </td><td>31.87500  </td><td>...       </td><td>24964     </td><td>160998    </td><td>54675     </td><td>128368    </td><td> 18.80923 </td><td>56.715352 </td><td>118.38814 </td><td>32.16126  </td><td>215       </td><td>347       </td></tr>\n",
       "\t<tr><td>WS        </td><td>106.646387</td><td>431       </td><td> 28.03883 </td><td>116.315534</td><td> 63.941748</td><td>106.696602</td><td>1.053310  </td><td>0.9354750 </td><td>32.48771  </td><td>...       </td><td>11552     </td><td> 47511    </td><td>26344     </td><td> 43959    </td><td> 17.29564 </td><td>37.671053 </td><td> 49.47052 </td><td>21.18553  </td><td>371       </td><td>252       </td></tr>\n",
       "\t<tr><td>PS        </td><td> 69.150325</td><td>298       </td><td> 19.45614 </td><td>102.294737</td><td> 28.217544</td><td> 31.028070</td><td>1.202625  </td><td>0.8658291 </td><td>26.73228  </td><td>...       </td><td> 5545     </td><td> 28870    </td><td> 8042     </td><td>  8843    </td><td> 13.81897 </td><td>30.005643 </td><td> 24.74954 </td><td>13.39283  </td><td>487       </td><td>295       </td></tr>\n",
       "\t<tr><td>PS        </td><td>  2.887837</td><td>285       </td><td> 24.27574 </td><td>112.415441</td><td> 20.474265</td><td> 40.577206</td><td>1.109333  </td><td>0.9568124 </td><td>31.58065  </td><td>...       </td><td> 6603     </td><td> 30306    </td><td> 5569     </td><td> 11037    </td><td> 15.40797 </td><td>20.504288 </td><td> 45.45046 </td><td>13.19856  </td><td>283       </td><td>159       </td></tr>\n",
       "\t<tr><td>WS        </td><td> 40.748298</td><td>172       </td><td>325.93333 </td><td>653.606061</td><td>128.690909</td><td>346.854545</td><td>1.005831  </td><td>0.9926363 </td><td>92.56291  </td><td>...       </td><td>53779     </td><td>107681    </td><td>21234     </td><td> 57231    </td><td>115.00462 </td><td>70.918444 </td><td>184.69291 </td><td>15.53666  </td><td>191       </td><td>127       </td></tr>\n",
       "</tbody>\n",
       "</table>\n"
      ],
      "text/latex": [
       "\\begin{tabular}{r|lllllllllllllllllllllllllllllllllllllllllllllllllllllllllll}\n",
       " Class & AngleCh1 & AreaCh1 & AvgIntenCh1 & AvgIntenCh2 & AvgIntenCh3 & AvgIntenCh4 & ConvexHullAreaRatioCh1 & ConvexHullPerimRatioCh1 & DiffIntenDensityCh1 & ... & TotalIntenCh1 & TotalIntenCh2 & TotalIntenCh3 & TotalIntenCh4 & VarIntenCh1 & VarIntenCh3 & VarIntenCh4 & WidthCh1 & XCentroid & YCentroid\\\\\n",
       "\\hline\n",
       "\t PS         & 143.247705 & 185        &  15.71186  &   4.954802 &   9.548023 &   2.214689 & 1.124509   & 0.9196827  & 29.51923   & ...        &  2781      &    701     &  1690      &    392     &  12.47468  &  7.609035  &   2.71410  & 10.64297   &  42        &  14       \\\\\n",
       "\t PS         & 133.752037 & 819        &  31.92327  & 206.878517 &  69.916880 & 164.153453 & 1.263158   & 0.7970801  & 31.87500   & ...        & 24964      & 160998     & 54675      & 128368     &  18.80923  & 56.715352  & 118.38814  & 32.16126   & 215        & 347       \\\\\n",
       "\t WS         & 106.646387 & 431        &  28.03883  & 116.315534 &  63.941748 & 106.696602 & 1.053310   & 0.9354750  & 32.48771   & ...        & 11552      &  47511     & 26344      &  43959     &  17.29564  & 37.671053  &  49.47052  & 21.18553   & 371        & 252       \\\\\n",
       "\t PS         &  69.150325 & 298        &  19.45614  & 102.294737 &  28.217544 &  31.028070 & 1.202625   & 0.8658291  & 26.73228   & ...        &  5545      &  28870     &  8042      &   8843     &  13.81897  & 30.005643  &  24.74954  & 13.39283   & 487        & 295       \\\\\n",
       "\t PS         &   2.887837 & 285        &  24.27574  & 112.415441 &  20.474265 &  40.577206 & 1.109333   & 0.9568124  & 31.58065   & ...        &  6603      &  30306     &  5569      &  11037     &  15.40797  & 20.504288  &  45.45046  & 13.19856   & 283        & 159       \\\\\n",
       "\t WS         &  40.748298 & 172        & 325.93333  & 653.606061 & 128.690909 & 346.854545 & 1.005831   & 0.9926363  & 92.56291   & ...        & 53779      & 107681     & 21234      &  57231     & 115.00462  & 70.918444  & 184.69291  & 15.53666   & 191        & 127       \\\\\n",
       "\\end{tabular}\n"
      ],
      "text/markdown": [
       "\n",
       "Class | AngleCh1 | AreaCh1 | AvgIntenCh1 | AvgIntenCh2 | AvgIntenCh3 | AvgIntenCh4 | ConvexHullAreaRatioCh1 | ConvexHullPerimRatioCh1 | DiffIntenDensityCh1 | ... | TotalIntenCh1 | TotalIntenCh2 | TotalIntenCh3 | TotalIntenCh4 | VarIntenCh1 | VarIntenCh3 | VarIntenCh4 | WidthCh1 | XCentroid | YCentroid | \n",
       "|---|---|---|---|---|---|\n",
       "| PS         | 143.247705 | 185        |  15.71186  |   4.954802 |   9.548023 |   2.214689 | 1.124509   | 0.9196827  | 29.51923   | ...        |  2781      |    701     |  1690      |    392     |  12.47468  |  7.609035  |   2.71410  | 10.64297   |  42        |  14        | \n",
       "| PS         | 133.752037 | 819        |  31.92327  | 206.878517 |  69.916880 | 164.153453 | 1.263158   | 0.7970801  | 31.87500   | ...        | 24964      | 160998     | 54675      | 128368     |  18.80923  | 56.715352  | 118.38814  | 32.16126   | 215        | 347        | \n",
       "| WS         | 106.646387 | 431        |  28.03883  | 116.315534 |  63.941748 | 106.696602 | 1.053310   | 0.9354750  | 32.48771   | ...        | 11552      |  47511     | 26344      |  43959     |  17.29564  | 37.671053  |  49.47052  | 21.18553   | 371        | 252        | \n",
       "| PS         |  69.150325 | 298        |  19.45614  | 102.294737 |  28.217544 |  31.028070 | 1.202625   | 0.8658291  | 26.73228   | ...        |  5545      |  28870     |  8042      |   8843     |  13.81897  | 30.005643  |  24.74954  | 13.39283   | 487        | 295        | \n",
       "| PS         |   2.887837 | 285        |  24.27574  | 112.415441 |  20.474265 |  40.577206 | 1.109333   | 0.9568124  | 31.58065   | ...        |  6603      |  30306     |  5569      |  11037     |  15.40797  | 20.504288  |  45.45046  | 13.19856   | 283        | 159        | \n",
       "| WS         |  40.748298 | 172        | 325.93333  | 653.606061 | 128.690909 | 346.854545 | 1.005831   | 0.9926363  | 92.56291   | ...        | 53779      | 107681     | 21234      |  57231     | 115.00462  | 70.918444  | 184.69291  | 15.53666   | 191        | 127        | \n",
       "\n",
       "\n"
      ],
      "text/plain": [
       "  Class AngleCh1   AreaCh1 AvgIntenCh1 AvgIntenCh2 AvgIntenCh3 AvgIntenCh4\n",
       "1 PS    143.247705 185      15.71186     4.954802    9.548023    2.214689 \n",
       "2 PS    133.752037 819      31.92327   206.878517   69.916880  164.153453 \n",
       "3 WS    106.646387 431      28.03883   116.315534   63.941748  106.696602 \n",
       "4 PS     69.150325 298      19.45614   102.294737   28.217544   31.028070 \n",
       "5 PS      2.887837 285      24.27574   112.415441   20.474265   40.577206 \n",
       "6 WS     40.748298 172     325.93333   653.606061  128.690909  346.854545 \n",
       "  ConvexHullAreaRatioCh1 ConvexHullPerimRatioCh1 DiffIntenDensityCh1 ...\n",
       "1 1.124509               0.9196827               29.51923            ...\n",
       "2 1.263158               0.7970801               31.87500            ...\n",
       "3 1.053310               0.9354750               32.48771            ...\n",
       "4 1.202625               0.8658291               26.73228            ...\n",
       "5 1.109333               0.9568124               31.58065            ...\n",
       "6 1.005831               0.9926363               92.56291            ...\n",
       "  TotalIntenCh1 TotalIntenCh2 TotalIntenCh3 TotalIntenCh4 VarIntenCh1\n",
       "1  2781            701         1690            392         12.47468  \n",
       "2 24964         160998        54675         128368         18.80923  \n",
       "3 11552          47511        26344          43959         17.29564  \n",
       "4  5545          28870         8042           8843         13.81897  \n",
       "5  6603          30306         5569          11037         15.40797  \n",
       "6 53779         107681        21234          57231        115.00462  \n",
       "  VarIntenCh3 VarIntenCh4 WidthCh1 XCentroid YCentroid\n",
       "1  7.609035     2.71410   10.64297  42        14      \n",
       "2 56.715352   118.38814   32.16126 215       347      \n",
       "3 37.671053    49.47052   21.18553 371       252      \n",
       "4 30.005643    24.74954   13.39283 487       295      \n",
       "5 20.504288    45.45046   13.19856 283       159      \n",
       "6 70.918444   184.69291   15.53666 191       127      "
      ]
     },
     "metadata": {},
     "output_type": "display_data"
    }
   ],
   "source": [
    "# Lets view the dataset again to ensure the change occurred\n",
    "head(segmentationData)"
   ]
  },
  {
   "cell_type": "markdown",
   "metadata": {},
   "source": [
    "<div class=\"alert alert-danger\"></i></i><strong>Try it out!</strong><br>Check for missing values</strong><br>"
   ]
  },
  {
   "cell_type": "code",
   "execution_count": 6,
   "metadata": {},
   "outputs": [
    {
     "data": {
      "text/html": [
       "0"
      ],
      "text/latex": [
       "0"
      ],
      "text/markdown": [
       "0"
      ],
      "text/plain": [
       "[1] 0"
      ]
     },
     "metadata": {},
     "output_type": "display_data"
    }
   ],
   "source": [
    "sum(is.na(segmentationData))"
   ]
  },
  {
   "cell_type": "code",
   "execution_count": 7,
   "metadata": {},
   "outputs": [],
   "source": [
    "missing <- function(x){\n",
    "    sum(is.na(x))\n",
    "}"
   ]
  },
  {
   "cell_type": "code",
   "execution_count": 8,
   "metadata": {},
   "outputs": [
    {
     "data": {
      "text/html": [
       "<dl class=dl-horizontal>\n",
       "\t<dt>Class</dt>\n",
       "\t\t<dd>0</dd>\n",
       "\t<dt>AngleCh1</dt>\n",
       "\t\t<dd>0</dd>\n",
       "\t<dt>AreaCh1</dt>\n",
       "\t\t<dd>0</dd>\n",
       "\t<dt>AvgIntenCh1</dt>\n",
       "\t\t<dd>0</dd>\n",
       "\t<dt>AvgIntenCh2</dt>\n",
       "\t\t<dd>0</dd>\n",
       "\t<dt>AvgIntenCh3</dt>\n",
       "\t\t<dd>0</dd>\n",
       "\t<dt>AvgIntenCh4</dt>\n",
       "\t\t<dd>0</dd>\n",
       "\t<dt>ConvexHullAreaRatioCh1</dt>\n",
       "\t\t<dd>0</dd>\n",
       "\t<dt>ConvexHullPerimRatioCh1</dt>\n",
       "\t\t<dd>0</dd>\n",
       "\t<dt>DiffIntenDensityCh1</dt>\n",
       "\t\t<dd>0</dd>\n",
       "\t<dt>DiffIntenDensityCh3</dt>\n",
       "\t\t<dd>0</dd>\n",
       "\t<dt>DiffIntenDensityCh4</dt>\n",
       "\t\t<dd>0</dd>\n",
       "\t<dt>EntropyIntenCh1</dt>\n",
       "\t\t<dd>0</dd>\n",
       "\t<dt>EntropyIntenCh3</dt>\n",
       "\t\t<dd>0</dd>\n",
       "\t<dt>EntropyIntenCh4</dt>\n",
       "\t\t<dd>0</dd>\n",
       "\t<dt>EqCircDiamCh1</dt>\n",
       "\t\t<dd>0</dd>\n",
       "\t<dt>EqEllipseLWRCh1</dt>\n",
       "\t\t<dd>0</dd>\n",
       "\t<dt>EqEllipseOblateVolCh1</dt>\n",
       "\t\t<dd>0</dd>\n",
       "\t<dt>EqEllipseProlateVolCh1</dt>\n",
       "\t\t<dd>0</dd>\n",
       "\t<dt>EqSphereAreaCh1</dt>\n",
       "\t\t<dd>0</dd>\n",
       "\t<dt>EqSphereVolCh1</dt>\n",
       "\t\t<dd>0</dd>\n",
       "\t<dt>FiberAlign2Ch3</dt>\n",
       "\t\t<dd>0</dd>\n",
       "\t<dt>FiberAlign2Ch4</dt>\n",
       "\t\t<dd>0</dd>\n",
       "\t<dt>FiberLengthCh1</dt>\n",
       "\t\t<dd>0</dd>\n",
       "\t<dt>FiberWidthCh1</dt>\n",
       "\t\t<dd>0</dd>\n",
       "\t<dt>IntenCoocASMCh3</dt>\n",
       "\t\t<dd>0</dd>\n",
       "\t<dt>IntenCoocASMCh4</dt>\n",
       "\t\t<dd>0</dd>\n",
       "\t<dt>IntenCoocContrastCh3</dt>\n",
       "\t\t<dd>0</dd>\n",
       "\t<dt>IntenCoocContrastCh4</dt>\n",
       "\t\t<dd>0</dd>\n",
       "\t<dt>IntenCoocEntropyCh3</dt>\n",
       "\t\t<dd>0</dd>\n",
       "\t<dt>IntenCoocEntropyCh4</dt>\n",
       "\t\t<dd>0</dd>\n",
       "\t<dt>IntenCoocMaxCh3</dt>\n",
       "\t\t<dd>0</dd>\n",
       "\t<dt>IntenCoocMaxCh4</dt>\n",
       "\t\t<dd>0</dd>\n",
       "\t<dt>KurtIntenCh1</dt>\n",
       "\t\t<dd>0</dd>\n",
       "\t<dt>KurtIntenCh3</dt>\n",
       "\t\t<dd>0</dd>\n",
       "\t<dt>KurtIntenCh4</dt>\n",
       "\t\t<dd>0</dd>\n",
       "\t<dt>LengthCh1</dt>\n",
       "\t\t<dd>0</dd>\n",
       "\t<dt>NeighborAvgDistCh1</dt>\n",
       "\t\t<dd>0</dd>\n",
       "\t<dt>NeighborMinDistCh1</dt>\n",
       "\t\t<dd>0</dd>\n",
       "\t<dt>NeighborVarDistCh1</dt>\n",
       "\t\t<dd>0</dd>\n",
       "\t<dt>PerimCh1</dt>\n",
       "\t\t<dd>0</dd>\n",
       "\t<dt>ShapeBFRCh1</dt>\n",
       "\t\t<dd>0</dd>\n",
       "\t<dt>ShapeLWRCh1</dt>\n",
       "\t\t<dd>0</dd>\n",
       "\t<dt>ShapeP2ACh1</dt>\n",
       "\t\t<dd>0</dd>\n",
       "\t<dt>SkewIntenCh1</dt>\n",
       "\t\t<dd>0</dd>\n",
       "\t<dt>SkewIntenCh3</dt>\n",
       "\t\t<dd>0</dd>\n",
       "\t<dt>SkewIntenCh4</dt>\n",
       "\t\t<dd>0</dd>\n",
       "\t<dt>SpotFiberCountCh3</dt>\n",
       "\t\t<dd>0</dd>\n",
       "\t<dt>SpotFiberCountCh4</dt>\n",
       "\t\t<dd>0</dd>\n",
       "\t<dt>TotalIntenCh1</dt>\n",
       "\t\t<dd>0</dd>\n",
       "\t<dt>TotalIntenCh2</dt>\n",
       "\t\t<dd>0</dd>\n",
       "\t<dt>TotalIntenCh3</dt>\n",
       "\t\t<dd>0</dd>\n",
       "\t<dt>TotalIntenCh4</dt>\n",
       "\t\t<dd>0</dd>\n",
       "\t<dt>VarIntenCh1</dt>\n",
       "\t\t<dd>0</dd>\n",
       "\t<dt>VarIntenCh3</dt>\n",
       "\t\t<dd>0</dd>\n",
       "\t<dt>VarIntenCh4</dt>\n",
       "\t\t<dd>0</dd>\n",
       "\t<dt>WidthCh1</dt>\n",
       "\t\t<dd>0</dd>\n",
       "\t<dt>XCentroid</dt>\n",
       "\t\t<dd>0</dd>\n",
       "\t<dt>YCentroid</dt>\n",
       "\t\t<dd>0</dd>\n",
       "</dl>\n"
      ],
      "text/latex": [
       "\\begin{description*}\n",
       "\\item[Class] 0\n",
       "\\item[AngleCh1] 0\n",
       "\\item[AreaCh1] 0\n",
       "\\item[AvgIntenCh1] 0\n",
       "\\item[AvgIntenCh2] 0\n",
       "\\item[AvgIntenCh3] 0\n",
       "\\item[AvgIntenCh4] 0\n",
       "\\item[ConvexHullAreaRatioCh1] 0\n",
       "\\item[ConvexHullPerimRatioCh1] 0\n",
       "\\item[DiffIntenDensityCh1] 0\n",
       "\\item[DiffIntenDensityCh3] 0\n",
       "\\item[DiffIntenDensityCh4] 0\n",
       "\\item[EntropyIntenCh1] 0\n",
       "\\item[EntropyIntenCh3] 0\n",
       "\\item[EntropyIntenCh4] 0\n",
       "\\item[EqCircDiamCh1] 0\n",
       "\\item[EqEllipseLWRCh1] 0\n",
       "\\item[EqEllipseOblateVolCh1] 0\n",
       "\\item[EqEllipseProlateVolCh1] 0\n",
       "\\item[EqSphereAreaCh1] 0\n",
       "\\item[EqSphereVolCh1] 0\n",
       "\\item[FiberAlign2Ch3] 0\n",
       "\\item[FiberAlign2Ch4] 0\n",
       "\\item[FiberLengthCh1] 0\n",
       "\\item[FiberWidthCh1] 0\n",
       "\\item[IntenCoocASMCh3] 0\n",
       "\\item[IntenCoocASMCh4] 0\n",
       "\\item[IntenCoocContrastCh3] 0\n",
       "\\item[IntenCoocContrastCh4] 0\n",
       "\\item[IntenCoocEntropyCh3] 0\n",
       "\\item[IntenCoocEntropyCh4] 0\n",
       "\\item[IntenCoocMaxCh3] 0\n",
       "\\item[IntenCoocMaxCh4] 0\n",
       "\\item[KurtIntenCh1] 0\n",
       "\\item[KurtIntenCh3] 0\n",
       "\\item[KurtIntenCh4] 0\n",
       "\\item[LengthCh1] 0\n",
       "\\item[NeighborAvgDistCh1] 0\n",
       "\\item[NeighborMinDistCh1] 0\n",
       "\\item[NeighborVarDistCh1] 0\n",
       "\\item[PerimCh1] 0\n",
       "\\item[ShapeBFRCh1] 0\n",
       "\\item[ShapeLWRCh1] 0\n",
       "\\item[ShapeP2ACh1] 0\n",
       "\\item[SkewIntenCh1] 0\n",
       "\\item[SkewIntenCh3] 0\n",
       "\\item[SkewIntenCh4] 0\n",
       "\\item[SpotFiberCountCh3] 0\n",
       "\\item[SpotFiberCountCh4] 0\n",
       "\\item[TotalIntenCh1] 0\n",
       "\\item[TotalIntenCh2] 0\n",
       "\\item[TotalIntenCh3] 0\n",
       "\\item[TotalIntenCh4] 0\n",
       "\\item[VarIntenCh1] 0\n",
       "\\item[VarIntenCh3] 0\n",
       "\\item[VarIntenCh4] 0\n",
       "\\item[WidthCh1] 0\n",
       "\\item[XCentroid] 0\n",
       "\\item[YCentroid] 0\n",
       "\\end{description*}\n"
      ],
      "text/markdown": [
       "Class\n",
       ":   0AngleCh1\n",
       ":   0AreaCh1\n",
       ":   0AvgIntenCh1\n",
       ":   0AvgIntenCh2\n",
       ":   0AvgIntenCh3\n",
       ":   0AvgIntenCh4\n",
       ":   0ConvexHullAreaRatioCh1\n",
       ":   0ConvexHullPerimRatioCh1\n",
       ":   0DiffIntenDensityCh1\n",
       ":   0DiffIntenDensityCh3\n",
       ":   0DiffIntenDensityCh4\n",
       ":   0EntropyIntenCh1\n",
       ":   0EntropyIntenCh3\n",
       ":   0EntropyIntenCh4\n",
       ":   0EqCircDiamCh1\n",
       ":   0EqEllipseLWRCh1\n",
       ":   0EqEllipseOblateVolCh1\n",
       ":   0EqEllipseProlateVolCh1\n",
       ":   0EqSphereAreaCh1\n",
       ":   0EqSphereVolCh1\n",
       ":   0FiberAlign2Ch3\n",
       ":   0FiberAlign2Ch4\n",
       ":   0FiberLengthCh1\n",
       ":   0FiberWidthCh1\n",
       ":   0IntenCoocASMCh3\n",
       ":   0IntenCoocASMCh4\n",
       ":   0IntenCoocContrastCh3\n",
       ":   0IntenCoocContrastCh4\n",
       ":   0IntenCoocEntropyCh3\n",
       ":   0IntenCoocEntropyCh4\n",
       ":   0IntenCoocMaxCh3\n",
       ":   0IntenCoocMaxCh4\n",
       ":   0KurtIntenCh1\n",
       ":   0KurtIntenCh3\n",
       ":   0KurtIntenCh4\n",
       ":   0LengthCh1\n",
       ":   0NeighborAvgDistCh1\n",
       ":   0NeighborMinDistCh1\n",
       ":   0NeighborVarDistCh1\n",
       ":   0PerimCh1\n",
       ":   0ShapeBFRCh1\n",
       ":   0ShapeLWRCh1\n",
       ":   0ShapeP2ACh1\n",
       ":   0SkewIntenCh1\n",
       ":   0SkewIntenCh3\n",
       ":   0SkewIntenCh4\n",
       ":   0SpotFiberCountCh3\n",
       ":   0SpotFiberCountCh4\n",
       ":   0TotalIntenCh1\n",
       ":   0TotalIntenCh2\n",
       ":   0TotalIntenCh3\n",
       ":   0TotalIntenCh4\n",
       ":   0VarIntenCh1\n",
       ":   0VarIntenCh3\n",
       ":   0VarIntenCh4\n",
       ":   0WidthCh1\n",
       ":   0XCentroid\n",
       ":   0YCentroid\n",
       ":   0\n",
       "\n"
      ],
      "text/plain": [
       "                  Class                AngleCh1                 AreaCh1 \n",
       "                      0                       0                       0 \n",
       "            AvgIntenCh1             AvgIntenCh2             AvgIntenCh3 \n",
       "                      0                       0                       0 \n",
       "            AvgIntenCh4  ConvexHullAreaRatioCh1 ConvexHullPerimRatioCh1 \n",
       "                      0                       0                       0 \n",
       "    DiffIntenDensityCh1     DiffIntenDensityCh3     DiffIntenDensityCh4 \n",
       "                      0                       0                       0 \n",
       "        EntropyIntenCh1         EntropyIntenCh3         EntropyIntenCh4 \n",
       "                      0                       0                       0 \n",
       "          EqCircDiamCh1         EqEllipseLWRCh1   EqEllipseOblateVolCh1 \n",
       "                      0                       0                       0 \n",
       " EqEllipseProlateVolCh1         EqSphereAreaCh1          EqSphereVolCh1 \n",
       "                      0                       0                       0 \n",
       "         FiberAlign2Ch3          FiberAlign2Ch4          FiberLengthCh1 \n",
       "                      0                       0                       0 \n",
       "          FiberWidthCh1         IntenCoocASMCh3         IntenCoocASMCh4 \n",
       "                      0                       0                       0 \n",
       "   IntenCoocContrastCh3    IntenCoocContrastCh4     IntenCoocEntropyCh3 \n",
       "                      0                       0                       0 \n",
       "    IntenCoocEntropyCh4         IntenCoocMaxCh3         IntenCoocMaxCh4 \n",
       "                      0                       0                       0 \n",
       "           KurtIntenCh1            KurtIntenCh3            KurtIntenCh4 \n",
       "                      0                       0                       0 \n",
       "              LengthCh1      NeighborAvgDistCh1      NeighborMinDistCh1 \n",
       "                      0                       0                       0 \n",
       "     NeighborVarDistCh1                PerimCh1             ShapeBFRCh1 \n",
       "                      0                       0                       0 \n",
       "            ShapeLWRCh1             ShapeP2ACh1            SkewIntenCh1 \n",
       "                      0                       0                       0 \n",
       "           SkewIntenCh3            SkewIntenCh4       SpotFiberCountCh3 \n",
       "                      0                       0                       0 \n",
       "      SpotFiberCountCh4           TotalIntenCh1           TotalIntenCh2 \n",
       "                      0                       0                       0 \n",
       "          TotalIntenCh3           TotalIntenCh4             VarIntenCh1 \n",
       "                      0                       0                       0 \n",
       "            VarIntenCh3             VarIntenCh4                WidthCh1 \n",
       "                      0                       0                       0 \n",
       "              XCentroid               YCentroid \n",
       "                      0                       0 "
      ]
     },
     "metadata": {},
     "output_type": "display_data"
    }
   ],
   "source": [
    "apply(segmentationData,2, missing)"
   ]
  },
  {
   "cell_type": "code",
   "execution_count": 9,
   "metadata": {},
   "outputs": [
    {
     "name": "stdout",
     "output_type": "stream",
     "text": [
      "'data.frame':\t2019 obs. of  59 variables:\n",
      " $ Class                  : Factor w/ 2 levels \"PS\",\"WS\": 1 1 2 1 1 2 2 1 2 2 ...\n",
      " $ AngleCh1               : num  143.25 133.75 106.65 69.15 2.89 ...\n",
      " $ AreaCh1                : int  185 819 431 298 285 172 177 251 495 384 ...\n",
      " $ AvgIntenCh1            : num  15.7 31.9 28 19.5 24.3 ...\n",
      " $ AvgIntenCh2            : num  4.95 206.88 116.32 102.29 112.42 ...\n",
      " $ AvgIntenCh3            : num  9.55 69.92 63.94 28.22 20.47 ...\n",
      " $ AvgIntenCh4            : num  2.21 164.15 106.7 31.03 40.58 ...\n",
      " $ ConvexHullAreaRatioCh1 : num  1.12 1.26 1.05 1.2 1.11 ...\n",
      " $ ConvexHullPerimRatioCh1: num  0.92 0.797 0.935 0.866 0.957 ...\n",
      " $ DiffIntenDensityCh1    : num  29.5 31.9 32.5 26.7 31.6 ...\n",
      " $ DiffIntenDensityCh3    : num  13.8 43.1 36 22.9 21.7 ...\n",
      " $ DiffIntenDensityCh4    : num  6.83 79.31 51.36 26.39 25.03 ...\n",
      " $ EntropyIntenCh1        : num  4.97 6.09 5.88 5.42 5.66 ...\n",
      " $ EntropyIntenCh3        : num  4.37 6.64 6.68 5.44 5.29 ...\n",
      " $ EntropyIntenCh4        : num  2.72 7.88 7.14 5.78 5.24 ...\n",
      " $ EqCircDiamCh1          : num  15.4 32.3 23.4 19.5 19.1 ...\n",
      " $ EqEllipseLWRCh1        : num  3.06 1.56 1.38 3.39 2.74 ...\n",
      " $ EqEllipseOblateVolCh1  : num  337 2233 802 725 608 ...\n",
      " $ EqEllipseProlateVolCh1 : num  110 1433 583 214 222 ...\n",
      " $ EqSphereAreaCh1        : num  742 3279 1727 1195 1140 ...\n",
      " $ EqSphereVolCh1         : num  1901 17654 6751 3884 3621 ...\n",
      " $ FiberAlign2Ch3         : num  1 1.49 1.3 1.22 1.49 ...\n",
      " $ FiberAlign2Ch4         : num  1 1.35 1.52 1.73 1.38 ...\n",
      " $ FiberLengthCh1         : num  27 64.3 21.1 43.1 34.7 ...\n",
      " $ FiberWidthCh1          : num  7.41 13.17 21.14 7.4 8.48 ...\n",
      " $ IntenCoocASMCh3        : num  0.01118 0.02805 0.00686 0.03096 0.02277 ...\n",
      " $ IntenCoocASMCh4        : num  0.05045 0.01259 0.00614 0.01103 0.07969 ...\n",
      " $ IntenCoocContrastCh3   : num  40.75 8.23 14.45 7.3 15.85 ...\n",
      " $ IntenCoocContrastCh4   : num  13.9 6.98 16.7 13.39 3.54 ...\n",
      " $ IntenCoocEntropyCh3    : num  7.2 6.82 7.58 6.31 6.78 ...\n",
      " $ IntenCoocEntropyCh4    : num  5.25 7.1 7.67 7.2 5.5 ...\n",
      " $ IntenCoocMaxCh3        : num  0.0774 0.1532 0.0284 0.1628 0.1274 ...\n",
      " $ IntenCoocMaxCh4        : num  0.172 0.0739 0.0232 0.0775 0.2785 ...\n",
      " $ KurtIntenCh1           : num  -0.6567 -0.2488 -0.2935 0.6259 0.0421 ...\n",
      " $ KurtIntenCh3           : num  -0.608 -0.331 1.051 0.128 0.952 ...\n",
      " $ KurtIntenCh4           : num  0.726 -0.265 0.151 -0.347 -0.195 ...\n",
      " $ LengthCh1              : num  26.2 47.2 28.1 37.9 36 ...\n",
      " $ NeighborAvgDistCh1     : num  370 174 158 206 205 ...\n",
      " $ NeighborMinDistCh1     : num  99.1 30.1 34.9 33.1 27 ...\n",
      " $ NeighborVarDistCh1     : num  128 81.4 90.4 116.9 111 ...\n",
      " $ PerimCh1               : num  68.8 154.9 84.6 101.1 86.5 ...\n",
      " $ ShapeBFRCh1            : num  0.665 0.54 0.724 0.589 0.6 ...\n",
      " $ ShapeLWRCh1            : num  2.46 1.47 1.33 2.83 2.73 ...\n",
      " $ ShapeP2ACh1            : num  1.88 2.26 1.27 2.55 2.02 ...\n",
      " $ SkewIntenCh1           : num  0.455 0.399 0.472 0.882 0.517 ...\n",
      " $ SkewIntenCh3           : num  0.46 0.62 0.971 1 1.177 ...\n",
      " $ SkewIntenCh4           : num  1.233 0.527 0.325 0.604 0.926 ...\n",
      " $ SpotFiberCountCh3      : int  1 4 2 4 1 1 0 2 1 1 ...\n",
      " $ SpotFiberCountCh4      : num  5 12 7 8 8 5 5 8 12 8 ...\n",
      " $ TotalIntenCh1          : int  2781 24964 11552 5545 6603 53779 43950 4401 7593 6512 ...\n",
      " $ TotalIntenCh2          : num  701 160998 47511 28870 30306 ...\n",
      " $ TotalIntenCh3          : int  1690 54675 26344 8042 5569 21234 20929 4136 6488 7503 ...\n",
      " $ TotalIntenCh4          : int  392 128368 43959 8843 11037 57231 46187 373 24325 23162 ...\n",
      " $ VarIntenCh1            : num  12.5 18.8 17.3 13.8 15.4 ...\n",
      " $ VarIntenCh3            : num  7.61 56.72 37.67 30.01 20.5 ...\n",
      " $ VarIntenCh4            : num  2.71 118.39 49.47 24.75 45.45 ...\n",
      " $ WidthCh1               : num  10.6 32.2 21.2 13.4 13.2 ...\n",
      " $ XCentroid              : int  42 215 371 487 283 191 180 373 236 303 ...\n",
      " $ YCentroid              : int  14 347 252 295 159 127 138 181 467 468 ...\n"
     ]
    }
   ],
   "source": [
    "# Let us view the structure of the dataset\n",
    "str(segmentationData)"
   ]
  },
  {
   "cell_type": "code",
   "execution_count": 10,
   "metadata": {
    "scrolled": false
   },
   "outputs": [
    {
     "data": {
      "text/plain": [
       " Class        AngleCh1            AreaCh1        AvgIntenCh1     \n",
       " PS:1300   Min.   :  0.03088   Min.   : 150.0   Min.   :  15.16  \n",
       " WS: 719   1st Qu.: 53.89221   1st Qu.: 193.0   1st Qu.:  35.36  \n",
       "           Median : 90.58877   Median : 253.0   Median :  62.34  \n",
       "           Mean   : 90.49340   Mean   : 320.3   Mean   : 126.07  \n",
       "           3rd Qu.:126.68201   3rd Qu.: 362.5   3rd Qu.: 143.19  \n",
       "           Max.   :179.93932   Max.   :2186.0   Max.   :1418.63  \n",
       "  AvgIntenCh2     AvgIntenCh3       AvgIntenCh4       ConvexHullAreaRatioCh1\n",
       " Min.   :  1.0   Min.   :   0.12   Min.   :  0.5633   Min.   :1.006         \n",
       " 1st Qu.: 45.0   1st Qu.:  33.50   1st Qu.: 40.6797   1st Qu.:1.065         \n",
       " Median :173.5   Median :  67.43   Median : 90.2500   Median :1.149         \n",
       " Mean   :189.1   Mean   :  96.42   Mean   :140.7016   Mean   :1.206         \n",
       " 3rd Qu.:279.3   3rd Qu.: 127.34   3rd Qu.:191.1704   3rd Qu.:1.281         \n",
       " Max.   :989.5   Max.   :1205.51   Max.   :886.8375   Max.   :2.900         \n",
       " ConvexHullPerimRatioCh1 DiffIntenDensityCh1 DiffIntenDensityCh3\n",
       " Min.   :0.5106          Min.   : 25.76      Min.   :  1.414    \n",
       " 1st Qu.:0.8570          1st Qu.: 43.53      1st Qu.: 29.026    \n",
       " Median :0.9133          Median : 55.81      Median : 54.141    \n",
       " Mean   :0.8958          Mean   : 72.66      Mean   : 74.328    \n",
       " 3rd Qu.:0.9556          3rd Qu.: 79.91      3rd Qu.: 96.858    \n",
       " Max.   :0.9965          Max.   :442.77      Max.   :470.690    \n",
       " DiffIntenDensityCh4 EntropyIntenCh1 EntropyIntenCh3  EntropyIntenCh4 \n",
       " Min.   :  2.307     Min.   :4.708   Min.   :0.2167   Min.   :0.3734  \n",
       " 1st Qu.: 31.679     1st Qu.:6.029   1st Qu.:4.6120   1st Qu.:4.6667  \n",
       " Median : 60.090     Median :6.572   Median :5.8492   Median :5.8039  \n",
       " Mean   : 87.183     Mean   :6.578   Mean   :5.4820   Mean   :5.5067  \n",
       " 3rd Qu.:115.064     3rd Qu.:7.038   3rd Qu.:6.6059   3rd Qu.:6.6638  \n",
       " Max.   :531.347     Max.   :9.476   Max.   :8.0128   Max.   :8.2733  \n",
       " EqCircDiamCh1   EqEllipseLWRCh1  EqEllipseOblateVolCh1 EqEllipseProlateVolCh1\n",
       " Min.   :13.86   Min.   : 1.009   Min.   :  146.5       Min.   :  63.85       \n",
       " 1st Qu.:15.71   1st Qu.: 1.415   1st Qu.:  277.6       1st Qu.: 148.36       \n",
       " Median :17.97   Median : 1.825   Median :  433.3       Median : 224.36       \n",
       " Mean   :19.48   Mean   : 2.108   Mean   :  714.7       Mean   : 361.57       \n",
       " 3rd Qu.:21.50   3rd Qu.: 2.450   3rd Qu.:  785.1       3rd Qu.: 383.89       \n",
       " Max.   :52.76   Max.   :11.312   Max.   :11689.0       Max.   :6314.82       \n",
       " EqSphereAreaCh1  EqSphereVolCh1  FiberAlign2Ch3  FiberAlign2Ch4 \n",
       " Min.   : 603.8   Min.   : 1395   Min.   :1.000   Min.   :1.000  \n",
       " 1st Qu.: 775.7   1st Qu.: 2031   1st Qu.:1.290   1st Qu.:1.260  \n",
       " Median :1014.6   Median : 3039   Median :1.469   Median :1.454  \n",
       " Mean   :1283.4   Mean   : 4918   Mean   :1.454   Mean   :1.430  \n",
       " 3rd Qu.:1452.8   3rd Qu.: 5207   3rd Qu.:1.648   3rd Qu.:1.620  \n",
       " Max.   :8746.1   Max.   :76912   Max.   :2.000   Max.   :2.000  \n",
       " FiberLengthCh1   FiberWidthCh1    IntenCoocASMCh3    IntenCoocASMCh4   \n",
       " Min.   : 11.87   Min.   : 4.385   Min.   :0.004588   Min.   :0.004514  \n",
       " 1st Qu.: 20.86   1st Qu.: 7.321   1st Qu.:0.009965   1st Qu.:0.017555  \n",
       " Median : 29.29   Median : 9.608   Median :0.037385   Median :0.049370  \n",
       " Mean   : 34.72   Mean   :10.274   Mean   :0.099526   Mean   :0.098010  \n",
       " 3rd Qu.: 41.08   3rd Qu.:12.641   3rd Qu.:0.127312   3rd Qu.:0.114280  \n",
       " Max.   :220.23   Max.   :33.171   Max.   :0.936603   Max.   :0.881854  \n",
       " IntenCoocContrastCh3 IntenCoocContrastCh4 IntenCoocEntropyCh3\n",
       " Min.   : 0.01627     Min.   : 0.03444     Min.   :0.2546     \n",
       " 1st Qu.: 4.28495     1st Qu.: 4.05663     1st Qu.:5.0161     \n",
       " Median : 8.48621     Median : 6.42411     Median :6.3618     \n",
       " Mean   : 9.92910     Mean   : 7.87706     Mean   :5.8918     \n",
       " 3rd Qu.:13.81686     3rd Qu.: 9.92002     3rd Qu.:7.1103     \n",
       " Max.   :59.05366     Max.   :61.55833     Max.   :8.0684     \n",
       " IntenCoocEntropyCh4 IntenCoocMaxCh3   IntenCoocMaxCh4    KurtIntenCh1     \n",
       " Min.   :0.422       Min.   :0.01429   Min.   :0.01342   Min.   :-1.40260  \n",
       " 1st Qu.:5.101       1st Qu.:0.05117   1st Qu.:0.10760   1st Qu.:-0.48851  \n",
       " Median :6.087       Median :0.17978   Median :0.21189   Median :-0.00892  \n",
       " Mean   :5.752       Mean   :0.23196   Mean   :0.24671   Mean   : 0.82479  \n",
       " 3rd Qu.:6.805       3rd Qu.:0.35331   3rd Qu.:0.33712   3rd Qu.: 0.88109  \n",
       " Max.   :8.071       Max.   :0.96833   Max.   :0.94037   Max.   :97.42140  \n",
       "  KurtIntenCh3      KurtIntenCh4       LengthCh1      NeighborAvgDistCh1\n",
       " Min.   :-1.3525   Min.   :-1.5566   Min.   : 14.90   Min.   :146.1     \n",
       " 1st Qu.: 0.1026   1st Qu.:-0.8313   1st Qu.: 22.13   1st Qu.:197.0     \n",
       " Median : 1.4168   Median :-0.3118   Median : 27.32   Median :227.0     \n",
       " Mean   : 3.3396   Mean   : 0.9720   Mean   : 30.36   Mean   :231.1     \n",
       " 3rd Qu.: 3.9921   3rd Qu.: 0.7470   3rd Qu.: 34.84   3rd Qu.:261.1     \n",
       " Max.   :99.9808   Max.   :82.7162   Max.   :102.96   Max.   :375.8     \n",
       " NeighborMinDistCh1 NeighborVarDistCh1    PerimCh1       ShapeBFRCh1    \n",
       " Min.   : 10.08     Min.   : 56.89     Min.   : 47.49   Min.   :0.1944  \n",
       " 1st Qu.: 22.55     1st Qu.: 87.91     1st Qu.: 64.15   1st Qu.:0.5308  \n",
       " Median : 27.64     Median :107.22     Median : 77.50   Median :0.6041  \n",
       " Mean   : 29.69     Mean   :105.14     Mean   : 89.98   Mean   :0.5959  \n",
       " 3rd Qu.: 34.08     3rd Qu.:121.61     3rd Qu.:100.52   3rd Qu.:0.6725  \n",
       " Max.   :126.99     Max.   :159.30     Max.   :459.77   Max.   :0.8885  \n",
       "  ShapeLWRCh1     ShapeP2ACh1     SkewIntenCh1      SkewIntenCh3    \n",
       " Min.   :1.002   Min.   :1.005   Min.   :-2.6657   Min.   :-1.1136  \n",
       " 1st Qu.:1.329   1st Qu.:1.378   1st Qu.: 0.2823   1st Qu.: 0.8164  \n",
       " Median :1.626   Median :1.777   Median : 0.6093   Median : 1.3049  \n",
       " Mean   :1.808   Mean   :2.050   Mean   : 0.6870   Mean   : 1.4892  \n",
       " 3rd Qu.:2.062   3rd Qu.:2.383   3rd Qu.: 0.9796   3rd Qu.: 1.9166  \n",
       " Max.   :7.759   Max.   :8.104   Max.   : 6.8754   Max.   : 9.6690  \n",
       "  SkewIntenCh4     SpotFiberCountCh3 SpotFiberCountCh4 TotalIntenCh1   \n",
       " Min.   :-1.0044   Min.   : 0.000    Min.   : 1.000    Min.   :  2382  \n",
       " 1st Qu.: 0.4035   1st Qu.: 1.000    1st Qu.: 4.000    1st Qu.:  9500  \n",
       " Median : 0.7283   Median : 2.000    Median : 6.000    Median : 18285  \n",
       " Mean   : 0.9325   Mean   : 1.883    Mean   : 6.825    Mean   : 37245  \n",
       " 3rd Qu.: 1.2254   3rd Qu.: 3.000    3rd Qu.: 8.000    3rd Qu.: 35717  \n",
       " Max.   : 8.0690   Max.   :16.000    Max.   :50.000    Max.   :741411  \n",
       " TotalIntenCh2    TotalIntenCh3    TotalIntenCh4     VarIntenCh1    \n",
       " Min.   :     1   Min.   :    24   Min.   :    96   Min.   : 11.47  \n",
       " 1st Qu.: 14367   1st Qu.:  8776   1st Qu.:  9939   1st Qu.: 25.30  \n",
       " Median : 49220   Median : 18749   Median : 24839   Median : 42.50  \n",
       " Mean   : 52258   Mean   : 26760   Mean   : 40551   Mean   : 72.20  \n",
       " 3rd Qu.: 72495   3rd Qu.: 35277   3rd Qu.: 55004   3rd Qu.: 81.77  \n",
       " Max.   :363311   Max.   :313433   Max.   :519602   Max.   :642.02  \n",
       "  VarIntenCh3        VarIntenCh4         WidthCh1        XCentroid    \n",
       " Min.   :  0.8693   Min.   :  2.301   Min.   : 6.393   Min.   :  9.0  \n",
       " 1st Qu.: 36.7047   1st Qu.: 47.427   1st Qu.:13.820   1st Qu.:142.0  \n",
       " Median : 69.1166   Median : 87.251   Median :16.188   Median :262.0  \n",
       " Mean   : 98.5549   Mean   :120.021   Mean   :17.624   Mean   :260.7  \n",
       " 3rd Qu.:123.8391   3rd Qu.:159.137   3rd Qu.:19.784   3rd Qu.:382.0  \n",
       " Max.   :757.0210   Max.   :933.524   Max.   :54.745   Max.   :501.0  \n",
       "   YCentroid    \n",
       " Min.   :  8.0  \n",
       " 1st Qu.: 88.0  \n",
       " Median :165.0  \n",
       " Mean   :177.3  \n",
       " 3rd Qu.:253.0  \n",
       " Max.   :501.0  "
      ]
     },
     "metadata": {},
     "output_type": "display_data"
    }
   ],
   "source": [
    "summary(segmentationData)"
   ]
  },
  {
   "cell_type": "markdown",
   "metadata": {},
   "source": [
    "<div class=\"alert alert-success\"></i><strong><h3>4.0 Training and Testing Data Split</h3></strong><br>"
   ]
  },
  {
   "cell_type": "markdown",
   "metadata": {},
   "source": [
    "<div class=\"alert alert-danger\"></i></i><strong>Try it out!</strong><br>Using the loaded caret function \"createDataPartition\", create a train/test split. Make the training dataset 70% and use a seed of 101</strong><br>"
   ]
  },
  {
   "cell_type": "code",
   "execution_count": 5,
   "metadata": {
    "slideshow": {
     "slide_type": "slide"
    }
   },
   "outputs": [],
   "source": [
    "# Training SVM Models\n",
    "# Load the data and create training and test samples.\n",
    "# use set.seed for reproducibility\n",
    "set.seed(101)\n",
    "\n",
    "# split the dataset\n",
    "trainRows <- createDataPartition(segmentationData$Class,p=0.7,list=FALSE)\n",
    "trainData <- segmentationData[trainRows, ]\n",
    "testData  <- segmentationData[-trainRows, ]"
   ]
  },
  {
   "cell_type": "code",
   "execution_count": 6,
   "metadata": {},
   "outputs": [
    {
     "data": {
      "text/plain": [
       "\n",
       "  PS   WS \n",
       "1300  719 "
      ]
     },
     "metadata": {},
     "output_type": "display_data"
    }
   ],
   "source": [
    "# View the class count Since the the classes are very imbalance we would have to instruct the model to balance it\n",
    "table(segmentationData$Class)"
   ]
  },
  {
   "cell_type": "code",
   "execution_count": 8,
   "metadata": {},
   "outputs": [],
   "source": [
    "# Set the Tuning parameters for all models that will be developed\n",
    "set.seed(100)                     \n",
    "# setup trainControl\n",
    "ctrl <- trainControl(method=\"repeatedcv\",                   # 10 fold cross validation\n",
    "                     repeats=5,                             # 5 repeats of cv\n",
    "                     summaryFunction=twoClassSummary,       # To get AUROC, use multiClassSummary otherwise\n",
    "                     classProbs=TRUE,\n",
    "                     sampling='up')"
   ]
  },
  {
   "cell_type": "code",
   "execution_count": 9,
   "metadata": {},
   "outputs": [
    {
     "name": "stdout",
     "output_type": "stream",
     "text": [
      "line search fails -1.145547 0.09106612 1.041777e-05 -1.538609e-06 -3.21873e-08 1.212841e-08 -3.539809e-13"
     ]
    },
    {
     "data": {
      "text/plain": [
       "Support Vector Machines with Linear Kernel \n",
       "\n",
       "1414 samples\n",
       "  58 predictor\n",
       "   2 classes: 'PS', 'WS' \n",
       "\n",
       "Pre-processing: centered (58), scaled (58) \n",
       "Resampling: Cross-Validated (10 fold, repeated 5 times) \n",
       "Summary of sample sizes: 1272, 1272, 1273, 1273, 1272, 1273, ... \n",
       "Addtional sampling using up-sampling prior to pre-processing\n",
       "\n",
       "Resampling results across tuning parameters:\n",
       "\n",
       "  C     ROC        Sens       Spec     \n",
       "  0.10  0.8868924  0.8074725  0.8280471\n",
       "  0.25  0.8812540  0.8116170  0.8343257\n",
       "  0.50  0.8893850  0.8167033  0.8216549\n",
       "  0.75  0.8873760  0.8127473  0.8233020\n",
       "\n",
       "ROC was used to select the optimal model using the largest value.\n",
       "The final value used for the model was C = 0.5."
      ]
     },
     "metadata": {},
     "output_type": "display_data"
    }
   ],
   "source": [
    "# set the number of C for the svmLinear model.\n",
    "# this is the only tuning parameter for this model\n",
    "# if in doubt check the caret package page\n",
    "grid <- expand.grid(C = c(0.1, 0.25, 0.50, 0.75)) \n",
    "\n",
    "# Train and Tune the SVM with a linear kernel\n",
    "svmLin_mod <- train(Class ~ ., data = trainData, \n",
    "                    method = \"svmLinear\",\n",
    "                    preProc = c(\"center\",\"scale\"),\n",
    "                    metric=\"ROC\",\n",
    "                    tuneGrid = grid,\n",
    "                    trControl=ctrl)\n",
    "svmLin_mod"
   ]
  },
  {
   "cell_type": "code",
   "execution_count": 10,
   "metadata": {},
   "outputs": [
    {
     "data": {
      "text/plain": [
       "Support Vector Machines with Radial Basis Function Kernel \n",
       "\n",
       "1414 samples\n",
       "  58 predictor\n",
       "   2 classes: 'PS', 'WS' \n",
       "\n",
       "Pre-processing: centered (58), scaled (58) \n",
       "Resampling: Cross-Validated (10 fold, repeated 5 times) \n",
       "Summary of sample sizes: 1273, 1273, 1273, 1272, 1272, 1273, ... \n",
       "Addtional sampling using up-sampling prior to pre-processing\n",
       "\n",
       "Resampling results across tuning parameters:\n",
       "\n",
       "  sigma  C     ROC        Sens       Spec     \n",
       "  0.010  0.25  0.8866175  0.7991209  0.8385255\n",
       "  0.010  0.50  0.8934991  0.8068132  0.8424941\n",
       "  0.010  0.75  0.8952167  0.8120879  0.8401176\n",
       "  0.010  1.00  0.8980382  0.8186813  0.8389725\n",
       "  0.010  1.25  0.8988592  0.8213187  0.8377647\n",
       "  0.010  1.50  0.9006306  0.8272527  0.8301725\n",
       "  0.015  0.25  0.8898016  0.8017582  0.8326039\n",
       "  0.015  0.50  0.8961220  0.8175824  0.8333725\n",
       "  0.015  0.75  0.8981451  0.8230769  0.8333569\n",
       "  0.015  1.00  0.8990092  0.8287912  0.8167059\n",
       "  0.015  1.25  0.8996708  0.8338462  0.8146745\n",
       "  0.015  1.50  0.8992594  0.8367033  0.8059608\n",
       "  0.200  0.25  0.8479055  0.9156044  0.4183843\n",
       "  0.200  0.50  0.8490349  0.9437363  0.3333020\n",
       "  0.200  0.75  0.8507020  0.9498901  0.3341020\n",
       "  0.200  1.00  0.8515259  0.9602198  0.3034980\n",
       "  0.200  1.25  0.8531148  0.9606593  0.2991686\n",
       "  0.200  1.50  0.8528108  0.9597802  0.3020157\n",
       "\n",
       "ROC was used to select the optimal model using the largest value.\n",
       "The final values used for the model were sigma = 0.01 and C = 1.5."
      ]
     },
     "metadata": {},
     "output_type": "display_data"
    }
   ],
   "source": [
    "# Set the Tuning parameters for Radial Kernel, this has two parameters\n",
    "# Setup model tuning  set the number of sigma and C\n",
    "grid <- expand.grid(sigma = c(0.01, 0.015, 0.2),\n",
    "                    C = c(0.25, 0.5, 0.75, 1, 1.25, 1.5))\n",
    "\n",
    "# Train and Tune the SVM for Radial Kernel\n",
    "svmRad_mod <- train(Class ~ ., data = trainData, \n",
    "                    method = \"svmRadial\",\n",
    "                    preProc = c(\"center\", \"scale\"), \n",
    "                    metric=\"ROC\", \n",
    "                    tuneGrid = grid,\n",
    "                    trControl=ctrl)\n",
    "\n",
    "svmRad_mod"
   ]
  },
  {
   "cell_type": "code",
   "execution_count": 11,
   "metadata": {},
   "outputs": [
    {
     "data": {
      "text/plain": [
       "Support Vector Machines with Polynomial Kernel \n",
       "\n",
       "1414 samples\n",
       "  58 predictor\n",
       "   2 classes: 'PS', 'WS' \n",
       "\n",
       "Pre-processing: centered (58), scaled (58) \n",
       "Resampling: Cross-Validated (10 fold, repeated 5 times) \n",
       "Summary of sample sizes: 1273, 1273, 1273, 1272, 1273, 1272, ... \n",
       "Addtional sampling using up-sampling prior to pre-processing\n",
       "\n",
       "Resampling results across tuning parameters:\n",
       "\n",
       "  degree  scale  C     ROC        Sens       Spec     \n",
       "  1       0.001  0.25  0.8572105  0.7617582  0.8214588\n",
       "  1       0.001  0.50  0.8613320  0.7670330  0.8250118\n",
       "  1       0.001  1.00  0.8657180  0.7709890  0.8305412\n",
       "  1       0.010  0.25  0.8694865  0.7786813  0.8353176\n",
       "  1       0.010  0.50  0.8732804  0.7859341  0.8345490\n",
       "  1       0.010  1.00  0.8781037  0.7907692  0.8361490\n",
       "  1       0.100  0.25  0.8837978  0.7967033  0.8293098\n",
       "  1       0.100  0.50  0.8872603  0.8028571  0.8281098\n",
       "  1       0.100  1.00  0.8878041  0.8059341  0.8301176\n",
       "  2       0.001  0.25  0.8623843  0.7692308  0.8250118\n",
       "  2       0.001  0.50  0.8668908  0.7738462  0.8329176\n",
       "  2       0.001  1.00  0.8709862  0.7802198  0.8341490\n",
       "  2       0.010  0.25  0.8858645  0.7971429  0.8457020\n",
       "  2       0.010  0.50  0.8886868  0.8065934  0.8445098\n",
       "  2       0.010  1.00  0.8929056  0.8094505  0.8445020\n",
       "  2       0.100  0.25  0.8694986  0.8125275  0.7865176\n",
       "  2       0.100  0.50  0.8630623  0.8103297  0.7627059\n",
       "  2       0.100  1.00  0.8560608  0.8050549  0.7571686\n",
       "  3       0.001  0.25  0.8670212  0.7731868  0.8301176\n",
       "  3       0.001  0.50  0.8706936  0.7793407  0.8373176\n",
       "  3       0.001  1.00  0.8759585  0.7883516  0.8388549\n",
       "  3       0.010  0.25  0.8915641  0.8105495  0.8381333\n",
       "  3       0.010  0.50  0.8942133  0.8184615  0.8377490\n",
       "  3       0.010  1.00  0.8912448  0.8235165  0.8230824\n",
       "  3       0.100  0.25  0.8346999  0.8200000  0.7023608\n",
       "  3       0.100  0.50  0.8328927  0.8162637  0.7000078\n",
       "  3       0.100  1.00  0.8326075  0.8162637  0.6992314\n",
       "\n",
       "ROC was used to select the optimal model using the largest value.\n",
       "The final values used for the model were degree = 3, scale = 0.01 and C = 0.5."
      ]
     },
     "metadata": {},
     "output_type": "display_data"
    }
   ],
   "source": [
    "# Set the Tuning parameters for Polynomial Kernel\n",
    "grid <- expand.grid(C = c(0.25, 0.5, 0.75, 1, 1.25, 1.5),\n",
    "                    degree=c(1, 2, 3, 4),\n",
    "                    scale=c(.001, 0.01, 0.1)) \n",
    "\n",
    "# Train and Tune the SVM with Polynomial Kernel\n",
    "svmPoly_mod <- train(Class ~ ., data = trainData, \n",
    "                     method = \"svmPoly\",\n",
    "                     preProc = c(\"center\",\"scale\"),\n",
    "                     metric=\"ROC\",tuneLength = 3,\n",
    "                     trControl=ctrl)\n",
    "svmPoly_mod"
   ]
  },
  {
   "cell_type": "code",
   "execution_count": 12,
   "metadata": {},
   "outputs": [
    {
     "data": {
      "text/plain": [
       "\n",
       "Call:\n",
       "summary.resamples(object = comparisons)\n",
       "\n",
       "Models: linear, radial, Polynomial \n",
       "Number of resamples: 50 \n",
       "\n",
       "ROC \n",
       "                Min.   1st Qu.    Median      Mean   3rd Qu.      Max. NA's\n",
       "linear     0.8470157 0.8745604 0.8861883 0.8893850 0.9019619 0.9407455    0\n",
       "radial     0.8413187 0.8873077 0.9040444 0.9006306 0.9129498 0.9461323    0\n",
       "Polynomial 0.8134066 0.8800496 0.8971429 0.8942133 0.9123012 0.9351433    0\n",
       "\n",
       "Sens \n",
       "                Min.   1st Qu.    Median      Mean   3rd Qu.      Max. NA's\n",
       "linear     0.7142857 0.7912088 0.8131868 0.8167033 0.8461538 0.9340659    0\n",
       "radial     0.7362637 0.7912088 0.8241758 0.8272527 0.8571429 0.9230769    0\n",
       "Polynomial 0.7362637 0.7912088 0.8241758 0.8184615 0.8434066 0.9120879    0\n",
       "\n",
       "Spec \n",
       "               Min.   1st Qu.    Median      Mean   3rd Qu.      Max. NA's\n",
       "linear     0.700000 0.7882353 0.8235294 0.8216549 0.8600000 0.9200000    0\n",
       "radial     0.700000 0.8009804 0.8400000 0.8301725 0.8620588 0.9019608    0\n",
       "Polynomial 0.745098 0.8200000 0.8400000 0.8377490 0.8620588 0.9400000    0\n"
      ]
     },
     "metadata": {},
     "output_type": "display_data"
    }
   ],
   "source": [
    "#Let us Compare models all the models now\n",
    "comparisons <- resamples(list(linear=svmLin_mod, radial=svmRad_mod,Polynomial=svmPoly_mod))\n",
    "summary(comparisons)\n",
    "#comparisons$values"
   ]
  },
  {
   "cell_type": "code",
   "execution_count": 13,
   "metadata": {},
   "outputs": [
    {
     "data": {},
     "metadata": {},
     "output_type": "display_data"
    },
    {
     "data": {
      "image/png": "[encoded data removed]",
      "text/plain": [
       "plot without title"
      ]
     },
     "metadata": {},
     "output_type": "display_data"
    }
   ],
   "source": [
    "# make a boxplot to compare kernel performance\n",
    "bwplot(comparisons,metric=\"ROC\", ylab =c(\"Linear\", \"Radial\",\"Polynomial\"))  # boxplot"
   ]
  },
  {
   "cell_type": "code",
   "execution_count": 14,
   "metadata": {},
   "outputs": [
    {
     "data": {
      "text/plain": [
       "Confusion Matrix and Statistics\n",
       "\n",
       "          Reference\n",
       "Prediction  PS  WS\n",
       "        PS 323  49\n",
       "        WS  67 166\n",
       "                                          \n",
       "               Accuracy : 0.8083          \n",
       "                 95% CI : (0.7746, 0.8389)\n",
       "    No Information Rate : 0.6446          \n",
       "    P-Value [Acc > NIR] : <2e-16          \n",
       "                                          \n",
       "                  Kappa : 0.5892          \n",
       "                                          \n",
       " Mcnemar's Test P-Value : 0.1145          \n",
       "                                          \n",
       "            Sensitivity : 0.7721          \n",
       "            Specificity : 0.8282          \n",
       "         Pos Pred Value : 0.7124          \n",
       "         Neg Pred Value : 0.8683          \n",
       "             Prevalence : 0.3554          \n",
       "         Detection Rate : 0.2744          \n",
       "   Detection Prevalence : 0.3851          \n",
       "      Balanced Accuracy : 0.8001          \n",
       "                                          \n",
       "       'Positive' Class : WS              \n",
       "                                          "
      ]
     },
     "metadata": {},
     "output_type": "display_data"
    }
   ],
   "source": [
    "# Predict\n",
    "pred <- predict(svmRad_mod, testData)\n",
    "caret::confusionMatrix(pred, testData$Class, positive = \"WS\")"
   ]
  },
  {
   "cell_type": "code",
   "execution_count": null,
   "metadata": {},
   "outputs": [],
   "source": []
  }
 ],
 "metadata": {
  "kernelspec": {
   "display_name": "R 3.5",
   "language": "R",
   "name": "ir35"
  },
  "language_info": {
   "codemirror_mode": "r",
   "file_extension": ".r",
   "mimetype": "text/x-r-source",
   "name": "R",
   "pygments_lexer": "r",
   "version": "3.5.1"
  }
 },
 "nbformat": 4,
 "nbformat_minor": 2
}
