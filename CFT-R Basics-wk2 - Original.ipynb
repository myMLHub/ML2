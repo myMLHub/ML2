{
 "cells": [
  {
   "cell_type": "markdown",
   "metadata": {},
   "source": [
    "<div class=\"alert alert-warning\"></i><strong>CFT Data Science With R Tutorials</strong><br>By: Seiya David \n",
    " </div>"
   ]
  },
  {
   "cell_type": "markdown",
   "metadata": {},
   "source": [
    " <div class=\"alert alert-success\"></i><strong>1.0 What is R</strong>\n",
    " </div>\n",
    "R is a language for statistical computing and graphics as well as an environment within which statistical techniques are implemented.R is equiped with wide verity of advance statistical, Mathematical and graphical techniques and is the number choice for research in statistical methodology and it's an Open Source application (i.e free to download).\n",
    "R compiles and runs on a wide variety of Operating Systems such as Linux, Windows and MacOS.\n",
    "\n",
    " <div class=\"alert alert-success\"></i><strong>1.1 Installation of R</strong>\n",
    " </div>\n",
    "To get R installed on your machine click on the appropirate link below and follow the instructions\n",
    "* [For Windows Computer](https://cran.r-project.org/bin/windows/base/)\n",
    "* [For Mac OS X Computer](https://cran.r-project.org/bin/macosx/)\n",
    "\n",
    "When the Base R installation is complete, click on the following link below to install RStudio<br>\n",
    "* [Download RStudio](https://www.rstudio.com/products/rstudio/download/)\n",
    "*Note: RStudio is an IDE(Integrated Development Enviroment) that ehances programming in Rwith rich intellicence and more*"
   ]
  },
  {
   "cell_type": "markdown",
   "metadata": {},
   "source": [
    "<div class=\"alert alert-success\"></i><strong>1.2 Getting started with packages</strong>\n",
    " </div>\n",
    "An R package is a collection of functions(code), data, and documentations. Packages can be downloaded from a \n",
    "repository called CRAN Comprehensive R Archive Network\n",
    "* Note: *One's computer need to be connnected to the internet to download R packages*\n",
    "\n",
    "<div class=\"alert alert-success\"></i><strong>1.3 Installing a package or packages</strong>\n",
    " </div>\n",
    "For this demonstration, we will install a packages called ggplot2 (required for ploting static charts). Don't worry if you don't know what this package does at the moment, we will explore more of this package and more as we make progress. To install a package,\n",
    "Open your RStudio IDE and type the below code on the console, hit the Enter button/key and wait for the package to install:<br>\n",
    "* install.packages(\"ggplot2\", dependencies = TRUE)\n",
    "\n",
    "if you which to install multiple R packages at once, type the syntax into the console and hit the Enter key<br>\n",
    "* install.packages(c(\"ggplot2\",\"dplr\"))\n",
    "\n",
    "<div class=\"alert alert-success\"></i><strong>1.4 Loading a package</strong>\n",
    " </div>\n",
    "To load an R package, use any of the three syntaxes below. For this demonstration, I will load ggplot2 package<br>\n",
    "* library(ggplot2) <br>\n",
    "* library(\"ggplot2\") <br>\n",
    "* require(ggplot2) <br>\n",
    "* Click the checkbox next to the package on the file pane\n",
    "\n",
    "<div class=\"alert alert-success\"></i><strong>1.5 Getting help for a package or function</strong>\n",
    " </div>\n",
    "If you are a bit confused or need clarity on a package, use any of the following syntaxes<br>\n",
    "* help(ggplot2) <br>\n",
    "* ?ggplot2 <br>\n",
    "* or simply highlight the function or package and press the F1 key"
   ]
  },
  {
   "cell_type": "code",
   "execution_count": null,
   "metadata": {},
   "outputs": [],
   "source": [
    "# Run the code just below to see a list of installed packages\n",
    "library()"
   ]
  },
  {
   "cell_type": "code",
   "execution_count": null,
   "metadata": {},
   "outputs": [],
   "source": [
    "# Run the code just below to see a list of packages that \n",
    "# are currently loaded\n",
    "search()"
   ]
  },
  {
   "cell_type": "markdown",
   "metadata": {},
   "source": [
    "**Note:** *By default when R or RStudio is opened, some packages get loaded behind the scene*"
   ]
  },
  {
   "cell_type": "markdown",
   "metadata": {},
   "source": [
    "<div class=\"alert alert-success\"></i><strong>1.6 Assignment Operator</strong><br>The <- symbol is called the assignment operator and used to assign elements to an object\n",
    "\n",
    " </div>"
   ]
  },
  {
   "cell_type": "markdown",
   "metadata": {},
   "source": [
    "<div class=\"alert alert-success\"></i><strong>1.7 Comments</strong><br>\n",
    "The hash-tag or pound symbol/character (#) indicates a start of a comment. Anything to the right of the # (including the # itself) is not run.\n",
    "This is the only comment character in R. Unlike some other languages, R does not support multi-line comments or comment blocks.That is to say every line of comments must start with the # symbol.\n",
    " </div>"
   ]
  },
  {
   "cell_type": "code",
   "execution_count": null,
   "metadata": {},
   "outputs": [],
   "source": [
    "<div class=\"alert alert-success\"></i><strong>1.5 Getting help for a package or function</strong>\n",
    " </div>"
   ]
  },
  {
   "cell_type": "markdown",
   "metadata": {},
   "source": [
    "<div class=\"alert alert-success\"></i><strong>2.1 Basic Arithmetic Operation</strong>\n",
    " </div>"
   ]
  },
  {
   "cell_type": "code",
   "execution_count": null,
   "metadata": {},
   "outputs": [],
   "source": [
    "# On your Console type the following\n",
    "# Note: Any text after the HASH-TAG (#) is a comment in R and \n",
    "# will not be executed.\n",
    "\n",
    "# This is a basic addition problem\n",
    "2 + 2 "
   ]
  },
  {
   "cell_type": "code",
   "execution_count": null,
   "metadata": {},
   "outputs": [],
   "source": [
    "# Divison\n",
    "9/3"
   ]
  },
  {
   "cell_type": "code",
   "execution_count": null,
   "metadata": {},
   "outputs": [],
   "source": [
    "# %% notation is called modelus operator. The output would be the \n",
    "# remainder when two divides nine\n",
    "9 %% 2"
   ]
  },
  {
   "cell_type": "code",
   "execution_count": null,
   "metadata": {},
   "outputs": [],
   "source": [
    "# ^ is the exponent operator, the expression is read \n",
    "# 10 raised to power 3 or 10 X 10 X 10 = 1000\n",
    "10^3"
   ]
  },
  {
   "cell_type": "code",
   "execution_count": null,
   "metadata": {},
   "outputs": [],
   "source": [
    "# Multiplication\n",
    "3*3"
   ]
  },
  {
   "cell_type": "markdown",
   "metadata": {},
   "source": [
    "<div class=\"alert alert-danger\"></i></i><strong>Try it out</strong><br>What will the result be for the expression below?<br>3 + 4 * 5 + 4<br>\n",
    "</div>"
   ]
  },
  {
   "cell_type": "code",
   "execution_count": null,
   "metadata": {},
   "outputs": [],
   "source": [
    "# log of 10\n",
    "log(10) "
   ]
  },
  {
   "cell_type": "code",
   "execution_count": null,
   "metadata": {},
   "outputs": [],
   "source": [
    "# To round up the output above to 4 decimal places, \n",
    "# we used the function 'round' with an extra augument\n",
    "# for the decimal place\n",
    "\n",
    "# The 4 signifies the number of decimal places I want, \n",
    "# experiment with different number\n",
    "round(log(10),3) "
   ]
  },
  {
   "cell_type": "code",
   "execution_count": null,
   "metadata": {},
   "outputs": [],
   "source": [
    "# log base 2 of 70\n",
    "round(log2(70),3)"
   ]
  },
  {
   "cell_type": "markdown",
   "metadata": {},
   "source": [
    "<div class=\"alert alert-success\"></i><strong>3.0 R Objects/Data Structures</strong><br>\n",
    "R has five core classes of objects:<br>\n",
    "<ul>\n",
    "<li>Vector</li>\n",
    "<li>Matrix</li>\n",
    "<li>Data Frame</li>\n",
    "<li>list</li>\n",
    "</div>\n",
    "\n",
    "<div class=\"alert alert-success\"></i><strong>3.1 Vectors:</strong>\n",
    "A vector is an ordered one dimensional array which could hold character, logical, integer **OR** numeric data, this implies that a vector can only contain objects of the same class.However, there is an there is an exception, which is a list\n",
    "\n",
    "I will now show what each of the vector types look like\n",
    "</div>"
   ]
  },
  {
   "cell_type": "code",
   "execution_count": null,
   "metadata": {},
   "outputs": [],
   "source": [
    "# Character Vector\n",
    "# When building a vector manually,the c() function \n",
    "# (which stands for COMBINE) is used when there are more \n",
    "# than one elements.\n",
    "\n",
    "# The 'charVec' word is called an Object and would be a container to \n",
    "# store the combined data.\n",
    "# The '<-' is called an assignment operator, though the equal sign \n",
    "# could be used but it's considered a bad coding practice in R.\n",
    "charVec<- c(\"Mon\",\"Tue\",\"Wed\",\"Thr\",\"Fri\",\"Sat\",\"Sun\")\n",
    "print(charVec)\n",
    "\n",
    "# Print the class type\n",
    "print(class(charVec))\n",
    "\n",
    "# To get the length of a vector use the length() function\n",
    "print(length(charVec))"
   ]
  },
  {
   "cell_type": "code",
   "execution_count": null,
   "metadata": {},
   "outputs": [],
   "source": [
    "# Logical Vector\n",
    "num <- 10 > 30 # This syntax can be read as IS 10 GREATER THAN 30\n",
    "print(num)\n",
    "\n",
    "# Print the class type\n",
    "print(class(num))"
   ]
  },
  {
   "cell_type": "code",
   "execution_count": null,
   "metadata": {},
   "outputs": [],
   "source": [
    "# Logical Vector\n",
    "# This syntax can be read as IS Monday equivalent to/same as Monday\n",
    "\"Monday\" == \"Monday\""
   ]
  },
  {
   "cell_type": "markdown",
   "metadata": {},
   "source": [
    "<div class=\"alert alert-danger\"></i></i><strong>Try it out</strong><br>What would this code return ?<br>\"Monday\" == \"monday\"<br>\n",
    "What does this tell you about R\n",
    "</div>"
   ]
  },
  {
   "cell_type": "markdown",
   "metadata": {},
   "source": [
    "<div class=\"alert alert-info\"><i class=\"icon-lightbulb\"></i>**Discussion** <br>What is/are the difference(s) between the an Interger vector and a Character vector?\n",
    " </div>"
   ]
  },
  {
   "cell_type": "code",
   "execution_count": null,
   "metadata": {},
   "outputs": [],
   "source": [
    "# Integer or Numeric Vector\n",
    "# Interger/Numeric vector elements are not defined within quotation marks\n",
    "intergerVec <- c(2,3,4,5,6,9)\n",
    "print(intergerVec)\n",
    "\n",
    "# Returns the number of elements in the object intergerVec\n",
    "print(length(intergerVec))"
   ]
  },
  {
   "cell_type": "markdown",
   "metadata": {},
   "source": [
    "<div class=\"alert alert-success\"></i><strong>3.2 Matrices</strong><br>\n",
    " A Matrix is a two dimensional array were each element has the same type of data entries, it is also considered a vector with integer attributes\n",
    " </div>"
   ]
  },
  {
   "cell_type": "code",
   "execution_count": null,
   "metadata": {},
   "outputs": [],
   "source": [
    "number_range <- c(1:9)\n",
    "print(number_range)"
   ]
  },
  {
   "cell_type": "code",
   "execution_count": null,
   "metadata": {},
   "outputs": [],
   "source": [
    "# The matrix key word is a function that will hold 9 elements starting \n",
    "# from 1.\n",
    "# The  nrow = 3, implies that the 9 elements be placed in 3 rows\n",
    "# While the byrow =T, implies the data be filled rows wise\n",
    "# What would the matrix look like if byrow=F, Try this.\n",
    "first_matrix <- matrix(c(2,4,5,6), nrow=2, byrow=F)\n",
    "print(first_matrix)"
   ]
  },
  {
   "cell_type": "code",
   "execution_count": null,
   "metadata": {},
   "outputs": [],
   "source": [
    "matrixData <- matrix(c(1:9), nrow=3, byrow=T)\n",
    "print(matrixData)"
   ]
  },
  {
   "cell_type": "code",
   "execution_count": null,
   "metadata": {},
   "outputs": [],
   "source": [
    "# Matrix multiplication\n",
    "print(matrixData %*% matrixData2)"
   ]
  },
  {
   "cell_type": "markdown",
   "metadata": {},
   "source": [
    "<div class=\"alert alert-success\"></i><strong>3.3 Giving our matrix column and row names</strong>\n",
    " </div>"
   ]
  },
  {
   "cell_type": "code",
   "execution_count": null,
   "metadata": {},
   "outputs": [],
   "source": [
    "# To assign column names to the created matrix above, the \n",
    "# 'colnames' function is used.\n",
    "\n",
    "# This code imples that the first column be names Mon, \n",
    "# second be named Tue, etc.\n",
    "colnames(matrixData)<- c(\"Mon\",\"Tue\",\"Wed\")\n",
    "\n",
    "# Display the contents of the object\n",
    "print(matrixData) "
   ]
  },
  {
   "cell_type": "code",
   "execution_count": null,
   "metadata": {},
   "outputs": [],
   "source": [
    "# If we wish to assign names to the rows, use the rownames function \n",
    "# and pass in appropirate names. Ensure that the number\n",
    "# of names matches the number of rows.\n",
    "\n",
    "rownames(matrixData)<-c(\"day2\",\"day3\",\"day5\")\n",
    "\n",
    "# Display the contents of the object\n",
    "print(matrixData) "
   ]
  },
  {
   "cell_type": "markdown",
   "metadata": {},
   "source": [
    "<div class=\"alert alert-success\"></i><strong>3.4 List</strong><br>\n",
    " Lists are a special type of vector that can holds elements of different classes. To create a list explicitly, use the list() function which take several arguments.\n",
    " </div>"
   ]
  },
  {
   "cell_type": "code",
   "execution_count": null,
   "metadata": {},
   "outputs": [],
   "source": [
    "# To create a list use the key word list()\n",
    "listx <- list(c('CFT', 'Data', 'Science'), FALSE, TRUE, FALSE, c(2,8,5))\n",
    "\n",
    "# Display the list\n",
    "print(listx)"
   ]
  },
  {
   "cell_type": "code",
   "execution_count": null,
   "metadata": {},
   "outputs": [],
   "source": [
    "# To extract the first element of the list, use the code\n",
    "print(listx[1])"
   ]
  },
  {
   "cell_type": "markdown",
   "metadata": {},
   "source": [
    "<div class=\"alert alert-danger\"></i></i><strong>Try it out</strong><br>Extract the 5 in the list created above.\n",
    "</div>"
   ]
  },
  {
   "cell_type": "markdown",
   "metadata": {},
   "source": [
    "<div class=\"alert alert-success\"></i><strong>3.5 Data Frame</strong><br>\n",
    " A Data Frame is more general than a matrix in that the fields/columns can hold different types of data entries. Look at a Data Frame as a Microsoft Excel and would be mostly used in R.\n",
    " </div>"
   ]
  },
  {
   "cell_type": "code",
   "execution_count": null,
   "metadata": {},
   "outputs": [],
   "source": [
    "# Creating a dataframe\n",
    "datafr <- data.frame(Country = c(\"UK\",\"FRANCE\",\"US\",\"NIGERIA\"),\n",
    "                         GDP = c(560,409,706,360),\n",
    "                         pop = c(20,40,200,190))\n",
    "print(datafr)"
   ]
  },
  {
   "cell_type": "markdown",
   "metadata": {},
   "source": [
    "<div class=\"alert alert-success\"></i><strong>4.0 Importing external data</strong><br>\n",
    "The R application is very robost when it comes to accessing and working with data in several file formats.\n",
    "In the sections that follow, we will demonstrate how to get data from documents in the following formats:\n",
    "<ul>\n",
    "<li>Text file (.txt)</li>\n",
    "<li>Excel file (.csv)</li>\n",
    "<li>Excel file (.xlsx or xls)</li>\n",
    "<li>SAS file(.sas7bdat)</li><br>\n",
    "\n",
    "Let's now go into practicality\n",
    " </div>"
   ]
  },
  {
   "cell_type": "markdown",
   "metadata": {},
   "source": [
    "<div class=\"alert alert-success\"></i><strong>4.1 Text file(.txt)</strong>\n",
    " </div>"
   ]
  },
  {
   "cell_type": "code",
   "execution_count": null,
   "metadata": {},
   "outputs": [],
   "source": [
    "# To read in data from a .txt file format, use the 'read.table' \n",
    "# function then pass the file-path to the text file\n",
    "\n",
    "txtData<- read.table(\"D:/CFT DataScienceHub/makeOver50K.txt\",sep = \",\", \n",
    "                     header = FALSE)\n",
    "head(txtData)\n",
    "\n",
    "# The argument sep=\",\" tells R that each data element in a row in the \n",
    "# text file is separated by a comma. Other common\n",
    "# data formats have values separated by tabs and pipes (\"|\") and \n",
    "# tabs (\"\\t\") respectively.\n",
    "\n",
    "# The argument header=FALSE tells R that the first row of the file \n",
    "# should NOT be interpreted as the names of the columns. "
   ]
  },
  {
   "cell_type": "code",
   "execution_count": null,
   "metadata": {
    "scrolled": true
   },
   "outputs": [],
   "source": [
    "# Now that the data has been imported and assigned to the 'txtData' \n",
    "# object.\n",
    "# To view all of the data, we would simpley call and run the object, \n",
    "# in this case 'txtData'.\n",
    "\n",
    "# To view few rows of the data, use the 'head()' function and pass \n",
    "# the data object, this will by default show the first six rows.\n",
    "head(txtData, 10)"
   ]
  },
  {
   "cell_type": "code",
   "execution_count": null,
   "metadata": {},
   "outputs": [],
   "source": [
    "# If you wish to see a defined number of rows other than six, use the syntax.\n",
    "head(txtData, 10)\n",
    "# As can be seen on this instance,we have 10 rows displayed"
   ]
  },
  {
   "cell_type": "code",
   "execution_count": null,
   "metadata": {},
   "outputs": [],
   "source": [
    "# As can been from the output above, the table does not have any \n",
    "# table header or column names.\n",
    "\n",
    "# For this example, i know all the header names. \n",
    "# To insert these names use the code below\n",
    "colnames(txtData) <- c(\"Age\",\"workclass\",\"fnlwgt\",\"education\",\n",
    "                       \"education-num\",\"marital-status\",\n",
    "                       \"occupation\",\"relationship\",\n",
    "                       \"race\",\"sex\",\"capital-gain\",\n",
    "                       \"capital-loss\",\"hours-per-week\",\n",
    "                       \"native-country\",\"eaning\")                      "
   ]
  },
  {
   "cell_type": "code",
   "execution_count": null,
   "metadata": {},
   "outputs": [],
   "source": [
    "# Now let use view the first 6 rows to see if the colunmn names were applied\n",
    "head(txtData)"
   ]
  },
  {
   "cell_type": "code",
   "execution_count": null,
   "metadata": {},
   "outputs": [],
   "source": [
    "# There might be times when we might not want to define the path to our \n",
    "# files explicitly\n",
    "# we use the code below which gives one the option to choose the \n",
    "# required for import\n",
    "txtData<- read.table(file.choose(),sep = \",\", header = TRUE)\n",
    "head(txtData)"
   ]
  },
  {
   "cell_type": "markdown",
   "metadata": {},
   "source": [
    "<div class=\"alert alert-success\"></i><strong> 4.2 Excel file(.csv)</strong>\n",
    " </div>"
   ]
  },
  {
   "cell_type": "code",
   "execution_count": null,
   "metadata": {},
   "outputs": [],
   "source": [
    "# To read in data from a .txt file format, use the 'read.csv' \n",
    "# function then pass the file-path to the text file\n",
    "# On this instance, we set header = TRUE as the data file does \n",
    "# have defined column titles\n",
    "excelCSVData<- read.csv(\"D:/CFT DataScienceHub/whatIsTrending.csv\",\n",
    "                        sep = \",\", header = TRUE)\n",
    "\n",
    "# To view the first six records, run the code below\n",
    "head(excelCSVData)"
   ]
  },
  {
   "cell_type": "code",
   "execution_count": null,
   "metadata": {},
   "outputs": [],
   "source": [
    "# Again, there might be times when we might not want to define the \n",
    "# path to our files explicitly,we use the code below which gives \n",
    "# one the option to choose the required for import\n",
    "excelCSVData<- read.csv(file.choose(),sep = \",\", header = TRUE)"
   ]
  },
  {
   "cell_type": "markdown",
   "metadata": {},
   "source": [
    "<div class=\"alert alert-success\"></i><strong>4.3 Excel file(.xlsx and .xls)</strong>\n",
    " </div>"
   ]
  },
  {
   "cell_type": "code",
   "execution_count": null,
   "metadata": {},
   "outputs": [],
   "source": [
    "# To get .xlsx or xls file format into R, we need to load a package \n",
    "# called 'xlsx'\n",
    "# But wait a sec, how come we never loaded packages when we \n",
    "# imported .csv and .txt files\n",
    "# when R or Rstudio is loaded for use, it by default loads packages \n",
    "# for importing .csv and txt file format by default\n",
    "# At this point, am very sure you dont have this package installed. \n",
    "# So let's try intallation of packages again\n",
    "install.packages(\"xlsx\")"
   ]
  },
  {
   "cell_type": "code",
   "execution_count": 1,
   "metadata": {},
   "outputs": [
    {
     "name": "stderr",
     "output_type": "stream",
     "text": [
      "Warning message:\n",
      "\"package 'xlsx' was built under R version 3.4.4\""
     ]
    }
   ],
   "source": [
    "# Load the package into R by calling the library() function and pass the package as argument\n",
    "library(xlsx)"
   ]
  },
  {
   "cell_type": "code",
   "execution_count": null,
   "metadata": {},
   "outputs": [],
   "source": [
    "# To find out more about the package run the code below\n",
    "help(xlsx)"
   ]
  },
  {
   "cell_type": "code",
   "execution_count": 2,
   "metadata": {},
   "outputs": [],
   "source": [
    "# Import the .xlsx file\n",
    "excelData<- read.xlsx(\"D:/CFT DataScienceHub/sasData.xlsx\",sheetIndex=1)\n",
    "# I guess by now you are familiar with how import works generally, \n",
    "# one thing to point out here is the 'sheeIndex=1'argument.\n",
    "# This is saying in the imported .xlsx file return the data in sheet1 "
   ]
  },
  {
   "cell_type": "code",
   "execution_count": 3,
   "metadata": {},
   "outputs": [
    {
     "ename": "ERROR",
     "evalue": "Error in file.choose(): file choice cancelled\n",
     "output_type": "error",
     "traceback": [
      "Error in file.choose(): file choice cancelled\nTraceback:\n",
      "1. read.xlsx(file.choose(), sheetIndex = 1)",
      "2. loadWorkbook(file, password = password)",
      "3. file.exists(path.expand(file))",
      "4. path.expand(file)",
      "5. file.choose()"
     ]
    }
   ],
   "source": [
    "# Again, there might be times when we might not want to define \n",
    "# the path to our files explicitly\n",
    "# we use the code below which gives one the option to choose the \n",
    "# required for import\n",
    "excelData<- read.xlsx(file.choose(),sheetIndex=1)"
   ]
  },
  {
   "cell_type": "markdown",
   "metadata": {},
   "source": [
    "<div class=\"alert alert-success\"></i><strong>4.4 SAS file(.sas7bdat)</strong>\n",
    " </div>"
   ]
  },
  {
   "cell_type": "code",
   "execution_count": null,
   "metadata": {},
   "outputs": [],
   "source": [
    "# The importation of .sas7bdat formatted file is similar to \n",
    "# importation of .xlsx file format in the sence that the 'sas7bdat\n",
    "# package must be installed (if not installed already) and \n",
    "# loaded into R by using the library function.\n",
    "# let us get familiar with installing a package again\n",
    "install.packages(\"sas7bdat)"
   ]
  },
  {
   "cell_type": "code",
   "execution_count": null,
   "metadata": {},
   "outputs": [],
   "source": [
    "# Now load the package with the function library as follows and \n",
    "# import the file \n",
    "library(sas7bdat)\n",
    "sasData <- read.sas7bdat(\"D:/CFT DataScienceHub/airline.sas7bdat\")\n",
    "\n",
    "# to have a sneak peek, run the code below. This will show the \n",
    "# first six rows. To see all records, run just the object name.\n",
    "head(sasData)"
   ]
  },
  {
   "cell_type": "markdown",
   "metadata": {},
   "source": [
    "<div class=\"alert alert-success\"></i><strong>5.0 Exporting Data (or writing data to file)</strong>\n",
    " </div>"
   ]
  },
  {
   "cell_type": "markdown",
   "metadata": {},
   "source": [
    "<div class=\"alert alert-success\"></i><strong>5.1 Excel file(.csv)</strong>\n",
    " </div>"
   ]
  },
  {
   "cell_type": "code",
   "execution_count": null,
   "metadata": {},
   "outputs": [],
   "source": [
    "# To write data from R to Microsoft Excel .csv file format, \n",
    "# use the syntax below.\n",
    "# The 'write.csv()' takes two arguments, the data to write AND the \n",
    "# file path to the where the file will be saved\n",
    "# For this instance, the data we aim to write to file is 'sasData' \n",
    "# and save it in a location 'D:/CFT DataScienceHub/' \n",
    "# AND i want the file to be called 'airlineData.csv'\n",
    "# You could at this point try different names as you would prefer. \n",
    "write.csv(sasData, file=\"D:/CFT DataScienceHub/airlineData.csv\")\n",
    "\n",
    "# Check the file path to see if the file was written"
   ]
  },
  {
   "cell_type": "markdown",
   "metadata": {},
   "source": [
    "<div class=\"alert alert-success\"></i><strong>5.2 Excel file(.xlsx and .xls)</strong>\n",
    " </div>"
   ]
  },
  {
   "cell_type": "code",
   "execution_count": null,
   "metadata": {},
   "outputs": [],
   "source": [
    "# Apply the same principles for writing .xlsx and xls file formats, \n",
    "# except that we use the 'write.xlsx()' function\n",
    "write.xlsx(sasData, file=\"D:/CFT DataScienceHub/airlineData.xlsx\")"
   ]
  },
  {
   "cell_type": "code",
   "execution_count": null,
   "metadata": {},
   "outputs": [],
   "source": []
  },
  {
   "cell_type": "markdown",
   "metadata": {},
   "source": [
    "<div class=\"alert alert-warning\"><strong>Next class</strong><br>We will look at how to filter datasets and writing functions\n",
    " </div>"
   ]
  },
  {
   "cell_type": "markdown",
   "metadata": {},
   "source": [
    "### 6.0 Filter Data"
   ]
  },
  {
   "cell_type": "code",
   "execution_count": null,
   "metadata": {},
   "outputs": [],
   "source": [
    "# To demonstrate filtering data, we would need to import a whatIsTrending.csv file provided with this tutorial\n",
    "# run the code below.\n",
    "excelCSVData <- read.csv(\"D:/CFT DataScienceHub/whatIsTrending.csv\",sep = \",\", header = TRUE)"
   ]
  },
  {
   "cell_type": "code",
   "execution_count": null,
   "metadata": {},
   "outputs": [],
   "source": [
    "# Lets us view the last seven records in the file using the 'head()' function\n",
    "tail(excelCSVData,100)"
   ]
  },
  {
   "cell_type": "code",
   "execution_count": null,
   "metadata": {},
   "outputs": [],
   "source": [
    "# What just happened! up until now, we have been using just the head() function to view the first few rows of records, well\n",
    "# there exist a 'tail()' function too. The tail function displays by default the last six records of a dataset"
   ]
  },
  {
   "cell_type": "code",
   "execution_count": null,
   "metadata": {},
   "outputs": [],
   "source": [
    "# From the data contained in the 'excelCSVData' let us ectract information on Canada ONLY\n",
    "# To achieve this run the code below.But let me explain what the code means\n",
    "# The excelCSVData$country ==\"Canada\" implies that look in the 'excelCSVData' object UNDER ($) the 'country' column and \n",
    "# return records with 'Canada' ONLY.\n",
    "# The comma after the preceding code tells R to return all columns\n",
    "# Why don't you have a go by replacing Canada with say 'United States'\n",
    "excelCSVData[(excelCSVData$City ==\"Bristol\"),]"
   ]
  },
  {
   "cell_type": "code",
   "execution_count": null,
   "metadata": {},
   "outputs": [],
   "source": [
    "# Code below means as follows:\n",
    "# excelCSVData$Country ==\"United Kingdom\" look in the Country column in the excelCSVData and return records of 'United Kingdom'\n",
    "# & and\n",
    "# excelCSVData$City ==\"Birmingham\" look in the City column in the excelCSVData and return records of 'Birmingham'\n",
    "#, return all columns\n",
    "# A bit confusing? let me know please\n",
    "excelCSVData[(excelCSVData$Country ==\"United Kingdom\")&(excelCSVData$City ==\"Birmingham\"),]"
   ]
  },
  {
   "cell_type": "code",
   "execution_count": null,
   "metadata": {},
   "outputs": [],
   "source": [
    "# Does the output look familier?\n",
    "# Can you Decipher what the function does?\n",
    "# I will leave that as a challenge\n",
    "subset(excelCSVData, subset = Country==\"Canada\")"
   ]
  },
  {
   "cell_type": "code",
   "execution_count": null,
   "metadata": {},
   "outputs": [],
   "source": [
    "# Does this output look familier?\n",
    "# Can you Decipher what the function does?\n",
    "# I will leave that as a challenge\n",
    "# The bottom line is there are several ways to get things done in R\n",
    "subset(excelCSVData, subset = (Country==\"United Kingdom\" & City==\"Birmingham\"))"
   ]
  },
  {
   "cell_type": "code",
   "execution_count": null,
   "metadata": {},
   "outputs": [],
   "source": [
    "# There might be times when one might want to see records that starts with a particular letter/letters\n",
    "# In this case, let's assume we want to know all countries whose names starts with 'C'\n",
    "# We use what is called the 'grep()' function\n",
    "# grep means General Regular Expression and returns \"index\"\n",
    "# Ok! another buzz word, Index. In the R index simply mean a position of an object or elements.\n",
    "# Lets say I have the following A, B, C.\n",
    "# The position of the letter A is in index 1\n",
    "# the position of letter B is in index 2\n",
    "# I guess by now you must have figured out index for letter C, well that is in index 3\n",
    "\n",
    "# grep(\"^C\", this part of the code says find me a pattern of word that starts with 'C'\n",
    "# excelCSVData$Country, In the Country column of the excelCSVData dataset object \n",
    "# ignore.case=T) ignore case sensitive\n",
    "# the , implies return all columns\n",
    "\n"
   ]
  },
  {
   "cell_type": "code",
   "execution_count": null,
   "metadata": {},
   "outputs": [],
   "source": [
    "# What did you observe when you run this code\n",
    "excelCSVData[grep(\"^NI\", excelCSVData$Country, ignore.case=T),]"
   ]
  },
  {
   "cell_type": "code",
   "execution_count": null,
   "metadata": {},
   "outputs": [],
   "source": [
    "# Can you spot what has change when you run this code?\n",
    "excelCSVData[grep(\"^NI\", excelCSVData$Country, ignore.case=F),]"
   ]
  },
  {
   "cell_type": "code",
   "execution_count": null,
   "metadata": {},
   "outputs": [],
   "source": [
    "# Can you spot again what has change when you run this code?\n",
    "excelCSVData[grep(\"^Ni\", excelCSVData$Country, ignore.case=F),]"
   ]
  },
  {
   "cell_type": "markdown",
   "metadata": {},
   "source": [
    "### 7.0 Sorting Data"
   ]
  },
  {
   "cell_type": "code",
   "execution_count": null,
   "metadata": {},
   "outputs": [],
   "source": [
    "# The goal of this session is to create a data frame. But to do that I will create FOUR vectors first\n",
    "week_Day <- c(\"Monday\",\"Tuesday\",\"Wednesday\",\"Thursday\",\"Friday\",\"Saturday\",\"Sunday\")\n",
    "Temperature <- c(2,3,5,1,4,0,7)\n",
    "Snowed <- c(TRUE,TRUE,FALSE,TRUE,TRUE,FALSE,FALSE)\n",
    "Location <- c(\"Woolwich\",\"Barking\",\"Hammersmith\",\"Islington\",\"Lewisham\",\"Newham\",\"Merton\")\n",
    "\n",
    "# I join the respective vectors to form a data frame as follows \n",
    "weather_data <- data.frame(Location,Snowed,Temperature,week_Day)\n",
    "\n",
    "# To view all the data/table run the object\n",
    "weather_data"
   ]
  },
  {
   "cell_type": "code",
   "execution_count": null,
   "metadata": {},
   "outputs": [],
   "source": [
    "# Lets us sort our data by the Temperature"
   ]
  },
  {
   "cell_type": "code",
   "execution_count": null,
   "metadata": {},
   "outputs": [],
   "source": [
    "# We use the order() function achieve the task of sorting in R\n",
    "sort_weather_data<- order(weather_data['Temperature'])\n",
    "\n",
    "# Initally, the output seems like the sorted Temperature values but it's not\n",
    "# It's rather the index of the numbers returned by their respective sizes\n",
    "sort_weather_data"
   ]
  },
  {
   "cell_type": "code",
   "execution_count": null,
   "metadata": {},
   "outputs": [],
   "source": [
    "# If you observe the 'weather_data' table\n",
    "# The least Temperature is at Newham with 0 on a Saturday\n",
    "# Counting down wards, 0 is on index 6\n",
    "# followed by the next smallest Temperature at Islington with 1 on a Thursday\n",
    "# Counting down again falls on the 4th row hence index 4\n",
    "\n",
    "# Did you get the logic now?"
   ]
  },
  {
   "cell_type": "code",
   "execution_count": null,
   "metadata": {},
   "outputs": [],
   "source": [
    "# To obtain the actual sorted table,\n",
    "# run the code below\n",
    "# What the code below does is passing the sorted index to the weather_data object and returing all the columns\n",
    "weather_data[sort_weather_data,]"
   ]
  },
  {
   "cell_type": "code",
   "execution_count": null,
   "metadata": {},
   "outputs": [],
   "source": [
    "# Lets do one more but htis time we aim to to sort the Locations\n",
    "# now observe carfully the changes here\n",
    "sort_weather_data<- order(weather_data['Location'])"
   ]
  },
  {
   "cell_type": "code",
   "execution_count": null,
   "metadata": {},
   "outputs": [],
   "source": [
    "# Lets view the location Index\n",
    "# what can you make from the index?\n",
    "sort_weather_data"
   ]
  },
  {
   "cell_type": "code",
   "execution_count": null,
   "metadata": {},
   "outputs": [],
   "source": [
    "# What does the sorted data by Location looks like? \n",
    "# Do you agree with the output?\n",
    "weather_data[sort_weather_data,]"
   ]
  },
  {
   "cell_type": "code",
   "execution_count": null,
   "metadata": {},
   "outputs": [],
   "source": [
    "# By now you must be asking 'what if I want my sorted data the other way round', like largest number to smallest or Z to A rather \n",
    "# than the current way we have it.\n",
    "# That is super easy, all you need to include is 'decreasing = TRUE' as an argument\n",
    "\n",
    "#Let me show you how by sorting our temperature again but this time we want the largets numbers on top\n",
    "sort_weather_data<- order(weather_data['Temperature'],decreasing = TRUE)\n",
    "weather_data[sort_weather_data,]"
   ]
  },
  {
   "cell_type": "code",
   "execution_count": null,
   "metadata": {},
   "outputs": [],
   "source": [
    "# Lets give the sorting of the Location field/column a go\n",
    "# What is the take away here?\n",
    "sort_weather_data<- order(weather_data['Location'],decreasing = TRUE)\n",
    "weather_data[sort_weather_data,]"
   ]
  },
  {
   "cell_type": "markdown",
   "metadata": {},
   "source": [
    "### 8.0 Stack Data"
   ]
  },
  {
   "cell_type": "code",
   "execution_count": null,
   "metadata": {},
   "outputs": [],
   "source": [
    "# To statck data sets together, we MUST ensure that both datasets/ files contain MATCHING headers in MATCHING POSITIONS\n",
    "\n",
    "import_Canada_data<- read.csv(\"D:/CFT DataScienceHub/Canada.csv\",sep = \",\", header = TRUE) # Import canada data\n",
    "import_UK_data<- read.csv(\"D:/CFT DataScienceHub/uk.csv\",sep = \",\", header = TRUE) # Import uk data"
   ]
  },
  {
   "cell_type": "code",
   "execution_count": null,
   "metadata": {},
   "outputs": [],
   "source": [
    "# Use the 'cbind()' function to stack the datasets\n",
    "stacked_uk_canada_data<- rbind(import_Canada_data,import_UK_data)\n",
    "head(stacked_uk_canada_data,15)"
   ]
  },
  {
   "cell_type": "markdown",
   "metadata": {},
   "source": [
    "### 9.0 Merge Data"
   ]
  },
  {
   "cell_type": "code",
   "execution_count": null,
   "metadata": {},
   "outputs": [],
   "source": [
    "# In this demonstration, let us assume that we have two files with student information and we would like to merge the students\n",
    "# information based on UNIQUE id\n",
    "# Firstly, let's import the two data files\n",
    "student_names<- read.table(\"D:/CFT DataScienceHub/names.txt\",sep = \"\\t\", header = TRUE)\n",
    "student_origin<- read.table(\"D:/CFT DataScienceHub/student.txt\",sep = \"\\t\", header = TRUE)"
   ]
  },
  {
   "cell_type": "code",
   "execution_count": null,
   "metadata": {},
   "outputs": [],
   "source": [
    "# Let's view the student_names object/data frame contents\n",
    "student_names"
   ]
  },
  {
   "cell_type": "code",
   "execution_count": null,
   "metadata": {},
   "outputs": [],
   "source": [
    "# Let's view the student_origin object/data frame contents\n",
    "student_origin"
   ]
  },
  {
   "cell_type": "code",
   "execution_count": null,
   "metadata": {},
   "outputs": [],
   "source": [
    "# Haven seen the contents of the tables, let us merge these tables based on the 'Student_id' field\n",
    "# to achieve this, we use the 'merge()' in the code below\n",
    "merge(student_names, student_origin, by=\"Student_id\")"
   ]
  },
  {
   "cell_type": "markdown",
   "metadata": {},
   "source": [
    "### 10. Slice and Dice Data"
   ]
  },
  {
   "cell_type": "code",
   "execution_count": null,
   "metadata": {},
   "outputs": [],
   "source": [
    "# Following on from the last section.\n",
    "# Lets say we want all the element on rows 5, column 3. This should be 40\n",
    "# The way to go about it ia as follows\n",
    "slice_data <- merge(student_names, student_origin, by=\"Student_id\")\n",
    "slice_data[5,3]"
   ]
  },
  {
   "cell_type": "code",
   "execution_count": null,
   "metadata": {},
   "outputs": [],
   "source": [
    "# To exclude the first column from the table\n",
    "# use the code\n",
    "slice_data[,-1]\n",
    "# The above simply say, return all the records except column 1\n",
    "# Why don't you give it a try by replacing -1 with -5"
   ]
  },
  {
   "cell_type": "code",
   "execution_count": null,
   "metadata": {},
   "outputs": [],
   "source": [
    "# Let say I want a table with ONLY the 'Age' and the 'Level' fields\n",
    "# the way to go about this is as follows\n",
    "slice_data[,c(3,6)]"
   ]
  },
  {
   "cell_type": "code",
   "execution_count": null,
   "metadata": {},
   "outputs": [],
   "source": [
    "# Alternatively, use the code below\n",
    "slice_data[,c(\"Age\",\"Level\")]"
   ]
  },
  {
   "cell_type": "markdown",
   "metadata": {},
   "source": [
    "<div class=\"alert alert-warning\"></i><strong>CFT Data Science With R Tutorials</strong><br>By: Seiya David \n",
    " </div>"
   ]
  },
  {
   "cell_type": "markdown",
   "metadata": {},
   "source": [
    " <div class=\"alert alert-success\"></i><strong>1.0 R dplyr package</strong>\n",
    " </div>\n",
    " Now that we have seen how to slice datasets using base R, we would now look at a very nice package called dplyr.<br>\n",
    "dplyr is a package that can help query data sets much faster to derive insight. It has five data manipulation functions (also known as dplyr grammar of data manipulation). These are:\n",
    "<ul>\n",
    "<li>select()     - extracts columns from a dataset</li>\n",
    "<li>mutate()     - builds new columns in the dataset</li>\n",
    "<li> filter()    - extracts rows from a dataset</li>\n",
    "<li> arrange()    - re-orders rows in a dataset</li>\n",
    "<li>summarize()  - calculates summary statistics</li>\n",
    "\n",
    "<li> %>%: the “pipe” operator is used to connect multiple verb actions together into a pipeline</li>\n",
    "\n",
    "<li> group_by : for grouping summaries</li>\n",
    "</ul>"
   ]
  },
  {
   "cell_type": "markdown",
   "metadata": {},
   "source": [
    " <div class=\"alert alert-success\"></i><strong>1.1 logical operators</strong>\n",
    " </div>\n",
    " <ul>\n",
    "<li>x < y, TRUE if x is less than y</li>\n",
    "<li>x <= y, TRUE if x is less than or equal to y</li>\n",
    "<li>x == y, TRUE if x equals y</li>\n",
    "<li>x != y, TRUE if x does not equal y</li>\n",
    "<li>x >= y, TRUE if x is greater than or equal to y</li>\n",
    "<li>x > y, TRUE if x is greater than y</li>\n",
    "<li>x %in% c(a, b, c), TRUE if x is in the vector c(a, b, c)</li>\n",
    "<li> x %in% c(a, b, c), TRUE if x is in the vector c(a, b, c)</li>\n",
    " </ul>\n",
    "\n",
    "<div class=\"alert alert-success\"></i><strong>1.1 logical operators</strong>\n",
    " </div>\n",
    " <ul> \n",
    "<strong>boolean operators</strong>\n",
    "<li> & (and), | (or), and ! (not)</li>\n",
    " </ul>"
   ]
  },
  {
   "cell_type": "markdown",
   "metadata": {},
   "source": [
    " <div class=\"alert alert-success\"></i><strong>1.2 select()</strong>\n",
    " </div>\n",
    "The select() function can be used to select fields/columns of a data frame."
   ]
  },
  {
   "cell_type": "markdown",
   "metadata": {},
   "source": [
    "<strong>dplyr</strong> also comes with a set of helper functions that can assist in selecting groups of variables inside the select() function.\n",
    "<ul>\n",
    "<li>starts_with(\"X\"): every name that starts with \"X\"</li>\n",
    "<li>ends_with(\"X\"): every name that ends with \"X\"</li>\n",
    "<li>contains(\"X\"): every name that contains \"X\"</li>\n",
    "<li>matches(\"X\"): every name that matches \"X\", where \"X\" can be a regular expression</li>\n",
    "<li>num_range(\"x\", 1:5): the variables named x01, x02, x03, x04 and x05</li>\n",
    "<li>one_of(x): every name that appears in x, which should be a character vector.</li>\n",
    "</ul>"
   ]
  },
  {
   "cell_type": "code",
   "execution_count": 4,
   "metadata": {},
   "outputs": [
    {
     "data": {
      "text/html": [
       "<table>\n",
       "<thead><tr><th scope=col>Age</th><th scope=col>workclass</th><th scope=col>fnlwgt</th><th scope=col>education</th><th scope=col>education-num</th><th scope=col>marital-status</th><th scope=col>occupation</th><th scope=col>relationship</th><th scope=col>race</th><th scope=col>sex</th><th scope=col>capital-gain</th><th scope=col>capital-loss</th><th scope=col>hours-per-week</th><th scope=col>native-country</th><th scope=col>eaning</th></tr></thead>\n",
       "<tbody>\n",
       "\t<tr><td>39                                                         </td><td><span style=white-space:pre-wrap> State-gov       </span>  </td><td> 77516                                                     </td><td> Bachelors                                                 </td><td>13                                                         </td><td><span style=white-space:pre-wrap> Never-married     </span></td><td><span style=white-space:pre-wrap> Adm-clerical     </span> </td><td> Not-in-family                                             </td><td> White                                                     </td><td> Male                                                      </td><td>2174                                                       </td><td>0                                                          </td><td>40                                                         </td><td> United-States                                             </td><td> &lt;=50K                                                  </td></tr>\n",
       "\t<tr><td>50                                                        </td><td> Self-emp-not-inc                                         </td><td> 83311                                                    </td><td> Bachelors                                                </td><td>13                                                        </td><td> Married-civ-spouse                                       </td><td><span style=white-space:pre-wrap> Exec-managerial  </span></td><td><span style=white-space:pre-wrap> Husband      </span>    </td><td> White                                                    </td><td> Male                                                     </td><td><span style=white-space:pre-wrap>   0</span>              </td><td>0                                                         </td><td>13                                                        </td><td> United-States                                            </td><td> &lt;=50K                                                 </td></tr>\n",
       "\t<tr><td>38                                                         </td><td><span style=white-space:pre-wrap> Private         </span>  </td><td>215646                                                     </td><td><span style=white-space:pre-wrap> HS-grad  </span>         </td><td> 9                                                         </td><td><span style=white-space:pre-wrap> Divorced          </span></td><td> Handlers-cleaners                                         </td><td> Not-in-family                                             </td><td> White                                                     </td><td> Male                                                      </td><td><span style=white-space:pre-wrap>   0</span>               </td><td>0                                                          </td><td>40                                                         </td><td> United-States                                             </td><td> &lt;=50K                                                  </td></tr>\n",
       "</tbody>\n",
       "</table>\n"
      ],
      "text/latex": [
       "\\begin{tabular}{r|lllllllllllllll}\n",
       " Age & workclass & fnlwgt & education & education-num & marital-status & occupation & relationship & race & sex & capital-gain & capital-loss & hours-per-week & native-country & eaning\\\\\n",
       "\\hline\n",
       "\t 39                  &  State-gov          &  77516              &  Bachelors          & 13                  &  Never-married      &  Adm-clerical       &  Not-in-family      &  White              &  Male               & 2174                & 0                   & 40                  &  United-States      &  <=50K             \\\\\n",
       "\t 50                  &  Self-emp-not-inc   &  83311              &  Bachelors          & 13                  &  Married-civ-spouse &  Exec-managerial    &  Husband            &  White              &  Male               &    0                & 0                   & 13                  &  United-States      &  <=50K             \\\\\n",
       "\t 38                  &  Private            & 215646              &  HS-grad            &  9                  &  Divorced           &  Handlers-cleaners  &  Not-in-family      &  White              &  Male               &    0                & 0                   & 40                  &  United-States      &  <=50K             \\\\\n",
       "\\end{tabular}\n"
      ],
      "text/markdown": [
       "\n",
       "Age | workclass | fnlwgt | education | education-num | marital-status | occupation | relationship | race | sex | capital-gain | capital-loss | hours-per-week | native-country | eaning | \n",
       "|---|---|---|\n",
       "| 39                  |  State-gov          |  77516              |  Bachelors          | 13                  |  Never-married      |  Adm-clerical       |  Not-in-family      |  White              |  Male               | 2174                | 0                   | 40                  |  United-States      |  <=50K              | \n",
       "| 50                  |  Self-emp-not-inc   |  83311              |  Bachelors          | 13                  |  Married-civ-spouse |  Exec-managerial    |  Husband            |  White              |  Male               |    0                | 0                   | 13                  |  United-States      |  <=50K              | \n",
       "| 38                  |  Private            | 215646              |  HS-grad            |  9                  |  Divorced           |  Handlers-cleaners  |  Not-in-family      |  White              |  Male               |    0                | 0                   | 40                  |  United-States      |  <=50K              | \n",
       "\n",
       "\n"
      ],
      "text/plain": [
       "  Age workclass         fnlwgt education  education-num marital-status     \n",
       "1 39   State-gov         77516  Bachelors 13             Never-married     \n",
       "2 50   Self-emp-not-inc  83311  Bachelors 13             Married-civ-spouse\n",
       "3 38   Private          215646  HS-grad    9             Divorced          \n",
       "  occupation         relationship   race   sex   capital-gain capital-loss\n",
       "1  Adm-clerical       Not-in-family  White  Male 2174         0           \n",
       "2  Exec-managerial    Husband        White  Male    0         0           \n",
       "3  Handlers-cleaners  Not-in-family  White  Male    0         0           \n",
       "  hours-per-week native-country eaning\n",
       "1 40              United-States  <=50K\n",
       "2 13              United-States  <=50K\n",
       "3 40              United-States  <=50K"
      ]
     },
     "metadata": {},
     "output_type": "display_data"
    }
   ],
   "source": [
    "# import dataset required for this session\n",
    "txtData<- read.table(\"D:/CFT DataScienceHub/makeOver50K.txt\",sep = \",\", \n",
    "                     header = FALSE)\n",
    "\n",
    "# insert column names to the imported table\n",
    "colnames(txtData) <- c(\"Age\",\"workclass\",\"fnlwgt\",\"education\",\n",
    "                       \"education-num\",\"marital-status\",\n",
    "                       \"occupation\",\"relationship\",\n",
    "                       \"race\",\"sex\",\"capital-gain\",\n",
    "                       \"capital-loss\",\"hours-per-week\",\n",
    "                       \"native-country\",\"eaning\")\n",
    "head(txtData, 3)"
   ]
  },
  {
   "cell_type": "code",
   "execution_count": 8,
   "metadata": {},
   "outputs": [
    {
     "data": {
      "text/html": [
       "<table>\n",
       "<thead><tr><th scope=col>Age</th><th scope=col>race</th><th scope=col>sex</th></tr></thead>\n",
       "<tbody>\n",
       "\t<tr><td>39                 </td><td> White             </td><td> Male              </td></tr>\n",
       "\t<tr><td>50                 </td><td> White             </td><td> Male              </td></tr>\n",
       "\t<tr><td>38                 </td><td> White             </td><td> Male              </td></tr>\n",
       "\t<tr><td>53                 </td><td> Black             </td><td> Male              </td></tr>\n",
       "\t<tr><td>28                 </td><td> Black             </td><td> Female            </td></tr>\n",
       "\t<tr><td>37                 </td><td> White             </td><td> Female            </td></tr>\n",
       "\t<tr><td>49                 </td><td> Black             </td><td> Female            </td></tr>\n",
       "\t<tr><td>52                 </td><td> White             </td><td> Male              </td></tr>\n",
       "\t<tr><td>31                 </td><td> White             </td><td> Female            </td></tr>\n",
       "\t<tr><td>42                 </td><td> White             </td><td> Male              </td></tr>\n",
       "\t<tr><td>37                 </td><td> Black             </td><td> Male              </td></tr>\n",
       "\t<tr><td>30                 </td><td> Asian-Pac-Islander</td><td> Male              </td></tr>\n",
       "\t<tr><td>23                 </td><td> White             </td><td> Female            </td></tr>\n",
       "\t<tr><td>32                 </td><td> Black             </td><td> Male              </td></tr>\n",
       "\t<tr><td>40                 </td><td> Asian-Pac-Islander</td><td> Male              </td></tr>\n",
       "\t<tr><td>34                 </td><td> Amer-Indian-Eskimo</td><td> Male              </td></tr>\n",
       "\t<tr><td>25                 </td><td> White             </td><td> Male              </td></tr>\n",
       "\t<tr><td>32                 </td><td> White             </td><td> Male              </td></tr>\n",
       "\t<tr><td>38                 </td><td> White             </td><td> Male              </td></tr>\n",
       "\t<tr><td>43                 </td><td> White             </td><td> Female            </td></tr>\n",
       "\t<tr><td>40                 </td><td> White             </td><td> Male              </td></tr>\n",
       "\t<tr><td>54                 </td><td> Black             </td><td> Female            </td></tr>\n",
       "\t<tr><td>35                 </td><td> Black             </td><td> Male              </td></tr>\n",
       "\t<tr><td>43                 </td><td> White             </td><td> Male              </td></tr>\n",
       "\t<tr><td>59                 </td><td> White             </td><td> Female            </td></tr>\n",
       "\t<tr><td>56                 </td><td> White             </td><td> Male              </td></tr>\n",
       "\t<tr><td>19                 </td><td> White             </td><td> Male              </td></tr>\n",
       "\t<tr><td>54                 </td><td> Asian-Pac-Islander</td><td> Male              </td></tr>\n",
       "\t<tr><td>39                 </td><td> White             </td><td> Male              </td></tr>\n",
       "\t<tr><td>49                 </td><td> White             </td><td> Male              </td></tr>\n",
       "\t<tr><td>...</td><td>...</td><td>...</td></tr>\n",
       "\t<tr><td>30                 </td><td> Asian-Pac-Islander</td><td> Female            </td></tr>\n",
       "\t<tr><td>34                 </td><td> White             </td><td> Male              </td></tr>\n",
       "\t<tr><td>54                 </td><td> Asian-Pac-Islander</td><td> Male              </td></tr>\n",
       "\t<tr><td>37                 </td><td> White             </td><td> Female            </td></tr>\n",
       "\t<tr><td>22                 </td><td> Black             </td><td> Male              </td></tr>\n",
       "\t<tr><td>34                 </td><td> White             </td><td> Female            </td></tr>\n",
       "\t<tr><td>30                 </td><td> Black             </td><td> Male              </td></tr>\n",
       "\t<tr><td>38                 </td><td> Black             </td><td> Female            </td></tr>\n",
       "\t<tr><td>71                 </td><td> White             </td><td> Male              </td></tr>\n",
       "\t<tr><td>45                 </td><td> White             </td><td> Female            </td></tr>\n",
       "\t<tr><td>41                 </td><td> Black             </td><td> Female            </td></tr>\n",
       "\t<tr><td>72                 </td><td> White             </td><td> Male              </td></tr>\n",
       "\t<tr><td>45                 </td><td> White             </td><td> Female            </td></tr>\n",
       "\t<tr><td>31                 </td><td> Other             </td><td> Female            </td></tr>\n",
       "\t<tr><td>39                 </td><td> White             </td><td> Female            </td></tr>\n",
       "\t<tr><td>37                 </td><td> White             </td><td> Female            </td></tr>\n",
       "\t<tr><td>43                 </td><td> White             </td><td> Male              </td></tr>\n",
       "\t<tr><td>65                 </td><td> White             </td><td> Male              </td></tr>\n",
       "\t<tr><td>43                 </td><td> White             </td><td> Female            </td></tr>\n",
       "\t<tr><td>43                 </td><td> White             </td><td> Male              </td></tr>\n",
       "\t<tr><td>32                 </td><td> Amer-Indian-Eskimo</td><td> Male              </td></tr>\n",
       "\t<tr><td>43                 </td><td> White             </td><td> Male              </td></tr>\n",
       "\t<tr><td>32                 </td><td> Asian-Pac-Islander</td><td> Male              </td></tr>\n",
       "\t<tr><td>53                 </td><td> White             </td><td> Male              </td></tr>\n",
       "\t<tr><td>22                 </td><td> White             </td><td> Male              </td></tr>\n",
       "\t<tr><td>27                 </td><td> White             </td><td> Female            </td></tr>\n",
       "\t<tr><td>40                 </td><td> White             </td><td> Male              </td></tr>\n",
       "\t<tr><td>58                 </td><td> White             </td><td> Female            </td></tr>\n",
       "\t<tr><td>22                 </td><td> White             </td><td> Male              </td></tr>\n",
       "\t<tr><td>52                 </td><td> White             </td><td> Female            </td></tr>\n",
       "</tbody>\n",
       "</table>\n"
      ],
      "text/latex": [
       "\\begin{tabular}{r|lll}\n",
       " Age & race & sex\\\\\n",
       "\\hline\n",
       "\t 39                  &  White              &  Male              \\\\\n",
       "\t 50                  &  White              &  Male              \\\\\n",
       "\t 38                  &  White              &  Male              \\\\\n",
       "\t 53                  &  Black              &  Male              \\\\\n",
       "\t 28                  &  Black              &  Female            \\\\\n",
       "\t 37                  &  White              &  Female            \\\\\n",
       "\t 49                  &  Black              &  Female            \\\\\n",
       "\t 52                  &  White              &  Male              \\\\\n",
       "\t 31                  &  White              &  Female            \\\\\n",
       "\t 42                  &  White              &  Male              \\\\\n",
       "\t 37                  &  Black              &  Male              \\\\\n",
       "\t 30                  &  Asian-Pac-Islander &  Male              \\\\\n",
       "\t 23                  &  White              &  Female            \\\\\n",
       "\t 32                  &  Black              &  Male              \\\\\n",
       "\t 40                  &  Asian-Pac-Islander &  Male              \\\\\n",
       "\t 34                  &  Amer-Indian-Eskimo &  Male              \\\\\n",
       "\t 25                  &  White              &  Male              \\\\\n",
       "\t 32                  &  White              &  Male              \\\\\n",
       "\t 38                  &  White              &  Male              \\\\\n",
       "\t 43                  &  White              &  Female            \\\\\n",
       "\t 40                  &  White              &  Male              \\\\\n",
       "\t 54                  &  Black              &  Female            \\\\\n",
       "\t 35                  &  Black              &  Male              \\\\\n",
       "\t 43                  &  White              &  Male              \\\\\n",
       "\t 59                  &  White              &  Female            \\\\\n",
       "\t 56                  &  White              &  Male              \\\\\n",
       "\t 19                  &  White              &  Male              \\\\\n",
       "\t 54                  &  Asian-Pac-Islander &  Male              \\\\\n",
       "\t 39                  &  White              &  Male              \\\\\n",
       "\t 49                  &  White              &  Male              \\\\\n",
       "\t ... & ... & ...\\\\\n",
       "\t 30                  &  Asian-Pac-Islander &  Female            \\\\\n",
       "\t 34                  &  White              &  Male              \\\\\n",
       "\t 54                  &  Asian-Pac-Islander &  Male              \\\\\n",
       "\t 37                  &  White              &  Female            \\\\\n",
       "\t 22                  &  Black              &  Male              \\\\\n",
       "\t 34                  &  White              &  Female            \\\\\n",
       "\t 30                  &  Black              &  Male              \\\\\n",
       "\t 38                  &  Black              &  Female            \\\\\n",
       "\t 71                  &  White              &  Male              \\\\\n",
       "\t 45                  &  White              &  Female            \\\\\n",
       "\t 41                  &  Black              &  Female            \\\\\n",
       "\t 72                  &  White              &  Male              \\\\\n",
       "\t 45                  &  White              &  Female            \\\\\n",
       "\t 31                  &  Other              &  Female            \\\\\n",
       "\t 39                  &  White              &  Female            \\\\\n",
       "\t 37                  &  White              &  Female            \\\\\n",
       "\t 43                  &  White              &  Male              \\\\\n",
       "\t 65                  &  White              &  Male              \\\\\n",
       "\t 43                  &  White              &  Female            \\\\\n",
       "\t 43                  &  White              &  Male              \\\\\n",
       "\t 32                  &  Amer-Indian-Eskimo &  Male              \\\\\n",
       "\t 43                  &  White              &  Male              \\\\\n",
       "\t 32                  &  Asian-Pac-Islander &  Male              \\\\\n",
       "\t 53                  &  White              &  Male              \\\\\n",
       "\t 22                  &  White              &  Male              \\\\\n",
       "\t 27                  &  White              &  Female            \\\\\n",
       "\t 40                  &  White              &  Male              \\\\\n",
       "\t 58                  &  White              &  Female            \\\\\n",
       "\t 22                  &  White              &  Male              \\\\\n",
       "\t 52                  &  White              &  Female            \\\\\n",
       "\\end{tabular}\n"
      ],
      "text/markdown": [
       "\n",
       "Age | race | sex | \n",
       "|---|---|---|---|---|---|---|---|---|---|---|---|---|---|---|---|---|---|---|---|---|---|---|---|---|---|---|---|---|---|---|---|---|---|---|---|---|---|---|---|---|---|---|---|---|---|---|---|---|---|---|---|---|---|---|---|---|---|---|---|---|\n",
       "| 39                  |  White              |  Male               | \n",
       "| 50                  |  White              |  Male               | \n",
       "| 38                  |  White              |  Male               | \n",
       "| 53                  |  Black              |  Male               | \n",
       "| 28                  |  Black              |  Female             | \n",
       "| 37                  |  White              |  Female             | \n",
       "| 49                  |  Black              |  Female             | \n",
       "| 52                  |  White              |  Male               | \n",
       "| 31                  |  White              |  Female             | \n",
       "| 42                  |  White              |  Male               | \n",
       "| 37                  |  Black              |  Male               | \n",
       "| 30                  |  Asian-Pac-Islander |  Male               | \n",
       "| 23                  |  White              |  Female             | \n",
       "| 32                  |  Black              |  Male               | \n",
       "| 40                  |  Asian-Pac-Islander |  Male               | \n",
       "| 34                  |  Amer-Indian-Eskimo |  Male               | \n",
       "| 25                  |  White              |  Male               | \n",
       "| 32                  |  White              |  Male               | \n",
       "| 38                  |  White              |  Male               | \n",
       "| 43                  |  White              |  Female             | \n",
       "| 40                  |  White              |  Male               | \n",
       "| 54                  |  Black              |  Female             | \n",
       "| 35                  |  Black              |  Male               | \n",
       "| 43                  |  White              |  Male               | \n",
       "| 59                  |  White              |  Female             | \n",
       "| 56                  |  White              |  Male               | \n",
       "| 19                  |  White              |  Male               | \n",
       "| 54                  |  Asian-Pac-Islander |  Male               | \n",
       "| 39                  |  White              |  Male               | \n",
       "| 49                  |  White              |  Male               | \n",
       "| ... | ... | ... | \n",
       "| 30                  |  Asian-Pac-Islander |  Female             | \n",
       "| 34                  |  White              |  Male               | \n",
       "| 54                  |  Asian-Pac-Islander |  Male               | \n",
       "| 37                  |  White              |  Female             | \n",
       "| 22                  |  Black              |  Male               | \n",
       "| 34                  |  White              |  Female             | \n",
       "| 30                  |  Black              |  Male               | \n",
       "| 38                  |  Black              |  Female             | \n",
       "| 71                  |  White              |  Male               | \n",
       "| 45                  |  White              |  Female             | \n",
       "| 41                  |  Black              |  Female             | \n",
       "| 72                  |  White              |  Male               | \n",
       "| 45                  |  White              |  Female             | \n",
       "| 31                  |  Other              |  Female             | \n",
       "| 39                  |  White              |  Female             | \n",
       "| 37                  |  White              |  Female             | \n",
       "| 43                  |  White              |  Male               | \n",
       "| 65                  |  White              |  Male               | \n",
       "| 43                  |  White              |  Female             | \n",
       "| 43                  |  White              |  Male               | \n",
       "| 32                  |  Amer-Indian-Eskimo |  Male               | \n",
       "| 43                  |  White              |  Male               | \n",
       "| 32                  |  Asian-Pac-Islander |  Male               | \n",
       "| 53                  |  White              |  Male               | \n",
       "| 22                  |  White              |  Male               | \n",
       "| 27                  |  White              |  Female             | \n",
       "| 40                  |  White              |  Male               | \n",
       "| 58                  |  White              |  Female             | \n",
       "| 22                  |  White              |  Male               | \n",
       "| 52                  |  White              |  Female             | \n",
       "\n",
       "\n"
      ],
      "text/plain": [
       "      Age race                sex    \n",
       "1     39   White               Male  \n",
       "2     50   White               Male  \n",
       "3     38   White               Male  \n",
       "4     53   Black               Male  \n",
       "5     28   Black               Female\n",
       "6     37   White               Female\n",
       "7     49   Black               Female\n",
       "8     52   White               Male  \n",
       "9     31   White               Female\n",
       "10    42   White               Male  \n",
       "11    37   Black               Male  \n",
       "12    30   Asian-Pac-Islander  Male  \n",
       "13    23   White               Female\n",
       "14    32   Black               Male  \n",
       "15    40   Asian-Pac-Islander  Male  \n",
       "16    34   Amer-Indian-Eskimo  Male  \n",
       "17    25   White               Male  \n",
       "18    32   White               Male  \n",
       "19    38   White               Male  \n",
       "20    43   White               Female\n",
       "21    40   White               Male  \n",
       "22    54   Black               Female\n",
       "23    35   Black               Male  \n",
       "24    43   White               Male  \n",
       "25    59   White               Female\n",
       "26    56   White               Male  \n",
       "27    19   White               Male  \n",
       "28    54   Asian-Pac-Islander  Male  \n",
       "29    39   White               Male  \n",
       "30    49   White               Male  \n",
       "...   ... ...                 ...    \n",
       "32532 30   Asian-Pac-Islander  Female\n",
       "32533 34   White               Male  \n",
       "32534 54   Asian-Pac-Islander  Male  \n",
       "32535 37   White               Female\n",
       "32536 22   Black               Male  \n",
       "32537 34   White               Female\n",
       "32538 30   Black               Male  \n",
       "32539 38   Black               Female\n",
       "32540 71   White               Male  \n",
       "32541 45   White               Female\n",
       "32542 41   Black               Female\n",
       "32543 72   White               Male  \n",
       "32544 45   White               Female\n",
       "32545 31   Other               Female\n",
       "32546 39   White               Female\n",
       "32547 37   White               Female\n",
       "32548 43   White               Male  \n",
       "32549 65   White               Male  \n",
       "32550 43   White               Female\n",
       "32551 43   White               Male  \n",
       "32552 32   Amer-Indian-Eskimo  Male  \n",
       "32553 43   White               Male  \n",
       "32554 32   Asian-Pac-Islander  Male  \n",
       "32555 53   White               Male  \n",
       "32556 22   White               Male  \n",
       "32557 27   White               Female\n",
       "32558 40   White               Male  \n",
       "32559 58   White               Female\n",
       "32560 22   White               Male  \n",
       "32561 52   White               Female"
      ]
     },
     "metadata": {},
     "output_type": "display_data"
    }
   ],
   "source": [
    "library(dplyr)\n",
    "select(txtData, c(Age, race, sex))"
   ]
  },
  {
   "cell_type": "code",
   "execution_count": 7,
   "metadata": {},
   "outputs": [
    {
     "ename": "ERROR",
     "evalue": "Error in parse(text = x, srcfile = src): <text>:3:21: unexpected ','\n2: # To code indicates that we should include every column except v1, v2 and v2\n3: select(txtData, -(v1,\n                       ^\n",
     "output_type": "error",
     "traceback": [
      "Error in parse(text = x, srcfile = src): <text>:3:21: unexpected ','\n2: # To code indicates that we should include every column except v1, v2 and v2\n3: select(txtData, -(v1,\n                       ^\nTraceback:\n"
     ]
    }
   ],
   "source": [
    "# To omit a field, use the code\n",
    "# To code indicates that we should include every column except v1, v2 and v2\n",
    "select(txtData, -(v1, v2, v3))"
   ]
  },
  {
   "cell_type": "code",
   "execution_count": null,
   "metadata": {},
   "outputs": [],
   "source": [
    "# The select() function also allows a special syntax that allows you to specify variable names based\n",
    "# on patterns\n",
    "subset <- select(chicago, ends_with(\"2\"))"
   ]
  },
  {
   "cell_type": "markdown",
   "metadata": {},
   "source": [
    "<div class=\"alert alert-success\"></i><strong>1.3 mutate()</strong>\n",
    " </div>\n",
    "mutate function can be used to create a new field or column name/variable\n",
    "mutate take two arguments, firstly the dataframe and the"
   ]
  },
  {
   "cell_type": "code",
   "execution_count": null,
   "metadata": {},
   "outputs": [],
   "source": [
    "mutate(dataframe, sums = a + b)"
   ]
  },
  {
   "cell_type": "markdown",
   "metadata": {},
   "source": [
    "### 1.3 filter()\n",
    "The filter() function is used to extract subsets of rows from a data frame. This function is similar\n",
    "to the existing subset() function in R but is quite a bit faster in my experience"
   ]
  },
  {
   "cell_type": "code",
   "execution_count": null,
   "metadata": {},
   "outputs": [],
   "source": [
    "x <- filter(df, v1 > 30)"
   ]
  },
  {
   "cell_type": "markdown",
   "metadata": {},
   "source": [
    "### 1.4 arrange()\n",
    "The arrange() function takes two main arguments: the name of the dataframe, and the column(s) one wishes to re-order.\n",
    "Note: Results returned are in acesending order"
   ]
  },
  {
   "cell_type": "code",
   "execution_count": null,
   "metadata": {},
   "outputs": [],
   "source": [
    "arrange(data, column)\n",
    "arrange(data, frame)"
   ]
  },
  {
   "cell_type": "code",
   "execution_count": null,
   "metadata": {},
   "outputs": [],
   "source": [
    "arrange(data, desc(column))"
   ]
  },
  {
   "cell_type": "markdown",
   "metadata": {},
   "source": [
    "dplyr provides several helpful aggregate functions\n",
    "first(x) - The first element of vector x.\n",
    "last(x) - The last element of vector x.\n",
    "nth(x, n) - The nth element of vector x.\n",
    "n() - The number of rows in the data.frame or group of observations that summarize() describes.\n",
    "n_distinct(x) - The number of unique values in vector x."
   ]
  },
  {
   "cell_type": "code",
   "execution_count": null,
   "metadata": {},
   "outputs": [],
   "source": [
    "# Generate summarizing statistics for dataset\n",
    "summarize(dataset, \n",
    "          n_obs = n(), \n",
    "          n_carrier = n_distinct(), \n",
    "          n_dest = n_distinct())"
   ]
  },
  {
   "cell_type": "code",
   "execution_count": null,
   "metadata": {},
   "outputs": [],
   "source": [
    "# \n",
    "a3 <- filter(dataset, filedname == \"dxc\")\n",
    "\n",
    "# Generate summarizing statistics for aa \n",
    "summarize(aa, \n",
    "          n_flights = n(), \n",
    "          n_canc = sum(field names == ?),\n",
    "          avg_delay = mean(fieldname, na.rm = TRUE))"
   ]
  },
  {
   "cell_type": "code",
   "execution_count": null,
   "metadata": {},
   "outputs": [],
   "source": [
    "Group_by()\n",
    "# Make an ordered field? summary of dataset\n",
    "dataset %>%\n",
    "   group_by(filedname) %>%\n",
    "   summarize(\n",
    "     p_canc = 100 * mean(fieldname== ?), \n",
    "     avg_delay = mean(fieldname, na.rm = TRUE)\n",
    "   ) %>%\n",
    "   arrange(avg_delay, p_canc)"
   ]
  },
  {
   "cell_type": "code",
   "execution_count": null,
   "metadata": {},
   "outputs": [],
   "source": [
    "# Coonecting Database\n",
    "library(RODBC)\n",
    "library(dplyr)\n",
    "con <- odbcConnect(\"CFTdemo\", uid = \"seiya\", pwd=\"\")\n",
    "#emp <- sqlQuery(con, \"select * from Employees\")\n",
    "#emp\n",
    "sqlQuery(con, \"select * from Employees\") %>%\n",
    "group_by(Gender) %>%\n",
    "  summarize(n_Gender = n(), avg_salary = mean(Salary)) %>%\n",
    "  arrange(avg_salary)"
   ]
  },
  {
   "cell_type": "markdown",
   "metadata": {},
   "source": [
    "Control structures: \n",
    "Control structures in R gives onr the flexibiliy to control the flow of execution of a series of R expressions.\n",
    "\n",
    "Commonly used control structures in R are:\n",
    "• if and else: testing a condition and acting on it\n",
    "• for: execute a loop a fixed number of times\n",
    "• break: break the execution of a loop\n",
    "• next: skip an iteration of a loop"
   ]
  },
  {
   "cell_type": "markdown",
   "metadata": {},
   "source": [
    "if-else\n",
    "if-else control structure is one of the most commonly used in programming.This structure allows one to test a condition if it returns true or false and act on it accordinly"
   ]
  },
  {
   "cell_type": "code",
   "execution_count": null,
   "metadata": {},
   "outputs": [],
   "source": [
    "if(<condition>) {\n",
    "    ## do something\n",
    "    } else {\n",
    "    ## do something else\n",
    "  }\n",
    "\n",
    "if(<condition1>) {\n",
    "   ## do something\n",
    "  } else if(<condition2>) {\n",
    "  ## do something different\n",
    "    } else {\n",
    "## do something different\n",
    "}"
   ]
  },
  {
   "cell_type": "markdown",
   "metadata": {},
   "source": [
    "for loops\n",
    "For loops are commonly used for iterating over elements of an object and it made up of three parts\n",
    "the sequence,body and the output"
   ]
  },
  {
   "cell_type": "code",
   "execution_count": null,
   "metadata": {},
   "outputs": [],
   "source": [
    "x <- c(\"a\", \"b\", \"c\", \"d\")\n",
    "for(i in x) {\n",
    "## Print out each element of 'x'\n",
    "print(i)\n",
    "}"
   ]
  },
  {
   "cell_type": "code",
   "execution_count": null,
   "metadata": {},
   "outputs": [],
   "source": [
    "#try it\n",
    "list_of_numbers <- list(2,4,7,8,9,10)\n",
    "\n",
    "for (i in 1:length(list_of_numbers)){\n",
    "    print(list_of_numbers[[i]])\n",
    "}"
   ]
  },
  {
   "cell_type": "code",
   "execution_count": null,
   "metadata": {},
   "outputs": [],
   "source": [
    "# try it\n",
    "dataframe <- data.frame(Age = c(90,13,18,15), test_score = c(70,30,18, 17))\n",
    "dataframe\n",
    "\n",
    "for(i in 1 :ncol(dataframe)){\n",
    "    print(mean(dataframe[[i]]))\n",
    "}"
   ]
  },
  {
   "cell_type": "code",
   "execution_count": null,
   "metadata": {},
   "outputs": [],
   "source": [
    "# Create new double vector: output\n",
    "output <- vector(\"double\", ncol(dataframe))\n",
    "\n",
    "# Alter the loop\n",
    "for (i in 1 :ncol(dataframe)) {\n",
    "  # Change code to store result in output\n",
    "  output[[i]] <- mean(dataframe[[i]])\n",
    "}\n",
    "\n",
    "# Print output\n",
    "output"
   ]
  },
  {
   "cell_type": "markdown",
   "metadata": {},
   "source": [
    "next\n",
    "next is used to skip an iteration of a loop given a condition"
   ]
  },
  {
   "cell_type": "code",
   "execution_count": null,
   "metadata": {},
   "outputs": [],
   "source": [
    "for(i in LETTERS) {\n",
    "if(i < \"V\") {\n",
    "## Skip the all letter before \"V\" iterations\n",
    "next\n",
    "}\n",
    "print(i)\n",
    "}"
   ]
  },
  {
   "cell_type": "markdown",
   "metadata": {},
   "source": [
    "break is used to exit a loop immediately, regardless of what iteration the loop may be on"
   ]
  },
  {
   "cell_type": "code",
   "execution_count": null,
   "metadata": {},
   "outputs": [],
   "source": [
    "for(i in LETTERS) {\n",
    "    print(i)\n",
    "if(i == \"D\") {\n",
    "## Stop loop after 20 iterations\n",
    "break\n",
    "}\n",
    "}"
   ]
  },
  {
   "cell_type": "code",
   "execution_count": null,
   "metadata": {},
   "outputs": [],
   "source": [
    "f <- function(letters, letter){\n",
    "for(i in letters) {\n",
    "    print(i)\n",
    "if(i == letter) {\n",
    "## Stop loop after 20 iterations\n",
    "break\n",
    "}\n",
    "}}"
   ]
  },
  {
   "cell_type": "markdown",
   "metadata": {},
   "source": [
    "Functions"
   ]
  },
  {
   "cell_type": "code",
   "execution_count": null,
   "metadata": {},
   "outputs": [],
   "source": [
    "# The basic structure of a function is given as\n",
    "func.one <- function(arg1, arg2){\n",
    "    body\n",
    "}\n",
    "functions is made up of three parts,\n",
    "Arguments\n",
    "Body\n",
    "Enviroment"
   ]
  },
  {
   "cell_type": "code",
   "execution_count": null,
   "metadata": {},
   "outputs": [],
   "source": [
    "addxy <- function(x, y){\n",
    "    \n",
    "    # return is called\n",
    "    # to force the function\n",
    "    # to stop execution and\n",
    "    # return a value\n",
    "    return(x + y)\n",
    "}\n",
    "addxy(2,5)"
   ]
  },
  {
   "cell_type": "code",
   "execution_count": null,
   "metadata": {},
   "outputs": [],
   "source": [
    "add <- function(x, y = 3){\n",
    "    x + y\n",
    "}"
   ]
  },
  {
   "cell_type": "code",
   "execution_count": null,
   "metadata": {},
   "outputs": [],
   "source": [
    "#Anonymus function that does not have a name assigned to it\n",
    "(function(x) {x + 5})(2)"
   ]
  },
  {
   "cell_type": "code",
   "execution_count": null,
   "metadata": {},
   "outputs": [],
   "source": [
    "#Every function has three parts\n",
    "ab <- function(x) {\n",
    "    if (x < 0){\n",
    "        -x\n",
    "    }else {\n",
    "        x\n",
    "    }\n",
    "}"
   ]
  },
  {
   "cell_type": "code",
   "execution_count": null,
   "metadata": {},
   "outputs": [],
   "source": [
    "Scoping\n",
    "Scoping in R basically describes how and where (Note: NOT WHEN) R looks for values by name. There are basically two types of scope in R,\n",
    "local scope \n",
    "and global scope"
   ]
  },
  {
   "cell_type": "code",
   "execution_count": null,
   "metadata": {},
   "outputs": [],
   "source": [
    "# try it\n",
    "y <- 10\n",
    "f <- function(x) {\n",
    "  x + y\n",
    "}\n",
    "f(10)"
   ]
  },
  {
   "cell_type": "code",
   "execution_count": null,
   "metadata": {},
   "outputs": [],
   "source": [
    "# try it\n",
    "y <- 10\n",
    "f <- function(x) {\n",
    "  y <- 5\n",
    "  x + y\n",
    "}\n",
    "f(10)"
   ]
  },
  {
   "cell_type": "code",
   "execution_count": null,
   "metadata": {},
   "outputs": [],
   "source": [
    "f <- function(x) {\n",
    "  y <- 5\n",
    "  x + y\n",
    "}\n",
    "f(5)"
   ]
  },
  {
   "cell_type": "code",
   "execution_count": null,
   "metadata": {},
   "outputs": [],
   "source": []
  }
 ],
 "metadata": {
  "kernelspec": {
   "display_name": "R 3.5",
   "language": "R",
   "name": "ir35"
  },
  "language_info": {
   "codemirror_mode": "r",
   "file_extension": ".r",
   "mimetype": "text/x-r-source",
   "name": "R",
   "pygments_lexer": "r",
   "version": "3.5.1"
  }
 },
 "nbformat": 4,
 "nbformat_minor": 2
}
