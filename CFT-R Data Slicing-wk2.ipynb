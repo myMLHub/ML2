{
 "cells": [
  {
   "cell_type": "markdown",
   "metadata": {},
   "source": [
    "<div class=\"alert alert-warning\"></i><strong>CFT Data Science With R Tutorials</strong><br>By: Seiya David \n",
    " </div>"
   ]
  },
  {
   "cell_type": "markdown",
   "metadata": {},
   "source": [
    "<div class=\"alert alert-success\"></i><strong>1.0 Filter Data</strong>\n",
    " </div>"
   ]
  },
  {
   "cell_type": "code",
   "execution_count": null,
   "metadata": {},
   "outputs": [],
   "source": [
    "# To demonstrate filtering data, we would need to import a whatIsTrending.csv file provided with this tutorial\n",
    "# run the code below.\n",
    "# Replace the file path (\"D:/CFT DataScienceHub/whatIsTrending.csv\") with the path you saved the provided dataset\n",
    "# this should be done anywhere you find the file path in the code.\n",
    "excelCSVData <- read.csv(\"D:/CFT DataScienceHub/whatIsTrending.csv\",sep = \",\", header = TRUE)"
   ]
  },
  {
   "cell_type": "code",
   "execution_count": null,
   "metadata": {},
   "outputs": [],
   "source": [
    "# Lets us view the last seven records in the file using the 'head()' function\n",
    "tail(excelCSVData,100)"
   ]
  },
  {
   "cell_type": "code",
   "execution_count": null,
   "metadata": {},
   "outputs": [],
   "source": [
    "# What just happened! up until now, we have been using just the head() function to view the first few rows of records, well\n",
    "# there exist a 'tail()' function too. The tail function displays by default the last six records of a dataset"
   ]
  },
  {
   "cell_type": "code",
   "execution_count": null,
   "metadata": {},
   "outputs": [],
   "source": [
    "# From the data contained in the 'excelCSVData' let us ectract information on Canada ONLY\n",
    "# To achieve this run the code below.But let me explain what the code means\n",
    "# The excelCSVData$country ==\"Canada\" implies that look in the 'excelCSVData' object UNDER ($) the 'country' column and \n",
    "# return records with 'Canada' ONLY.\n",
    "# The comma after the preceding code tells R to return all columns\n",
    "# Why don't you have a go by replacing Canada with say 'United States'\n",
    "excelCSVData[(excelCSVData$City ==\"Bristol\"),]"
   ]
  },
  {
   "cell_type": "code",
   "execution_count": null,
   "metadata": {},
   "outputs": [],
   "source": [
    "# Code below means as follows:\n",
    "# excelCSVData$Country ==\"United Kingdom\" look in the Country column in the excelCSVData and return records of 'United Kingdom'\n",
    "# & and\n",
    "# excelCSVData$City ==\"Birmingham\" look in the City column in the excelCSVData and return records of 'Birmingham'\n",
    "#, return all columns\n",
    "# A bit confusing? let me know please\n",
    "excelCSVData[(excelCSVData$Country ==\"United Kingdom\")&(excelCSVData$City ==\"Birmingham\"),]"
   ]
  },
  {
   "cell_type": "code",
   "execution_count": null,
   "metadata": {},
   "outputs": [],
   "source": [
    "# Does the output look familier?\n",
    "# Can you Decipher what the function does?\n",
    "# I will leave that as a challenge\n",
    "subset(excelCSVData, subset = Country==\"Canada\")"
   ]
  },
  {
   "cell_type": "code",
   "execution_count": null,
   "metadata": {},
   "outputs": [],
   "source": [
    "# Does this output look familier?\n",
    "# Can you Decipher what the function does?\n",
    "# I will leave that as a challenge\n",
    "# The bottom line is there are several ways to get things done in R\n",
    "subset(excelCSVData, subset = (Country==\"United Kingdom\" & City==\"Birmingham\"))"
   ]
  },
  {
   "cell_type": "code",
   "execution_count": null,
   "metadata": {},
   "outputs": [],
   "source": [
    "# There might be times when one might want to see records that starts with a particular letter/letters\n",
    "# In this case, let's assume we want to know all countries whose names starts with 'C'\n",
    "# We use what is called the 'grep()' function\n",
    "# grep means General Regular Expression and returns \"index\"\n",
    "# Ok! another buzz word, Index. In the R index simply mean a position of an object or elements.\n",
    "# Lets say I have the following A, B, C.\n",
    "# The position of the letter A is in index 1\n",
    "# the position of letter B is in index 2\n",
    "# I guess by now you must have figured out index for letter C, well that is in index 3\n",
    "\n",
    "# grep(\"^C\", this part of the code says find me a pattern of word that starts with 'C'\n",
    "# excelCSVData$Country, In the Country column of the excelCSVData dataset object \n",
    "# ignore.case=T) ignore case sensitive\n",
    "# the , implies return all columns\n",
    "excelCSVData[grep(\"^C\", excelCSVData$Country, ignore.case=T),]"
   ]
  },
  {
   "cell_type": "code",
   "execution_count": null,
   "metadata": {},
   "outputs": [],
   "source": [
    "# What did you observe when you run this code\n",
    "excelCSVData[grep(\"^NI\", excelCSVData$Country, ignore.case=T),]"
   ]
  },
  {
   "cell_type": "code",
   "execution_count": null,
   "metadata": {},
   "outputs": [],
   "source": [
    "# Can you spot what has change when you run this code?\n",
    "excelCSVData[grep(\"^NI\", excelCSVData$Country, ignore.case=F),]"
   ]
  },
  {
   "cell_type": "code",
   "execution_count": null,
   "metadata": {},
   "outputs": [],
   "source": [
    "# Can you spot again what has change when you run this code?\n",
    "excelCSVData[grep(\"^Ni\", excelCSVData$Country, ignore.case=F),]"
   ]
  },
  {
   "cell_type": "markdown",
   "metadata": {},
   "source": [
    "<div class=\"alert alert-success\"></i><strong>2.0 Sorting Data</strong>\n",
    " </div>"
   ]
  },
  {
   "cell_type": "code",
   "execution_count": null,
   "metadata": {},
   "outputs": [],
   "source": [
    "# The goal of this session is to create a data frame. But to do that I will create FOUR vectors first\n",
    "week_Day <- c(\"Monday\",\"Tuesday\",\"Wednesday\",\"Thursday\",\"Friday\",\"Saturday\",\"Sunday\")\n",
    "Temperature <- c(2,3,5,1,4,0,7)\n",
    "Snowed <- c(TRUE,TRUE,FALSE,TRUE,TRUE,FALSE,FALSE)\n",
    "Location <- c(\"Woolwich\",\"Barking\",\"Hammersmith\",\"Islington\",\"Lewisham\",\"Newham\",\"Merton\")\n",
    "\n",
    "# I join the respective vectors to form a data frame as follows \n",
    "weather_data <- data.frame(Location,Snowed,Temperature,week_Day)\n",
    "\n",
    "# To view all the data/table run the object\n",
    "weather_data"
   ]
  },
  {
   "cell_type": "code",
   "execution_count": null,
   "metadata": {},
   "outputs": [],
   "source": [
    "# Lets us sort our data by the Temperature"
   ]
  },
  {
   "cell_type": "code",
   "execution_count": null,
   "metadata": {},
   "outputs": [],
   "source": [
    "# We use the order() function achieve the task of sorting in R\n",
    "sort_weather_data<- order(weather_data['Temperature'])\n",
    "\n",
    "# Initally, the output seems like the sorted Temperature values but it's not\n",
    "# It's rather the index of the numbers returned by their respective sizes\n",
    "sort_weather_data"
   ]
  },
  {
   "cell_type": "code",
   "execution_count": null,
   "metadata": {},
   "outputs": [],
   "source": [
    "# If you observe the 'weather_data' table\n",
    "# The least Temperature is at Newham with 0 on a Saturday\n",
    "# Counting down wards, 0 is on index 6\n",
    "# followed by the next smallest Temperature at Islington with 1 on a Thursday\n",
    "# Counting down again falls on the 4th row hence index 4\n",
    "\n",
    "# Did you get the logic now?"
   ]
  },
  {
   "cell_type": "code",
   "execution_count": null,
   "metadata": {},
   "outputs": [],
   "source": [
    "# To obtain the actual sorted table,\n",
    "# run the code below\n",
    "# What the code below does is passing the sorted index to the weather_data object and returing all the columns\n",
    "weather_data[sort_weather_data,]"
   ]
  },
  {
   "cell_type": "code",
   "execution_count": null,
   "metadata": {},
   "outputs": [],
   "source": [
    "# Lets do one more but htis time we aim to to sort the Locations\n",
    "# now observe carfully the changes here\n",
    "sort_weather_data<- order(weather_data['Location'])"
   ]
  },
  {
   "cell_type": "code",
   "execution_count": null,
   "metadata": {},
   "outputs": [],
   "source": [
    "# Lets view the location Index\n",
    "# what can you make from the index?\n",
    "sort_weather_data"
   ]
  },
  {
   "cell_type": "code",
   "execution_count": null,
   "metadata": {},
   "outputs": [],
   "source": [
    "# What does the sorted data by Location looks like? \n",
    "# Do you agree with the output?\n",
    "weather_data[sort_weather_data,]"
   ]
  },
  {
   "cell_type": "code",
   "execution_count": null,
   "metadata": {},
   "outputs": [],
   "source": [
    "# By now you must be asking 'what if I want my sorted data the other way round', like largest number to smallest or Z to A rather \n",
    "# than the current way we have it.\n",
    "# That is super easy, all you need to include is 'decreasing = TRUE' as an argument\n",
    "\n",
    "#Let me show you how by sorting our temperature again but this time we want the largets numbers on top\n",
    "sort_weather_data<- order(weather_data['Temperature'],decreasing = TRUE)\n",
    "weather_data[sort_weather_data,]"
   ]
  },
  {
   "cell_type": "code",
   "execution_count": null,
   "metadata": {},
   "outputs": [],
   "source": [
    "# Lets give the sorting of the Location field/column a go\n",
    "# What is the take away here?\n",
    "sort_weather_data<- order(weather_data['Location'],decreasing = TRUE)\n",
    "weather_data[sort_weather_data,]"
   ]
  },
  {
   "cell_type": "markdown",
   "metadata": {},
   "source": [
    "<div class=\"alert alert-success\"></i><strong>3.0 Stack Data</strong>\n",
    " </div>"
   ]
  },
  {
   "cell_type": "code",
   "execution_count": null,
   "metadata": {},
   "outputs": [],
   "source": [
    "# To statck data sets together, we MUST ensure that both datasets/ files contain MATCHING headers in MATCHING POSITIONS\n",
    "\n",
    "import_Canada_data<- read.csv(\"D:/CFT DataScienceHub/Canada.csv\",sep = \",\", header = TRUE) # Import canada data\n",
    "import_UK_data<- read.csv(\"D:/CFT DataScienceHub/uk.csv\",sep = \",\", header = TRUE) # Import uk data"
   ]
  },
  {
   "cell_type": "code",
   "execution_count": null,
   "metadata": {},
   "outputs": [],
   "source": [
    "# Use the 'cbind()' function to stack the datasets\n",
    "stacked_uk_canada_data<- rbind(import_Canada_data,import_UK_data)\n",
    "head(stacked_uk_canada_data,15)"
   ]
  },
  {
   "cell_type": "markdown",
   "metadata": {},
   "source": [
    "<div class=\"alert alert-success\"></i><strong>4.0 Merge Data</strong>\n",
    " </div>"
   ]
  },
  {
   "cell_type": "code",
   "execution_count": null,
   "metadata": {},
   "outputs": [],
   "source": [
    "# In this demonstration, let us assume that we have two files with student information and we would like to merge the students\n",
    "# information based on UNIQUE id\n",
    "# Firstly, let's import the two data files\n",
    "student_names<- read.table(\"D:/CFT DataScienceHub/names.txt\",sep = \"\\t\", header = TRUE)\n",
    "student_origin<- read.table(\"D:/CFT DataScienceHub/student.txt\",sep = \"\\t\", header = TRUE)"
   ]
  },
  {
   "cell_type": "code",
   "execution_count": null,
   "metadata": {},
   "outputs": [],
   "source": [
    "# Let's view the student_names object/data frame contents\n",
    "student_names"
   ]
  },
  {
   "cell_type": "code",
   "execution_count": null,
   "metadata": {},
   "outputs": [],
   "source": [
    "# Let's view the student_origin object/data frame contents\n",
    "student_origin"
   ]
  },
  {
   "cell_type": "code",
   "execution_count": null,
   "metadata": {},
   "outputs": [],
   "source": [
    "# Haven seen the contents of the tables, let us merge these tables based on the 'Student_id' field\n",
    "# to achieve this, we use the 'merge()' in the code below\n",
    "merge(student_names, student_origin, by=\"Student_id\")"
   ]
  },
  {
   "cell_type": "markdown",
   "metadata": {},
   "source": [
    "<div class=\"alert alert-success\"></i><strong>5.0 Slice and Dice Data</strong>\n",
    " </div>"
   ]
  },
  {
   "cell_type": "code",
   "execution_count": null,
   "metadata": {},
   "outputs": [],
   "source": [
    "# Following on from the last section.\n",
    "# Lets say we want all the element on rows 5, column 3. This should be 40\n",
    "# The way to go about it ia as follows\n",
    "slice_data <- merge(student_names, student_origin, by=\"Student_id\")\n",
    "slice_data[5,3]"
   ]
  },
  {
   "cell_type": "code",
   "execution_count": null,
   "metadata": {},
   "outputs": [],
   "source": [
    "# To exclude the first column from the table\n",
    "# use the code\n",
    "slice_data[,-1]\n",
    "# The above simply say, return all the records except column 1\n",
    "# Why don't you give it a try by replacing -1 with -5"
   ]
  },
  {
   "cell_type": "code",
   "execution_count": null,
   "metadata": {},
   "outputs": [],
   "source": [
    "# Let say I want a table with ONLY the 'Age' and the 'Level' fields\n",
    "# the way to go about this is as follows\n",
    "slice_data[,c(3,6)]"
   ]
  },
  {
   "cell_type": "code",
   "execution_count": null,
   "metadata": {},
   "outputs": [],
   "source": [
    "# Alternatively, use the code below\n",
    "slice_data[,c(\"Age\",\"Level\")]"
   ]
  },
  {
   "cell_type": "markdown",
   "metadata": {},
   "source": [
    "<div class=\"alert alert-warning\"><strong>Next class</strong><br>We will look at how to filter datasets using more advance package and how to write R functions.\n",
    " </div>"
   ]
  }
 ],
 "metadata": {
  "kernelspec": {
   "display_name": "R",
   "language": "R",
   "name": "ir"
  },
  "language_info": {
   "codemirror_mode": "r",
   "file_extension": ".r",
   "mimetype": "text/x-r-source",
   "name": "R",
   "pygments_lexer": "r",
   "version": "3.5.1"
  }
 },
 "nbformat": 4,
 "nbformat_minor": 2
}
