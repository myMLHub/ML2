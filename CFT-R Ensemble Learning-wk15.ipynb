{
 "cells": [
  {
   "cell_type": "markdown",
   "metadata": {},
   "source": [
    "## Ensemble Learning"
   ]
  },
  {
   "cell_type": "markdown",
   "metadata": {},
   "source": [
    "Is a process of combining several machine learning algorithms to obtain better predictive models. An example of such models are Random Forest classification algorithm, Bagging and Boosting. These algorithm takes the majority output decisions from the ensemble of decision trees as its output. This process to reduces overfitting, which occurs very frequently when using decision trees. Before we go into Random Forest, let's dive into decision trees to lay the foundation."
   ]
  },
  {
   "cell_type": "markdown",
   "metadata": {},
   "source": [
    "## Decision Trees\n",
    "Decision trees can be used for both regression and classification problems.They are simple to interprete and presents information visually in a very easy to understand format.\n",
    "Decision trees are hierachical structures that aims to classifiy a categorical response variable by adding features and associated rule to nodes. \n",
    "The very top of the tree is called the root node while the ones at the very end are called the terminal nodes. 100 percent pure node will have only one class of y (response variable) the aim is to make the terminal node as pure as possible while not growing trees that are too deep. Each node is labeled with the name of the class. For each branch the process is repeated to build the tree, partitioning the samples to further improve the classification purity of the data. The process continues until a stopping criteria is reached, or the nodes classify all cases in their partition correctly.Now let's look at how the **purity** of a node is determined.\n",
    "\n",
    "**Pros:**\n",
    "- very flexible\n",
    "- easy to interpret\n",
    "- works on both classification and regression problems\n",
    "- it is nonparametric\n",
    "\n",
    "**con:**\n",
    "- Tends to be biased\n",
    "- over-fitted (use pruning or random forest to resolve this issue)"
   ]
  },
  {
   "cell_type": "markdown",
   "metadata": {},
   "source": [
    "## Entropy\n",
    "\n",
    "There are three main impurity measuring formulea\n",
    "-   $Gini\\ Index = \\sum p_j^2$ <br> <br>\n",
    "-  $classification\\ Error=1 - max(p_j)$ <br><br>\n",
    "-  $Entropy = - \\sum p_klog{_2}p_k$\n",
    "\n",
    "But for this lectures, we will be looking at the Entropy.\n",
    "Entropy is defined as a measure of randomness in a system. For a probability distribution with k classes, it is defined as:\n",
    "\n",
    "$$Entropy = - \\sum p_klog{_2}p_k$$ <br> where $p_k$ is the probability an item belongs to the $k^{th}$ class. Entropy increase as the number of classes in the sample increses, the decision to whether make a split or not is based on the Entropy change before and after the split (Information gain). The split that gives the maximum information gain gets the first preference and this why decision tree are called the creedy algorithm"
   ]
  },
  {
   "cell_type": "code",
   "execution_count": 28,
   "metadata": {
    "scrolled": false
   },
   "outputs": [],
   "source": [
    "library(rattle, verbose = FALSE, quietly = T)\n",
    "library(RColorBrewer, verbose = FALSE, quietly = T)"
   ]
  },
  {
   "cell_type": "code",
   "execution_count": 27,
   "metadata": {},
   "outputs": [],
   "source": [
    "# Load the models\n",
    "library(rpart, verbose = FALSE, quietly = T) #classification\n",
    "library(randomForest, verbose = FALSE, quietly = T) #random forests\n",
    "library(gbm, verbose = FALSE, quietly = T) #gradient boosting\n",
    "library(caret, verbose = FALSE, quietly = T) #tune hyper-parameters"
   ]
  },
  {
   "cell_type": "markdown",
   "metadata": {},
   "source": [
    "### About the dataset\n",
    "The dataset has data derived from real and fake banknotes. Four different features are derived by processing the image of each banknote. The fifth column of the dataset contains the class label of 0 or 1 indicating whether the note is fake or real. Our goal is to build a classifier that can learn the model of a real banknote and then predict the class for a new banknote. The dataset contains 1,372 records."
   ]
  },
  {
   "cell_type": "code",
   "execution_count": 30,
   "metadata": {},
   "outputs": [],
   "source": [
    "# Import the bank notes data\n",
    "fake_bank_note<- read.table(\"https://archive.ics.uci.edu/ml/machine-learning-databases/00267/data_banknote_authentication.txt\", sep=\",\")   "
   ]
  },
  {
   "cell_type": "code",
   "execution_count": 31,
   "metadata": {},
   "outputs": [
    {
     "data": {
      "text/html": [
       "<table>\n",
       "<thead><tr><th scope=col>V1</th><th scope=col>V2</th><th scope=col>V3</th><th scope=col>V4</th><th scope=col>V5</th></tr></thead>\n",
       "<tbody>\n",
       "\t<tr><td>3.62160 </td><td> 8.6661 </td><td>-2.8073 </td><td>-0.44699</td><td>0       </td></tr>\n",
       "\t<tr><td>4.54590 </td><td> 8.1674 </td><td>-2.4586 </td><td>-1.46210</td><td>0       </td></tr>\n",
       "\t<tr><td>3.86600 </td><td>-2.6383 </td><td> 1.9242 </td><td> 0.10645</td><td>0       </td></tr>\n",
       "\t<tr><td>3.45660 </td><td> 9.5228 </td><td>-4.0112 </td><td>-3.59440</td><td>0       </td></tr>\n",
       "\t<tr><td>0.32924 </td><td>-4.4552 </td><td> 4.5718 </td><td>-0.98880</td><td>0       </td></tr>\n",
       "\t<tr><td>4.36840 </td><td> 9.6718 </td><td>-3.9606 </td><td>-3.16250</td><td>0       </td></tr>\n",
       "</tbody>\n",
       "</table>\n"
      ],
      "text/latex": [
       "\\begin{tabular}{r|lllll}\n",
       " V1 & V2 & V3 & V4 & V5\\\\\n",
       "\\hline\n",
       "\t 3.62160  &  8.6661  & -2.8073  & -0.44699 & 0       \\\\\n",
       "\t 4.54590  &  8.1674  & -2.4586  & -1.46210 & 0       \\\\\n",
       "\t 3.86600  & -2.6383  &  1.9242  &  0.10645 & 0       \\\\\n",
       "\t 3.45660  &  9.5228  & -4.0112  & -3.59440 & 0       \\\\\n",
       "\t 0.32924  & -4.4552  &  4.5718  & -0.98880 & 0       \\\\\n",
       "\t 4.36840  &  9.6718  & -3.9606  & -3.16250 & 0       \\\\\n",
       "\\end{tabular}\n"
      ],
      "text/markdown": [
       "\n",
       "V1 | V2 | V3 | V4 | V5 | \n",
       "|---|---|---|---|---|---|\n",
       "| 3.62160  |  8.6661  | -2.8073  | -0.44699 | 0        | \n",
       "| 4.54590  |  8.1674  | -2.4586  | -1.46210 | 0        | \n",
       "| 3.86600  | -2.6383  |  1.9242  |  0.10645 | 0        | \n",
       "| 3.45660  |  9.5228  | -4.0112  | -3.59440 | 0        | \n",
       "| 0.32924  | -4.4552  |  4.5718  | -0.98880 | 0        | \n",
       "| 4.36840  |  9.6718  | -3.9606  | -3.16250 | 0        | \n",
       "\n",
       "\n"
      ],
      "text/plain": [
       "  V1      V2      V3      V4       V5\n",
       "1 3.62160  8.6661 -2.8073 -0.44699 0 \n",
       "2 4.54590  8.1674 -2.4586 -1.46210 0 \n",
       "3 3.86600 -2.6383  1.9242  0.10645 0 \n",
       "4 3.45660  9.5228 -4.0112 -3.59440 0 \n",
       "5 0.32924 -4.4552  4.5718 -0.98880 0 \n",
       "6 4.36840  9.6718 -3.9606 -3.16250 0 "
      ]
     },
     "metadata": {},
     "output_type": "display_data"
    }
   ],
   "source": [
    "# View the first few observation of the imported data\n",
    "head(fake_bank_note)"
   ]
  },
  {
   "cell_type": "code",
   "execution_count": 32,
   "metadata": {},
   "outputs": [],
   "source": [
    "# The data does not have proper names\n",
    "# let's give the data fields proper names\n",
    "\n",
    "# variance of Wavelet Transformed image(vwt)\n",
    "# skewness of Wavelet Transformed image(swt)\n",
    "# curtosis of Wavelet Transformed image(cwt)\n",
    "# entropy of image(entropy)\n",
    "# class(class)\n",
    "colnames(fake_bank_note) <- c(\"vwt\",\"swt\",\"cwt\",\"entropy\",\"class\") "
   ]
  },
  {
   "cell_type": "code",
   "execution_count": 33,
   "metadata": {},
   "outputs": [
    {
     "data": {
      "text/html": [
       "<table>\n",
       "<thead><tr><th scope=col>vwt</th><th scope=col>swt</th><th scope=col>cwt</th><th scope=col>entropy</th><th scope=col>class</th></tr></thead>\n",
       "<tbody>\n",
       "\t<tr><td>3.62160 </td><td> 8.6661 </td><td>-2.8073 </td><td>-0.44699</td><td>0       </td></tr>\n",
       "\t<tr><td>4.54590 </td><td> 8.1674 </td><td>-2.4586 </td><td>-1.46210</td><td>0       </td></tr>\n",
       "\t<tr><td>3.86600 </td><td>-2.6383 </td><td> 1.9242 </td><td> 0.10645</td><td>0       </td></tr>\n",
       "\t<tr><td>3.45660 </td><td> 9.5228 </td><td>-4.0112 </td><td>-3.59440</td><td>0       </td></tr>\n",
       "\t<tr><td>0.32924 </td><td>-4.4552 </td><td> 4.5718 </td><td>-0.98880</td><td>0       </td></tr>\n",
       "\t<tr><td>4.36840 </td><td> 9.6718 </td><td>-3.9606 </td><td>-3.16250</td><td>0       </td></tr>\n",
       "</tbody>\n",
       "</table>\n"
      ],
      "text/latex": [
       "\\begin{tabular}{r|lllll}\n",
       " vwt & swt & cwt & entropy & class\\\\\n",
       "\\hline\n",
       "\t 3.62160  &  8.6661  & -2.8073  & -0.44699 & 0       \\\\\n",
       "\t 4.54590  &  8.1674  & -2.4586  & -1.46210 & 0       \\\\\n",
       "\t 3.86600  & -2.6383  &  1.9242  &  0.10645 & 0       \\\\\n",
       "\t 3.45660  &  9.5228  & -4.0112  & -3.59440 & 0       \\\\\n",
       "\t 0.32924  & -4.4552  &  4.5718  & -0.98880 & 0       \\\\\n",
       "\t 4.36840  &  9.6718  & -3.9606  & -3.16250 & 0       \\\\\n",
       "\\end{tabular}\n"
      ],
      "text/markdown": [
       "\n",
       "vwt | swt | cwt | entropy | class | \n",
       "|---|---|---|---|---|---|\n",
       "| 3.62160  |  8.6661  | -2.8073  | -0.44699 | 0        | \n",
       "| 4.54590  |  8.1674  | -2.4586  | -1.46210 | 0        | \n",
       "| 3.86600  | -2.6383  |  1.9242  |  0.10645 | 0        | \n",
       "| 3.45660  |  9.5228  | -4.0112  | -3.59440 | 0        | \n",
       "| 0.32924  | -4.4552  |  4.5718  | -0.98880 | 0        | \n",
       "| 4.36840  |  9.6718  | -3.9606  | -3.16250 | 0        | \n",
       "\n",
       "\n"
      ],
      "text/plain": [
       "  vwt     swt     cwt     entropy  class\n",
       "1 3.62160  8.6661 -2.8073 -0.44699 0    \n",
       "2 4.54590  8.1674 -2.4586 -1.46210 0    \n",
       "3 3.86600 -2.6383  1.9242  0.10645 0    \n",
       "4 3.45660  9.5228 -4.0112 -3.59440 0    \n",
       "5 0.32924 -4.4552  4.5718 -0.98880 0    \n",
       "6 4.36840  9.6718 -3.9606 -3.16250 0    "
      ]
     },
     "metadata": {},
     "output_type": "display_data"
    }
   ],
   "source": [
    "# View the first few observation of the labeled data to \n",
    "# verify names are added\n",
    "head(fake_bank_note)"
   ]
  },
  {
   "cell_type": "code",
   "execution_count": 34,
   "metadata": {},
   "outputs": [
    {
     "data": {
      "text/plain": [
       "      vwt               swt               cwt             entropy       \n",
       " Min.   :-7.0421   Min.   :-13.773   Min.   :-5.2861   Min.   :-8.5482  \n",
       " 1st Qu.:-1.7730   1st Qu.: -1.708   1st Qu.:-1.5750   1st Qu.:-2.4135  \n",
       " Median : 0.4962   Median :  2.320   Median : 0.6166   Median :-0.5867  \n",
       " Mean   : 0.4337   Mean   :  1.922   Mean   : 1.3976   Mean   :-1.1917  \n",
       " 3rd Qu.: 2.8215   3rd Qu.:  6.815   3rd Qu.: 3.1793   3rd Qu.: 0.3948  \n",
       " Max.   : 6.8248   Max.   : 12.952   Max.   :17.9274   Max.   : 2.4495  \n",
       "     class       \n",
       " Min.   :0.0000  \n",
       " 1st Qu.:0.0000  \n",
       " Median :0.0000  \n",
       " Mean   :0.4446  \n",
       " 3rd Qu.:1.0000  \n",
       " Max.   :1.0000  "
      ]
     },
     "metadata": {},
     "output_type": "display_data"
    }
   ],
   "source": [
    "# Run the summary function\n",
    "# we see that there is a need for normalization as some of the data ranges are very big\n",
    "# Also we see that the class label(class) is not categorical, we would need to conver this\n",
    "# as it's a classification problem\n",
    "summary(fake_bank_note)"
   ]
  },
  {
   "cell_type": "code",
   "execution_count": 35,
   "metadata": {},
   "outputs": [
    {
     "name": "stdout",
     "output_type": "stream",
     "text": [
      "'data.frame':\t1372 obs. of  5 variables:\n",
      " $ vwt    : num  3.622 4.546 3.866 3.457 0.329 ...\n",
      " $ swt    : num  8.67 8.17 -2.64 9.52 -4.46 ...\n",
      " $ cwt    : num  -2.81 -2.46 1.92 -4.01 4.57 ...\n",
      " $ entropy: num  -0.447 -1.462 0.106 -3.594 -0.989 ...\n",
      " $ class  : int  0 0 0 0 0 0 0 0 0 0 ...\n"
     ]
    }
   ],
   "source": [
    "# View the structure of the data\n",
    "str(fake_bank_note)"
   ]
  },
  {
   "cell_type": "code",
   "execution_count": 36,
   "metadata": {},
   "outputs": [],
   "source": [
    "# convert the response variable to factor\n",
    "fake_bank_note$class <- as.factor(fake_bank_note$class)"
   ]
  },
  {
   "cell_type": "code",
   "execution_count": 37,
   "metadata": {},
   "outputs": [
    {
     "name": "stdout",
     "output_type": "stream",
     "text": [
      "'data.frame':\t1372 obs. of  5 variables:\n",
      " $ vwt    : num  3.622 4.546 3.866 3.457 0.329 ...\n",
      " $ swt    : num  8.67 8.17 -2.64 9.52 -4.46 ...\n",
      " $ cwt    : num  -2.81 -2.46 1.92 -4.01 4.57 ...\n",
      " $ entropy: num  -0.447 -1.462 0.106 -3.594 -0.989 ...\n",
      " $ class  : Factor w/ 2 levels \"0\",\"1\": 1 1 1 1 1 1 1 1 1 1 ...\n"
     ]
    }
   ],
   "source": [
    "# ensure the class reponse varible is now a factor\n",
    "str(fake_bank_note)"
   ]
  },
  {
   "cell_type": "code",
   "execution_count": null,
   "metadata": {},
   "outputs": [],
   "source": [
    "#txtData <- txtData[complete.cases(txtData), ]\n",
    "# na.omit\n",
    "#nrow(txtData)\n",
    "#summary(txtData)"
   ]
  },
  {
   "cell_type": "markdown",
   "metadata": {},
   "source": [
    "### Create the Train and Test datasets"
   ]
  },
  {
   "cell_type": "code",
   "execution_count": 38,
   "metadata": {},
   "outputs": [],
   "source": [
    "trainRows <- createDataPartition(fake_bank_note$class,p=0.7,list=FALSE)\n",
    "trainData <- fake_bank_note[trainRows, ]\n",
    "testData  <- fake_bank_note[-trainRows, ]"
   ]
  },
  {
   "cell_type": "code",
   "execution_count": 39,
   "metadata": {},
   "outputs": [],
   "source": [
    "## Train the model using the rpart function from the rapart package\n",
    "#fancyRpartPlot(rpartMod)\n",
    "decisionTree <- rpart(class~., data=trainData)"
   ]
  },
  {
   "cell_type": "code",
   "execution_count": 40,
   "metadata": {},
   "outputs": [
    {
     "data": {
      "image/png": "[encoded data removed]",
      "text/plain": [
       "Plot with title \"\""
      ]
     },
     "metadata": {},
     "output_type": "display_data"
    }
   ],
   "source": [
    "# make a plot using the rattle package\n",
    "fancyRpartPlot(decisionTree)"
   ]
  },
  {
   "cell_type": "code",
   "execution_count": 41,
   "metadata": {},
   "outputs": [
    {
     "name": "stdout",
     "output_type": "stream",
     "text": [
      "          CP nsplit  rel error     xerror       xstd\n",
      "1 0.69789227      0 1.00000000 1.00000000 0.03607406\n",
      "2 0.07494145      1 0.30210773 0.32552693 0.02553605\n",
      "3 0.03395785      2 0.22716628 0.23887588 0.02236182\n",
      "4 0.02576112      4 0.15925059 0.19203747 0.02028205\n",
      "5 0.02459016      5 0.13348946 0.18969555 0.02016946\n",
      "6 0.01229508      7 0.08430913 0.14754098 0.01796879\n",
      "7 0.01000000     11 0.03512881 0.09367681 0.01450007\n"
     ]
    }
   ],
   "source": [
    "# to view the error per split so as to determine the optimal number of splits run the code below\n",
    "print(decisionTree$cptable)\n",
    "# from the out put below,\n",
    "# CP is the cost complexity parameter\n",
    "# nsplit number of splits in the tree\n",
    "# xerror is the average error based on the ten-fold cross-validation\n",
    "# xstd is the standard deviation error based on the ten-fold cross-validation"
   ]
  },
  {
   "cell_type": "code",
   "execution_count": null,
   "metadata": {},
   "outputs": [],
   "source": [
    "# from the output above, we see that cross-validation error is at a minimum with 11 splits (row 7)\n",
    "# with is information in mind, we can prune the tree build a new tree object where xerror is minimized by pruning our \n",
    "# tree accordingly"
   ]
  },
  {
   "cell_type": "code",
   "execution_count": 46,
   "metadata": {},
   "outputs": [
    {
     "data": {
      "text/html": [
       "0.0122950819672131"
      ],
      "text/latex": [
       "0.0122950819672131"
      ],
      "text/markdown": [
       "0.0122950819672131"
      ],
      "text/plain": [
       "[1] 0.01229508"
      ]
     },
     "metadata": {},
     "output_type": "display_data"
    }
   ],
   "source": [
    "# since from examination, we see that xerror has a minimum value at row 7, pass this number as argument below\n",
    "cp = min(decisionTree$cptable[6,])\n",
    "cp"
   ]
  },
  {
   "cell_type": "code",
   "execution_count": 47,
   "metadata": {},
   "outputs": [],
   "source": [
    "# we now prune the tree\n",
    "prune_decisionTree = prune(decisionTree, cp = cp)"
   ]
  },
  {
   "cell_type": "code",
   "execution_count": 48,
   "metadata": {},
   "outputs": [
    {
     "data": {
      "image/png": "[encoded data removed]",
      "text/plain": [
       "Plot with title \"\""
      ]
     },
     "metadata": {},
     "output_type": "display_data"
    }
   ],
   "source": [
    "fancyRpartPlot(prune_decisionTree)"
   ]
  },
  {
   "cell_type": "markdown",
   "metadata": {},
   "source": [
    "## Model evaluation"
   ]
  },
  {
   "cell_type": "code",
   "execution_count": 49,
   "metadata": {},
   "outputs": [
    {
     "data": {
      "text/plain": [
       "           \n",
       "rparty.test   0   1\n",
       "          0 218   7\n",
       "          1  10 176"
      ]
     },
     "metadata": {},
     "output_type": "display_data"
    }
   ],
   "source": [
    "# make prediction on the test data set\n",
    "rparty.test = predict(prune_decisionTree, newdata=testData, type=\"class\")\n",
    "table(rparty.test, testData$class)"
   ]
  },
  {
   "cell_type": "code",
   "execution_count": 52,
   "metadata": {},
   "outputs": [
    {
     "data": {
      "text/html": [
       "0.959"
      ],
      "text/latex": [
       "0.959"
      ],
      "text/markdown": [
       "0.959"
      ],
      "text/plain": [
       "[1] 0.959"
      ]
     },
     "metadata": {},
     "output_type": "display_data"
    }
   ],
   "source": [
    "# Manually compute the accuracy\n",
    "round((218+176)/(218+7+10+176),3)"
   ]
  },
  {
   "cell_type": "code",
   "execution_count": 51,
   "metadata": {},
   "outputs": [
    {
     "data": {
      "text/plain": [
       "Confusion Matrix and Statistics\n",
       "\n",
       "          Reference\n",
       "Prediction   0   1\n",
       "         0 218   7\n",
       "         1  10 176\n",
       "                                          \n",
       "               Accuracy : 0.9586          \n",
       "                 95% CI : (0.9346, 0.9757)\n",
       "    No Information Rate : 0.5547          \n",
       "    P-Value [Acc > NIR] : <2e-16          \n",
       "                                          \n",
       "                  Kappa : 0.9164          \n",
       "                                          \n",
       " Mcnemar's Test P-Value : 0.6276          \n",
       "                                          \n",
       "            Sensitivity : 0.9561          \n",
       "            Specificity : 0.9617          \n",
       "         Pos Pred Value : 0.9689          \n",
       "         Neg Pred Value : 0.9462          \n",
       "             Prevalence : 0.5547          \n",
       "         Detection Rate : 0.5304          \n",
       "   Detection Prevalence : 0.5474          \n",
       "      Balanced Accuracy : 0.9589          \n",
       "                                          \n",
       "       'Positive' Class : 0               \n",
       "                                          "
      ]
     },
     "metadata": {},
     "output_type": "display_data"
    }
   ],
   "source": [
    "# compute the confusion matrix\n",
    "caret::confusionMatrix(rparty.test, testData$class, positive = \"0\")"
   ]
  },
  {
   "cell_type": "markdown",
   "metadata": {},
   "source": [
    "## Bagging (Bootstrap Aggregation)"
   ]
  },
  {
   "cell_type": "markdown",
   "metadata": {},
   "source": [
    "Bootstrap is a statistical technique of applying random sample of data to estimate a larger set of data.It is also known as drawing a random sample with replacement with the sample size the same as the original dataset, repeatation is allowed hence some data pointd might not be selected, these unsellected data points are known as Out Of Bag samples(OOB). When this technique is applied to machine learning model performance, it implies the creation of several randomly selected training and test datasets, which are then used to estimate performance statistics. The results from the various random datasets are then averaged to obtain a final estimate of future performance."
   ]
  },
  {
   "cell_type": "markdown",
   "metadata": {},
   "source": [
    "## Random forest [Technique One]\n",
    "\n",
    "Random Forest is a supervised learning algorithm.  it creates a forest of ensemble of Decision Trees, most of the time these trees are trained with the bagging technique."
   ]
  },
  {
   "cell_type": "code",
   "execution_count": 53,
   "metadata": {},
   "outputs": [
    {
     "data": {
      "text/plain": [
       "\n",
       "Call:\n",
       " randomForest(formula = class ~ ., data = trainData) \n",
       "               Type of random forest: classification\n",
       "                     Number of trees: 500\n",
       "No. of variables tried at each split: 2\n",
       "\n",
       "        OOB estimate of  error rate: 0.83%\n",
       "Confusion matrix:\n",
       "    0   1 class.error\n",
       "0 530   4 0.007490637\n",
       "1   4 423 0.009367681"
      ]
     },
     "metadata": {},
     "output_type": "display_data"
    }
   ],
   "source": [
    "set.seed(123)\n",
    "random_forest_model = randomForest(class~., data=trainData)\n",
    "\n",
    "# show the output\n",
    "random_forest_model "
   ]
  },
  {
   "cell_type": "markdown",
   "metadata": {},
   "source": [
    "#### What is OOB error rate\n",
    "[Click me to find out](https://en.wikipedia.org/wiki/Out-of-bag_error)"
   ]
  },
  {
   "cell_type": "code",
   "execution_count": 54,
   "metadata": {},
   "outputs": [
    {
     "data": {
      "image/png": "[encoded data removed]",
      "text/plain": [
       "Plot with title \"Random Forest of 500 trees\""
      ]
     },
     "metadata": {},
     "output_type": "display_data"
    }
   ],
   "source": [
    "# now let's plot the errors by tree, note by default Random forest uses 500 individual trees to build its model\n",
    "plot(random_forest_model , main = \"Random Forest of 500 trees\")"
   ]
  },
  {
   "cell_type": "code",
   "execution_count": 55,
   "metadata": {},
   "outputs": [
    {
     "data": {
      "text/html": [
       "17"
      ],
      "text/latex": [
       "17"
      ],
      "text/markdown": [
       "17"
      ],
      "text/plain": [
       "[1] 17"
      ]
     },
     "metadata": {},
     "output_type": "display_data"
    }
   ],
   "source": [
    "# The above plot shows that the minimum error and standard error is lowest after few trees,\n",
    "# let us obtain this minimum value with the following code\n",
    "which.min(random_forest_model$err.rate[,1])"
   ]
  },
  {
   "cell_type": "code",
   "execution_count": 56,
   "metadata": {},
   "outputs": [
    {
     "data": {
      "text/plain": [
       "\n",
       "Call:\n",
       " randomForest(formula = class ~ ., data = trainData, ntree = 17) \n",
       "               Type of random forest: classification\n",
       "                     Number of trees: 17\n",
       "No. of variables tried at each split: 2\n",
       "\n",
       "        OOB estimate of  error rate: 1.46%\n",
       "Confusion matrix:\n",
       "    0   1 class.error\n",
       "0 529   5 0.009363296\n",
       "1   9 418 0.021077283"
      ]
     },
     "metadata": {},
     "output_type": "display_data"
    }
   ],
   "source": [
    "# see that of the 500 trees used by default, just 17 were required to optimze the model accuracy.\n",
    "# with this in mind, let us re-build our model\n",
    "random_forest_model_v2 = randomForest(class~., data=trainData, ntree=17)\n",
    "random_forest_model_v2"
   ]
  },
  {
   "cell_type": "code",
   "execution_count": 57,
   "metadata": {},
   "outputs": [],
   "source": [
    "# Let's predict\n",
    "rf.biop.test = predict(random_forest_model_v2, newdata=testData, type=\"response\")"
   ]
  },
  {
   "cell_type": "code",
   "execution_count": 59,
   "metadata": {},
   "outputs": [
    {
     "data": {
      "text/plain": [
       "Confusion Matrix and Statistics\n",
       "\n",
       "          Reference\n",
       "Prediction   0   1\n",
       "         0 226   2\n",
       "         1   2 181\n",
       "                                          \n",
       "               Accuracy : 0.9903          \n",
       "                 95% CI : (0.9753, 0.9973)\n",
       "    No Information Rate : 0.5547          \n",
       "    P-Value [Acc > NIR] : <2e-16          \n",
       "                                          \n",
       "                  Kappa : 0.9803          \n",
       "                                          \n",
       " Mcnemar's Test P-Value : 1               \n",
       "                                          \n",
       "            Sensitivity : 0.9912          \n",
       "            Specificity : 0.9891          \n",
       "         Pos Pred Value : 0.9912          \n",
       "         Neg Pred Value : 0.9891          \n",
       "             Prevalence : 0.5547          \n",
       "         Detection Rate : 0.5499          \n",
       "   Detection Prevalence : 0.5547          \n",
       "      Balanced Accuracy : 0.9901          \n",
       "                                          \n",
       "       'Positive' Class : 0               \n",
       "                                          "
      ]
     },
     "metadata": {},
     "output_type": "display_data"
    }
   ],
   "source": [
    "# compute the confusion matrix, to see how good the model is\n",
    "caret::confusionMatrix(rf.biop.test, testData$class, positive = \"0\")"
   ]
  },
  {
   "cell_type": "markdown",
   "metadata": {},
   "source": [
    "## Random forest [Technique Two]"
   ]
  },
  {
   "cell_type": "code",
   "execution_count": null,
   "metadata": {},
   "outputs": [],
   "source": [
    "library(ipred, verbose = FALSE, quietly = T)\n",
    "set.seed(300)\n",
    "\n",
    "#rf.biop2 = randomForest(class~., data=trainData, ntree=39)\n",
    "mybag <- bagging(class ~ ., data = trainData, nbagg = 10000)"
   ]
  },
  {
   "cell_type": "code",
   "execution_count": null,
   "metadata": {},
   "outputs": [],
   "source": [
    "credit_pred <- predict(mybag, testData, type=\"class\")"
   ]
  },
  {
   "cell_type": "code",
   "execution_count": null,
   "metadata": {},
   "outputs": [],
   "source": [
    "# compute the confusion matrix\n",
    "caret::confusionMatrix(credit_pred, testData$class, positive = \"0\")"
   ]
  },
  {
   "cell_type": "markdown",
   "metadata": {},
   "source": [
    "## Gradient boosting classification\n",
    "This is also an ensemble learning technique (supervised learning). It consists of an iterative process of training several weak classification models and learning from them before adding them to a final classifier which is stronger than them. A weighted\n",
    "approach is followed when adding the classifiers, which is based on their accuracy. Future weak classifiers focus more on the records which were previously misclassified.\n",
    "Boosting works very similar to Bagging except that the trees are grown sequentially. When the dataset is randomly sampled before building the model, the model is said to be stochastic gradient boosting"
   ]
  },
  {
   "cell_type": "code",
   "execution_count": 69,
   "metadata": {},
   "outputs": [],
   "source": [
    "train_data_set <- trainData\n",
    "test_data_set <- testData"
   ]
  },
  {
   "cell_type": "code",
   "execution_count": 64,
   "metadata": {},
   "outputs": [],
   "source": [
    "#levels(train_data_set$class) <- c(\"yes\", \"no\")\n",
    "#levels(test_data_set$class) <- c(\"yes\", \"no\")"
   ]
  },
  {
   "cell_type": "code",
   "execution_count": 65,
   "metadata": {},
   "outputs": [
    {
     "data": {
      "text/html": [
       "<table>\n",
       "<thead><tr><th></th><th scope=col>vwt</th><th scope=col>swt</th><th scope=col>cwt</th><th scope=col>entropy</th><th scope=col>class</th></tr></thead>\n",
       "<tbody>\n",
       "\t<tr><th scope=row>1</th><td>3.62160 </td><td> 8.6661 </td><td>-2.80730</td><td>-0.44699</td><td>yes     </td></tr>\n",
       "\t<tr><th scope=row>3</th><td>3.86600 </td><td>-2.6383 </td><td> 1.92420</td><td> 0.10645</td><td>yes     </td></tr>\n",
       "\t<tr><th scope=row>4</th><td>3.45660 </td><td> 9.5228 </td><td>-4.01120</td><td>-3.59440</td><td>yes     </td></tr>\n",
       "\t<tr><th scope=row>5</th><td>0.32924 </td><td>-4.4552 </td><td> 4.57180</td><td>-0.98880</td><td>yes     </td></tr>\n",
       "\t<tr><th scope=row>6</th><td>4.36840 </td><td> 9.6718 </td><td>-3.96060</td><td>-3.16250</td><td>yes     </td></tr>\n",
       "\t<tr><th scope=row>7</th><td>3.59120 </td><td> 3.0129 </td><td> 0.72888</td><td> 0.56421</td><td>yes     </td></tr>\n",
       "</tbody>\n",
       "</table>\n"
      ],
      "text/latex": [
       "\\begin{tabular}{r|lllll}\n",
       "  & vwt & swt & cwt & entropy & class\\\\\n",
       "\\hline\n",
       "\t1 & 3.62160  &  8.6661  & -2.80730 & -0.44699 & yes     \\\\\n",
       "\t3 & 3.86600  & -2.6383  &  1.92420 &  0.10645 & yes     \\\\\n",
       "\t4 & 3.45660  &  9.5228  & -4.01120 & -3.59440 & yes     \\\\\n",
       "\t5 & 0.32924  & -4.4552  &  4.57180 & -0.98880 & yes     \\\\\n",
       "\t6 & 4.36840  &  9.6718  & -3.96060 & -3.16250 & yes     \\\\\n",
       "\t7 & 3.59120  &  3.0129  &  0.72888 &  0.56421 & yes     \\\\\n",
       "\\end{tabular}\n"
      ],
      "text/markdown": [
       "\n",
       "| <!--/--> | vwt | swt | cwt | entropy | class | \n",
       "|---|---|---|---|---|---|\n",
       "| 1 | 3.62160  |  8.6661  | -2.80730 | -0.44699 | yes      | \n",
       "| 3 | 3.86600  | -2.6383  |  1.92420 |  0.10645 | yes      | \n",
       "| 4 | 3.45660  |  9.5228  | -4.01120 | -3.59440 | yes      | \n",
       "| 5 | 0.32924  | -4.4552  |  4.57180 | -0.98880 | yes      | \n",
       "| 6 | 4.36840  |  9.6718  | -3.96060 | -3.16250 | yes      | \n",
       "| 7 | 3.59120  |  3.0129  |  0.72888 |  0.56421 | yes      | \n",
       "\n",
       "\n"
      ],
      "text/plain": [
       "  vwt     swt     cwt      entropy  class\n",
       "1 3.62160  8.6661 -2.80730 -0.44699 yes  \n",
       "3 3.86600 -2.6383  1.92420  0.10645 yes  \n",
       "4 3.45660  9.5228 -4.01120 -3.59440 yes  \n",
       "5 0.32924 -4.4552  4.57180 -0.98880 yes  \n",
       "6 4.36840  9.6718 -3.96060 -3.16250 yes  \n",
       "7 3.59120  3.0129  0.72888  0.56421 yes  "
      ]
     },
     "metadata": {},
     "output_type": "display_data"
    }
   ],
   "source": [
    "head(train_data_set)"
   ]
  },
  {
   "cell_type": "code",
   "execution_count": 66,
   "metadata": {},
   "outputs": [
    {
     "data": {
      "text/html": [
       "<table>\n",
       "<thead><tr><th scope=col>model</th><th scope=col>parameter</th><th scope=col>label</th><th scope=col>forReg</th><th scope=col>forClass</th><th scope=col>probModel</th></tr></thead>\n",
       "<tbody>\n",
       "\t<tr><td>gbm                    </td><td>n.trees                </td><td># Boosting Iterations  </td><td>TRUE                   </td><td>TRUE                   </td><td>TRUE                   </td></tr>\n",
       "\t<tr><td>gbm                    </td><td>interaction.depth      </td><td>Max Tree Depth         </td><td>TRUE                   </td><td>TRUE                   </td><td>TRUE                   </td></tr>\n",
       "\t<tr><td>gbm                    </td><td>shrinkage              </td><td>Shrinkage              </td><td>TRUE                   </td><td>TRUE                   </td><td>TRUE                   </td></tr>\n",
       "\t<tr><td>gbm                    </td><td>n.minobsinnode         </td><td>Min. Terminal Node Size</td><td>TRUE                   </td><td>TRUE                   </td><td>TRUE                   </td></tr>\n",
       "</tbody>\n",
       "</table>\n"
      ],
      "text/latex": [
       "\\begin{tabular}{r|llllll}\n",
       " model & parameter & label & forReg & forClass & probModel\\\\\n",
       "\\hline\n",
       "\t gbm                       & n.trees                   & \\# Boosting Iterations   & TRUE                      & TRUE                      & TRUE                     \\\\\n",
       "\t gbm                     & interaction.depth       & Max Tree Depth          & TRUE                    & TRUE                    & TRUE                   \\\\\n",
       "\t gbm                     & shrinkage               & Shrinkage               & TRUE                    & TRUE                    & TRUE                   \\\\\n",
       "\t gbm                     & n.minobsinnode          & Min. Terminal Node Size & TRUE                    & TRUE                    & TRUE                   \\\\\n",
       "\\end{tabular}\n"
      ],
      "text/markdown": [
       "\n",
       "model | parameter | label | forReg | forClass | probModel | \n",
       "|---|---|---|---|\n",
       "| gbm                     | n.trees                 | # Boosting Iterations   | TRUE                    | TRUE                    | TRUE                    | \n",
       "| gbm                     | interaction.depth       | Max Tree Depth          | TRUE                    | TRUE                    | TRUE                    | \n",
       "| gbm                     | shrinkage               | Shrinkage               | TRUE                    | TRUE                    | TRUE                    | \n",
       "| gbm                     | n.minobsinnode          | Min. Terminal Node Size | TRUE                    | TRUE                    | TRUE                    | \n",
       "\n",
       "\n"
      ],
      "text/plain": [
       "  model parameter         label                   forReg forClass probModel\n",
       "1 gbm   n.trees           # Boosting Iterations   TRUE   TRUE     TRUE     \n",
       "2 gbm   interaction.depth Max Tree Depth          TRUE   TRUE     TRUE     \n",
       "3 gbm   shrinkage         Shrinkage               TRUE   TRUE     TRUE     \n",
       "4 gbm   n.minobsinnode    Min. Terminal Node Size TRUE   TRUE     TRUE     "
      ]
     },
     "metadata": {},
     "output_type": "display_data"
    }
   ],
   "source": [
    "modelLookup('gbm')"
   ]
  },
  {
   "cell_type": "code",
   "execution_count": 67,
   "metadata": {},
   "outputs": [],
   "source": [
    "grid <- expand.grid(n.trees=seq(100,500, by=100),\n",
    "                    interaction.depth = seq(1,4, by=1),\n",
    "                    shrinkage=c(.001,.01,.1),\n",
    "                    n.minobsinnode=10)\n",
    "\n",
    "control <- trainControl(method=\"repeatedcv\", \n",
    "                        number=10,\n",
    "                        repeats =3,\n",
    "                        classProbs=TRUE)"
   ]
  },
  {
   "cell_type": "code",
   "execution_count": 72,
   "metadata": {},
   "outputs": [
    {
     "data": {
      "text/html": [
       "<table>\n",
       "<thead><tr><th></th><th scope=col>vwt</th><th scope=col>swt</th><th scope=col>cwt</th><th scope=col>entropy</th><th scope=col>class</th></tr></thead>\n",
       "<tbody>\n",
       "\t<tr><th scope=row>1</th><td>3.62160 </td><td> 8.6661 </td><td>-2.80730</td><td>-0.44699</td><td>X0      </td></tr>\n",
       "\t<tr><th scope=row>3</th><td>3.86600 </td><td>-2.6383 </td><td> 1.92420</td><td> 0.10645</td><td>X0      </td></tr>\n",
       "\t<tr><th scope=row>4</th><td>3.45660 </td><td> 9.5228 </td><td>-4.01120</td><td>-3.59440</td><td>X0      </td></tr>\n",
       "\t<tr><th scope=row>5</th><td>0.32924 </td><td>-4.4552 </td><td> 4.57180</td><td>-0.98880</td><td>X0      </td></tr>\n",
       "\t<tr><th scope=row>6</th><td>4.36840 </td><td> 9.6718 </td><td>-3.96060</td><td>-3.16250</td><td>X0      </td></tr>\n",
       "\t<tr><th scope=row>7</th><td>3.59120 </td><td> 3.0129 </td><td> 0.72888</td><td> 0.56421</td><td>X0      </td></tr>\n",
       "</tbody>\n",
       "</table>\n"
      ],
      "text/latex": [
       "\\begin{tabular}{r|lllll}\n",
       "  & vwt & swt & cwt & entropy & class\\\\\n",
       "\\hline\n",
       "\t1 & 3.62160  &  8.6661  & -2.80730 & -0.44699 & X0      \\\\\n",
       "\t3 & 3.86600  & -2.6383  &  1.92420 &  0.10645 & X0      \\\\\n",
       "\t4 & 3.45660  &  9.5228  & -4.01120 & -3.59440 & X0      \\\\\n",
       "\t5 & 0.32924  & -4.4552  &  4.57180 & -0.98880 & X0      \\\\\n",
       "\t6 & 4.36840  &  9.6718  & -3.96060 & -3.16250 & X0      \\\\\n",
       "\t7 & 3.59120  &  3.0129  &  0.72888 &  0.56421 & X0      \\\\\n",
       "\\end{tabular}\n"
      ],
      "text/markdown": [
       "\n",
       "| <!--/--> | vwt | swt | cwt | entropy | class | \n",
       "|---|---|---|---|---|---|\n",
       "| 1 | 3.62160  |  8.6661  | -2.80730 | -0.44699 | X0       | \n",
       "| 3 | 3.86600  | -2.6383  |  1.92420 |  0.10645 | X0       | \n",
       "| 4 | 3.45660  |  9.5228  | -4.01120 | -3.59440 | X0       | \n",
       "| 5 | 0.32924  | -4.4552  |  4.57180 | -0.98880 | X0       | \n",
       "| 6 | 4.36840  |  9.6718  | -3.96060 | -3.16250 | X0       | \n",
       "| 7 | 3.59120  |  3.0129  |  0.72888 |  0.56421 | X0       | \n",
       "\n",
       "\n"
      ],
      "text/plain": [
       "  vwt     swt     cwt      entropy  class\n",
       "1 3.62160  8.6661 -2.80730 -0.44699 X0   \n",
       "3 3.86600 -2.6383  1.92420  0.10645 X0   \n",
       "4 3.45660  9.5228 -4.01120 -3.59440 X0   \n",
       "5 0.32924 -4.4552  4.57180 -0.98880 X0   \n",
       "6 4.36840  9.6718 -3.96060 -3.16250 X0   \n",
       "7 3.59120  3.0129  0.72888  0.56421 X0   "
      ]
     },
     "metadata": {},
     "output_type": "display_data"
    }
   ],
   "source": [
    "train_data_set$class <- make.names(train_data_set$class)\n",
    "test_data_set$class <- make.names(test_data_set$class)\n",
    "head(train_data_set)"
   ]
  },
  {
   "cell_type": "code",
   "execution_count": 76,
   "metadata": {},
   "outputs": [],
   "source": [
    "train_data_set$class <- factor(train_data_set$class)\n",
    "test_data_set$class <- factor(test_data_set$class)"
   ]
  },
  {
   "cell_type": "code",
   "execution_count": 77,
   "metadata": {},
   "outputs": [],
   "source": [
    "gbm_classification_model <- train(class ~., data=train_data_set, \n",
    "                   method=\"gbm\",\n",
    "                   metric=\"Accuracy\",\n",
    "                   trControl=control, \n",
    "                   tuneGrid=grid,\n",
    "                   verbose=FALSE)"
   ]
  },
  {
   "cell_type": "code",
   "execution_count": 78,
   "metadata": {},
   "outputs": [
    {
     "data": {
      "text/plain": [
       "Confusion Matrix and Statistics\n",
       "\n",
       "          Reference\n",
       "Prediction  X0  X1\n",
       "        X0 227   2\n",
       "        X1   1 181\n",
       "                                          \n",
       "               Accuracy : 0.9927          \n",
       "                 95% CI : (0.9788, 0.9985)\n",
       "    No Information Rate : 0.5547          \n",
       "    P-Value [Acc > NIR] : <2e-16          \n",
       "                                          \n",
       "                  Kappa : 0.9852          \n",
       "                                          \n",
       " Mcnemar's Test P-Value : 1               \n",
       "                                          \n",
       "            Sensitivity : 0.9956          \n",
       "            Specificity : 0.9891          \n",
       "         Pos Pred Value : 0.9913          \n",
       "         Neg Pred Value : 0.9945          \n",
       "             Prevalence : 0.5547          \n",
       "         Detection Rate : 0.5523          \n",
       "   Detection Prevalence : 0.5572          \n",
       "      Balanced Accuracy : 0.9923          \n",
       "                                          \n",
       "       'Positive' Class : X0              \n",
       "                                          "
      ]
     },
     "metadata": {},
     "output_type": "display_data"
    }
   ],
   "source": [
    "pred <- predict(gbm_classification_model, test_data_set)\n",
    "confusionMatrix(pred, test_data_set$class)"
   ]
  },
  {
   "cell_type": "markdown",
   "metadata": {},
   "source": [
    "## Gradient boosting Regression"
   ]
  },
  {
   "cell_type": "code",
   "execution_count": 79,
   "metadata": {},
   "outputs": [],
   "source": [
    "library(dplyr)\n",
    "data(Sacramento,package=\"caret\")"
   ]
  },
  {
   "cell_type": "code",
   "execution_count": 80,
   "metadata": {},
   "outputs": [
    {
     "data": {
      "text/html": [
       "<table>\n",
       "<thead><tr><th scope=col>city</th><th scope=col>zip</th><th scope=col>beds</th><th scope=col>baths</th><th scope=col>sqft</th><th scope=col>type</th><th scope=col>price</th><th scope=col>latitude</th><th scope=col>longitude</th></tr></thead>\n",
       "<tbody>\n",
       "\t<tr><td>SACRAMENTO </td><td>z95838     </td><td>2          </td><td>1          </td><td> 836       </td><td>Residential</td><td>59222      </td><td>38.63191   </td><td>-121.4349  </td></tr>\n",
       "\t<tr><td>SACRAMENTO </td><td>z95823     </td><td>3          </td><td>1          </td><td>1167       </td><td>Residential</td><td>68212      </td><td>38.47890   </td><td>-121.4310  </td></tr>\n",
       "\t<tr><td>SACRAMENTO </td><td>z95815     </td><td>2          </td><td>1          </td><td> 796       </td><td>Residential</td><td>68880      </td><td>38.61830   </td><td>-121.4438  </td></tr>\n",
       "\t<tr><td>SACRAMENTO </td><td>z95815     </td><td>2          </td><td>1          </td><td> 852       </td><td>Residential</td><td>69307      </td><td>38.61684   </td><td>-121.4391  </td></tr>\n",
       "\t<tr><td>SACRAMENTO </td><td>z95824     </td><td>2          </td><td>1          </td><td> 797       </td><td>Residential</td><td>81900      </td><td>38.51947   </td><td>-121.4358  </td></tr>\n",
       "</tbody>\n",
       "</table>\n"
      ],
      "text/latex": [
       "\\begin{tabular}{r|lllllllll}\n",
       " city & zip & beds & baths & sqft & type & price & latitude & longitude\\\\\n",
       "\\hline\n",
       "\t SACRAMENTO  & z95838      & 2           & 1           &  836        & Residential & 59222       & 38.63191    & -121.4349  \\\\\n",
       "\t SACRAMENTO  & z95823      & 3           & 1           & 1167        & Residential & 68212       & 38.47890    & -121.4310  \\\\\n",
       "\t SACRAMENTO  & z95815      & 2           & 1           &  796        & Residential & 68880       & 38.61830    & -121.4438  \\\\\n",
       "\t SACRAMENTO  & z95815      & 2           & 1           &  852        & Residential & 69307       & 38.61684    & -121.4391  \\\\\n",
       "\t SACRAMENTO  & z95824      & 2           & 1           &  797        & Residential & 81900       & 38.51947    & -121.4358  \\\\\n",
       "\\end{tabular}\n"
      ],
      "text/markdown": [
       "\n",
       "city | zip | beds | baths | sqft | type | price | latitude | longitude | \n",
       "|---|---|---|---|---|\n",
       "| SACRAMENTO  | z95838      | 2           | 1           |  836        | Residential | 59222       | 38.63191    | -121.4349   | \n",
       "| SACRAMENTO  | z95823      | 3           | 1           | 1167        | Residential | 68212       | 38.47890    | -121.4310   | \n",
       "| SACRAMENTO  | z95815      | 2           | 1           |  796        | Residential | 68880       | 38.61830    | -121.4438   | \n",
       "| SACRAMENTO  | z95815      | 2           | 1           |  852        | Residential | 69307       | 38.61684    | -121.4391   | \n",
       "| SACRAMENTO  | z95824      | 2           | 1           |  797        | Residential | 81900       | 38.51947    | -121.4358   | \n",
       "\n",
       "\n"
      ],
      "text/plain": [
       "  city       zip    beds baths sqft type        price latitude longitude\n",
       "1 SACRAMENTO z95838 2    1      836 Residential 59222 38.63191 -121.4349\n",
       "2 SACRAMENTO z95823 3    1     1167 Residential 68212 38.47890 -121.4310\n",
       "3 SACRAMENTO z95815 2    1      796 Residential 68880 38.61830 -121.4438\n",
       "4 SACRAMENTO z95815 2    1      852 Residential 69307 38.61684 -121.4391\n",
       "5 SACRAMENTO z95824 2    1      797 Residential 81900 38.51947 -121.4358"
      ]
     },
     "metadata": {},
     "output_type": "display_data"
    }
   ],
   "source": [
    "head(Sacramento, 5)"
   ]
  },
  {
   "cell_type": "code",
   "execution_count": 81,
   "metadata": {},
   "outputs": [],
   "source": [
    "library(tidyverse)\n",
    "library(dummies)"
   ]
  },
  {
   "cell_type": "code",
   "execution_count": 82,
   "metadata": {},
   "outputs": [],
   "source": [
    "scaramento_v2 <- Sacramento %>%\n",
    "            select(-c(city, zip)) %>%\n",
    "            drop_na() %>%\n",
    "            select(price, everything())"
   ]
  },
  {
   "cell_type": "code",
   "execution_count": 83,
   "metadata": {},
   "outputs": [
    {
     "data": {
      "text/html": [
       "<table>\n",
       "<thead><tr><th scope=col>price</th><th scope=col>beds</th><th scope=col>baths</th><th scope=col>sqft</th><th scope=col>type</th><th scope=col>latitude</th><th scope=col>longitude</th></tr></thead>\n",
       "<tbody>\n",
       "\t<tr><td>59222      </td><td>2          </td><td>1          </td><td> 836       </td><td>Residential</td><td>38.63191   </td><td>-121.4349  </td></tr>\n",
       "\t<tr><td>68212      </td><td>3          </td><td>1          </td><td>1167       </td><td>Residential</td><td>38.47890   </td><td>-121.4310  </td></tr>\n",
       "\t<tr><td>68880      </td><td>2          </td><td>1          </td><td> 796       </td><td>Residential</td><td>38.61830   </td><td>-121.4438  </td></tr>\n",
       "\t<tr><td>69307      </td><td>2          </td><td>1          </td><td> 852       </td><td>Residential</td><td>38.61684   </td><td>-121.4391  </td></tr>\n",
       "\t<tr><td>81900      </td><td>2          </td><td>1          </td><td> 797       </td><td>Residential</td><td>38.51947   </td><td>-121.4358  </td></tr>\n",
       "\t<tr><td>89921      </td><td>3          </td><td>1          </td><td>1122       </td><td>Condo      </td><td>38.66260   </td><td>-121.3278  </td></tr>\n",
       "</tbody>\n",
       "</table>\n"
      ],
      "text/latex": [
       "\\begin{tabular}{r|lllllll}\n",
       " price & beds & baths & sqft & type & latitude & longitude\\\\\n",
       "\\hline\n",
       "\t 59222       & 2           & 1           &  836        & Residential & 38.63191    & -121.4349  \\\\\n",
       "\t 68212       & 3           & 1           & 1167        & Residential & 38.47890    & -121.4310  \\\\\n",
       "\t 68880       & 2           & 1           &  796        & Residential & 38.61830    & -121.4438  \\\\\n",
       "\t 69307       & 2           & 1           &  852        & Residential & 38.61684    & -121.4391  \\\\\n",
       "\t 81900       & 2           & 1           &  797        & Residential & 38.51947    & -121.4358  \\\\\n",
       "\t 89921       & 3           & 1           & 1122        & Condo       & 38.66260    & -121.3278  \\\\\n",
       "\\end{tabular}\n"
      ],
      "text/markdown": [
       "\n",
       "price | beds | baths | sqft | type | latitude | longitude | \n",
       "|---|---|---|---|---|---|\n",
       "| 59222       | 2           | 1           |  836        | Residential | 38.63191    | -121.4349   | \n",
       "| 68212       | 3           | 1           | 1167        | Residential | 38.47890    | -121.4310   | \n",
       "| 68880       | 2           | 1           |  796        | Residential | 38.61830    | -121.4438   | \n",
       "| 69307       | 2           | 1           |  852        | Residential | 38.61684    | -121.4391   | \n",
       "| 81900       | 2           | 1           |  797        | Residential | 38.51947    | -121.4358   | \n",
       "| 89921       | 3           | 1           | 1122        | Condo       | 38.66260    | -121.3278   | \n",
       "\n",
       "\n"
      ],
      "text/plain": [
       "  price beds baths sqft type        latitude longitude\n",
       "1 59222 2    1      836 Residential 38.63191 -121.4349\n",
       "2 68212 3    1     1167 Residential 38.47890 -121.4310\n",
       "3 68880 2    1      796 Residential 38.61830 -121.4438\n",
       "4 69307 2    1      852 Residential 38.61684 -121.4391\n",
       "5 81900 2    1      797 Residential 38.51947 -121.4358\n",
       "6 89921 3    1     1122 Condo       38.66260 -121.3278"
      ]
     },
     "metadata": {},
     "output_type": "display_data"
    }
   ],
   "source": [
    "head(scaramento_v2)"
   ]
  },
  {
   "cell_type": "code",
   "execution_count": 85,
   "metadata": {},
   "outputs": [],
   "source": [
    "dummy_variable <- c(\"type\")\n",
    "scaramento_v2_dummy = dummy.data.frame(as.data.frame(scaramento_v2))"
   ]
  },
  {
   "cell_type": "code",
   "execution_count": 86,
   "metadata": {},
   "outputs": [
    {
     "data": {
      "text/html": [
       "<table>\n",
       "<thead><tr><th scope=col>price</th><th scope=col>beds</th><th scope=col>baths</th><th scope=col>sqft</th><th scope=col>typeCondo</th><th scope=col>typeMulti_Family</th><th scope=col>typeResidential</th><th scope=col>latitude</th><th scope=col>longitude</th></tr></thead>\n",
       "<tbody>\n",
       "\t<tr><td>59222    </td><td>2        </td><td>1        </td><td> 836     </td><td>0        </td><td>0        </td><td>1        </td><td>38.63191 </td><td>-121.4349</td></tr>\n",
       "\t<tr><td>68212    </td><td>3        </td><td>1        </td><td>1167     </td><td>0        </td><td>0        </td><td>1        </td><td>38.47890 </td><td>-121.4310</td></tr>\n",
       "\t<tr><td>68880    </td><td>2        </td><td>1        </td><td> 796     </td><td>0        </td><td>0        </td><td>1        </td><td>38.61830 </td><td>-121.4438</td></tr>\n",
       "\t<tr><td>69307    </td><td>2        </td><td>1        </td><td> 852     </td><td>0        </td><td>0        </td><td>1        </td><td>38.61684 </td><td>-121.4391</td></tr>\n",
       "\t<tr><td>81900    </td><td>2        </td><td>1        </td><td> 797     </td><td>0        </td><td>0        </td><td>1        </td><td>38.51947 </td><td>-121.4358</td></tr>\n",
       "\t<tr><td>89921    </td><td>3        </td><td>1        </td><td>1122     </td><td>1        </td><td>0        </td><td>0        </td><td>38.66260 </td><td>-121.3278</td></tr>\n",
       "</tbody>\n",
       "</table>\n"
      ],
      "text/latex": [
       "\\begin{tabular}{r|lllllllll}\n",
       " price & beds & baths & sqft & typeCondo & typeMulti\\_Family & typeResidential & latitude & longitude\\\\\n",
       "\\hline\n",
       "\t 59222     & 2         & 1         &  836      & 0         & 0         & 1         & 38.63191  & -121.4349\\\\\n",
       "\t 68212     & 3         & 1         & 1167      & 0         & 0         & 1         & 38.47890  & -121.4310\\\\\n",
       "\t 68880     & 2         & 1         &  796      & 0         & 0         & 1         & 38.61830  & -121.4438\\\\\n",
       "\t 69307     & 2         & 1         &  852      & 0         & 0         & 1         & 38.61684  & -121.4391\\\\\n",
       "\t 81900     & 2         & 1         &  797      & 0         & 0         & 1         & 38.51947  & -121.4358\\\\\n",
       "\t 89921     & 3         & 1         & 1122      & 1         & 0         & 0         & 38.66260  & -121.3278\\\\\n",
       "\\end{tabular}\n"
      ],
      "text/markdown": [
       "\n",
       "price | beds | baths | sqft | typeCondo | typeMulti_Family | typeResidential | latitude | longitude | \n",
       "|---|---|---|---|---|---|\n",
       "| 59222     | 2         | 1         |  836      | 0         | 0         | 1         | 38.63191  | -121.4349 | \n",
       "| 68212     | 3         | 1         | 1167      | 0         | 0         | 1         | 38.47890  | -121.4310 | \n",
       "| 68880     | 2         | 1         |  796      | 0         | 0         | 1         | 38.61830  | -121.4438 | \n",
       "| 69307     | 2         | 1         |  852      | 0         | 0         | 1         | 38.61684  | -121.4391 | \n",
       "| 81900     | 2         | 1         |  797      | 0         | 0         | 1         | 38.51947  | -121.4358 | \n",
       "| 89921     | 3         | 1         | 1122      | 1         | 0         | 0         | 38.66260  | -121.3278 | \n",
       "\n",
       "\n"
      ],
      "text/plain": [
       "  price beds baths sqft typeCondo typeMulti_Family typeResidential latitude\n",
       "1 59222 2    1      836 0         0                1               38.63191\n",
       "2 68212 3    1     1167 0         0                1               38.47890\n",
       "3 68880 2    1      796 0         0                1               38.61830\n",
       "4 69307 2    1      852 0         0                1               38.61684\n",
       "5 81900 2    1      797 0         0                1               38.51947\n",
       "6 89921 3    1     1122 1         0                0               38.66260\n",
       "  longitude\n",
       "1 -121.4349\n",
       "2 -121.4310\n",
       "3 -121.4438\n",
       "4 -121.4391\n",
       "5 -121.4358\n",
       "6 -121.3278"
      ]
     },
     "metadata": {},
     "output_type": "display_data"
    }
   ],
   "source": [
    "head(scaramento_v2_dummy)"
   ]
  },
  {
   "cell_type": "code",
   "execution_count": 87,
   "metadata": {},
   "outputs": [],
   "source": [
    "set.seed(955)\n",
    "library(caret)\n",
    "train_rows <- createDataPartition(scaramento_v2_dummy$price, p = .7, list = FALSE)\n",
    "\n",
    "training <- scaramento_v2_dummy[train_rows,]\n",
    "testing  <- scaramento_v2_dummy[-train_rows,]"
   ]
  },
  {
   "cell_type": "code",
   "execution_count": 88,
   "metadata": {},
   "outputs": [],
   "source": [
    "grid <- expand.grid(n.trees=seq(100,500, by=100),\n",
    "                    interaction.depth = seq(1,4, by=1),\n",
    "                    shrinkage=c(.001,.01,.1),\n",
    "                    n.minobsinnode=10)\n",
    "\n",
    "control <- trainControl(method=\"repeatedcv\", \n",
    "                        number=10,\n",
    "                        repeats =3,\n",
    "                        classProbs=FALSE)"
   ]
  },
  {
   "cell_type": "code",
   "execution_count": 89,
   "metadata": {},
   "outputs": [],
   "source": [
    "gbm_regression_model <- train(price ~., data=training, \n",
    "                   method=\"gbm\",\n",
    "                   metric=\"RMSE\",\n",
    "                   trControl=control, \n",
    "                   tuneGrid=grid,\n",
    "                   verbose=FALSE)"
   ]
  },
  {
   "cell_type": "code",
   "execution_count": 90,
   "metadata": {},
   "outputs": [],
   "source": [
    "prediction <- predict(gbm_regression_model, testing)"
   ]
  },
  {
   "cell_type": "code",
   "execution_count": 91,
   "metadata": {},
   "outputs": [
    {
     "data": {
      "text/html": [
       "<dl class=dl-horizontal>\n",
       "\t<dt>mae</dt>\n",
       "\t\t<dd>50992.7048782835</dd>\n",
       "\t<dt>mse</dt>\n",
       "\t\t<dd>5899098136.27498</dd>\n",
       "\t<dt>rmse</dt>\n",
       "\t\t<dd>76805.5866215146</dd>\n",
       "\t<dt>mape</dt>\n",
       "\t\t<dd>0.233606464981582</dd>\n",
       "</dl>\n"
      ],
      "text/latex": [
       "\\begin{description*}\n",
       "\\item[mae] 50992.7048782835\n",
       "\\item[mse] 5899098136.27498\n",
       "\\item[rmse] 76805.5866215146\n",
       "\\item[mape] 0.233606464981582\n",
       "\\end{description*}\n"
      ],
      "text/markdown": [
       "mae\n",
       ":   50992.7048782835mse\n",
       ":   5899098136.27498rmse\n",
       ":   76805.5866215146mape\n",
       ":   0.233606464981582\n",
       "\n"
      ],
      "text/plain": [
       "         mae          mse         rmse         mape \n",
       "5.099270e+04 5.899098e+09 7.680559e+04 2.336065e-01 "
      ]
     },
     "metadata": {},
     "output_type": "display_data"
    }
   ],
   "source": [
    "DMwR::regr.eval(testing$price, prediction)"
   ]
  },
  {
   "cell_type": "markdown",
   "metadata": {},
   "source": [
    "## END"
   ]
  }
 ],
 "metadata": {
  "kernelspec": {
   "display_name": "R 3.5",
   "language": "R",
   "name": "ir35"
  },
  "language_info": {
   "codemirror_mode": "r",
   "file_extension": ".r",
   "mimetype": "text/x-r-source",
   "name": "R",
   "pygments_lexer": "r",
   "version": "3.5.1"
  }
 },
 "nbformat": 4,
 "nbformat_minor": 2
}
