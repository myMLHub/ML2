{
 "cells": [
  {
   "cell_type": "markdown",
   "metadata": {},
   "source": [
    "# Ridge and LASSO Regression"
   ]
  },
  {
   "cell_type": "markdown",
   "metadata": {},
   "source": [
    "From our regression lectures, you would recall that linear models follows the form **$y = \\beta_{0} + \\beta_{1}x_{1} + \\beta_{2}x_{2} + ... + \\beta_{n}x_{n}$** ,and our objective was to minimize the Sum of the square errors.\n",
    "If you would also recall, in our multivariate regression problems we applied manual techniques as well as Forward, Backward and bidirectional Stepwise methods for features selection. We then finally used the cp techique to get our final features.These methods of deriving features can be considered as Statistical learning methods.<br>\n",
    "\n",
    "Lets us now look at some machine learning techniques called **regularization**, all the processes described above are likened to regularization. There are two regularization methods, namely **LASSO and Ridge**. We will deep dive into these two concepts and their application. To obtain an adequated model, we will apply what is known as a regularization parameter or shrinkage penalty ($\\lambda$) along side the minimization RSS (Actual value - predicted value)."
   ]
  },
  {
   "cell_type": "markdown",
   "metadata": {},
   "source": [
    "The larger the value of **lamda** the influence of the predictor shrinks more now the main question to ask is what should the value of lamda be?. The **lamda** could be implemented in two types of regularization methods, **LASSO and Ridge regresion**. The ridge regression retaines all the predictors but could shrink all the coefficients to a very small number if needed and its believed to handle cases of muticollinearity, while the LASSO could remove some predictors entirly by shrinking the coefficients to zero. For this feature of LASSO, it is refered as a features selection method. Generally speaking both ridge and lasso can be expressed as **RSS + λ(normalized coefficients)**. More on this later"
   ]
  },
  {
   "cell_type": "markdown",
   "metadata": {},
   "source": [
    "In a linear model where the relationship between the response and the predictors is close to linear, the least squares estimates will have low bias but may have high variance.<br>\n",
    "Reference to bias-variance trade-off:<br>\n",
    "[Bias-Variance Trade off](https://en.wikipedia.org/wiki/Bias–variance_tradeoff)"
   ]
  },
  {
   "cell_type": "markdown",
   "metadata": {},
   "source": [
    "###### Note that if lambda is equal to zero, then our model is equivalent to OLS (Ordinary Least Square) as it cancels out the normalization term"
   ]
  },
  {
   "cell_type": "markdown",
   "metadata": {},
   "source": [
    "**OLS Method**\n",
    "$$RSS = \\sum\\limits_{i=1}^{n}(y_i - \\beta_{0} - \\sum\\limits_{j=1}^{p} \\beta_{j}x_{ij})^2$$"
   ]
  },
  {
   "cell_type": "markdown",
   "metadata": {},
   "source": [
    ">**Ridge regression**<br>\n",
    "The normalization term in ridge regression is the sum of the squared weights, referred to as an L2-norm. Our model is trying to minimize $RSS + \\lambda \\sum\\limits_{j=1}^{p} \\beta^2_{j}$ or simply put $RSS + \\lambda(\\sum \\beta^2_{j})$. As lambda increases, the coefficients shrink toward zero but do not ever become zero.\n",
    "$$Ridge = RSS + \\lambda \\sum\\limits_{j=1}^{p} \\beta^2_{j}$$\n",
    "\n",
    ">**Pros**: Improved predictive accuracy\n",
    "\n",
    ">**Cons**:\n",
    "    Interpretation and communication becomes an issue"
   ]
  },
  {
   "cell_type": "markdown",
   "metadata": {},
   "source": [
    ">**Least Absolute Shrinkage and Selection (LASSO):**<br>\n",
    "LASSO applies the L1-norm instead of the L2-norm as in ridge regression,\n",
    "which is the sum of the absolute value of the feature weights and thus minimizes\n",
    "$RSS + \\lambda(\\sum |\\beta^2_{j}|$. This shrinkage penalty will indeed force a feature weight to\n",
    "zero\n",
    "$$Lasso = RSS + \\lambda\\sum\\limits_{j=1}^{p} |\\beta^2_{j}|$$"
   ]
  },
  {
   "cell_type": "markdown",
   "metadata": {},
   "source": [
    ">**Very important points to note**<br>\n",
    "We will be using the glmnet package both lasso and ridge can be implemented or mixed using the mixing parameter called **Alpha**, when **Alpha value is set to 0,the model becomes Ridge**, if **Alpha is set to 1, the model becomes LASSO** and if **Alpha value lies between 0 and 1, we have what is called an ElasticNet model**"
   ]
  },
  {
   "cell_type": "markdown",
   "metadata": {},
   "source": [
    "## Hands-On Session\n",
    "In this practical application session, we will be looking back at the water dataset when we looked at multivariate linear regression, for reference please have a look at \"CFT-DataScience2\"<br>For information about the dataset type **help(water)**"
   ]
  },
  {
   "cell_type": "code",
   "execution_count": 2,
   "metadata": {},
   "outputs": [
    {
     "name": "stderr",
     "output_type": "stream",
     "text": [
      "Warning message:\n",
      "\"package 'glmnet' was built under R version 3.5.3\"Loading required package: Matrix\n",
      "Loading required package: foreach\n",
      "Warning message:\n",
      "\"package 'foreach' was built under R version 3.5.2\"Loaded glmnet 2.0-18\n",
      "\n"
     ]
    }
   ],
   "source": [
    "# Load the required library that has the dataset we require for this lab session\n",
    "library(alr3)\n",
    "library(glmnet)\n",
    "#library(caret)\n",
    "#'%ni%' <- Negate('%in%')"
   ]
  },
  {
   "cell_type": "code",
   "execution_count": 3,
   "metadata": {},
   "outputs": [],
   "source": [
    "# Let's load the dataset from the alr3 packages. Ensure this packages is installed and loaded\n",
    "data(water)\n",
    "attach(water)\n",
    "# The regressand for this project is BSAAM"
   ]
  },
  {
   "cell_type": "code",
   "execution_count": 4,
   "metadata": {},
   "outputs": [
    {
     "data": {
      "text/html": [
       "<table>\n",
       "<thead><tr><th scope=col>Year</th><th scope=col>APMAM</th><th scope=col>APSAB</th><th scope=col>APSLAKE</th><th scope=col>OPBPC</th><th scope=col>OPRC</th><th scope=col>OPSLAKE</th><th scope=col>BSAAM</th></tr></thead>\n",
       "<tbody>\n",
       "\t<tr><td>1948  </td><td>9.13  </td><td>3.58  </td><td>3.91  </td><td> 4.10 </td><td> 7.43 </td><td> 6.47 </td><td> 54235</td></tr>\n",
       "\t<tr><td>1949  </td><td>5.28  </td><td>4.82  </td><td>5.20  </td><td> 7.55 </td><td>11.11 </td><td>10.26 </td><td> 67567</td></tr>\n",
       "\t<tr><td>1950  </td><td>4.20  </td><td>3.77  </td><td>3.67  </td><td> 9.52 </td><td>12.20 </td><td>11.35 </td><td> 66161</td></tr>\n",
       "\t<tr><td>1951  </td><td>4.60  </td><td>4.46  </td><td>3.93  </td><td>11.14 </td><td>15.15 </td><td>11.13 </td><td> 68094</td></tr>\n",
       "\t<tr><td>1952  </td><td>7.15  </td><td>4.99  </td><td>4.88  </td><td>16.34 </td><td>20.05 </td><td>22.81 </td><td>107080</td></tr>\n",
       "\t<tr><td>1953  </td><td>9.70  </td><td>5.65  </td><td>4.91  </td><td> 8.88 </td><td> 8.15 </td><td> 7.41 </td><td> 67594</td></tr>\n",
       "</tbody>\n",
       "</table>\n"
      ],
      "text/latex": [
       "\\begin{tabular}{r|llllllll}\n",
       " Year & APMAM & APSAB & APSLAKE & OPBPC & OPRC & OPSLAKE & BSAAM\\\\\n",
       "\\hline\n",
       "\t 1948   & 9.13   & 3.58   & 3.91   &  4.10  &  7.43  &  6.47  &  54235\\\\\n",
       "\t 1949   & 5.28   & 4.82   & 5.20   &  7.55  & 11.11  & 10.26  &  67567\\\\\n",
       "\t 1950   & 4.20   & 3.77   & 3.67   &  9.52  & 12.20  & 11.35  &  66161\\\\\n",
       "\t 1951   & 4.60   & 4.46   & 3.93   & 11.14  & 15.15  & 11.13  &  68094\\\\\n",
       "\t 1952   & 7.15   & 4.99   & 4.88   & 16.34  & 20.05  & 22.81  & 107080\\\\\n",
       "\t 1953   & 9.70   & 5.65   & 4.91   &  8.88  &  8.15  &  7.41  &  67594\\\\\n",
       "\\end{tabular}\n"
      ],
      "text/markdown": [
       "\n",
       "Year | APMAM | APSAB | APSLAKE | OPBPC | OPRC | OPSLAKE | BSAAM | \n",
       "|---|---|---|---|---|---|\n",
       "| 1948   | 9.13   | 3.58   | 3.91   |  4.10  |  7.43  |  6.47  |  54235 | \n",
       "| 1949   | 5.28   | 4.82   | 5.20   |  7.55  | 11.11  | 10.26  |  67567 | \n",
       "| 1950   | 4.20   | 3.77   | 3.67   |  9.52  | 12.20  | 11.35  |  66161 | \n",
       "| 1951   | 4.60   | 4.46   | 3.93   | 11.14  | 15.15  | 11.13  |  68094 | \n",
       "| 1952   | 7.15   | 4.99   | 4.88   | 16.34  | 20.05  | 22.81  | 107080 | \n",
       "| 1953   | 9.70   | 5.65   | 4.91   |  8.88  |  8.15  |  7.41  |  67594 | \n",
       "\n",
       "\n"
      ],
      "text/plain": [
       "  Year APMAM APSAB APSLAKE OPBPC OPRC  OPSLAKE BSAAM \n",
       "1 1948 9.13  3.58  3.91     4.10  7.43  6.47    54235\n",
       "2 1949 5.28  4.82  5.20     7.55 11.11 10.26    67567\n",
       "3 1950 4.20  3.77  3.67     9.52 12.20 11.35    66161\n",
       "4 1951 4.60  4.46  3.93    11.14 15.15 11.13    68094\n",
       "5 1952 7.15  4.99  4.88    16.34 20.05 22.81   107080\n",
       "6 1953 9.70  5.65  4.91     8.88  8.15  7.41    67594"
      ]
     },
     "metadata": {},
     "output_type": "display_data"
    }
   ],
   "source": [
    "head(water)"
   ]
  },
  {
   "cell_type": "code",
   "execution_count": 5,
   "metadata": {},
   "outputs": [],
   "source": [
    "# From the output above, it's observed that the first column holds a date value, \n",
    "# this is not required for regression problems\n",
    "# let's remove this field with the syntax below and store it in the object 'calif.water'\n",
    "calif.water <- water[, -1]"
   ]
  },
  {
   "cell_type": "code",
   "execution_count": 6,
   "metadata": {},
   "outputs": [
    {
     "name": "stdout",
     "output_type": "stream",
     "text": [
      "'data.frame':\t43 obs. of  7 variables:\n",
      " $ APMAM  : num  9.13 5.28 4.2 4.6 7.15 9.7 5.02 6.7 10.5 9.1 ...\n",
      " $ APSAB  : num  3.58 4.82 3.77 4.46 4.99 5.65 1.45 7.44 5.85 6.13 ...\n",
      " $ APSLAKE: num  3.91 5.2 3.67 3.93 4.88 4.91 1.77 6.51 3.38 4.08 ...\n",
      " $ OPBPC  : num  4.1 7.55 9.52 11.14 16.34 ...\n",
      " $ OPRC   : num  7.43 11.11 12.2 15.15 20.05 ...\n",
      " $ OPSLAKE: num  6.47 10.26 11.35 11.13 22.81 ...\n",
      " $ BSAAM  : int  54235 67567 66161 68094 107080 67594 65356 67909 92715 70024 ...\n"
     ]
    }
   ],
   "source": [
    "# Let's view our data again to ensure the data field has been removed\n",
    "str(calif.water)"
   ]
  },
  {
   "cell_type": "code",
   "execution_count": 7,
   "metadata": {},
   "outputs": [
    {
     "data": {
      "text/plain": [
       "     APMAM            APSAB           APSLAKE          OPBPC       \n",
       " Min.   : 2.700   Min.   : 1.450   Min.   : 1.77   Min.   : 4.050  \n",
       " 1st Qu.: 4.975   1st Qu.: 3.390   1st Qu.: 3.36   1st Qu.: 7.975  \n",
       " Median : 7.080   Median : 4.460   Median : 4.62   Median : 9.550  \n",
       " Mean   : 7.323   Mean   : 4.652   Mean   : 4.93   Mean   :12.836  \n",
       " 3rd Qu.: 9.115   3rd Qu.: 5.685   3rd Qu.: 5.83   3rd Qu.:16.545  \n",
       " Max.   :18.080   Max.   :11.960   Max.   :13.02   Max.   :43.370  \n",
       "      OPRC           OPSLAKE           BSAAM       \n",
       " Min.   : 4.350   Min.   : 4.600   Min.   : 41785  \n",
       " 1st Qu.: 7.875   1st Qu.: 8.705   1st Qu.: 59857  \n",
       " Median :11.110   Median :12.140   Median : 69177  \n",
       " Mean   :12.002   Mean   :13.522   Mean   : 77756  \n",
       " 3rd Qu.:14.975   3rd Qu.:16.920   3rd Qu.: 92206  \n",
       " Max.   :24.850   Max.   :33.070   Max.   :146345  "
      ]
     },
     "metadata": {},
     "output_type": "display_data"
    }
   ],
   "source": [
    "summary(calif.water)"
   ]
  },
  {
   "cell_type": "code",
   "execution_count": 8,
   "metadata": {},
   "outputs": [
    {
     "data": {
      "text/html": [
       "<table>\n",
       "<thead><tr><th></th><th scope=col>APMAM</th><th scope=col>APSAB</th><th scope=col>APSLAKE</th><th scope=col>OPBPC</th><th scope=col>OPRC</th><th scope=col>OPSLAKE</th><th scope=col>BSAAM</th></tr></thead>\n",
       "<tbody>\n",
       "\t<tr><th scope=row>APMAM</th><td>1.0000000 </td><td>0.82768637</td><td>0.81607595</td><td>0.12238567</td><td>0.1544155 </td><td>0.10754212</td><td>0.2385695 </td></tr>\n",
       "\t<tr><th scope=row>APSAB</th><td>0.8276864 </td><td>1.00000000</td><td>0.90030474</td><td>0.03954211</td><td>0.1056396 </td><td>0.02961175</td><td>0.1832950 </td></tr>\n",
       "\t<tr><th scope=row>APSLAKE</th><td>0.8160760 </td><td>0.90030474</td><td>1.00000000</td><td>0.09344773</td><td>0.1063836 </td><td>0.10058669</td><td>0.2493409 </td></tr>\n",
       "\t<tr><th scope=row>OPBPC</th><td>0.1223857 </td><td>0.03954211</td><td>0.09344773</td><td>1.00000000</td><td>0.8647073 </td><td>0.94334741</td><td>0.8857478 </td></tr>\n",
       "\t<tr><th scope=row>OPRC</th><td>0.1544155 </td><td>0.10563959</td><td>0.10638359</td><td>0.86470733</td><td>1.0000000 </td><td>0.91914467</td><td>0.9196270 </td></tr>\n",
       "\t<tr><th scope=row>OPSLAKE</th><td>0.1075421 </td><td>0.02961175</td><td>0.10058669</td><td>0.94334741</td><td>0.9191447 </td><td>1.00000000</td><td>0.9384360 </td></tr>\n",
       "\t<tr><th scope=row>BSAAM</th><td>0.2385695 </td><td>0.18329499</td><td>0.24934094</td><td>0.88574778</td><td>0.9196270 </td><td>0.93843604</td><td>1.0000000 </td></tr>\n",
       "</tbody>\n",
       "</table>\n"
      ],
      "text/latex": [
       "\\begin{tabular}{r|lllllll}\n",
       "  & APMAM & APSAB & APSLAKE & OPBPC & OPRC & OPSLAKE & BSAAM\\\\\n",
       "\\hline\n",
       "\tAPMAM & 1.0000000  & 0.82768637 & 0.81607595 & 0.12238567 & 0.1544155  & 0.10754212 & 0.2385695 \\\\\n",
       "\tAPSAB & 0.8276864  & 1.00000000 & 0.90030474 & 0.03954211 & 0.1056396  & 0.02961175 & 0.1832950 \\\\\n",
       "\tAPSLAKE & 0.8160760  & 0.90030474 & 1.00000000 & 0.09344773 & 0.1063836  & 0.10058669 & 0.2493409 \\\\\n",
       "\tOPBPC & 0.1223857  & 0.03954211 & 0.09344773 & 1.00000000 & 0.8647073  & 0.94334741 & 0.8857478 \\\\\n",
       "\tOPRC & 0.1544155  & 0.10563959 & 0.10638359 & 0.86470733 & 1.0000000  & 0.91914467 & 0.9196270 \\\\\n",
       "\tOPSLAKE & 0.1075421  & 0.02961175 & 0.10058669 & 0.94334741 & 0.9191447  & 1.00000000 & 0.9384360 \\\\\n",
       "\tBSAAM & 0.2385695  & 0.18329499 & 0.24934094 & 0.88574778 & 0.9196270  & 0.93843604 & 1.0000000 \\\\\n",
       "\\end{tabular}\n"
      ],
      "text/markdown": [
       "\n",
       "| <!--/--> | APMAM | APSAB | APSLAKE | OPBPC | OPRC | OPSLAKE | BSAAM | \n",
       "|---|---|---|---|---|---|---|\n",
       "| APMAM | 1.0000000  | 0.82768637 | 0.81607595 | 0.12238567 | 0.1544155  | 0.10754212 | 0.2385695  | \n",
       "| APSAB | 0.8276864  | 1.00000000 | 0.90030474 | 0.03954211 | 0.1056396  | 0.02961175 | 0.1832950  | \n",
       "| APSLAKE | 0.8160760  | 0.90030474 | 1.00000000 | 0.09344773 | 0.1063836  | 0.10058669 | 0.2493409  | \n",
       "| OPBPC | 0.1223857  | 0.03954211 | 0.09344773 | 1.00000000 | 0.8647073  | 0.94334741 | 0.8857478  | \n",
       "| OPRC | 0.1544155  | 0.10563959 | 0.10638359 | 0.86470733 | 1.0000000  | 0.91914467 | 0.9196270  | \n",
       "| OPSLAKE | 0.1075421  | 0.02961175 | 0.10058669 | 0.94334741 | 0.9191447  | 1.00000000 | 0.9384360  | \n",
       "| BSAAM | 0.2385695  | 0.18329499 | 0.24934094 | 0.88574778 | 0.9196270  | 0.93843604 | 1.0000000  | \n",
       "\n",
       "\n"
      ],
      "text/plain": [
       "        APMAM     APSAB      APSLAKE    OPBPC      OPRC      OPSLAKE   \n",
       "APMAM   1.0000000 0.82768637 0.81607595 0.12238567 0.1544155 0.10754212\n",
       "APSAB   0.8276864 1.00000000 0.90030474 0.03954211 0.1056396 0.02961175\n",
       "APSLAKE 0.8160760 0.90030474 1.00000000 0.09344773 0.1063836 0.10058669\n",
       "OPBPC   0.1223857 0.03954211 0.09344773 1.00000000 0.8647073 0.94334741\n",
       "OPRC    0.1544155 0.10563959 0.10638359 0.86470733 1.0000000 0.91914467\n",
       "OPSLAKE 0.1075421 0.02961175 0.10058669 0.94334741 0.9191447 1.00000000\n",
       "BSAAM   0.2385695 0.18329499 0.24934094 0.88574778 0.9196270 0.93843604\n",
       "        BSAAM    \n",
       "APMAM   0.2385695\n",
       "APSAB   0.1832950\n",
       "APSLAKE 0.2493409\n",
       "OPBPC   0.8857478\n",
       "OPRC    0.9196270\n",
       "OPSLAKE 0.9384360\n",
       "BSAAM   1.0000000"
      ]
     },
     "metadata": {},
     "output_type": "display_data"
    }
   ],
   "source": [
    "# Let us convert our data to a correlation matrix, so we could identify correlated features\n",
    "calif.cor <- cor(calif.water)\n",
    "calif.cor # View the output"
   ]
  },
  {
   "cell_type": "code",
   "execution_count": 9,
   "metadata": {},
   "outputs": [
    {
     "data": {
      "image/png": "[encoded data removed]",
      "text/plain": [
       "Plot with title \"\""
      ]
     },
     "metadata": {},
     "output_type": "display_data"
    }
   ],
   "source": [
    "# Plot the heatmap chart\n",
    "# Note make the plot below, data must be converted as above first\n",
    "corrplot::corrplot(calif.cor, method = 'square') "
   ]
  },
  {
   "cell_type": "code",
   "execution_count": 10,
   "metadata": {},
   "outputs": [
    {
     "data": {
      "text/html": [
       "<table>\n",
       "<thead><tr><th scope=col>APMAM</th><th scope=col>APSAB</th><th scope=col>APSLAKE</th><th scope=col>OPBPC</th><th scope=col>OPRC</th><th scope=col>OPSLAKE</th><th scope=col>BSAAM</th></tr></thead>\n",
       "<tbody>\n",
       "\t<tr><td> 0.58334270 </td><td>-0.52251850 </td><td>-0.451872301</td><td>-1.1363134  </td><td>-0.90919857 </td><td>-1.1050204  </td><td>-0.9217105  </td></tr>\n",
       "\t<tr><td>-0.65954512 </td><td> 0.08170372 </td><td> 0.119352780</td><td>-0.6875657  </td><td>-0.17732563 </td><td>-0.5111503  </td><td>-0.3992744  </td></tr>\n",
       "\t<tr><td>-1.00819937 </td><td>-0.42993607 </td><td>-0.558146734</td><td>-0.4313242  </td><td> 0.03945195 </td><td>-0.3403539  </td><td>-0.4543708  </td></tr>\n",
       "\t<tr><td>-0.87906817 </td><td>-0.09371564 </td><td>-0.443016098</td><td>-0.2206078  </td><td> 0.62614357 </td><td>-0.3748265  </td><td>-0.3786230  </td></tr>\n",
       "\t<tr><td>-0.05585675 </td><td> 0.16454064 </td><td>-0.022346465</td><td> 0.4557656  </td><td> 1.60064829 </td><td> 1.4553589  </td><td> 1.1491069  </td></tr>\n",
       "\t<tr><td> 0.76735466 </td><td> 0.48614279 </td><td>-0.009062161</td><td>-0.5145701  </td><td>-0.76600604 </td><td>-0.9577280  </td><td>-0.3982163  </td></tr>\n",
       "</tbody>\n",
       "</table>\n"
      ],
      "text/latex": [
       "\\begin{tabular}{r|lllllll}\n",
       " APMAM & APSAB & APSLAKE & OPBPC & OPRC & OPSLAKE & BSAAM\\\\\n",
       "\\hline\n",
       "\t  0.58334270  & -0.52251850  & -0.451872301 & -1.1363134   & -0.90919857  & -1.1050204   & -0.9217105  \\\\\n",
       "\t -0.65954512  &  0.08170372  &  0.119352780 & -0.6875657   & -0.17732563  & -0.5111503   & -0.3992744  \\\\\n",
       "\t -1.00819937  & -0.42993607  & -0.558146734 & -0.4313242   &  0.03945195  & -0.3403539   & -0.4543708  \\\\\n",
       "\t -0.87906817  & -0.09371564  & -0.443016098 & -0.2206078   &  0.62614357  & -0.3748265   & -0.3786230  \\\\\n",
       "\t -0.05585675  &  0.16454064  & -0.022346465 &  0.4557656   &  1.60064829  &  1.4553589   &  1.1491069  \\\\\n",
       "\t  0.76735466  &  0.48614279  & -0.009062161 & -0.5145701   & -0.76600604  & -0.9577280   & -0.3982163  \\\\\n",
       "\\end{tabular}\n"
      ],
      "text/markdown": [
       "\n",
       "APMAM | APSAB | APSLAKE | OPBPC | OPRC | OPSLAKE | BSAAM | \n",
       "|---|---|---|---|---|---|\n",
       "|  0.58334270  | -0.52251850  | -0.451872301 | -1.1363134   | -0.90919857  | -1.1050204   | -0.9217105   | \n",
       "| -0.65954512  |  0.08170372  |  0.119352780 | -0.6875657   | -0.17732563  | -0.5111503   | -0.3992744   | \n",
       "| -1.00819937  | -0.42993607  | -0.558146734 | -0.4313242   |  0.03945195  | -0.3403539   | -0.4543708   | \n",
       "| -0.87906817  | -0.09371564  | -0.443016098 | -0.2206078   |  0.62614357  | -0.3748265   | -0.3786230   | \n",
       "| -0.05585675  |  0.16454064  | -0.022346465 |  0.4557656   |  1.60064829  |  1.4553589   |  1.1491069   | \n",
       "|  0.76735466  |  0.48614279  | -0.009062161 | -0.5145701   | -0.76600604  | -0.9577280   | -0.3982163   | \n",
       "\n",
       "\n"
      ],
      "text/plain": [
       "  APMAM       APSAB       APSLAKE      OPBPC      OPRC        OPSLAKE   \n",
       "1  0.58334270 -0.52251850 -0.451872301 -1.1363134 -0.90919857 -1.1050204\n",
       "2 -0.65954512  0.08170372  0.119352780 -0.6875657 -0.17732563 -0.5111503\n",
       "3 -1.00819937 -0.42993607 -0.558146734 -0.4313242  0.03945195 -0.3403539\n",
       "4 -0.87906817 -0.09371564 -0.443016098 -0.2206078  0.62614357 -0.3748265\n",
       "5 -0.05585675  0.16454064 -0.022346465  0.4557656  1.60064829  1.4553589\n",
       "6  0.76735466  0.48614279 -0.009062161 -0.5145701 -0.76600604 -0.9577280\n",
       "  BSAAM     \n",
       "1 -0.9217105\n",
       "2 -0.3992744\n",
       "3 -0.4543708\n",
       "4 -0.3786230\n",
       "5  1.1491069\n",
       "6 -0.3982163"
      ]
     },
     "metadata": {},
     "output_type": "display_data"
    }
   ],
   "source": [
    "# We now scale the dataset\n",
    "calif.water <- scale(calif.water)\n",
    "calif.water <- data.frame(calif.water)\n",
    "head(calif.water)"
   ]
  },
  {
   "cell_type": "markdown",
   "metadata": {},
   "source": [
    "## Build the model"
   ]
  },
  {
   "cell_type": "code",
   "execution_count": 13,
   "metadata": {},
   "outputs": [],
   "source": [
    "# The model building process is a bit different, notice that\n",
    "# the independent variable are stored in the x object while the dependent varibale is \n",
    "# stored in y\n",
    "x <- model.matrix(BSAAM~.-1, data = calif.water)\n",
    "y <- calif.water$BSAAM"
   ]
  },
  {
   "cell_type": "code",
   "execution_count": 12,
   "metadata": {},
   "outputs": [],
   "source": [
    "# This code is optional, however, if you want to see results\n",
    "# in full rather than scientific format, use it\n",
    "options(scipen=234)"
   ]
  },
  {
   "cell_type": "markdown",
   "metadata": {},
   "source": [
    "### Ridge Regression (alpha = 0)"
   ]
  },
  {
   "cell_type": "code",
   "execution_count": 14,
   "metadata": {},
   "outputs": [
    {
     "data": {
      "image/png": "[encoded data removed]",
      "text/plain": [
       "plot without title"
      ]
     },
     "metadata": {},
     "output_type": "display_data"
    }
   ],
   "source": [
    "# Let us now build the ridge regression, notice that alpha is set to 0\n",
    "set.seed(123) # this is for reproducibility (so you get extactly what i have here)\n",
    "ridge <- glmnet(x,y, alpha=0)\n",
    "\n",
    "# plot the model\n",
    "plot(ridge, xvar=\"lambda\", label=T)"
   ]
  },
  {
   "cell_type": "markdown",
   "metadata": {},
   "source": [
    "From the plot above, the number of colored lines represent the six features from our dataset. Notice that as the value of lamda increases the bottom numbers, the lines shrink to near zero and all six features are retained (the top values on the chart). The vertical values are the coefficients of the features."
   ]
  },
  {
   "cell_type": "code",
   "execution_count": 15,
   "metadata": {},
   "outputs": [
    {
     "data": {
      "text/plain": [
       "7 x 1 sparse Matrix of class \"dgCMatrix\"\n",
       "                                     1\n",
       "(Intercept) -0.00000000000000007336965\n",
       "APMAM        0.03289673614335679452392\n",
       "APSAB        0.02436925702220284900568\n",
       "APSLAKE      0.07903322563980051673749\n",
       "OPBPC        0.22952846622475525650842\n",
       "OPRC         0.28846911133693564632807\n",
       "OPSLAKE      0.29621038320080034234039"
      ]
     },
     "metadata": {},
     "output_type": "display_data"
    }
   ],
   "source": [
    "# Lets run again the ridge modeL but this time with a cross validation in it(cv)\n",
    "cv.ridge <- cv.glmnet(x,y,alpha=0)\n",
    "\n",
    "# To confirm what we have already learned in theory, the code below list all the coefficients\n",
    "# notice how small they are but not zero\n",
    "coef(cv.ridge)"
   ]
  },
  {
   "cell_type": "code",
   "execution_count": 16,
   "metadata": {},
   "outputs": [
    {
     "data": {
      "text/html": [
       "0.0927459807730971"
      ],
      "text/latex": [
       "0.0927459807730971"
      ],
      "text/markdown": [
       "0.0927459807730971"
      ],
      "text/plain": [
       "[1] 0.09274598"
      ]
     },
     "metadata": {},
     "output_type": "display_data"
    }
   ],
   "source": [
    "# so for this case, the best value of lamda to choose is obtained\n",
    "# by running the code below.\n",
    "bestlamRidge <- cv.ridge$lambda.min\n",
    "bestlamRidge"
   ]
  },
  {
   "cell_type": "markdown",
   "metadata": {},
   "source": [
    "### LASSO Regression (alpha = 1)"
   ]
  },
  {
   "cell_type": "code",
   "execution_count": 17,
   "metadata": {},
   "outputs": [
    {
     "data": {
      "image/png": "[encoded data removed]",
      "text/plain": [
       "plot without title"
      ]
     },
     "metadata": {},
     "output_type": "display_data"
    }
   ],
   "source": [
    "# Let us now build the LASSO regression, notice that alpha is set to 1\n",
    "set.seed(123) # this is for reproducibility (so you get extactly what i have here)\n",
    "lasso <- glmnet(x,y, alpha=1)\n",
    "\n",
    "# plot the model\n",
    "plot(lasso, xvar=\"lambda\", label=T)"
   ]
  },
  {
   "cell_type": "markdown",
   "metadata": {},
   "source": [
    "From the plot above, the number of colored lines represent the features from our dataset. Notice that as the value of lamda increases, i.e, the bottom numbers, the lines shrink to zero, as we can observed, the colored lines are fewer that we saw in Ridge regression.Again as lambda increases, the number of features drops (the top values on the chart). The vertical values are the coefficients of the features. So the big question now is what is the best value of lambda?"
   ]
  },
  {
   "cell_type": "code",
   "execution_count": 18,
   "metadata": {},
   "outputs": [
    {
     "data": {
      "text/plain": [
       "7 x 1 sparse Matrix of class \"dgCMatrix\"\n",
       "                                     1\n",
       "(Intercept) -0.00000000000000006644035\n",
       "APMAM        .                        \n",
       "APSAB        .                        \n",
       "APSLAKE      0.06878557924849129645573\n",
       "OPBPC        .                        \n",
       "OPRC         0.31514789891943884025949\n",
       "OPSLAKE      0.55016447531242040902555"
      ]
     },
     "metadata": {},
     "output_type": "display_data"
    }
   ],
   "source": [
    "# Lets run again the LASSO modeL but this time with a cross validation in it(cv)\n",
    "cv.lasso <- cv.glmnet(x,y,alpha=1)\n",
    "\n",
    "# From the output below, we see that some features are now zero (APMAM ,APSAB and OPBPC )\n",
    "coef(cv.lasso)"
   ]
  },
  {
   "cell_type": "code",
   "execution_count": 19,
   "metadata": {},
   "outputs": [
    {
     "data": {
      "text/html": [
       "0.0117032153687952"
      ],
      "text/latex": [
       "0.0117032153687952"
      ],
      "text/markdown": [
       "0.0117032153687952"
      ],
      "text/plain": [
       "[1] 0.01170322"
      ]
     },
     "metadata": {},
     "output_type": "display_data"
    }
   ],
   "source": [
    "# so for this case, the best value of lamda to choose is obtained\n",
    "# by running the code below.\n",
    "bestlamLasso <- cv.lasso$lambda.min\n",
    "bestlamLasso"
   ]
  },
  {
   "cell_type": "markdown",
   "metadata": {},
   "source": [
    "### Prediction"
   ]
  },
  {
   "cell_type": "code",
   "execution_count": null,
   "metadata": {
    "scrolled": true
   },
   "outputs": [],
   "source": [
    "# for prediction of out of sample dataset , uncomment the code below and plug in the data set in place of text_X\n",
    "#pred_ridge <- predict(ridgeMod, s= bestlamLasso, newx=test_x)\n",
    "#DMwR::regr.eval(testing$price, pred_ridge)\n",
    "\n",
    "# pred_lasso <- predict(lassoMod, s= best_lambda, newx=test_x)\n",
    "#DMwR::regr.eval(testing$price, pred_lasso)"
   ]
  },
  {
   "cell_type": "markdown",
   "metadata": {},
   "source": [
    "What would the Elasticnet model be?\n",
    "Investigate this and share with me or the class. God bless"
   ]
  }
 ],
 "metadata": {
  "kernelspec": {
   "display_name": "R 3.5",
   "language": "R",
   "name": "ir35"
  },
  "language_info": {
   "codemirror_mode": "r",
   "file_extension": ".r",
   "mimetype": "text/x-r-source",
   "name": "R",
   "pygments_lexer": "r",
   "version": "3.5.1"
  }
 },
 "nbformat": 4,
 "nbformat_minor": 2
}
