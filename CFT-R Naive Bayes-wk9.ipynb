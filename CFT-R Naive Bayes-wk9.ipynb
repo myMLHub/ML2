{
 "cells": [
  {
   "cell_type": "markdown",
   "metadata": {},
   "source": [
    "# Naive Bayes"
   ]
  },
  {
   "cell_type": "markdown",
   "metadata": {},
   "source": [
    "The Naive Bayes Classifier is a supervised classifier whose statistical idea came about from an 18th century statistician, philosopher and Presbyterian minister Thomas Bayes."
   ]
  },
  {
   "cell_type": "markdown",
   "metadata": {},
   "source": [
    "### Probability\n",
    "The probability of an event occuring is estimated from the observed data by dividing the\n",
    "number of trials in which the event of interest occurred by the total number of trials.\n",
    "For instance, if heads appears 3 out of 10 Coin flips, then probability that the next coin flip will be heads is estimated as 4/10 = 0.4 or 40%.\n",
    "The probability of all the possible outcomes of a trial must always sum to 1, from our earlier example, the probability of having a Head in 10 coin flips is 0.3 impling that the probability of Not having Head of having Tail is 1 - 0.3 = 0.7 or 70%. Hence this concludes that Head and Tail are **mutually exclusive and exhaustive events**, which implies that they cannot occur at the same time and are the only possible outcomes."
   ]
  },
  {
   "cell_type": "markdown",
   "metadata": {},
   "source": [
    "### Conditional Probability with Bayes' theorem\n",
    "\n",
    "P(A|B) = P(A n B)/ P(B)\n",
    "The formular above describes the relationship between dependent events and is commonly known as the Bayes' theorem.\n",
    "The formular can be read as The probability of event A given that event B has occured. This know as conditional probability since the probaility of A occuring depends on what happened to event B\n",
    "\n",
    "*Bayes' theorem states that the best estimate of P(A|B) is the proportion of trials in which A occurred with B out of all the trials in which B occurred*"
   ]
  },
  {
   "cell_type": "markdown",
   "metadata": {},
   "source": [
    "### The strengths and weaknesses Naive Bayes algorithm\n",
    "The Naive in Naive Bayes came as a result of a \"naive\" assumptions that all features in the dataset are equally important and independent. These assumptions are rarely true in most real-world applications.however, this is a very effective algorithm.\n",
    "\n",
    "**Pros**\n",
    "- Simple, fast, and very effective\n",
    "- Does well with noisy and missing data\n",
    "- Requires relatively few examples for training, but also works well with very large numbers of examples\n",
    "\n",
    "**Cons**\n",
    "- Relies on an often-faulty assumption of equally important and independent features\n",
    "- Not ideal for datasets with many numeric features"
   ]
  },
  {
   "cell_type": "markdown",
   "metadata": {},
   "source": [
    "### Hands-on session\n",
    "\n",
    "In this hands-on session, we would look to classify SMS messages as either ham(good) or spam(bad) using Naive bayes classifier.\n",
    "The data used for this session is made available on the url provided below:\n",
    "\n",
    "http://www.dt.fee.unicamp.br/~tiago/smsspamcollection/"
   ]
  },
  {
   "cell_type": "markdown",
   "metadata": {},
   "source": [
    "## Collecting the dataset"
   ]
  },
  {
   "cell_type": "code",
   "execution_count": 1,
   "metadata": {},
   "outputs": [
    {
     "name": "stderr",
     "output_type": "stream",
     "text": [
      "Warning message:\n",
      "\"package 'data.table' was built under R version 3.5.3\""
     ]
    }
   ],
   "source": [
    "library(data.table)"
   ]
  },
  {
   "cell_type": "code",
   "execution_count": 23,
   "metadata": {},
   "outputs": [
    {
     "name": "stderr",
     "output_type": "stream",
     "text": [
      "Warning message in fread(file.choose(), header = F):\n",
      "\"Found and resolved improper quoting out-of-sample. First healed line 283: <<ham\t\"Wen u miss someone, the person is definitely special for u..... But if the person is so special, why to miss them, just Keep-in-touch\" gdeve..>>. If the fields are not quoted (e.g. field separator does not appear within any field), try quote=\"\" to avoid this warning.\""
     ]
    }
   ],
   "source": [
    "#ham_spam_SMS_messages <- read.table(file.choose(), sep = \"\\t\", stringsAsFactors = FALSE, header = F, quote = \"\")\n",
    "ham_spam_SMS_messages <- fread(file.choose(), header = F)"
   ]
  },
  {
   "cell_type": "markdown",
   "metadata": {},
   "source": [
    "## Exploring and preparing the dataset"
   ]
  },
  {
   "cell_type": "code",
   "execution_count": 24,
   "metadata": {},
   "outputs": [
    {
     "data": {
      "text/html": [
       "<table>\n",
       "<thead><tr><th scope=col>V1</th><th scope=col>V2</th></tr></thead>\n",
       "<tbody>\n",
       "\t<tr><td>ham                                                                                                                                                        </td><td>Go until jurong point, crazy.. Available only in bugis n great world la e buffet... Cine there got amore wat...                                            </td></tr>\n",
       "\t<tr><td>ham                                                                                                                                                        </td><td>Ok lar... Joking wif u oni...                                                                                                                              </td></tr>\n",
       "\t<tr><td>spam                                                                                                                                                           </td><td>Free entry in 2 a wkly comp to win FA Cup final tkts 21st May 2005. Text FA to 87121 to receive entry question(std txt rate)T&amp;C's apply 08452810075over18's</td></tr>\n",
       "\t<tr><td>ham                                                                                                                                                        </td><td>U dun say so early hor... U c already then say...                                                                                                          </td></tr>\n",
       "\t<tr><td>ham                                                                                                                                                        </td><td>Nah I don't think he goes to usf, he lives around here though                                                                                              </td></tr>\n",
       "\t<tr><td>spam                                                                                                                                                       </td><td>FreeMsg Hey there darling it's been 3 week's now and no word back! I'd like some fun you up for it still? Tb ok! XxX std chgs to send, Â£1.50 to rcv       </td></tr>\n",
       "</tbody>\n",
       "</table>\n"
      ],
      "text/latex": [
       "\\begin{tabular}{r|ll}\n",
       " V1 & V2\\\\\n",
       "\\hline\n",
       "\t ham                                                                                                                                                         & Go until jurong point, crazy.. Available only in bugis n great world la e buffet... Cine there got amore wat...                                            \\\\\n",
       "\t ham                                                                                                                                                         & Ok lar... Joking wif u oni...                                                                                                                              \\\\\n",
       "\t spam                                                                                                                                                          & Free entry in 2 a wkly comp to win FA Cup final tkts 21st May 2005. Text FA to 87121 to receive entry question(std txt rate)T\\&C's apply 08452810075over18's\\\\\n",
       "\t ham                                                                                                                                                         & U dun say so early hor... U c already then say...                                                                                                          \\\\\n",
       "\t ham                                                                                                                                                         & Nah I don't think he goes to usf, he lives around here though                                                                                              \\\\\n",
       "\t spam                                                                                                                                                        & FreeMsg Hey there darling it's been 3 week's now and no word back! I'd like some fun you up for it still? Tb ok! XxX std chgs to send, Â£1.50 to rcv       \\\\\n",
       "\\end{tabular}\n"
      ],
      "text/markdown": [
       "\n",
       "V1 | V2 | \n",
       "|---|---|---|---|---|---|\n",
       "| ham                                                                                                                                                         | Go until jurong point, crazy.. Available only in bugis n great world la e buffet... Cine there got amore wat...                                             | \n",
       "| ham                                                                                                                                                         | Ok lar... Joking wif u oni...                                                                                                                               | \n",
       "| spam                                                                                                                                                        | Free entry in 2 a wkly comp to win FA Cup final tkts 21st May 2005. Text FA to 87121 to receive entry question(std txt rate)T&C's apply 08452810075over18's | \n",
       "| ham                                                                                                                                                         | U dun say so early hor... U c already then say...                                                                                                           | \n",
       "| ham                                                                                                                                                         | Nah I don't think he goes to usf, he lives around here though                                                                                               | \n",
       "| spam                                                                                                                                                        | FreeMsg Hey there darling it's been 3 week's now and no word back! I'd like some fun you up for it still? Tb ok! XxX std chgs to send, Â£1.50 to rcv        | \n",
       "\n",
       "\n"
      ],
      "text/plain": [
       "  V1  \n",
       "1 ham \n",
       "2 ham \n",
       "3 spam\n",
       "4 ham \n",
       "5 ham \n",
       "6 spam\n",
       "  V2                                                                                                                                                         \n",
       "1 Go until jurong point, crazy.. Available only in bugis n great world la e buffet... Cine there got amore wat...                                            \n",
       "2 Ok lar... Joking wif u oni...                                                                                                                              \n",
       "3 Free entry in 2 a wkly comp to win FA Cup final tkts 21st May 2005. Text FA to 87121 to receive entry question(std txt rate)T&C's apply 08452810075over18's\n",
       "4 U dun say so early hor... U c already then say...                                                                                                          \n",
       "5 Nah I don't think he goes to usf, he lives around here though                                                                                              \n",
       "6 FreeMsg Hey there darling it's been 3 week's now and no word back! I'd like some fun you up for it still? Tb ok! XxX std chgs to send, Â£1.50 to rcv       "
      ]
     },
     "metadata": {},
     "output_type": "display_data"
    }
   ],
   "source": [
    "# view the first few records of the imported dataset\n",
    "head(ham_spam_SMS_messages)"
   ]
  },
  {
   "cell_type": "code",
   "execution_count": 25,
   "metadata": {},
   "outputs": [],
   "source": [
    "# Give proper names to our dataframe rather than the default V1 and V2\n",
    "names(ham_spam_SMS_messages) <- c(\"Type\", \"Text\")"
   ]
  },
  {
   "cell_type": "code",
   "execution_count": 26,
   "metadata": {},
   "outputs": [
    {
     "data": {
      "text/html": [
       "<table>\n",
       "<thead><tr><th scope=col>Type</th><th scope=col>Text</th></tr></thead>\n",
       "<tbody>\n",
       "\t<tr><td>ham                                                                                                                                                        </td><td>Go until jurong point, crazy.. Available only in bugis n great world la e buffet... Cine there got amore wat...                                            </td></tr>\n",
       "\t<tr><td>ham                                                                                                                                                        </td><td>Ok lar... Joking wif u oni...                                                                                                                              </td></tr>\n",
       "\t<tr><td>spam                                                                                                                                                           </td><td>Free entry in 2 a wkly comp to win FA Cup final tkts 21st May 2005. Text FA to 87121 to receive entry question(std txt rate)T&amp;C's apply 08452810075over18's</td></tr>\n",
       "\t<tr><td>ham                                                                                                                                                        </td><td>U dun say so early hor... U c already then say...                                                                                                          </td></tr>\n",
       "\t<tr><td>ham                                                                                                                                                        </td><td>Nah I don't think he goes to usf, he lives around here though                                                                                              </td></tr>\n",
       "\t<tr><td>spam                                                                                                                                                       </td><td>FreeMsg Hey there darling it's been 3 week's now and no word back! I'd like some fun you up for it still? Tb ok! XxX std chgs to send, Â£1.50 to rcv       </td></tr>\n",
       "</tbody>\n",
       "</table>\n"
      ],
      "text/latex": [
       "\\begin{tabular}{r|ll}\n",
       " Type & Text\\\\\n",
       "\\hline\n",
       "\t ham                                                                                                                                                         & Go until jurong point, crazy.. Available only in bugis n great world la e buffet... Cine there got amore wat...                                            \\\\\n",
       "\t ham                                                                                                                                                         & Ok lar... Joking wif u oni...                                                                                                                              \\\\\n",
       "\t spam                                                                                                                                                          & Free entry in 2 a wkly comp to win FA Cup final tkts 21st May 2005. Text FA to 87121 to receive entry question(std txt rate)T\\&C's apply 08452810075over18's\\\\\n",
       "\t ham                                                                                                                                                         & U dun say so early hor... U c already then say...                                                                                                          \\\\\n",
       "\t ham                                                                                                                                                         & Nah I don't think he goes to usf, he lives around here though                                                                                              \\\\\n",
       "\t spam                                                                                                                                                        & FreeMsg Hey there darling it's been 3 week's now and no word back! I'd like some fun you up for it still? Tb ok! XxX std chgs to send, Â£1.50 to rcv       \\\\\n",
       "\\end{tabular}\n"
      ],
      "text/markdown": [
       "\n",
       "Type | Text | \n",
       "|---|---|---|---|---|---|\n",
       "| ham                                                                                                                                                         | Go until jurong point, crazy.. Available only in bugis n great world la e buffet... Cine there got amore wat...                                             | \n",
       "| ham                                                                                                                                                         | Ok lar... Joking wif u oni...                                                                                                                               | \n",
       "| spam                                                                                                                                                        | Free entry in 2 a wkly comp to win FA Cup final tkts 21st May 2005. Text FA to 87121 to receive entry question(std txt rate)T&C's apply 08452810075over18's | \n",
       "| ham                                                                                                                                                         | U dun say so early hor... U c already then say...                                                                                                           | \n",
       "| ham                                                                                                                                                         | Nah I don't think he goes to usf, he lives around here though                                                                                               | \n",
       "| spam                                                                                                                                                        | FreeMsg Hey there darling it's been 3 week's now and no word back! I'd like some fun you up for it still? Tb ok! XxX std chgs to send, Â£1.50 to rcv        | \n",
       "\n",
       "\n"
      ],
      "text/plain": [
       "  Type\n",
       "1 ham \n",
       "2 ham \n",
       "3 spam\n",
       "4 ham \n",
       "5 ham \n",
       "6 spam\n",
       "  Text                                                                                                                                                       \n",
       "1 Go until jurong point, crazy.. Available only in bugis n great world la e buffet... Cine there got amore wat...                                            \n",
       "2 Ok lar... Joking wif u oni...                                                                                                                              \n",
       "3 Free entry in 2 a wkly comp to win FA Cup final tkts 21st May 2005. Text FA to 87121 to receive entry question(std txt rate)T&C's apply 08452810075over18's\n",
       "4 U dun say so early hor... U c already then say...                                                                                                          \n",
       "5 Nah I don't think he goes to usf, he lives around here though                                                                                              \n",
       "6 FreeMsg Hey there darling it's been 3 week's now and no word back! I'd like some fun you up for it still? Tb ok! XxX std chgs to send, Â£1.50 to rcv       "
      ]
     },
     "metadata": {},
     "output_type": "display_data"
    }
   ],
   "source": [
    "# verify the names have been applied\n",
    "head(ham_spam_SMS_messages)"
   ]
  },
  {
   "cell_type": "code",
   "execution_count": 27,
   "metadata": {},
   "outputs": [
    {
     "name": "stdout",
     "output_type": "stream",
     "text": [
      "Classes 'data.table' and 'data.frame':\t5574 obs. of  2 variables:\n",
      " $ Type: chr  \"ham\" \"ham\" \"spam\" \"ham\" ...\n",
      " $ Text: chr  \"Go until jurong point, crazy.. Available only in bugis n great world la e buffet... Cine there got amore wat...\" \"Ok lar... Joking wif u oni...\" \"Free entry in 2 a wkly comp to win FA Cup final tkts 21st May 2005. Text FA to 87121 to receive entry question(\"| __truncated__ \"U dun say so early hor... U c already then say...\" ...\n",
      " - attr(*, \".internal.selfref\")=<externalptr> \n"
     ]
    }
   ],
   "source": [
    "# View the structure of the dataset\n",
    "str(ham_spam_SMS_messages)"
   ]
  },
  {
   "cell_type": "code",
   "execution_count": 28,
   "metadata": {},
   "outputs": [],
   "source": [
    "# Since this is a classification problem, lets convert the type field to a factor\n",
    "ham_spam_SMS_messages$Type <- factor(ham_spam_SMS_messages$Type)"
   ]
  },
  {
   "cell_type": "code",
   "execution_count": 29,
   "metadata": {},
   "outputs": [
    {
     "name": "stdout",
     "output_type": "stream",
     "text": [
      " Factor w/ 2 levels \"ham\",\"spam\": 1 1 2 1 1 2 1 1 2 2 ...\n"
     ]
    }
   ],
   "source": [
    "# View the converted field\n",
    "str(ham_spam_SMS_messages$Type)"
   ]
  },
  {
   "cell_type": "code",
   "execution_count": 30,
   "metadata": {},
   "outputs": [
    {
     "data": {
      "text/html": [
       "<table>\n",
       "<thead><tr><th scope=col>Type</th><th scope=col>Text</th></tr></thead>\n",
       "<tbody>\n",
       "\t<tr><td>ham                                                                                                                                                        </td><td>Go until jurong point, crazy.. Available only in bugis n great world la e buffet... Cine there got amore wat...                                            </td></tr>\n",
       "\t<tr><td>ham                                                                                                                                                        </td><td>Ok lar... Joking wif u oni...                                                                                                                              </td></tr>\n",
       "\t<tr><td>spam                                                                                                                                                           </td><td>Free entry in 2 a wkly comp to win FA Cup final tkts 21st May 2005. Text FA to 87121 to receive entry question(std txt rate)T&amp;C's apply 08452810075over18's</td></tr>\n",
       "\t<tr><td>ham                                                                                                                                                        </td><td>U dun say so early hor... U c already then say...                                                                                                          </td></tr>\n",
       "\t<tr><td>ham                                                                                                                                                        </td><td>Nah I don't think he goes to usf, he lives around here though                                                                                              </td></tr>\n",
       "\t<tr><td>spam                                                                                                                                                       </td><td>FreeMsg Hey there darling it's been 3 week's now and no word back! I'd like some fun you up for it still? Tb ok! XxX std chgs to send, Â£1.50 to rcv       </td></tr>\n",
       "</tbody>\n",
       "</table>\n"
      ],
      "text/latex": [
       "\\begin{tabular}{r|ll}\n",
       " Type & Text\\\\\n",
       "\\hline\n",
       "\t ham                                                                                                                                                         & Go until jurong point, crazy.. Available only in bugis n great world la e buffet... Cine there got amore wat...                                            \\\\\n",
       "\t ham                                                                                                                                                         & Ok lar... Joking wif u oni...                                                                                                                              \\\\\n",
       "\t spam                                                                                                                                                          & Free entry in 2 a wkly comp to win FA Cup final tkts 21st May 2005. Text FA to 87121 to receive entry question(std txt rate)T\\&C's apply 08452810075over18's\\\\\n",
       "\t ham                                                                                                                                                         & U dun say so early hor... U c already then say...                                                                                                          \\\\\n",
       "\t ham                                                                                                                                                         & Nah I don't think he goes to usf, he lives around here though                                                                                              \\\\\n",
       "\t spam                                                                                                                                                        & FreeMsg Hey there darling it's been 3 week's now and no word back! I'd like some fun you up for it still? Tb ok! XxX std chgs to send, Â£1.50 to rcv       \\\\\n",
       "\\end{tabular}\n"
      ],
      "text/markdown": [
       "\n",
       "Type | Text | \n",
       "|---|---|---|---|---|---|\n",
       "| ham                                                                                                                                                         | Go until jurong point, crazy.. Available only in bugis n great world la e buffet... Cine there got amore wat...                                             | \n",
       "| ham                                                                                                                                                         | Ok lar... Joking wif u oni...                                                                                                                               | \n",
       "| spam                                                                                                                                                        | Free entry in 2 a wkly comp to win FA Cup final tkts 21st May 2005. Text FA to 87121 to receive entry question(std txt rate)T&C's apply 08452810075over18's | \n",
       "| ham                                                                                                                                                         | U dun say so early hor... U c already then say...                                                                                                           | \n",
       "| ham                                                                                                                                                         | Nah I don't think he goes to usf, he lives around here though                                                                                               | \n",
       "| spam                                                                                                                                                        | FreeMsg Hey there darling it's been 3 week's now and no word back! I'd like some fun you up for it still? Tb ok! XxX std chgs to send, Â£1.50 to rcv        | \n",
       "\n",
       "\n"
      ],
      "text/plain": [
       "  Type\n",
       "1 ham \n",
       "2 ham \n",
       "3 spam\n",
       "4 ham \n",
       "5 ham \n",
       "6 spam\n",
       "  Text                                                                                                                                                       \n",
       "1 Go until jurong point, crazy.. Available only in bugis n great world la e buffet... Cine there got amore wat...                                            \n",
       "2 Ok lar... Joking wif u oni...                                                                                                                              \n",
       "3 Free entry in 2 a wkly comp to win FA Cup final tkts 21st May 2005. Text FA to 87121 to receive entry question(std txt rate)T&C's apply 08452810075over18's\n",
       "4 U dun say so early hor... U c already then say...                                                                                                          \n",
       "5 Nah I don't think he goes to usf, he lives around here though                                                                                              \n",
       "6 FreeMsg Hey there darling it's been 3 week's now and no word back! I'd like some fun you up for it still? Tb ok! XxX std chgs to send, Â£1.50 to rcv       "
      ]
     },
     "metadata": {},
     "output_type": "display_data"
    }
   ],
   "source": [
    "# verify the names have been applied\n",
    "head(ham_spam_SMS_messages)"
   ]
  },
  {
   "cell_type": "code",
   "execution_count": null,
   "metadata": {},
   "outputs": [],
   "source": [
    "# We need to reconvert to factors again\n",
    "ham_spam_SMS_messages$Type <- factor(ham_spam_SMS_messages$Type)"
   ]
  },
  {
   "cell_type": "code",
   "execution_count": null,
   "metadata": {},
   "outputs": [],
   "source": [
    "# View the converted field again to ensure the factor levels reflect just ham and spam SMS\n",
    "str(ham_spam_SMS_messages$Type)"
   ]
  },
  {
   "cell_type": "code",
   "execution_count": 31,
   "metadata": {},
   "outputs": [
    {
     "data": {
      "text/plain": [
       "\n",
       " ham spam \n",
       "4827  747 "
      ]
     },
     "metadata": {},
     "output_type": "display_data"
    }
   ],
   "source": [
    "table(ham_spam_SMS_messages$Type)"
   ]
  },
  {
   "cell_type": "markdown",
   "metadata": {},
   "source": [
    "## Data cleaning and standardization of text data"
   ]
  },
  {
   "cell_type": "code",
   "execution_count": 32,
   "metadata": {},
   "outputs": [
    {
     "name": "stderr",
     "output_type": "stream",
     "text": [
      "Warning message:\n",
      "\"package 'tm' was built under R version 3.5.3\"Loading required package: NLP\n",
      "Warning message:\n",
      "\"package 'NLP' was built under R version 3.5.2\""
     ]
    }
   ],
   "source": [
    "# Create a corpus for the SMS text field\n",
    "library(tm)\n",
    "ham_spam_SMS_messages_corpus <- VCorpus(VectorSource(ham_spam_SMS_messages$Text))"
   ]
  },
  {
   "cell_type": "code",
   "execution_count": 33,
   "metadata": {},
   "outputs": [
    {
     "data": {
      "text/plain": [
       "<<VCorpus>>\n",
       "Metadata:  corpus specific: 0, document level (indexed): 0\n",
       "Content:  documents: 5574"
      ]
     },
     "metadata": {},
     "output_type": "display_data"
    }
   ],
   "source": [
    "ham_spam_SMS_messages_corpus"
   ]
  },
  {
   "cell_type": "code",
   "execution_count": 34,
   "metadata": {},
   "outputs": [
    {
     "name": "stdout",
     "output_type": "stream",
     "text": [
      "<<VCorpus>>\n",
      "Metadata:  corpus specific: 0, document level (indexed): 0\n",
      "Content:  documents: 3\n",
      "\n",
      "[[1]]\n",
      "<<PlainTextDocument>>\n",
      "Metadata:  7\n",
      "Content:  chars: 111\n",
      "\n",
      "[[2]]\n",
      "<<PlainTextDocument>>\n",
      "Metadata:  7\n",
      "Content:  chars: 29\n",
      "\n",
      "[[3]]\n",
      "<<PlainTextDocument>>\n",
      "Metadata:  7\n",
      "Content:  chars: 155\n",
      "\n"
     ]
    }
   ],
   "source": [
    "# to see a brief summary of the corpus\n",
    "inspect(ham_spam_SMS_messages_corpus[1:3])"
   ]
  },
  {
   "cell_type": "code",
   "execution_count": 35,
   "metadata": {},
   "outputs": [
    {
     "data": {
      "text/plain": [
       "<<VCorpus>>\n",
       "Metadata:  corpus specific: 0, document level (indexed): 0\n",
       "Content:  documents: 6"
      ]
     },
     "metadata": {},
     "output_type": "display_data"
    }
   ],
   "source": [
    "# to view a corpus, the traditional head() would not yeild the desired output\n",
    "head(ham_spam_SMS_messages_corpus)"
   ]
  },
  {
   "cell_type": "code",
   "execution_count": 37,
   "metadata": {},
   "outputs": [
    {
     "data": {
      "text/html": [
       "'Ok lar... Joking wif u oni...'"
      ],
      "text/latex": [
       "'Ok lar... Joking wif u oni...'"
      ],
      "text/markdown": [
       "'Ok lar... Joking wif u oni...'"
      ],
      "text/plain": [
       "[1] \"Ok lar... Joking wif u oni...\""
      ]
     },
     "metadata": {},
     "output_type": "display_data"
    }
   ],
   "source": [
    "# we use a special function to do this.\n",
    "as.character(ham_spam_SMS_messages_corpus[[2]])"
   ]
  },
  {
   "cell_type": "code",
   "execution_count": 38,
   "metadata": {},
   "outputs": [
    {
     "data": {
      "text/html": [
       "<dl>\n",
       "\t<dt>$`1`</dt>\n",
       "\t\t<dd>'Go until jurong point, crazy.. Available only in bugis n great world la e buffet... Cine there got amore wat...'</dd>\n",
       "\t<dt>$`2`</dt>\n",
       "\t\t<dd>'Ok lar... Joking wif u oni...'</dd>\n",
       "\t<dt>$`3`</dt>\n",
       "\t\t<dd>'Free entry in 2 a wkly comp to win FA Cup final tkts 21st May 2005. Text FA to 87121 to receive entry question(std txt rate)T&amp;C\\'s apply 08452810075over18\\'s'</dd>\n",
       "\t<dt>$`4`</dt>\n",
       "\t\t<dd>'U dun say so early hor... U c already then say...'</dd>\n",
       "\t<dt>$`5`</dt>\n",
       "\t\t<dd>'Nah I don\\'t think he goes to usf, he lives around here though'</dd>\n",
       "</dl>\n"
      ],
      "text/latex": [
       "\\begin{description}\n",
       "\\item[\\$`1`] 'Go until jurong point, crazy.. Available only in bugis n great world la e buffet... Cine there got amore wat...'\n",
       "\\item[\\$`2`] 'Ok lar... Joking wif u oni...'\n",
       "\\item[\\$`3`] 'Free entry in 2 a wkly comp to win FA Cup final tkts 21st May 2005. Text FA to 87121 to receive entry question(std txt rate)T\\&C\\textbackslash{}'s apply 08452810075over18\\textbackslash{}'s'\n",
       "\\item[\\$`4`] 'U dun say so early hor... U c already then say...'\n",
       "\\item[\\$`5`] 'Nah I don\\textbackslash{}'t think he goes to usf, he lives around here though'\n",
       "\\end{description}\n"
      ],
      "text/markdown": [
       "$`1`\n",
       ":   'Go until jurong point, crazy.. Available only in bugis n great world la e buffet... Cine there got amore wat...'\n",
       "$`2`\n",
       ":   'Ok lar... Joking wif u oni...'\n",
       "$`3`\n",
       ":   'Free entry in 2 a wkly comp to win FA Cup final tkts 21st May 2005. Text FA to 87121 to receive entry question(std txt rate)T&amp;C\\'s apply 08452810075over18\\'s'\n",
       "$`4`\n",
       ":   'U dun say so early hor... U c already then say...'\n",
       "$`5`\n",
       ":   'Nah I don\\'t think he goes to usf, he lives around here though'\n",
       "\n",
       "\n"
      ],
      "text/plain": [
       "$`1`\n",
       "[1] \"Go until jurong point, crazy.. Available only in bugis n great world la e buffet... Cine there got amore wat...\"\n",
       "\n",
       "$`2`\n",
       "[1] \"Ok lar... Joking wif u oni...\"\n",
       "\n",
       "$`3`\n",
       "[1] \"Free entry in 2 a wkly comp to win FA Cup final tkts 21st May 2005. Text FA to 87121 to receive entry question(std txt rate)T&C's apply 08452810075over18's\"\n",
       "\n",
       "$`4`\n",
       "[1] \"U dun say so early hor... U c already then say...\"\n",
       "\n",
       "$`5`\n",
       "[1] \"Nah I don't think he goes to usf, he lives around here though\"\n"
      ]
     },
     "metadata": {},
     "output_type": "display_data"
    }
   ],
   "source": [
    "# to view the first 5 sms messages, we would use the lappy function\n",
    "lapply(ham_spam_SMS_messages_corpus[1:5], as.character)"
   ]
  },
  {
   "cell_type": "code",
   "execution_count": 39,
   "metadata": {},
   "outputs": [],
   "source": [
    "# As part of the data preparation phase, we convert all the text data to lower case(standardize)\n",
    "ham_spam_SMS_corpus_clean <- tm_map(ham_spam_SMS_messages_corpus, content_transformer(tolower))"
   ]
  },
  {
   "cell_type": "code",
   "execution_count": 41,
   "metadata": {},
   "outputs": [
    {
     "data": {
      "text/html": [
       "<dl>\n",
       "\t<dt>$`1`</dt>\n",
       "\t\t<dd>'go until jurong point, crazy.. available only in bugis n great world la e buffet... cine there got amore wat...'</dd>\n",
       "\t<dt>$`2`</dt>\n",
       "\t\t<dd>'ok lar... joking wif u oni...'</dd>\n",
       "\t<dt>$`3`</dt>\n",
       "\t\t<dd>'free entry in 2 a wkly comp to win fa cup final tkts 21st may 2005. text fa to 87121 to receive entry question(std txt rate)t&amp;c\\'s apply 08452810075over18\\'s'</dd>\n",
       "\t<dt>$`4`</dt>\n",
       "\t\t<dd>'u dun say so early hor... u c already then say...'</dd>\n",
       "\t<dt>$`5`</dt>\n",
       "\t\t<dd>'nah i don\\'t think he goes to usf, he lives around here though'</dd>\n",
       "</dl>\n"
      ],
      "text/latex": [
       "\\begin{description}\n",
       "\\item[\\$`1`] 'go until jurong point, crazy.. available only in bugis n great world la e buffet... cine there got amore wat...'\n",
       "\\item[\\$`2`] 'ok lar... joking wif u oni...'\n",
       "\\item[\\$`3`] 'free entry in 2 a wkly comp to win fa cup final tkts 21st may 2005. text fa to 87121 to receive entry question(std txt rate)t\\&c\\textbackslash{}'s apply 08452810075over18\\textbackslash{}'s'\n",
       "\\item[\\$`4`] 'u dun say so early hor... u c already then say...'\n",
       "\\item[\\$`5`] 'nah i don\\textbackslash{}'t think he goes to usf, he lives around here though'\n",
       "\\end{description}\n"
      ],
      "text/markdown": [
       "$`1`\n",
       ":   'go until jurong point, crazy.. available only in bugis n great world la e buffet... cine there got amore wat...'\n",
       "$`2`\n",
       ":   'ok lar... joking wif u oni...'\n",
       "$`3`\n",
       ":   'free entry in 2 a wkly comp to win fa cup final tkts 21st may 2005. text fa to 87121 to receive entry question(std txt rate)t&amp;c\\'s apply 08452810075over18\\'s'\n",
       "$`4`\n",
       ":   'u dun say so early hor... u c already then say...'\n",
       "$`5`\n",
       ":   'nah i don\\'t think he goes to usf, he lives around here though'\n",
       "\n",
       "\n"
      ],
      "text/plain": [
       "$`1`\n",
       "[1] \"go until jurong point, crazy.. available only in bugis n great world la e buffet... cine there got amore wat...\"\n",
       "\n",
       "$`2`\n",
       "[1] \"ok lar... joking wif u oni...\"\n",
       "\n",
       "$`3`\n",
       "[1] \"free entry in 2 a wkly comp to win fa cup final tkts 21st may 2005. text fa to 87121 to receive entry question(std txt rate)t&c's apply 08452810075over18's\"\n",
       "\n",
       "$`4`\n",
       "[1] \"u dun say so early hor... u c already then say...\"\n",
       "\n",
       "$`5`\n",
       "[1] \"nah i don't think he goes to usf, he lives around here though\"\n"
      ]
     },
     "metadata": {},
     "output_type": "display_data"
    }
   ],
   "source": [
    "lapply(ham_spam_SMS_corpus_clean[1:5], as.character)"
   ]
  },
  {
   "cell_type": "code",
   "execution_count": 43,
   "metadata": {},
   "outputs": [],
   "source": [
    "ham_spam_SMS_corpus_clean <- tm_map(ham_spam_SMS_corpus_clean, removeNumbers) # remove numbers\n",
    "ham_spam_SMS_corpus_clean <- tm_map(ham_spam_SMS_corpus_clean, removeWords, stopwords()) # remove stop words\n",
    "ham_spam_SMS_corpus_clean <- tm_map(ham_spam_SMS_corpus_clean, removePunctuation) # remove punctuation"
   ]
  },
  {
   "cell_type": "code",
   "execution_count": null,
   "metadata": {},
   "outputs": [],
   "source": [
    "library(SnowballC)\n",
    "ham_spam_SMS_corpus_clean <- tm_map(ham_spam_SMS_corpus_clean, stemDocument) # stem the words\n",
    "ham_spam_SMS_corpus_clean <- tm_map(ham_spam_SMS_corpus_clean, stripWhitespace) # remove white spaces"
   ]
  },
  {
   "cell_type": "code",
   "execution_count": 45,
   "metadata": {},
   "outputs": [
    {
     "data": {
      "text/html": [
       "<strong>$`1`</strong> = 'am go to footbal today'"
      ],
      "text/latex": [
       "\\textbf{\\$`1`} = 'am go to footbal today'"
      ],
      "text/markdown": [
       "**$`1`** = 'am go to footbal today'"
      ],
      "text/plain": [
       "$`1`\n",
       "[1] \"am go to footbal today\"\n"
      ]
     },
     "metadata": {},
     "output_type": "display_data"
    }
   ],
   "source": [
    "tex = \"am going to footballing today's\"\n",
    "texv2 = VCorpus(VectorSource(tex))\n",
    "test = tm_map(texv2, stemDocument)\n",
    "lapply(test,as.character)"
   ]
  },
  {
   "cell_type": "markdown",
   "metadata": {},
   "source": [
    "**Document Term Matrix (DTM)**<br>This is a data structure in which rows indicate documents (SMS messages) and columns indicate terms (words)."
   ]
  },
  {
   "cell_type": "markdown",
   "metadata": {},
   "source": [
    "**Term Document Matrix (TDM)**<br>This is simply the transpose of DTM in which the rows are terms and the columns are documents and is ideal for cases were the number of documents is small while the word list is large."
   ]
  },
  {
   "cell_type": "code",
   "execution_count": 46,
   "metadata": {},
   "outputs": [],
   "source": [
    "# Create the DTM \n",
    "ham_spam_SMS_corpus_dtm <- DocumentTermMatrix(ham_spam_SMS_corpus_clean)"
   ]
  },
  {
   "cell_type": "code",
   "execution_count": 47,
   "metadata": {},
   "outputs": [
    {
     "data": {
      "text/plain": [
       "<<DocumentTermMatrix (documents: 5574, terms: 7983)>>\n",
       "Non-/sparse entries: 43163/44454079\n",
       "Sparsity           : 100%\n",
       "Maximal term length: 40\n",
       "Weighting          : term frequency (tf)"
      ]
     },
     "metadata": {},
     "output_type": "display_data"
    }
   ],
   "source": [
    "ham_spam_SMS_corpus_dtm"
   ]
  },
  {
   "cell_type": "code",
   "execution_count": 48,
   "metadata": {},
   "outputs": [
    {
     "data": {
      "text/html": [
       "<table>\n",
       "<thead><tr><th></th><th scope=col>â‘morrow</th><th scope=col>â‘rents</th><th scope=col>â“harry</th><th scope=col>â£â£</th><th scope=col>â£award</th><th scope=col>â£call</th><th scope=col>â£ea</th><th scope=col>â£k</th><th scope=col>â£million</th><th scope=col>â£minmobsmorelkpoboxhpfl</th><th scope=col>â£month</th><th scope=col>â£morefrmmob</th></tr></thead>\n",
       "<tbody>\n",
       "\t<tr><th scope=row>1</th><td>0</td><td>0</td><td>0</td><td>0</td><td>0</td><td>0</td><td>0</td><td>0</td><td>0</td><td>0</td><td>0</td><td>0</td></tr>\n",
       "\t<tr><th scope=row>2</th><td>0</td><td>0</td><td>0</td><td>0</td><td>0</td><td>0</td><td>0</td><td>0</td><td>0</td><td>0</td><td>0</td><td>0</td></tr>\n",
       "\t<tr><th scope=row>3</th><td>0</td><td>0</td><td>0</td><td>0</td><td>0</td><td>0</td><td>0</td><td>0</td><td>0</td><td>0</td><td>0</td><td>0</td></tr>\n",
       "\t<tr><th scope=row>4</th><td>0</td><td>0</td><td>0</td><td>0</td><td>0</td><td>0</td><td>0</td><td>0</td><td>0</td><td>0</td><td>0</td><td>0</td></tr>\n",
       "\t<tr><th scope=row>5</th><td>0</td><td>0</td><td>0</td><td>0</td><td>0</td><td>0</td><td>0</td><td>0</td><td>0</td><td>0</td><td>0</td><td>0</td></tr>\n",
       "\t<tr><th scope=row>6</th><td>0</td><td>0</td><td>0</td><td>0</td><td>0</td><td>0</td><td>0</td><td>0</td><td>0</td><td>0</td><td>0</td><td>0</td></tr>\n",
       "\t<tr><th scope=row>7</th><td>0</td><td>0</td><td>0</td><td>0</td><td>0</td><td>0</td><td>0</td><td>0</td><td>0</td><td>0</td><td>0</td><td>0</td></tr>\n",
       "\t<tr><th scope=row>8</th><td>0</td><td>0</td><td>0</td><td>0</td><td>0</td><td>0</td><td>0</td><td>0</td><td>0</td><td>0</td><td>0</td><td>0</td></tr>\n",
       "\t<tr><th scope=row>9</th><td>0</td><td>0</td><td>0</td><td>0</td><td>0</td><td>0</td><td>0</td><td>0</td><td>0</td><td>0</td><td>0</td><td>0</td></tr>\n",
       "\t<tr><th scope=row>10</th><td>0</td><td>0</td><td>0</td><td>0</td><td>0</td><td>0</td><td>0</td><td>0</td><td>0</td><td>0</td><td>0</td><td>0</td></tr>\n",
       "</tbody>\n",
       "</table>\n"
      ],
      "text/latex": [
       "\\begin{tabular}{r|llllllllllll}\n",
       "  & â‘morrow & â‘rents & â“harry & â£â£ & â£award & â£call & â£ea & â£k & â£million & â£minmobsmorelkpoboxhpfl & â£month & â£morefrmmob\\\\\n",
       "\\hline\n",
       "\t1 & 0 & 0 & 0 & 0 & 0 & 0 & 0 & 0 & 0 & 0 & 0 & 0\\\\\n",
       "\t2 & 0 & 0 & 0 & 0 & 0 & 0 & 0 & 0 & 0 & 0 & 0 & 0\\\\\n",
       "\t3 & 0 & 0 & 0 & 0 & 0 & 0 & 0 & 0 & 0 & 0 & 0 & 0\\\\\n",
       "\t4 & 0 & 0 & 0 & 0 & 0 & 0 & 0 & 0 & 0 & 0 & 0 & 0\\\\\n",
       "\t5 & 0 & 0 & 0 & 0 & 0 & 0 & 0 & 0 & 0 & 0 & 0 & 0\\\\\n",
       "\t6 & 0 & 0 & 0 & 0 & 0 & 0 & 0 & 0 & 0 & 0 & 0 & 0\\\\\n",
       "\t7 & 0 & 0 & 0 & 0 & 0 & 0 & 0 & 0 & 0 & 0 & 0 & 0\\\\\n",
       "\t8 & 0 & 0 & 0 & 0 & 0 & 0 & 0 & 0 & 0 & 0 & 0 & 0\\\\\n",
       "\t9 & 0 & 0 & 0 & 0 & 0 & 0 & 0 & 0 & 0 & 0 & 0 & 0\\\\\n",
       "\t10 & 0 & 0 & 0 & 0 & 0 & 0 & 0 & 0 & 0 & 0 & 0 & 0\\\\\n",
       "\\end{tabular}\n"
      ],
      "text/markdown": [
       "\n",
       "| <!--/--> | â‘morrow | â‘rents | â“harry | â£â£ | â£award | â£call | â£ea | â£k | â£million | â£minmobsmorelkpoboxhpfl | â£month | â£morefrmmob | \n",
       "|---|---|---|---|---|---|---|---|---|---|\n",
       "| 1 | 0 | 0 | 0 | 0 | 0 | 0 | 0 | 0 | 0 | 0 | 0 | 0 | \n",
       "| 2 | 0 | 0 | 0 | 0 | 0 | 0 | 0 | 0 | 0 | 0 | 0 | 0 | \n",
       "| 3 | 0 | 0 | 0 | 0 | 0 | 0 | 0 | 0 | 0 | 0 | 0 | 0 | \n",
       "| 4 | 0 | 0 | 0 | 0 | 0 | 0 | 0 | 0 | 0 | 0 | 0 | 0 | \n",
       "| 5 | 0 | 0 | 0 | 0 | 0 | 0 | 0 | 0 | 0 | 0 | 0 | 0 | \n",
       "| 6 | 0 | 0 | 0 | 0 | 0 | 0 | 0 | 0 | 0 | 0 | 0 | 0 | \n",
       "| 7 | 0 | 0 | 0 | 0 | 0 | 0 | 0 | 0 | 0 | 0 | 0 | 0 | \n",
       "| 8 | 0 | 0 | 0 | 0 | 0 | 0 | 0 | 0 | 0 | 0 | 0 | 0 | \n",
       "| 9 | 0 | 0 | 0 | 0 | 0 | 0 | 0 | 0 | 0 | 0 | 0 | 0 | \n",
       "| 10 | 0 | 0 | 0 | 0 | 0 | 0 | 0 | 0 | 0 | 0 | 0 | 0 | \n",
       "\n",
       "\n"
      ],
      "text/plain": [
       "    Terms\n",
       "Docs â‘morrow â‘rents â“harry â£â£ â£award â£call â£ea â£k â£million\n",
       "  1  0        0       0       0    0       0      0    0   0        \n",
       "  2  0        0       0       0    0       0      0    0   0        \n",
       "  3  0        0       0       0    0       0      0    0   0        \n",
       "  4  0        0       0       0    0       0      0    0   0        \n",
       "  5  0        0       0       0    0       0      0    0   0        \n",
       "  6  0        0       0       0    0       0      0    0   0        \n",
       "  7  0        0       0       0    0       0      0    0   0        \n",
       "  8  0        0       0       0    0       0      0    0   0        \n",
       "  9  0        0       0       0    0       0      0    0   0        \n",
       "  10 0        0       0       0    0       0      0    0   0        \n",
       "    Terms\n",
       "Docs â£minmobsmorelkpoboxhpfl â£month â£morefrmmob\n",
       "  1  0                        0       0           \n",
       "  2  0                        0       0           \n",
       "  3  0                        0       0           \n",
       "  4  0                        0       0           \n",
       "  5  0                        0       0           \n",
       "  6  0                        0       0           \n",
       "  7  0                        0       0           \n",
       "  8  0                        0       0           \n",
       "  9  0                        0       0           \n",
       "  10 0                        0       0           "
      ]
     },
     "metadata": {},
     "output_type": "display_data"
    }
   ],
   "source": [
    "# To view the DTM run the code below\n",
    "ham_spam_SMS_corpus_dtmMatrix <- as.matrix(ham_spam_SMS_corpus_dtm)\n",
    "ham_spam_SMS_corpus_dtmMatrix[1:10, 1:12]"
   ]
  },
  {
   "cell_type": "markdown",
   "metadata": {},
   "source": [
    "#### Split the ham_spam_SMS_corpus_dtm to Train and Test Sets"
   ]
  },
  {
   "cell_type": "code",
   "execution_count": 49,
   "metadata": {},
   "outputs": [],
   "source": [
    "ham_spam_SMS_train <- ham_spam_SMS_corpus_dtm[1:3902, ]\n",
    "ham_spam_SMS_test <- ham_spam_SMS_corpus_dtm[3903:5574, ]"
   ]
  },
  {
   "cell_type": "code",
   "execution_count": 50,
   "metadata": {},
   "outputs": [],
   "source": [
    "ham_spam_SMS_train_labels <- ham_spam_SMS_messages[1:3902, ]$Type\n",
    "ham_spam_SMS_test_labels <- ham_spam_SMS_messages[3903:5574, ]$Type"
   ]
  },
  {
   "cell_type": "code",
   "execution_count": 52,
   "metadata": {},
   "outputs": [],
   "source": [
    "# reduce words occuring less than 5 times\n",
    "sms_freq_words <- findFreqTerms(ham_spam_SMS_train, 5)"
   ]
  },
  {
   "cell_type": "code",
   "execution_count": 53,
   "metadata": {},
   "outputs": [],
   "source": [
    "sms_dtm_freq_train<- ham_spam_SMS_train[ , sms_freq_words]\n",
    "sms_dtm_freq_test <- ham_spam_SMS_test[ , sms_freq_words]"
   ]
  },
  {
   "cell_type": "code",
   "execution_count": 54,
   "metadata": {},
   "outputs": [],
   "source": [
    "convert_counts <- function(x) {\n",
    "x <- ifelse(x > 0, \"Yes\", \"No\")\n",
    "}"
   ]
  },
  {
   "cell_type": "markdown",
   "metadata": {},
   "source": [
    "#### The apply() function below, allows a function to be used on each of the rows or columns  in a matrix/dataframe. It uses a MARGIN parameter to specify either rows or columns to apply the function  on. Here,  we'll use MARGIN = 2, since we're interested in the columns (MARGIN = 1 is used  for rows). "
   ]
  },
  {
   "cell_type": "code",
   "execution_count": 55,
   "metadata": {},
   "outputs": [],
   "source": [
    "sms_train <- apply(sms_dtm_freq_train, MARGIN = 2, convert_counts)\n",
    "sms_test <- apply(sms_dtm_freq_test, MARGIN = 2, convert_counts)"
   ]
  },
  {
   "cell_type": "code",
   "execution_count": 57,
   "metadata": {},
   "outputs": [
    {
     "name": "stderr",
     "output_type": "stream",
     "text": [
      "Warning message:\n",
      "\"package 'e1071' was built under R version 3.5.2\""
     ]
    }
   ],
   "source": [
    "#### Train the model\n",
    "library(e1071)\n",
    "sms_classifier <- naiveBayes(sms_train, ham_spam_SMS_train_labels)\n",
    "# laplace = 1"
   ]
  },
  {
   "cell_type": "markdown",
   "metadata": {},
   "source": [
    "### Evaluating model performance<br>\n",
    "To evaluate the SMS classifier model, we need to test its predictions on unseen messages  in the test data. The predict function is used to make prediction and the result is stored in the sms_test_pred object"
   ]
  },
  {
   "cell_type": "code",
   "execution_count": 58,
   "metadata": {},
   "outputs": [],
   "source": [
    "sms_test_pred <- predict(sms_classifier, sms_test)"
   ]
  },
  {
   "cell_type": "markdown",
   "metadata": {},
   "source": [
    "#### To compare the predictions to the true values, we'll use the CrossTable() function in the gmodels package."
   ]
  },
  {
   "cell_type": "code",
   "execution_count": 59,
   "metadata": {},
   "outputs": [
    {
     "name": "stderr",
     "output_type": "stream",
     "text": [
      "Warning message:\n",
      "\"package 'gmodels' was built under R version 3.5.3\""
     ]
    },
    {
     "name": "stdout",
     "output_type": "stream",
     "text": [
      "\n",
      " \n",
      "   Cell Contents\n",
      "|-------------------------|\n",
      "|                       N |\n",
      "|           N / Row Total |\n",
      "|           N / Col Total |\n",
      "|-------------------------|\n",
      "\n",
      " \n",
      "Total Observations in Table:  1672 \n",
      "\n",
      " \n",
      "             | actual \n",
      "   predicted |       ham |      spam | Row Total | \n",
      "-------------|-----------|-----------|-----------|\n",
      "         ham |      1437 |        28 |      1465 | \n",
      "             |     0.981 |     0.019 |     0.876 | \n",
      "             |     0.995 |     0.123 |           | \n",
      "-------------|-----------|-----------|-----------|\n",
      "        spam |         7 |       200 |       207 | \n",
      "             |     0.034 |     0.966 |     0.124 | \n",
      "             |     0.005 |     0.877 |           | \n",
      "-------------|-----------|-----------|-----------|\n",
      "Column Total |      1444 |       228 |      1672 | \n",
      "             |     0.864 |     0.136 |           | \n",
      "-------------|-----------|-----------|-----------|\n",
      "\n",
      " \n"
     ]
    }
   ],
   "source": [
    "library(gmodels)\n",
    "CrossTable(sms_test_pred, ham_spam_SMS_test_labels, prop.chisq = FALSE, prop.t = FALSE, dnn = c('predicted', 'actual'))"
   ]
  },
  {
   "cell_type": "markdown",
   "metadata": {},
   "source": [
    "Looking at the table, we can see that a total of only 7 + 28 = 35 of the 1,672 SMS messages were incorrectly classified (2.1 percent). Among the errors were 7 out of 1,444 ham messages that were misidentified as spam, and 28 of the 228 spam messages were incorrectly labeled as ham, bringing the overall accuracy of the classifier to approximately 98%"
   ]
  },
  {
   "cell_type": "code",
   "execution_count": null,
   "metadata": {},
   "outputs": [],
   "source": [
    "help(naiveBayes)"
   ]
  },
  {
   "cell_type": "markdown",
   "metadata": {},
   "source": [
    "## Improving model performance"
   ]
  },
  {
   "cell_type": "code",
   "execution_count": null,
   "metadata": {},
   "outputs": [],
   "source": [
    "# laplace = 1,2, or 3 and verify if the model improved\n",
    "sms_classifier2 <- naiveBayes(sms_train, ham_spam_SMS_train_labels, laplace = 1)"
   ]
  },
  {
   "cell_type": "code",
   "execution_count": null,
   "metadata": {},
   "outputs": [],
   "source": [
    "sms_test_pred2 <- predict(sms_classifier2, sms_test)"
   ]
  },
  {
   "cell_type": "code",
   "execution_count": null,
   "metadata": {},
   "outputs": [],
   "source": [
    "CrossTable(sms_test_pred2, ham_spam_SMS_test_labels, prop.chisq = FALSE, prop.t = FALSE, dnn = c('predicted', 'actual'))"
   ]
  },
  {
   "cell_type": "code",
   "execution_count": null,
   "metadata": {},
   "outputs": [],
   "source": []
  }
 ],
 "metadata": {
  "kernelspec": {
   "display_name": "R 3.5",
   "language": "R",
   "name": "ir35"
  },
  "language_info": {
   "codemirror_mode": "r",
   "file_extension": ".r",
   "mimetype": "text/x-r-source",
   "name": "R",
   "pygments_lexer": "r",
   "version": "3.5.1"
  }
 },
 "nbformat": 4,
 "nbformat_minor": 2
}
