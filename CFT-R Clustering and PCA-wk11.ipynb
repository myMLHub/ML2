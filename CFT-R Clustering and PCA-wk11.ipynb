{
 "cells": [
  {
   "cell_type": "markdown",
   "metadata": {},
   "source": [
    "<div class=\"alert alert-warning\"></i><strong>CFT Data Science With R Tutorials</strong><br>By: Seiya David \n",
    " </div>"
   ]
  },
  {
   "cell_type": "markdown",
   "metadata": {},
   "source": [
    "<div class=\"alert alert-success\"></i><strong><center><h1>Clustering</h1></center></strong>\n",
    " </div>\n"
   ]
  },
  {
   "cell_type": "markdown",
   "metadata": {},
   "source": [
    "### K-means"
   ]
  },
  {
   "cell_type": "markdown",
   "metadata": {},
   "source": [
    "Clustering is an unsupervised technique used to discover groups of similar objects close in terms of distance or patterns in a dataset.There are basically two standard clustering techniques: partitioning methods (K-means) and hierarchical clustering. Let us see how these methods are used in R."
   ]
  },
  {
   "cell_type": "markdown",
   "metadata": {},
   "source": [
    "**How K-means work?**\n",
    "> Step 1: Decide the number of clusters (k) and assign k random centers<br>\n",
    "> Step 2: Assign every data point to the closest cluster based on the distance and compute the mean distance and re-assign new center's location<br>\n",
    "> Step 3: Repeat step 2 until stable"
   ]
  },
  {
   "cell_type": "markdown",
   "metadata": {},
   "source": [
    "#### Step 1: Import the data\n",
    "The data used for this analysis is the a dataset collected on protein consumption for 25 European countries.<br>\n",
    "**Note: Change the file path to where your dataset is saved.**"
   ]
  },
  {
   "cell_type": "code",
   "execution_count": 1,
   "metadata": {},
   "outputs": [
    {
     "data": {
      "text/html": [
       "<table>\n",
       "<thead><tr><th scope=col>Country</th><th scope=col>RedMeat</th><th scope=col>WhiteMeat</th><th scope=col>Eggs</th><th scope=col>Milk</th><th scope=col>Fish</th><th scope=col>Cereals</th><th scope=col>Starch</th><th scope=col>Nuts</th><th scope=col>Fr.Veg</th></tr></thead>\n",
       "<tbody>\n",
       "\t<tr><td>Albania       </td><td>10.1          </td><td> 1.4          </td><td>0.5           </td><td> 8.9          </td><td>0.2           </td><td>42.3          </td><td>0.6           </td><td>5.5           </td><td>1.7           </td></tr>\n",
       "\t<tr><td>Austria       </td><td> 8.9          </td><td>14.0          </td><td>4.3           </td><td>19.9          </td><td>2.1           </td><td>28.0          </td><td>3.6           </td><td>1.3           </td><td>4.3           </td></tr>\n",
       "\t<tr><td>Belgium       </td><td>13.5          </td><td> 9.3          </td><td>4.1           </td><td>17.5          </td><td>4.5           </td><td>26.6          </td><td>5.7           </td><td>2.1           </td><td>4.0           </td></tr>\n",
       "\t<tr><td>Bulgaria      </td><td> 7.8          </td><td> 6.0          </td><td>1.6           </td><td> 8.3          </td><td>1.2           </td><td>56.7          </td><td>1.1           </td><td>3.7           </td><td>4.2           </td></tr>\n",
       "\t<tr><td>Czechoslovakia</td><td> 9.7          </td><td>11.4          </td><td>2.8           </td><td>12.5          </td><td>2.0           </td><td>34.3          </td><td>5.0           </td><td>1.1           </td><td>4.0           </td></tr>\n",
       "\t<tr><td>Denmark       </td><td>10.6          </td><td>10.8          </td><td>3.7           </td><td>25.0          </td><td>9.9           </td><td>21.9          </td><td>4.8           </td><td>0.7           </td><td>2.4           </td></tr>\n",
       "</tbody>\n",
       "</table>\n"
      ],
      "text/latex": [
       "\\begin{tabular}{r|llllllllll}\n",
       " Country & RedMeat & WhiteMeat & Eggs & Milk & Fish & Cereals & Starch & Nuts & Fr.Veg\\\\\n",
       "\\hline\n",
       "\t Albania        & 10.1           &  1.4           & 0.5            &  8.9           & 0.2            & 42.3           & 0.6            & 5.5            & 1.7           \\\\\n",
       "\t Austria        &  8.9           & 14.0           & 4.3            & 19.9           & 2.1            & 28.0           & 3.6            & 1.3            & 4.3           \\\\\n",
       "\t Belgium        & 13.5           &  9.3           & 4.1            & 17.5           & 4.5            & 26.6           & 5.7            & 2.1            & 4.0           \\\\\n",
       "\t Bulgaria       &  7.8           &  6.0           & 1.6            &  8.3           & 1.2            & 56.7           & 1.1            & 3.7            & 4.2           \\\\\n",
       "\t Czechoslovakia &  9.7           & 11.4           & 2.8            & 12.5           & 2.0            & 34.3           & 5.0            & 1.1            & 4.0           \\\\\n",
       "\t Denmark        & 10.6           & 10.8           & 3.7            & 25.0           & 9.9            & 21.9           & 4.8            & 0.7            & 2.4           \\\\\n",
       "\\end{tabular}\n"
      ],
      "text/markdown": [
       "\n",
       "Country | RedMeat | WhiteMeat | Eggs | Milk | Fish | Cereals | Starch | Nuts | Fr.Veg | \n",
       "|---|---|---|---|---|---|\n",
       "| Albania        | 10.1           |  1.4           | 0.5            |  8.9           | 0.2            | 42.3           | 0.6            | 5.5            | 1.7            | \n",
       "| Austria        |  8.9           | 14.0           | 4.3            | 19.9           | 2.1            | 28.0           | 3.6            | 1.3            | 4.3            | \n",
       "| Belgium        | 13.5           |  9.3           | 4.1            | 17.5           | 4.5            | 26.6           | 5.7            | 2.1            | 4.0            | \n",
       "| Bulgaria       |  7.8           |  6.0           | 1.6            |  8.3           | 1.2            | 56.7           | 1.1            | 3.7            | 4.2            | \n",
       "| Czechoslovakia |  9.7           | 11.4           | 2.8            | 12.5           | 2.0            | 34.3           | 5.0            | 1.1            | 4.0            | \n",
       "| Denmark        | 10.6           | 10.8           | 3.7            | 25.0           | 9.9            | 21.9           | 4.8            | 0.7            | 2.4            | \n",
       "\n",
       "\n"
      ],
      "text/plain": [
       "  Country        RedMeat WhiteMeat Eggs Milk Fish Cereals Starch Nuts Fr.Veg\n",
       "1 Albania        10.1     1.4      0.5   8.9 0.2  42.3    0.6    5.5  1.7   \n",
       "2 Austria         8.9    14.0      4.3  19.9 2.1  28.0    3.6    1.3  4.3   \n",
       "3 Belgium        13.5     9.3      4.1  17.5 4.5  26.6    5.7    2.1  4.0   \n",
       "4 Bulgaria        7.8     6.0      1.6   8.3 1.2  56.7    1.1    3.7  4.2   \n",
       "5 Czechoslovakia  9.7    11.4      2.8  12.5 2.0  34.3    5.0    1.1  4.0   \n",
       "6 Denmark        10.6    10.8      3.7  25.0 9.9  21.9    4.8    0.7  2.4   "
      ]
     },
     "metadata": {},
     "output_type": "display_data"
    }
   ],
   "source": [
    "# import the dataset\n",
    "eu_protein_DataSet <- read.csv(\"D:\\\\CFT DataScienceHub\\\\Europenaprotein.csv\", header = TRUE)\n",
    "head(eu_protein_DataSet)"
   ]
  },
  {
   "cell_type": "code",
   "execution_count": 2,
   "metadata": {},
   "outputs": [
    {
     "data": {
      "text/html": [
       "<table>\n",
       "<thead><tr><th></th><th scope=col>Country</th><th scope=col>RedMeat</th><th scope=col>WhiteMeat</th><th scope=col>Eggs</th><th scope=col>Milk</th><th scope=col>Fish</th><th scope=col>Cereals</th><th scope=col>Starch</th><th scope=col>Nuts</th><th scope=col>Fr.Veg</th></tr></thead>\n",
       "<tbody>\n",
       "\t<tr><th scope=row>20</th><td>Sweden     </td><td> 9.9       </td><td> 7.8       </td><td>3.5        </td><td>24.7       </td><td>7.5        </td><td>19.5       </td><td>3.7        </td><td>1.4        </td><td>2.0        </td></tr>\n",
       "\t<tr><th scope=row>21</th><td>Switzerland</td><td>13.1       </td><td>10.1       </td><td>3.1        </td><td>23.8       </td><td>2.3        </td><td>25.6       </td><td>2.8        </td><td>2.4        </td><td>4.9        </td></tr>\n",
       "\t<tr><th scope=row>22</th><td>UK         </td><td>17.4       </td><td> 5.7       </td><td>4.7        </td><td>20.6       </td><td>4.3        </td><td>24.3       </td><td>4.7        </td><td>3.4        </td><td>3.3        </td></tr>\n",
       "\t<tr><th scope=row>23</th><td>USSR       </td><td> 9.3       </td><td> 4.6       </td><td>2.1        </td><td>16.6       </td><td>3.0        </td><td>43.6       </td><td>6.4        </td><td>3.4        </td><td>2.9        </td></tr>\n",
       "\t<tr><th scope=row>24</th><td>W Germany  </td><td>11.4       </td><td>12.5       </td><td>4.1        </td><td>18.8       </td><td>3.4        </td><td>18.6       </td><td>5.2        </td><td>1.5        </td><td>3.8        </td></tr>\n",
       "\t<tr><th scope=row>25</th><td>Yugoslavia </td><td> 4.4       </td><td> 5.0       </td><td>1.2        </td><td> 9.5       </td><td>0.6        </td><td>55.9       </td><td>3.0        </td><td>5.7        </td><td>3.2        </td></tr>\n",
       "</tbody>\n",
       "</table>\n"
      ],
      "text/latex": [
       "\\begin{tabular}{r|llllllllll}\n",
       "  & Country & RedMeat & WhiteMeat & Eggs & Milk & Fish & Cereals & Starch & Nuts & Fr.Veg\\\\\n",
       "\\hline\n",
       "\t20 & Sweden      &  9.9        &  7.8        & 3.5         & 24.7        & 7.5         & 19.5        & 3.7         & 1.4         & 2.0        \\\\\n",
       "\t21 & Switzerland & 13.1        & 10.1        & 3.1         & 23.8        & 2.3         & 25.6        & 2.8         & 2.4         & 4.9        \\\\\n",
       "\t22 & UK          & 17.4        &  5.7        & 4.7         & 20.6        & 4.3         & 24.3        & 4.7         & 3.4         & 3.3        \\\\\n",
       "\t23 & USSR        &  9.3        &  4.6        & 2.1         & 16.6        & 3.0         & 43.6        & 6.4         & 3.4         & 2.9        \\\\\n",
       "\t24 & W Germany   & 11.4        & 12.5        & 4.1         & 18.8        & 3.4         & 18.6        & 5.2         & 1.5         & 3.8        \\\\\n",
       "\t25 & Yugoslavia  &  4.4        &  5.0        & 1.2         &  9.5        & 0.6         & 55.9        & 3.0         & 5.7         & 3.2        \\\\\n",
       "\\end{tabular}\n"
      ],
      "text/markdown": [
       "\n",
       "| <!--/--> | Country | RedMeat | WhiteMeat | Eggs | Milk | Fish | Cereals | Starch | Nuts | Fr.Veg | \n",
       "|---|---|---|---|---|---|\n",
       "| 20 | Sweden      |  9.9        |  7.8        | 3.5         | 24.7        | 7.5         | 19.5        | 3.7         | 1.4         | 2.0         | \n",
       "| 21 | Switzerland | 13.1        | 10.1        | 3.1         | 23.8        | 2.3         | 25.6        | 2.8         | 2.4         | 4.9         | \n",
       "| 22 | UK          | 17.4        |  5.7        | 4.7         | 20.6        | 4.3         | 24.3        | 4.7         | 3.4         | 3.3         | \n",
       "| 23 | USSR        |  9.3        |  4.6        | 2.1         | 16.6        | 3.0         | 43.6        | 6.4         | 3.4         | 2.9         | \n",
       "| 24 | W Germany   | 11.4        | 12.5        | 4.1         | 18.8        | 3.4         | 18.6        | 5.2         | 1.5         | 3.8         | \n",
       "| 25 | Yugoslavia  |  4.4        |  5.0        | 1.2         |  9.5        | 0.6         | 55.9        | 3.0         | 5.7         | 3.2         | \n",
       "\n",
       "\n"
      ],
      "text/plain": [
       "   Country     RedMeat WhiteMeat Eggs Milk Fish Cereals Starch Nuts Fr.Veg\n",
       "20 Sweden       9.9     7.8      3.5  24.7 7.5  19.5    3.7    1.4  2.0   \n",
       "21 Switzerland 13.1    10.1      3.1  23.8 2.3  25.6    2.8    2.4  4.9   \n",
       "22 UK          17.4     5.7      4.7  20.6 4.3  24.3    4.7    3.4  3.3   \n",
       "23 USSR         9.3     4.6      2.1  16.6 3.0  43.6    6.4    3.4  2.9   \n",
       "24 W Germany   11.4    12.5      4.1  18.8 3.4  18.6    5.2    1.5  3.8   \n",
       "25 Yugoslavia   4.4     5.0      1.2   9.5 0.6  55.9    3.0    5.7  3.2   "
      ]
     },
     "metadata": {},
     "output_type": "display_data"
    }
   ],
   "source": [
    "tail(eu_protein_DataSet)"
   ]
  },
  {
   "cell_type": "code",
   "execution_count": 3,
   "metadata": {},
   "outputs": [
    {
     "data": {
      "text/html": [
       "<ol class=list-inline>\n",
       "\t<li>'Country'</li>\n",
       "\t<li>'RedMeat'</li>\n",
       "\t<li>'WhiteMeat'</li>\n",
       "\t<li>'Eggs'</li>\n",
       "\t<li>'Milk'</li>\n",
       "\t<li>'Fish'</li>\n",
       "\t<li>'Cereals'</li>\n",
       "\t<li>'Starch'</li>\n",
       "\t<li>'Nuts'</li>\n",
       "\t<li>'Fr.Veg'</li>\n",
       "</ol>\n"
      ],
      "text/latex": [
       "\\begin{enumerate*}\n",
       "\\item 'Country'\n",
       "\\item 'RedMeat'\n",
       "\\item 'WhiteMeat'\n",
       "\\item 'Eggs'\n",
       "\\item 'Milk'\n",
       "\\item 'Fish'\n",
       "\\item 'Cereals'\n",
       "\\item 'Starch'\n",
       "\\item 'Nuts'\n",
       "\\item 'Fr.Veg'\n",
       "\\end{enumerate*}\n"
      ],
      "text/markdown": [
       "1. 'Country'\n",
       "2. 'RedMeat'\n",
       "3. 'WhiteMeat'\n",
       "4. 'Eggs'\n",
       "5. 'Milk'\n",
       "6. 'Fish'\n",
       "7. 'Cereals'\n",
       "8. 'Starch'\n",
       "9. 'Nuts'\n",
       "10. 'Fr.Veg'\n",
       "\n",
       "\n"
      ],
      "text/plain": [
       " [1] \"Country\"   \"RedMeat\"   \"WhiteMeat\" \"Eggs\"      \"Milk\"      \"Fish\"     \n",
       " [7] \"Cereals\"   \"Starch\"    \"Nuts\"      \"Fr.Veg\"   "
      ]
     },
     "metadata": {},
     "output_type": "display_data"
    }
   ],
   "source": [
    "# display column headers\n",
    "colnames(eu_protein_DataSet)"
   ]
  },
  {
   "cell_type": "markdown",
   "metadata": {},
   "source": [
    "**Note:**\n",
    ">The dataset has a field with non-numeric(Country) values, this will be excluded from the dataset that would be fed into to the model."
   ]
  },
  {
   "cell_type": "markdown",
   "metadata": {},
   "source": [
    "#### Step 2: Remove all non-numeric features and scale."
   ]
  },
  {
   "cell_type": "code",
   "execution_count": 4,
   "metadata": {},
   "outputs": [
    {
     "data": {
      "text/html": [
       "<table>\n",
       "<thead><tr><th scope=col>RedMeat</th><th scope=col>WhiteMeat</th><th scope=col>Eggs</th><th scope=col>Milk</th><th scope=col>Fish</th><th scope=col>Cereals</th><th scope=col>Starch</th><th scope=col>Nuts</th><th scope=col>Fr.Veg</th></tr></thead>\n",
       "<tbody>\n",
       "\t<tr><td> 0.08126490</td><td>-1.7584889 </td><td>-2.1796385 </td><td>-1.15573814</td><td>-1.20028213</td><td> 0.9159176 </td><td>-2.2495772 </td><td> 1.2227536 </td><td>-1.35040507</td></tr>\n",
       "\t<tr><td>-0.27725673</td><td> 1.6523731 </td><td> 1.2204544 </td><td> 0.39237676</td><td>-0.64187467</td><td>-0.3870690 </td><td>-0.4136872 </td><td>-0.8923886 </td><td> 0.09091397</td></tr>\n",
       "\t<tr><td> 1.09707621</td><td> 0.3800675 </td><td> 1.0415022 </td><td> 0.05460623</td><td> 0.06348211</td><td>-0.5146342 </td><td> 0.8714358 </td><td>-0.4895043 </td><td>-0.07539207</td></tr>\n",
       "\t<tr><td>-0.60590157</td><td>-0.5132535 </td><td>-1.1954011 </td><td>-1.24018077</td><td>-0.90638347</td><td> 2.2280161 </td><td>-1.9435955 </td><td> 0.3162641 </td><td> 0.03547862</td></tr>\n",
       "\t<tr><td>-0.03824231</td><td> 0.9485445 </td><td>-0.1216875 </td><td>-0.64908235</td><td>-0.67126454</td><td> 0.1869740 </td><td> 0.4430614 </td><td>-0.9931096 </td><td>-0.07539207</td></tr>\n",
       "\t<tr><td> 0.23064892</td><td> 0.7861225 </td><td> 0.6835976 </td><td> 1.11013912</td><td> 1.65053488</td><td>-0.9428885 </td><td> 0.3206688 </td><td>-1.1945517 </td><td>-0.96235764</td></tr>\n",
       "</tbody>\n",
       "</table>\n"
      ],
      "text/latex": [
       "\\begin{tabular}{r|lllllllll}\n",
       " RedMeat & WhiteMeat & Eggs & Milk & Fish & Cereals & Starch & Nuts & Fr.Veg\\\\\n",
       "\\hline\n",
       "\t  0.08126490 & -1.7584889  & -2.1796385  & -1.15573814 & -1.20028213 &  0.9159176  & -2.2495772  &  1.2227536  & -1.35040507\\\\\n",
       "\t -0.27725673 &  1.6523731  &  1.2204544  &  0.39237676 & -0.64187467 & -0.3870690  & -0.4136872  & -0.8923886  &  0.09091397\\\\\n",
       "\t  1.09707621 &  0.3800675  &  1.0415022  &  0.05460623 &  0.06348211 & -0.5146342  &  0.8714358  & -0.4895043  & -0.07539207\\\\\n",
       "\t -0.60590157 & -0.5132535  & -1.1954011  & -1.24018077 & -0.90638347 &  2.2280161  & -1.9435955  &  0.3162641  &  0.03547862\\\\\n",
       "\t -0.03824231 &  0.9485445  & -0.1216875  & -0.64908235 & -0.67126454 &  0.1869740  &  0.4430614  & -0.9931096  & -0.07539207\\\\\n",
       "\t  0.23064892 &  0.7861225  &  0.6835976  &  1.11013912 &  1.65053488 & -0.9428885  &  0.3206688  & -1.1945517  & -0.96235764\\\\\n",
       "\\end{tabular}\n"
      ],
      "text/markdown": [
       "\n",
       "RedMeat | WhiteMeat | Eggs | Milk | Fish | Cereals | Starch | Nuts | Fr.Veg | \n",
       "|---|---|---|---|---|---|\n",
       "|  0.08126490 | -1.7584889  | -2.1796385  | -1.15573814 | -1.20028213 |  0.9159176  | -2.2495772  |  1.2227536  | -1.35040507 | \n",
       "| -0.27725673 |  1.6523731  |  1.2204544  |  0.39237676 | -0.64187467 | -0.3870690  | -0.4136872  | -0.8923886  |  0.09091397 | \n",
       "|  1.09707621 |  0.3800675  |  1.0415022  |  0.05460623 |  0.06348211 | -0.5146342  |  0.8714358  | -0.4895043  | -0.07539207 | \n",
       "| -0.60590157 | -0.5132535  | -1.1954011  | -1.24018077 | -0.90638347 |  2.2280161  | -1.9435955  |  0.3162641  |  0.03547862 | \n",
       "| -0.03824231 |  0.9485445  | -0.1216875  | -0.64908235 | -0.67126454 |  0.1869740  |  0.4430614  | -0.9931096  | -0.07539207 | \n",
       "|  0.23064892 |  0.7861225  |  0.6835976  |  1.11013912 |  1.65053488 | -0.9428885  |  0.3206688  | -1.1945517  | -0.96235764 | \n",
       "\n",
       "\n"
      ],
      "text/plain": [
       "  RedMeat     WhiteMeat  Eggs       Milk        Fish        Cereals   \n",
       "1  0.08126490 -1.7584889 -2.1796385 -1.15573814 -1.20028213  0.9159176\n",
       "2 -0.27725673  1.6523731  1.2204544  0.39237676 -0.64187467 -0.3870690\n",
       "3  1.09707621  0.3800675  1.0415022  0.05460623  0.06348211 -0.5146342\n",
       "4 -0.60590157 -0.5132535 -1.1954011 -1.24018077 -0.90638347  2.2280161\n",
       "5 -0.03824231  0.9485445 -0.1216875 -0.64908235 -0.67126454  0.1869740\n",
       "6  0.23064892  0.7861225  0.6835976  1.11013912  1.65053488 -0.9428885\n",
       "  Starch     Nuts       Fr.Veg     \n",
       "1 -2.2495772  1.2227536 -1.35040507\n",
       "2 -0.4136872 -0.8923886  0.09091397\n",
       "3  0.8714358 -0.4895043 -0.07539207\n",
       "4 -1.9435955  0.3162641  0.03547862\n",
       "5  0.4430614 -0.9931096 -0.07539207\n",
       "6  0.3206688 -1.1945517 -0.96235764"
      ]
     },
     "metadata": {},
     "output_type": "display_data"
    }
   ],
   "source": [
    "# remove the Country field, scale and then convert back to data frame\n",
    "# Note: conversion of dataset to scale requires re-converting that scaled dataset back to data frame\n",
    "eu_protein_DataSet0 <- as.data.frame(scale(eu_protein_DataSet[, -1]))\n",
    "\n",
    "# view the dataset\n",
    "head(eu_protein_DataSet0)"
   ]
  },
  {
   "cell_type": "markdown",
   "metadata": {},
   "source": [
    "#### Step 3: Assessing clustering tendency"
   ]
  },
  {
   "cell_type": "markdown",
   "metadata": {},
   "source": [
    "It is very important to check if a dataset does have clustering tendency so we don't waste our time and effort. We can check for this property by accessing a special type of visualization method."
   ]
  },
  {
   "cell_type": "code",
   "execution_count": 5,
   "metadata": {},
   "outputs": [
    {
     "name": "stderr",
     "output_type": "stream",
     "text": [
      "Warning message:\n",
      "\"package 'seriation' was built under R version 3.5.3\""
     ]
    },
    {
     "data": {
      "image/png": "[encoded data removed]",
      "text/plain": [
       "plot without title"
      ]
     },
     "metadata": {},
     "output_type": "display_data"
    }
   ],
   "source": [
    "# To use the \"seriation\" library ensure it is installed already. if not installed\n",
    "# un-comment and run:\n",
    "# install.packages(\"seriation\")\n",
    "\n",
    "# load the seriation package, this packages is required for ploting a dissplot\n",
    "# which aid in identifying if a dataset does have clustering tendency\n",
    "library(seriation)\n",
    "\n",
    "# compute the distance matrix\n",
    "df <- dist(eu_protein_DataSet[,-1])\n",
    "\n",
    "# plot the clustering tendency\n",
    "dissplot(df ,main = \"Clustering Tendency plot\")\n",
    "\n",
    "# Plot Analysis: Take a careful look at the plot below, do you see any parttern?\n",
    "# For me, I see some clear dark block on the bottom right of the plot as well as near the top left.\n",
    "# This implies there is a clustering tendency, we can continue to use the K-mean. \n",
    "# Note: If no parttern(s) was spotted the data set would said to have NO clustering tendency. "
   ]
  },
  {
   "cell_type": "code",
   "execution_count": 6,
   "metadata": {},
   "outputs": [
    {
     "name": "stderr",
     "output_type": "stream",
     "text": [
      "Warning message:\n",
      "\"package 'factoextra' was built under R version 3.5.3\"Loading required package: ggplot2\n",
      "Warning message:\n",
      "\"package 'ggplot2' was built under R version 3.5.2\"Welcome! Related Books: `Practical Guide To Cluster Analysis in R` at https://goo.gl/13EFCZ\n"
     ]
    },
    {
     "data": {},
     "metadata": {},
     "output_type": "display_data"
    },
    {
     "data": {
      "image/png": "[encoded data removed]",
      "text/plain": [
       "plot without title"
      ]
     },
     "metadata": {},
     "output_type": "display_data"
    }
   ],
   "source": [
    "# This is another function to identify clusering tendency, as can be seen there are partterns as well\n",
    "# To use the \"fviz_dist\", ensure you have installed the \"factoextra\" package first and then load it.\n",
    "library(factoextra)\n",
    "fviz_dist(dist(eu_protein_DataSet0), show_labels = FALSE) + labs(title = \"EU Protein DataSet\")"
   ]
  },
  {
   "cell_type": "markdown",
   "metadata": {},
   "source": [
    "For the visual assessment of clustering tendency, we start by computing the dissimilarity matrix between observations using the function dist(). Next the function fviz_dist() is used to display the dissimilarity matrix.The color level is proportional to the value of the dissimilarity between observations: pure red if dist(xi,xj)=0 and pure blue if dist(xi,xj)=1. Objects belonging to the same cluster are displayed in consecutive order."
   ]
  },
  {
   "cell_type": "markdown",
   "metadata": {},
   "source": [
    "#### Step 4: Build the K-means cluster"
   ]
  },
  {
   "cell_type": "code",
   "execution_count": 17,
   "metadata": {},
   "outputs": [
    {
     "data": {
      "text/html": [
       "<table>\n",
       "<thead><tr><th scope=col>eu_protein_DataSet.Country.order_cluster.</th><th scope=col>eu_group_protein.cluster.order_cluster.</th></tr></thead>\n",
       "<tbody>\n",
       "\t<tr><td>Albania       </td><td>1             </td></tr>\n",
       "\t<tr><td>Bulgaria      </td><td>1             </td></tr>\n",
       "\t<tr><td>Greece        </td><td>1             </td></tr>\n",
       "\t<tr><td>Hungary       </td><td>1             </td></tr>\n",
       "\t<tr><td>Italy         </td><td>1             </td></tr>\n",
       "\t<tr><td>Portugal      </td><td>1             </td></tr>\n",
       "\t<tr><td>Romania       </td><td>1             </td></tr>\n",
       "\t<tr><td>Spain         </td><td>1             </td></tr>\n",
       "\t<tr><td>USSR          </td><td>1             </td></tr>\n",
       "\t<tr><td>Yugoslavia    </td><td>1             </td></tr>\n",
       "\t<tr><td>Austria       </td><td>2             </td></tr>\n",
       "\t<tr><td>Belgium       </td><td>2             </td></tr>\n",
       "\t<tr><td>Czechoslovakia</td><td>2             </td></tr>\n",
       "\t<tr><td>Denmark       </td><td>2             </td></tr>\n",
       "\t<tr><td>E Germany     </td><td>2             </td></tr>\n",
       "\t<tr><td>Finland       </td><td>2             </td></tr>\n",
       "\t<tr><td>France        </td><td>2             </td></tr>\n",
       "\t<tr><td>Ireland       </td><td>2             </td></tr>\n",
       "\t<tr><td>Netherlands   </td><td>2             </td></tr>\n",
       "\t<tr><td>Norway        </td><td>2             </td></tr>\n",
       "\t<tr><td>Poland        </td><td>2             </td></tr>\n",
       "\t<tr><td>Sweden        </td><td>2             </td></tr>\n",
       "\t<tr><td>Switzerland   </td><td>2             </td></tr>\n",
       "\t<tr><td>UK            </td><td>2             </td></tr>\n",
       "\t<tr><td>W Germany     </td><td>2             </td></tr>\n",
       "</tbody>\n",
       "</table>\n"
      ],
      "text/latex": [
       "\\begin{tabular}{r|ll}\n",
       " eu\\_protein\\_DataSet.Country.order\\_cluster. & eu\\_group\\_protein.cluster.order\\_cluster.\\\\\n",
       "\\hline\n",
       "\t Albania        & 1             \\\\\n",
       "\t Bulgaria       & 1             \\\\\n",
       "\t Greece         & 1             \\\\\n",
       "\t Hungary        & 1             \\\\\n",
       "\t Italy          & 1             \\\\\n",
       "\t Portugal       & 1             \\\\\n",
       "\t Romania        & 1             \\\\\n",
       "\t Spain          & 1             \\\\\n",
       "\t USSR           & 1             \\\\\n",
       "\t Yugoslavia     & 1             \\\\\n",
       "\t Austria        & 2             \\\\\n",
       "\t Belgium        & 2             \\\\\n",
       "\t Czechoslovakia & 2             \\\\\n",
       "\t Denmark        & 2             \\\\\n",
       "\t E Germany      & 2             \\\\\n",
       "\t Finland        & 2             \\\\\n",
       "\t France         & 2             \\\\\n",
       "\t Ireland        & 2             \\\\\n",
       "\t Netherlands    & 2             \\\\\n",
       "\t Norway         & 2             \\\\\n",
       "\t Poland         & 2             \\\\\n",
       "\t Sweden         & 2             \\\\\n",
       "\t Switzerland    & 2             \\\\\n",
       "\t UK             & 2             \\\\\n",
       "\t W Germany      & 2             \\\\\n",
       "\\end{tabular}\n"
      ],
      "text/markdown": [
       "\n",
       "eu_protein_DataSet.Country.order_cluster. | eu_group_protein.cluster.order_cluster. | \n",
       "|---|---|---|---|---|---|---|---|---|---|---|---|---|---|---|---|---|---|---|---|---|---|---|---|---|\n",
       "| Albania        | 1              | \n",
       "| Bulgaria       | 1              | \n",
       "| Greece         | 1              | \n",
       "| Hungary        | 1              | \n",
       "| Italy          | 1              | \n",
       "| Portugal       | 1              | \n",
       "| Romania        | 1              | \n",
       "| Spain          | 1              | \n",
       "| USSR           | 1              | \n",
       "| Yugoslavia     | 1              | \n",
       "| Austria        | 2              | \n",
       "| Belgium        | 2              | \n",
       "| Czechoslovakia | 2              | \n",
       "| Denmark        | 2              | \n",
       "| E Germany      | 2              | \n",
       "| Finland        | 2              | \n",
       "| France         | 2              | \n",
       "| Ireland        | 2              | \n",
       "| Netherlands    | 2              | \n",
       "| Norway         | 2              | \n",
       "| Poland         | 2              | \n",
       "| Sweden         | 2              | \n",
       "| Switzerland    | 2              | \n",
       "| UK             | 2              | \n",
       "| W Germany      | 2              | \n",
       "\n",
       "\n"
      ],
      "text/plain": [
       "   eu_protein_DataSet.Country.order_cluster.\n",
       "1  Albania                                  \n",
       "2  Bulgaria                                 \n",
       "3  Greece                                   \n",
       "4  Hungary                                  \n",
       "5  Italy                                    \n",
       "6  Portugal                                 \n",
       "7  Romania                                  \n",
       "8  Spain                                    \n",
       "9  USSR                                     \n",
       "10 Yugoslavia                               \n",
       "11 Austria                                  \n",
       "12 Belgium                                  \n",
       "13 Czechoslovakia                           \n",
       "14 Denmark                                  \n",
       "15 E Germany                                \n",
       "16 Finland                                  \n",
       "17 France                                   \n",
       "18 Ireland                                  \n",
       "19 Netherlands                              \n",
       "20 Norway                                   \n",
       "21 Poland                                   \n",
       "22 Sweden                                   \n",
       "23 Switzerland                              \n",
       "24 UK                                       \n",
       "25 W Germany                                \n",
       "   eu_group_protein.cluster.order_cluster.\n",
       "1  1                                      \n",
       "2  1                                      \n",
       "3  1                                      \n",
       "4  1                                      \n",
       "5  1                                      \n",
       "6  1                                      \n",
       "7  1                                      \n",
       "8  1                                      \n",
       "9  1                                      \n",
       "10 1                                      \n",
       "11 2                                      \n",
       "12 2                                      \n",
       "13 2                                      \n",
       "14 2                                      \n",
       "15 2                                      \n",
       "16 2                                      \n",
       "17 2                                      \n",
       "18 2                                      \n",
       "19 2                                      \n",
       "20 2                                      \n",
       "21 2                                      \n",
       "22 2                                      \n",
       "23 2                                      \n",
       "24 2                                      \n",
       "25 2                                      "
      ]
     },
     "metadata": {},
     "output_type": "display_data"
    }
   ],
   "source": [
    "## To get the exact results as me, please set the seed\n",
    "set.seed(101)\n",
    "\n",
    "# K-mean does have several libraries in which it is implemented but for this case \n",
    "# we will go with the default package which load ALWAYS when we fire up R/Rstudio. This packages is called the\n",
    "# the stats packages and since it's already loaded we do not require to load it again to use the K-mean() function\n",
    "# Note: It is very important to ALWAYS scale\n",
    "\n",
    "# scale simply will calculate the mean and standard deviation of the entire vector, then \"scale\" each element by those values\n",
    "# by subtracting the mean and dividing by the sd.\n",
    "\n",
    "# The centers argument tells the algorithm to set k as 7 in this case. But is k =7 the optimal value?\n",
    "eu_group_protein <- kmeans(eu_protein_DataSet0, centers=2)\n",
    "\n",
    "# order the clusters\n",
    "order_cluster <- order(eu_group_protein$cluster)\n",
    "\n",
    "# attach the countries from the original dataset to the clusters\n",
    "data.frame(eu_protein_DataSet$Country[order_cluster],eu_group_protein$cluster[order_cluster])"
   ]
  },
  {
   "cell_type": "code",
   "execution_count": 20,
   "metadata": {},
   "outputs": [
    {
     "name": "stdout",
     "output_type": "stream",
     "text": [
      "[1] \"Countries in Cluster  1\"\n",
      " [1] Albania    Bulgaria   Greece     Hungary    Italy      Portugal  \n",
      " [7] Romania    Spain      USSR       Yugoslavia\n",
      "25 Levels: Albania Austria Belgium Bulgaria Czechoslovakia ... Yugoslavia\n",
      "[1] \" \"\n",
      "[1] \"Countries in Cluster  2\"\n",
      " [1] Austria        Belgium        Czechoslovakia Denmark        E Germany     \n",
      " [6] Finland        France         Ireland        Netherlands    Norway        \n",
      "[11] Poland         Sweden         Switzerland    UK             W Germany     \n",
      "25 Levels: Albania Austria Belgium Bulgaria Czechoslovakia ... Yugoslavia\n",
      "[1] \" \"\n"
     ]
    }
   ],
   "source": [
    "# we could also write a for loop to classify the countries by cluster\n",
    "for (i in 1:2){\n",
    "     print(paste(\"Countries in Cluster \",i))\n",
    "     print(eu_protein_DataSet$Country[eu_group_protein$cluster == i])\n",
    "     print (\" \")\n",
    "}"
   ]
  },
  {
   "cell_type": "code",
   "execution_count": 21,
   "metadata": {},
   "outputs": [
    {
     "name": "stderr",
     "output_type": "stream",
     "text": [
      "Warning message:\n",
      "\"argument frame is deprecated; please use ellipse instead.\"Warning message:\n",
      "\"argument frame.type is deprecated; please use ellipse.type instead.\""
     ]
    },
    {
     "data": {},
     "metadata": {},
     "output_type": "display_data"
    },
    {
     "data": {
      "image/png": "[encoded data removed]",
      "text/plain": [
       "plot without title"
      ]
     },
     "metadata": {},
     "output_type": "display_data"
    }
   ],
   "source": [
    "# Visualize k-means clusters\n",
    "library(factoextra)\n",
    "\n",
    "fviz_cluster(eu_group_protein, data = eu_protein_DataSet0, geom = \"point\",\n",
    "                                         stand = FALSE, frame.type = \"norm\")"
   ]
  },
  {
   "cell_type": "markdown",
   "metadata": {},
   "source": [
    "#### Determining the Optimal number of clusters"
   ]
  },
  {
   "cell_type": "markdown",
   "metadata": {},
   "source": [
    "We will now describe the two very popular methods for determing the optimal value of k.<br><br>\n",
    "**Elbow method:**<br>\n",
    "\n",
    "The steps to obtain an optimal number of k using the elbow method is defined as follows:<br>\n",
    "\n",
    "* Compute clustering algorithm for different values of k by varying k from 1 to 10 clusters<br> \n",
    "* For each k, calculate the total within-cluster sum of square (wss)<br>\n",
    "* Plot the curve of wss according to the number of clusters k.<br>\n",
    "* The location of a bend (knee) in the plot is generally considered as an indicator of the appropriate number of clusters."
   ]
  },
  {
   "cell_type": "code",
   "execution_count": 11,
   "metadata": {},
   "outputs": [
    {
     "data": {
      "image/png": "[encoded data removed]",
      "text/plain": [
       "plot without title"
      ]
     },
     "metadata": {},
     "output_type": "display_data"
    }
   ],
   "source": [
    "set.seed(123)\n",
    "# Compute and plot wss for k = 2 to k = 10\n",
    "\n",
    "# Maximal number of clusters\n",
    "k.max <- 10 \n",
    "\n",
    "# The scaled dataset\n",
    "data <- eu_protein_DataSet0\n",
    "\n",
    "# compute the within-cluster sum of square\n",
    "wss <- sapply(1:k.max , function(k){kmeans(data, k, nstart=10 )$tot.withinss})\n",
    "\n",
    "# plot the number clusters against the within-cluster sum of square\n",
    "plot(1:k.max, wss,\n",
    "       type=\"b\", pch = 19, frame = FALSE, \n",
    "       xlab=\"Number of clusters K\",\n",
    "       ylab=\"Total within-clusters sum of squares\")\n",
    "\n",
    "# from the plot, the elbow is identified on the 3 cluster, to highlight this point\n",
    "# we add the code below, I would strongly suggest you comment the code below and see what it gives then\n",
    "# then un-comment again and re-run\n",
    "abline(v = 3, lty =2)"
   ]
  },
  {
   "cell_type": "code",
   "execution_count": 12,
   "metadata": {},
   "outputs": [
    {
     "data": {},
     "metadata": {},
     "output_type": "display_data"
    },
    {
     "data": {
      "image/png": "[encoded data removed]",
      "text/plain": [
       "plot without title"
      ]
     },
     "metadata": {},
     "output_type": "display_data"
    }
   ],
   "source": [
    "# A very similar plot can also be derived using the code below and setting the xintercept = 3)\n",
    "library(cluster)\n",
    "fviz_nbclust(eu_protein_DataSet0, kmeans, method = \"wss\") + geom_vline(xintercept = 3, linetype = 2)"
   ]
  },
  {
   "cell_type": "markdown",
   "metadata": {},
   "source": [
    "#### silhouette Plot"
   ]
  },
  {
   "cell_type": "code",
   "execution_count": 13,
   "metadata": {},
   "outputs": [
    {
     "data": {},
     "metadata": {},
     "output_type": "display_data"
    },
    {
     "data": {
      "image/png": "[encoded data removed]",
      "text/plain": [
       "plot without title"
      ]
     },
     "metadata": {},
     "output_type": "display_data"
    }
   ],
   "source": [
    "library(cluster)\n",
    "\n",
    "# This plot automatically indicates with a dashed vertical line the value of the optimal value of k\n",
    "fviz_nbclust(eu_protein_DataSet0, kmeans, method = \"silhouette\")\n",
    "\n",
    "# Observe we do have two contradicting optimal values of k from the elbow and silhouette methods, to resolve this, \n",
    "# we would go with the output of a third method called gap statistic."
   ]
  },
  {
   "cell_type": "markdown",
   "metadata": {},
   "source": [
    "#### Gap Statistics"
   ]
  },
  {
   "cell_type": "code",
   "execution_count": 15,
   "metadata": {},
   "outputs": [
    {
     "name": "stdout",
     "output_type": "stream",
     "text": [
      "Clustering Gap statistic [\"clusGap\"] from call:\n",
      "clusGap(x = eu_protein_DataSet0, FUNcluster = kmeans, K.max = 10,     B = 10000, nstart = 25)\n",
      "B=10000 simulated reference sets, k = 1..10; spaceH0=\"scaledPCA\"\n",
      " --> Number of clusters (method 'firstmax'): 2\n",
      "          logW   E.logW        gap     SE.sim\n",
      " [1,] 3.187215 3.254973 0.06775736 0.04382928\n",
      " [2,] 2.928123 3.051665 0.12354203 0.04285696\n",
      " [3,] 2.799138 2.903041 0.10390283 0.04162286\n",
      " [4,] 2.664614 2.785947 0.12133262 0.04176141\n",
      " [5,] 2.547382 2.682964 0.13558216 0.04281879\n",
      " [6,] 2.440754 2.585965 0.14521187 0.04407601\n",
      " [7,] 2.332631 2.492110 0.15947939 0.04548878\n",
      " [8,] 2.238304 2.399154 0.16084929 0.04693277\n",
      " [9,] 2.143673 2.305675 0.16200197 0.04855425\n",
      "[10,] 2.038397 2.210562 0.17216575 0.05031295\n"
     ]
    }
   ],
   "source": [
    "# To compute the gap statistic, we would need to install the cluster package if this has not been installed already and \n",
    "# then load it.\n",
    "library(cluster)\n",
    "\n",
    "# set seed for REPRODUCIBILITY\n",
    "set.seed(101)\n",
    "\n",
    "# Run the gap statistics, I did not go into details of the function here, but it's very clear what most of the arguments are.\n",
    "# I would strongly suggest you give the \"clusGap\" documentation a read.\n",
    "gap_stat <- clusGap(eu_protein_DataSet0, FUN = kmeans, nstart = 25,K.max = 10, B = 10000)\n",
    "\n",
    "# Print the result\n",
    "print(gap_stat, method = \"firstmax\")"
   ]
  },
  {
   "cell_type": "code",
   "execution_count": 16,
   "metadata": {},
   "outputs": [
    {
     "data": {
      "image/png": "[encoded data removed]",
      "text/plain": [
       "Plot with title \"Plot of clusters(k) against Gap\""
      ]
     },
     "metadata": {},
     "output_type": "display_data"
    }
   ],
   "source": [
    "# The first maximum point before the drop is chosen as the optimal value of k\n",
    "plot(gap_stat, frame = F, main = \"Plot of clusters(k) against Gap\",xlab = \"Number of clusters k\")\n",
    "abline(v = 2, lty = 2)"
   ]
  },
  {
   "cell_type": "markdown",
   "metadata": {},
   "source": [
    "There two types of Hierarchical clustering **Agglomerative(bottom-up)** and **Divisive(top-down)**<br><br>\n",
    "**Agglomerative**<br>\n",
    ">Starting with each item in its own cluster, find the best pair to merge into new cluster, repeat untill all clusters are fused together<br><br>\n",
    "\n",
    "**Divisive**\n",
    ">Staring with all the data in a single cluster, consider every possible way to divide the cluster into two, choose the best division and recursively operate on both sides."
   ]
  },
  {
   "cell_type": "code",
   "execution_count": 23,
   "metadata": {},
   "outputs": [
    {
     "data": {},
     "metadata": {},
     "output_type": "display_data"
    },
    {
     "data": {
      "image/png": "[encoded data removed]",
      "text/plain": [
       "plot without title"
      ]
     },
     "metadata": {},
     "output_type": "display_data"
    }
   ],
   "source": [
    "# Hierarchical clustering\n",
    "fviz_dend(hclust(dist(eu_protein_DataSet0)), k = 2, k_colors = \"jco\", as.ggplot = TRUE, show_labels = T)"
   ]
  },
  {
   "cell_type": "markdown",
   "metadata": {},
   "source": [
    "#### Note: Haven obtained an optimal value of k, this new value should now be used to build both the K-means as well as the Hierarchical clustering by replacing the 7 used with 2."
   ]
  },
  {
   "cell_type": "markdown",
   "metadata": {},
   "source": [
    "# PCA"
   ]
  },
  {
   "cell_type": "markdown",
   "metadata": {},
   "source": [
    "PCA is a dimensionality reduction technique that transforms m-dimensional input space to n-dimensional (n < m) output space, with the objective to minimize the amount of information/variance lost by discarding (m - n) dimension. If we have a very large dataset, the probability of have multicollinearity is high, to eliminate this, we would reduce the number of features or dmensions to the data core Principl Components."
   ]
  },
  {
   "cell_type": "code",
   "execution_count": 24,
   "metadata": {},
   "outputs": [
    {
     "data": {
      "text/html": [
       "<table>\n",
       "<thead><tr><th scope=col>Sepal.Length</th><th scope=col>Sepal.Width</th><th scope=col>Petal.Length</th><th scope=col>Petal.Width</th><th scope=col>Species</th></tr></thead>\n",
       "<tbody>\n",
       "\t<tr><td>5.1   </td><td>3.5   </td><td>1.4   </td><td>0.2   </td><td>setosa</td></tr>\n",
       "\t<tr><td>4.9   </td><td>3.0   </td><td>1.4   </td><td>0.2   </td><td>setosa</td></tr>\n",
       "\t<tr><td>4.7   </td><td>3.2   </td><td>1.3   </td><td>0.2   </td><td>setosa</td></tr>\n",
       "\t<tr><td>4.6   </td><td>3.1   </td><td>1.5   </td><td>0.2   </td><td>setosa</td></tr>\n",
       "\t<tr><td>5.0   </td><td>3.6   </td><td>1.4   </td><td>0.2   </td><td>setosa</td></tr>\n",
       "\t<tr><td>5.4   </td><td>3.9   </td><td>1.7   </td><td>0.4   </td><td>setosa</td></tr>\n",
       "</tbody>\n",
       "</table>\n"
      ],
      "text/latex": [
       "\\begin{tabular}{r|lllll}\n",
       " Sepal.Length & Sepal.Width & Petal.Length & Petal.Width & Species\\\\\n",
       "\\hline\n",
       "\t 5.1    & 3.5    & 1.4    & 0.2    & setosa\\\\\n",
       "\t 4.9    & 3.0    & 1.4    & 0.2    & setosa\\\\\n",
       "\t 4.7    & 3.2    & 1.3    & 0.2    & setosa\\\\\n",
       "\t 4.6    & 3.1    & 1.5    & 0.2    & setosa\\\\\n",
       "\t 5.0    & 3.6    & 1.4    & 0.2    & setosa\\\\\n",
       "\t 5.4    & 3.9    & 1.7    & 0.4    & setosa\\\\\n",
       "\\end{tabular}\n"
      ],
      "text/markdown": [
       "\n",
       "Sepal.Length | Sepal.Width | Petal.Length | Petal.Width | Species | \n",
       "|---|---|---|---|---|---|\n",
       "| 5.1    | 3.5    | 1.4    | 0.2    | setosa | \n",
       "| 4.9    | 3.0    | 1.4    | 0.2    | setosa | \n",
       "| 4.7    | 3.2    | 1.3    | 0.2    | setosa | \n",
       "| 4.6    | 3.1    | 1.5    | 0.2    | setosa | \n",
       "| 5.0    | 3.6    | 1.4    | 0.2    | setosa | \n",
       "| 5.4    | 3.9    | 1.7    | 0.4    | setosa | \n",
       "\n",
       "\n"
      ],
      "text/plain": [
       "  Sepal.Length Sepal.Width Petal.Length Petal.Width Species\n",
       "1 5.1          3.5         1.4          0.2         setosa \n",
       "2 4.9          3.0         1.4          0.2         setosa \n",
       "3 4.7          3.2         1.3          0.2         setosa \n",
       "4 4.6          3.1         1.5          0.2         setosa \n",
       "5 5.0          3.6         1.4          0.2         setosa \n",
       "6 5.4          3.9         1.7          0.4         setosa "
      ]
     },
     "metadata": {},
     "output_type": "display_data"
    }
   ],
   "source": [
    "# I will now demonstrate this concept with a small dataset\n",
    "# Load the iris dataset\n",
    "data(iris)\n",
    "\n",
    "# assign the dataset to an object\n",
    "raw_data <- iris\n",
    "\n",
    "# view the first six records of the dataset\n",
    "head(raw_data)"
   ]
  },
  {
   "cell_type": "code",
   "execution_count": 25,
   "metadata": {},
   "outputs": [
    {
     "name": "stdout",
     "output_type": "stream",
     "text": [
      "'data.frame':\t150 obs. of  5 variables:\n",
      " $ Sepal.Length: num  5.1 4.9 4.7 4.6 5 5.4 4.6 5 4.4 4.9 ...\n",
      " $ Sepal.Width : num  3.5 3 3.2 3.1 3.6 3.9 3.4 3.4 2.9 3.1 ...\n",
      " $ Petal.Length: num  1.4 1.4 1.3 1.5 1.4 1.7 1.4 1.5 1.4 1.5 ...\n",
      " $ Petal.Width : num  0.2 0.2 0.2 0.2 0.2 0.4 0.3 0.2 0.2 0.1 ...\n",
      " $ Species     : Factor w/ 3 levels \"setosa\",\"versicolor\",..: 1 1 1 1 1 1 1 1 1 1 ...\n"
     ]
    }
   ],
   "source": [
    "# View the structure of the dataset\n",
    "str(raw_data)"
   ]
  },
  {
   "cell_type": "code",
   "execution_count": 26,
   "metadata": {},
   "outputs": [
    {
     "data": {
      "text/plain": [
       "  Sepal.Length    Sepal.Width     Petal.Length    Petal.Width   \n",
       " Min.   :4.300   Min.   :2.000   Min.   :1.000   Min.   :0.100  \n",
       " 1st Qu.:5.100   1st Qu.:2.800   1st Qu.:1.600   1st Qu.:0.300  \n",
       " Median :5.800   Median :3.000   Median :4.350   Median :1.300  \n",
       " Mean   :5.843   Mean   :3.057   Mean   :3.758   Mean   :1.199  \n",
       " 3rd Qu.:6.400   3rd Qu.:3.300   3rd Qu.:5.100   3rd Qu.:1.800  \n",
       " Max.   :7.900   Max.   :4.400   Max.   :6.900   Max.   :2.500  \n",
       "       Species  \n",
       " setosa    :50  \n",
       " versicolor:50  \n",
       " virginica :50  \n",
       "                \n",
       "                \n",
       "                "
      ]
     },
     "metadata": {},
     "output_type": "display_data"
    }
   ],
   "source": [
    "# View the summary statistics of the dataset\n",
    "summary(raw_data)"
   ]
  },
  {
   "cell_type": "code",
   "execution_count": 27,
   "metadata": {},
   "outputs": [],
   "source": [
    "# To see how correlated the features are, we compute the correlation of the dataset\n",
    "# The -5 implies remove column 5 from the computation since it is not a numerical variable\n",
    "correlation_data <- cor(raw_data[,-5])"
   ]
  },
  {
   "cell_type": "code",
   "execution_count": 28,
   "metadata": {},
   "outputs": [
    {
     "name": "stderr",
     "output_type": "stream",
     "text": [
      "Warning message:\n",
      "\"package 'corrplot' was built under R version 3.5.2\"corrplot 0.84 loaded\n"
     ]
    },
    {
     "data": {
      "image/png": "[encoded data removed]",
      "text/plain": [
       "Plot with title \"\""
      ]
     },
     "metadata": {},
     "output_type": "display_data"
    }
   ],
   "source": [
    "# load the corrplot package, if you get an error, it could imply you need to install the package \n",
    "library(corrplot)\n",
    "\n",
    "# plot the correlation plot, what do you think of some features?\n",
    "corrplot(correlation_data, method = \"ellipse\")"
   ]
  },
  {
   "cell_type": "code",
   "execution_count": 29,
   "metadata": {},
   "outputs": [
    {
     "data": {
      "text/plain": [
       "Standard deviations (1, .., p=4):\n",
       "[1] 1.7083611 0.9560494 0.3830886 0.1439265\n",
       "\n",
       "Rotation (n x k) = (4 x 4):\n",
       "                    PC1         PC2        PC3        PC4\n",
       "Sepal.Length  0.5210659 -0.37741762  0.7195664  0.2612863\n",
       "Sepal.Width  -0.2693474 -0.92329566 -0.2443818 -0.1235096\n",
       "Petal.Length  0.5804131 -0.02449161 -0.1421264 -0.8014492\n",
       "Petal.Width   0.5648565 -0.06694199 -0.6342727  0.5235971"
      ]
     },
     "metadata": {},
     "output_type": "display_data"
    }
   ],
   "source": [
    "# Though I did not go into details of the mathematical concept of PCA here, I would recommend you run the help function\n",
    "# against the prcomp() function for it's documentaion.\n",
    "pac_iris <- prcomp(raw_data[,-5], scale. = T)\n",
    "pac_iris"
   ]
  },
  {
   "cell_type": "code",
   "execution_count": 30,
   "metadata": {},
   "outputs": [
    {
     "data": {
      "text/html": [
       "<dl>\n",
       "\t<dt>$names</dt>\n",
       "\t\t<dd><ol class=list-inline>\n",
       "\t<li>'sdev'</li>\n",
       "\t<li>'rotation'</li>\n",
       "\t<li>'center'</li>\n",
       "\t<li>'scale'</li>\n",
       "\t<li>'x'</li>\n",
       "</ol>\n",
       "</dd>\n",
       "\t<dt>$class</dt>\n",
       "\t\t<dd>'prcomp'</dd>\n",
       "</dl>\n"
      ],
      "text/latex": [
       "\\begin{description}\n",
       "\\item[\\$names] \\begin{enumerate*}\n",
       "\\item 'sdev'\n",
       "\\item 'rotation'\n",
       "\\item 'center'\n",
       "\\item 'scale'\n",
       "\\item 'x'\n",
       "\\end{enumerate*}\n",
       "\n",
       "\\item[\\$class] 'prcomp'\n",
       "\\end{description}\n"
      ],
      "text/markdown": [
       "$names\n",
       ":   1. 'sdev'\n",
       "2. 'rotation'\n",
       "3. 'center'\n",
       "4. 'scale'\n",
       "5. 'x'\n",
       "\n",
       "\n",
       "\n",
       "$class\n",
       ":   'prcomp'\n",
       "\n",
       "\n"
      ],
      "text/plain": [
       "$names\n",
       "[1] \"sdev\"     \"rotation\" \"center\"   \"scale\"    \"x\"       \n",
       "\n",
       "$class\n",
       "[1] \"prcomp\"\n"
      ]
     },
     "metadata": {},
     "output_type": "display_data"
    }
   ],
   "source": [
    "# Note: to view the attributes of any object run the code below.\n",
    "attributes(pac_iris)"
   ]
  },
  {
   "cell_type": "code",
   "execution_count": 31,
   "metadata": {},
   "outputs": [
    {
     "data": {
      "text/plain": [
       "Importance of components:\n",
       "                          PC1    PC2     PC3     PC4\n",
       "Standard deviation     1.7084 0.9560 0.38309 0.14393\n",
       "Proportion of Variance 0.7296 0.2285 0.03669 0.00518\n",
       "Cumulative Proportion  0.7296 0.9581 0.99482 1.00000"
      ]
     },
     "metadata": {},
     "output_type": "display_data"
    }
   ],
   "source": [
    "# PC1 explains the maximum variability, followed by PC2, etc.\n",
    "summary(pac_iris)"
   ]
  },
  {
   "cell_type": "code",
   "execution_count": 32,
   "metadata": {},
   "outputs": [
    {
     "data": {
      "image/png": "[encoded data removed]",
      "text/plain": [
       "plot without title"
      ]
     },
     "metadata": {},
     "output_type": "display_data"
    }
   ],
   "source": [
    "# let plot a biplot, the numbers on the plot are the row numbers of the dataset and we can observe \n",
    "# that petal length and petal width are very similar based on how close they are and their direction on the plot.\n",
    "par(mar=c(4,4,2,2))\n",
    "biplot(pac_iris, cex=0.5, cex.axis=0.5)"
   ]
  },
  {
   "cell_type": "code",
   "execution_count": 33,
   "metadata": {},
   "outputs": [],
   "source": [
    "# Predict the the dataset\n",
    "full_pca_dataset_v1 <- predict(pac_iris, raw_data[,-5])"
   ]
  },
  {
   "cell_type": "code",
   "execution_count": 34,
   "metadata": {},
   "outputs": [],
   "source": [
    "# convert the above object to a data frame and attach the response field\n",
    "full_pca_dataset_v2 <- data.frame(full_pca_dataset_v1, raw_data[5])"
   ]
  },
  {
   "cell_type": "code",
   "execution_count": 35,
   "metadata": {},
   "outputs": [
    {
     "data": {
      "text/html": [
       "<table>\n",
       "<thead><tr><th scope=col>PC1</th><th scope=col>PC2</th><th scope=col>PC3</th><th scope=col>PC4</th><th scope=col>Species</th></tr></thead>\n",
       "<tbody>\n",
       "\t<tr><td>-2.257141   </td><td>-0.4784238  </td><td> 0.12727962 </td><td> 0.024087508</td><td>setosa      </td></tr>\n",
       "\t<tr><td>-2.074013   </td><td> 0.6718827  </td><td> 0.23382552 </td><td> 0.102662845</td><td>setosa      </td></tr>\n",
       "\t<tr><td>-2.356335   </td><td> 0.3407664  </td><td>-0.04405390 </td><td> 0.028282305</td><td>setosa      </td></tr>\n",
       "\t<tr><td>-2.291707   </td><td> 0.5953999  </td><td>-0.09098530 </td><td>-0.065735340</td><td>setosa      </td></tr>\n",
       "\t<tr><td>-2.381863   </td><td>-0.6446757  </td><td>-0.01568565 </td><td>-0.035802870</td><td>setosa      </td></tr>\n",
       "\t<tr><td>-2.068701   </td><td>-1.4842053  </td><td>-0.02687825 </td><td> 0.006586116</td><td>setosa      </td></tr>\n",
       "</tbody>\n",
       "</table>\n"
      ],
      "text/latex": [
       "\\begin{tabular}{r|lllll}\n",
       " PC1 & PC2 & PC3 & PC4 & Species\\\\\n",
       "\\hline\n",
       "\t -2.257141    & -0.4784238   &  0.12727962  &  0.024087508 & setosa      \\\\\n",
       "\t -2.074013    &  0.6718827   &  0.23382552  &  0.102662845 & setosa      \\\\\n",
       "\t -2.356335    &  0.3407664   & -0.04405390  &  0.028282305 & setosa      \\\\\n",
       "\t -2.291707    &  0.5953999   & -0.09098530  & -0.065735340 & setosa      \\\\\n",
       "\t -2.381863    & -0.6446757   & -0.01568565  & -0.035802870 & setosa      \\\\\n",
       "\t -2.068701    & -1.4842053   & -0.02687825  &  0.006586116 & setosa      \\\\\n",
       "\\end{tabular}\n"
      ],
      "text/markdown": [
       "\n",
       "PC1 | PC2 | PC3 | PC4 | Species | \n",
       "|---|---|---|---|---|---|\n",
       "| -2.257141    | -0.4784238   |  0.12727962  |  0.024087508 | setosa       | \n",
       "| -2.074013    |  0.6718827   |  0.23382552  |  0.102662845 | setosa       | \n",
       "| -2.356335    |  0.3407664   | -0.04405390  |  0.028282305 | setosa       | \n",
       "| -2.291707    |  0.5953999   | -0.09098530  | -0.065735340 | setosa       | \n",
       "| -2.381863    | -0.6446757   | -0.01568565  | -0.035802870 | setosa       | \n",
       "| -2.068701    | -1.4842053   | -0.02687825  |  0.006586116 | setosa       | \n",
       "\n",
       "\n"
      ],
      "text/plain": [
       "  PC1       PC2        PC3         PC4          Species\n",
       "1 -2.257141 -0.4784238  0.12727962  0.024087508 setosa \n",
       "2 -2.074013  0.6718827  0.23382552  0.102662845 setosa \n",
       "3 -2.356335  0.3407664 -0.04405390  0.028282305 setosa \n",
       "4 -2.291707  0.5953999 -0.09098530 -0.065735340 setosa \n",
       "5 -2.381863 -0.6446757 -0.01568565 -0.035802870 setosa \n",
       "6 -2.068701 -1.4842053 -0.02687825  0.006586116 setosa "
      ]
     },
     "metadata": {},
     "output_type": "display_data"
    }
   ],
   "source": [
    "# view the new dataset\n",
    "head(full_pca_dataset_v2)"
   ]
  },
  {
   "cell_type": "code",
   "execution_count": 36,
   "metadata": {},
   "outputs": [
    {
     "data": {
      "image/png": "[encoded data removed]",
      "text/plain": [
       "Plot with title \"\""
      ]
     },
     "metadata": {},
     "output_type": "display_data"
    }
   ],
   "source": [
    "# To be sure that NO features are correlated, run the code below.\n",
    "x <- cor(full_pca_dataset_v2[,-5])\n",
    "corrplot(x, method = \"ellipse\")\n",
    "# Yes! PCA has been applied."
   ]
  },
  {
   "cell_type": "markdown",
   "metadata": {},
   "source": [
    "<div class=\"alert alert-success\"></i><strong><center><h1>The End</h1></center></strong>\n",
    " </div>"
   ]
  }
 ],
 "metadata": {
  "kernelspec": {
   "display_name": "R 3.5",
   "language": "R",
   "name": "ir35"
  },
  "language_info": {
   "codemirror_mode": "r",
   "file_extension": ".r",
   "mimetype": "text/x-r-source",
   "name": "R",
   "pygments_lexer": "r",
   "version": "3.5.1"
  }
 },
 "nbformat": 4,
 "nbformat_minor": 2
}
