{
 "cells": [
  {
   "cell_type": "markdown",
   "metadata": {},
   "source": [
    "# Recommendation Engine"
   ]
  },
  {
   "cell_type": "markdown",
   "metadata": {},
   "source": [
    "Recommendation system is a technique by which an algorithm detects an input data to predict preferences of a user as they might have done for themselves.These input data could be products, services, food, videos, audios, images, news articles etc.Recommendation system could be use almost every where from suggesting movies to watch, jobs we may be intrested in on LinkedIn, who to follow on Twitter, friend you would like to connect with on Facebook, products you would like to get from E-commerce stores like Amazon, Tesco, Argos, etc."
   ]
  },
  {
   "cell_type": "code",
   "execution_count": null,
   "metadata": {},
   "outputs": [],
   "source": [
    "https://www.rstudio.com/resources/cheatsheets/"
   ]
  },
  {
   "cell_type": "markdown",
   "metadata": {},
   "source": [
    "## Understanding the need of recommendation"
   ]
  },
  {
   "cell_type": "markdown",
   "metadata": {},
   "source": [
    "### Types of product recommendation"
   ]
  },
  {
   "cell_type": "markdown",
   "metadata": {},
   "source": [
    "**Types of recommendation**<br>\n",
    "- Content-based recommendation method:<br>\n",
    "This recommendation concept is based on linking users preferences with item attributes. This type of recommendation is based \n",
    "entirely on what the user provides as ratings, hence there is no linkage to what anyone else had recommended.<br><br>\n",
    "- Collaborative filtering-based recommendation method:<br>\n",
    "This type of recommendations are based on the many ratings of a product or services provided by some or all the individuals in\n",
    "the recommender database.\n",
    ">- User-based Collaborative Filtering (UBCF):<br>\n",
    "UBCF uses the similarity between the users with similar taste and recommend products based on historic buying pattern.<br><br>\n",
    ">- Item-based Collaborative Filtering (IBCF):<br>\n",
    "IBCF uses the similarity between the items and not users to make a recommendation.<br><br>\n",
    ">- Popular (POPULAR):<br>\n",
    "This method is used for new customer, items that are most popular are recommended.<br><br>\n",
    ">- Re-Recommend (RERECOMMEND):<br>\n",
    "Items or products with high ratings are recommended.<br><br>\n",
    ">- Random Recommendation (RANDOM)\n",
    ">- Singular Value Decomposition (SVD):<br>\n",
    "This method is used when the users as well as items are very large.<br><br>\n",
    ">- Association rule based-recommendation methods"
   ]
  },
  {
   "cell_type": "markdown",
   "metadata": {},
   "source": [
    "We will be looking at Collaborative filtering-based recommendation method in this lecture due to the availability of all the required algorithms in R. R has a robust and reliable framework called the recommenderlab and is a widely used R extension designed to provide a robust foundation for recommender engines. The focus of this library is to provide efficient handling of data, availability of standard algorithms and evaluation capabilities."
   ]
  },
  {
   "cell_type": "code",
   "execution_count": null,
   "metadata": {},
   "outputs": [],
   "source": [
    "# Import the R package, required for recommendation\n",
    "library(recommenderlab)"
   ]
  },
  {
   "cell_type": "code",
   "execution_count": null,
   "metadata": {
    "scrolled": false
   },
   "outputs": [],
   "source": [
    "# The syntax below shows all the algorithms implemented in the recommederlab package and brief descriptions\n",
    "recommenderRegistry$get_entries()"
   ]
  },
  {
   "cell_type": "code",
   "execution_count": null,
   "metadata": {},
   "outputs": [],
   "source": [
    "# Methods for identifying Real Rating Matrix functions in the recommenderlab package\n",
    "recommender_realRatingMat_models <- recommenderRegistry$get_entries(dataType = \"realRatingMatrix\")\n",
    "\n",
    "names(recommender_realRatingMat_models)"
   ]
  },
  {
   "cell_type": "code",
   "execution_count": null,
   "metadata": {},
   "outputs": [],
   "source": [
    "recommender_realRatingMat_models$UBCF_realRatingMatrix\n",
    "# recommender_realRatingMat_models$IBCF_realRatingMatrix\n",
    "# recommender_realRatingMat_models$ALS_realRatingMatrix\n",
    "# recommender_realRatingMat_models$RANDOM_realRatingMatrix\n",
    "# recommender_realRatingMat_models$RERECOMMEND_realRatingMatrix\n",
    "# recommender_realRatingMat_models$SVD_realRatingMatrix\n",
    "# recommender_realRatingMat_models$POPULAR_realRatingMatrix\n",
    "# recommender_realRatingMat_models$SVDF_realRatingMatrix"
   ]
  },
  {
   "cell_type": "code",
   "execution_count": null,
   "metadata": {},
   "outputs": [],
   "source": [
    "# Methods for identifying Binary Rating Matrix functions in the recommenderlab package\n",
    "recommender_binaryRatingMatrix_models <- recommenderRegistry$get_entries(dataType = \"binaryRatingMatrix\")\n",
    "\n",
    "names(recommender_binaryRatingMatrix_models)"
   ]
  },
  {
   "cell_type": "code",
   "execution_count": null,
   "metadata": {},
   "outputs": [],
   "source": [
    "recommender_binaryRatingMatrix_models$UBCF_binaryRatingMatrix\n",
    "# recommender_binaryRatingMatrix_models$IBCF_binaryRatingMatrix\n",
    "# recommender_binaryRatingMatrix_models$ALS_implicit_binaryRatingMatrix\n",
    "# recommender_binaryRatingMatrix_models$AR_binaryRatingMatrix\n",
    "# recommender_binaryRatingMatrix_models$POPULAR_binaryRatingMatrix\n",
    "# recommender_binaryRatingMatrix_models$RANDOM_binaryRatingMatrix      "
   ]
  },
  {
   "cell_type": "code",
   "execution_count": null,
   "metadata": {},
   "outputs": [],
   "source": [
    "# Import dataset\n",
    "ratingsDf <- read.csv(\"D:/CFT DataScienceHub/MovieRatings.csv\")"
   ]
  },
  {
   "cell_type": "code",
   "execution_count": null,
   "metadata": {},
   "outputs": [],
   "source": [
    "# help(binaryRatingMatrix)"
   ]
  },
  {
   "cell_type": "code",
   "execution_count": null,
   "metadata": {},
   "outputs": [],
   "source": [
    "# Ensure the dataset is converted to a matrix\n",
    "ratingsMat <- as.matrix(ratingsDf)\n",
    "# View(ratingsMat)"
   ]
  },
  {
   "cell_type": "code",
   "execution_count": null,
   "metadata": {},
   "outputs": [],
   "source": [
    "ratings <- as(ratingsMat, \"realRatingMatrix\")\n",
    "ratings\n",
    "class(ratings)"
   ]
  },
  {
   "cell_type": "code",
   "execution_count": null,
   "metadata": {},
   "outputs": [],
   "source": [
    "# split the matrix to training and Test\n",
    "set.seed(101)\n",
    "train_rows <- sample(1:nrow(ratings), size=0.9*nrow(ratings), replace = F)\n",
    "\n",
    "ratings_train <- ratings[train_rows, ]\n",
    "ratings_test <- ratings[-train_rows, ]"
   ]
  },
  {
   "cell_type": "code",
   "execution_count": null,
   "metadata": {},
   "outputs": [],
   "source": [
    "data1 <- data.frame(x=c(300,500,120,900,30),y=c(\"John\",\"Seiya\",\"Mary\",\"Chiddy\",\"Philip\"))\n",
    "data1"
   ]
  },
  {
   "cell_type": "code",
   "execution_count": null,
   "metadata": {},
   "outputs": [],
   "source": [
    "nrow(data1)"
   ]
  },
  {
   "cell_type": "code",
   "execution_count": null,
   "metadata": {},
   "outputs": [],
   "source": [
    "set.seed(3)\n",
    "train_rows2 <- sample(1:nrow(data1), size=0.9*nrow(data1), replace = F)\n",
    "\n",
    "ratings_train2 <- data1[train_rows2, ]\n",
    "ratings_test2 <- data1[-train_rows2, ]"
   ]
  },
  {
   "cell_type": "code",
   "execution_count": null,
   "metadata": {},
   "outputs": [],
   "source": [
    "train_rows2"
   ]
  },
  {
   "cell_type": "code",
   "execution_count": null,
   "metadata": {},
   "outputs": [],
   "source": [
    "ratings_test2 "
   ]
  },
  {
   "cell_type": "code",
   "execution_count": null,
   "metadata": {},
   "outputs": [],
   "source": [
    "# build the UBCF\n",
    "rec_model <- Recommender(data = ratings_train, method = \"UBCF\") \n",
    "rec_model\n",
    "\n",
    "# get the model specifications as a list\n",
    "# getModel(rec_model) "
   ]
  },
  {
   "cell_type": "code",
   "execution_count": null,
   "metadata": {
    "scrolled": false
   },
   "outputs": [],
   "source": [
    "# predict using the test dataset.\n",
    "n_reco <- 3\n",
    "recommendations <- predict(object = rec_model, newdata = ratings_test, n = n_reco)\n",
    "recommendations\n",
    "\n",
    "recommendations@ratings\n",
    "recommendations@items\n",
    "recommendations@itemLabels\n",
    "\n",
    "reco_out <- as(recommendations, \"list\")\n",
    "reco_out"
   ]
  },
  {
   "cell_type": "code",
   "execution_count": null,
   "metadata": {},
   "outputs": [],
   "source": [
    "# smaller set\n",
    "top3 <- bestN(recommendations, 3)\n",
    "top3\n",
    "as(top3, \"list\")"
   ]
  },
  {
   "cell_type": "code",
   "execution_count": 32,
   "metadata": {},
   "outputs": [],
   "source": [
    "# Recommenderlab does have functionality to split the data into train and test sets\n",
    "model <- evaluationScheme(ratings, method = 'split', train=0.9, given = 15, goodRating = 5)"
   ]
  },
  {
   "cell_type": "code",
   "execution_count": null,
   "metadata": {},
   "outputs": [],
   "source": [
    "ubcf = Recommender(getData(model,\"train\"), \"UBCF\")\n",
    "ibcf = Recommender(getData(model,\"train\"), \"IBCF\")\n",
    "svd = Recommender(getData(model, \"train\"), \"SVD\")\n",
    "popular = Recommender(getData(model, \"train\"), \"POPULAR\")\n",
    "pca = Recommender(getData(model, \"train\"), \"PCA\")\n",
    "random = Recommender(getData(model, \"train\"), \"RANDOM\") "
   ]
  },
  {
   "cell_type": "code",
   "execution_count": null,
   "metadata": {},
   "outputs": [],
   "source": [
    "user_pred = predict(ubcf, getData(model,\"known\"),type=\"ratings\")\n",
    "item_pred = predict(ibcf, getData(model, \"known\"),type=\"ratings\")\n",
    "svd_pred = predict(svd, getData(model, \"known\"),type=\"ratings\")\n",
    "pop_pred = predict(popular, getData(model, \"known\"),type=\"ratings\")\n",
    "pca_pred = predict(pca, getData(model, \"known\"),type=\"ratings\")\n",
    "rand_pred = predict(random, getData(model, \"known\"), type=\"ratings\")"
   ]
  },
  {
   "cell_type": "code",
   "execution_count": null,
   "metadata": {},
   "outputs": [],
   "source": [
    "# Examine the error between the predictions and unknown portion of the test data using the \n",
    "# calcPredictionAccuracy() function\n",
    "P1 = calcPredictionAccuracy(user_pred, getData(model,\"unknown\"))\n",
    "P2 = calcPredictionAccuracy(item_pred, getData(model,\"unknown\"))\n",
    "P3 = calcPredictionAccuracy(svd_pred, getData(model, \"unknown\"))\n",
    "P5 = calcPredictionAccuracy(pca_pred, getData(model,\"unknown\"))\n",
    "P6 = calcPredictionAccuracy(rand_pred, getData(model,\"unknown\"))\n"
   ]
  },
  {
   "cell_type": "code",
   "execution_count": null,
   "metadata": {},
   "outputs": [],
   "source": [
    "error = rbind(P1,P2,P3,P4,P5,P6)\n",
    "rownames(error) = c(\"UBCF\", \"IBCF\", \"SVD\", \"Popular\", \"PCA\", \"Random\")\n",
    "error "
   ]
  }
 ],
 "metadata": {
  "kernelspec": {
   "display_name": "R 3.5",
   "language": "R",
   "name": "ir35"
  },
  "language_info": {
   "codemirror_mode": "r",
   "file_extension": ".r",
   "mimetype": "text/x-r-source",
   "name": "R",
   "pygments_lexer": "r",
   "version": "3.5.1"
  }
 },
 "nbformat": 4,
 "nbformat_minor": 2
}
